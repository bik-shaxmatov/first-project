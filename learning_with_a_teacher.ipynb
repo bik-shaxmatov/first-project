{
 "cells": [
  {
   "cell_type": "markdown",
   "metadata": {
    "id": "H6cQIZr3ElW1"
   },
   "source": [
    "__Описание проекта:__\n",
    "\n",
    "Интернет-магазин «В один клик» продаёт разные товары: для детей, для дома, мелкую бытовую технику, косметику и даже продукты. Отчёт магазина за прошлый период показал, что активность покупателей начала снижаться. Привлекать новых клиентов уже не так эффективно: о магазине и так знает большая часть целевой аудитории. Возможный выход — удерживать активность постоянных клиентов. Сделать это можно с помощью персонализированных предложений.\n",
    "\n",
    "«В один клик» — современная компания, поэтому её руководство не хочет принимать решения просто так — только на основе анализа данных и бизнес-моделирования. У компании есть небольшой отдел цифровых технологий, и вам предстоит побыть в роли стажёра в этом отделе."
   ]
  },
  {
   "cell_type": "markdown",
   "metadata": {},
   "source": [
    "__Цель проекта:__\n",
    "    \n",
    "1) Необходимо  промаркировать уровень финансовой активности постоянных покупателей. В компании принято выделять два уровня активности: «снизилась», если клиент стал покупать меньше товаров, и «прежний уровень»;\n",
    "\n",
    "2) Необходимо собрать данные по клиентам по следующим группам:\n",
    "\n",
    "- Признаки, которые описывают коммуникацию сотрудников компании с клиентом;\n",
    "\n",
    "- Признаки, которые описывают продуктовое поведение покупателя. Например, какие товары покупает и как часто;\n",
    "\n",
    "- Признаки, которые описывают покупательское поведение клиента. Например, сколько тратил в магазине;\n",
    "\n",
    "- Признаки, которые описывают поведение покупателя на сайте. Например, как много страниц просматривает и сколько времени проводит на сайте.\n",
    "\n",
    "3) Необходимо построить модель, которая предскажет вероятность снижения покупательской активности клиента в следующие три месяца;\n",
    "\n",
    "4) В исследование нужно включить дополнительные данные финансового департамента о прибыльности клиента: какой доход каждый покупатель приносил компании за последние три месяца;\n",
    "\n",
    "5) Используя данные модели и данные о прибыльности клиентов, нужно выделить сегменты покупателей и разработать для них персонализированные предложения."
   ]
  },
  {
   "cell_type": "markdown",
   "metadata": {},
   "source": [
    "__Описание данных:__\n",
    "\n",
    "_market_file.csv_ - таблица, которая содержит данные о поведении покупателя на сайте, о коммуникациях с покупателем и его продуктовом поведении.\n",
    "\n",
    "- id — номер покупателя в корпоративной базе данных;\n",
    "\n",
    "- Покупательская активность — рассчитанный класс покупательской активности (целевой признак): «снизилась» или «прежний уровень»;\n",
    "\n",
    "- Тип сервиса — уровень сервиса, например «премиум» и «стандарт»;\n",
    "\n",
    "- Разрешить сообщать — информация о том, можно ли присылать покупателю дополнительные предложения о товаре. Согласие на это даёт покупатель;\n",
    "\n",
    "- Маркет_актив_6_мес — среднемесячное значение маркетинговых коммуникаций компании, которое приходилось на покупателя за последние 6 месяцев. Это значение показывает, какое число рассылок, звонков, показов рекламы и прочего приходилось на клиента;\n",
    "\n",
    "- Маркет_актив_тек_мес — количество маркетинговых коммуникаций в текущем месяце;\n",
    "\n",
    "- Длительность — значение, которое показывает, сколько дней прошло с момента регистрации покупателя на сайте;\n",
    "\n",
    "- Акционные_покупки — среднемесячная доля покупок по акции от общего числа покупок за последние 6 месяцев;\n",
    "\n",
    "- Популярная_категория — самая популярная категория товаров у покупателя за последние 6 месяцев;\n",
    "\n",
    "- Средний_просмотр_категорий_за_визит — показывает, сколько в среднем категорий покупатель просмотрел за визит в течение последнего месяца;\n",
    "\n",
    "- Неоплаченные_продукты_штук_квартал — общее число неоплаченных товаров в корзине за последние 3 месяца;\n",
    "\n",
    "- Ошибка_сервиса — число сбоев, которые коснулись покупателя во время посещения сайта;\n",
    "\n",
    "- Страниц_за_визит — среднее количество страниц, которые просмотрел покупатель за один визит на сайт за последние 3 месяца.\n",
    "\n",
    "_market_money.csv_ - таблица с данными о выручке, которую получает магазин с покупателя, то есть сколько покупатель всего потратил за период взаимодействия с сайтом.\n",
    "\n",
    "- id — номер покупателя в корпоративной базе данных;\n",
    "\n",
    "- Период — название периода, во время которого зафиксирована выручка. Например, 'текущий_месяц' или 'предыдущий_месяц';\n",
    "\n",
    "- Выручка — сумма выручки за период.\n",
    "\n",
    "_market_time.csv_ - таблица с данными о времени (в минутах), которое покупатель провёл на сайте в течение периода.\n",
    "\n",
    "- id — номер покупателя в корпоративной базе данных;\n",
    "\n",
    "- Период — название периода, во время которого зафиксировано общее время;\n",
    "\n",
    "- минут — значение времени, проведённого на сайте, в минутах.\n",
    "\n",
    "_money.csv_ - таблица с данными о среднемесячной прибыли покупателя за последние 3 месяца: какую прибыль получает магазин от продаж каждому покупателю.\n",
    "\n",
    "- id — номер покупателя в корпоративной базе данных;\n",
    "\n",
    "- Прибыль — значение прибыли."
   ]
  },
  {
   "cell_type": "markdown",
   "metadata": {},
   "source": [
    "__План выполнения работ:__\n",
    "\n",
    "1) Загрузка данных;\n",
    "\n",
    "2) Предобработка данных;\n",
    "\n",
    "3) Исследовательский анализ данных;\n",
    "\n",
    "4) Объединение таблиц;\n",
    "\n",
    "5) Корреляционный анализ;\n",
    "\n",
    "6) Использование пайплайнов;\n",
    "\n",
    "7) Анализ важности признаков;\n",
    "\n",
    "8) Сегментация покупателей;\n",
    "\n",
    "9) Общий вывод."
   ]
  },
  {
   "cell_type": "markdown",
   "metadata": {},
   "source": [
    "# 1.  Загрузка данных"
   ]
  },
  {
   "cell_type": "markdown",
   "metadata": {},
   "source": [
    "__План работ:__\n",
    "\n",
    "1) Загрузить четыре датафрейма;\n",
    "\n",
    "2) Проверить, что данные в таблицах соотвествуют описанию."
   ]
  },
  {
   "cell_type": "code",
   "execution_count": 1,
   "metadata": {},
   "outputs": [],
   "source": [
    "!pip install phik -q"
   ]
  },
  {
   "cell_type": "code",
   "execution_count": 2,
   "metadata": {},
   "outputs": [],
   "source": [
    "!pip install shap -q"
   ]
  },
  {
   "cell_type": "code",
   "execution_count": 3,
   "metadata": {},
   "outputs": [],
   "source": [
    "import pandas as pd\n",
    "import seaborn as sns\n",
    "import matplotlib.pyplot as plt\n",
    "from scipy import stats as st\n",
    "import numpy as np\n",
    "from sklearn.model_selection import train_test_split, RandomizedSearchCV\n",
    "\n",
    "from sklearn.preprocessing import (\n",
    "    OneHotEncoder, \n",
    "    OrdinalEncoder, \n",
    "    StandardScaler, \n",
    "    MinMaxScaler, \n",
    "    RobustScaler\n",
    ")\n",
    "\n",
    "from sklearn.linear_model import LinearRegression, LogisticRegression\n",
    "from sklearn.neighbors import KNeighborsClassifier\n",
    "from sklearn.tree import DecisionTreeClassifier\n",
    "from sklearn.svm import SVC\n",
    "\n",
    "from sklearn.metrics import (\n",
    "    accuracy_score, \n",
    "    confusion_matrix, \n",
    "    r2_score,\n",
    "    precision_score,\n",
    "    recall_score,\n",
    "    roc_auc_score,\n",
    "    f1_score,\n",
    "    mean_squared_error,\n",
    "    mean_absolute_error\n",
    ")\n",
    "\n",
    "from sklearn.pipeline import Pipeline\n",
    "from sklearn.compose import ColumnTransformer\n",
    "from sklearn.impute import SimpleImputer \n",
    "from sklearn.datasets import make_classification\n",
    "import shap\n",
    "import phik\n",
    "\n",
    "RANDOM_STATE = 42\n",
    "TEST_SIZE = 0.25"
   ]
  },
  {
   "cell_type": "code",
   "execution_count": 4,
   "metadata": {},
   "outputs": [],
   "source": [
    "!pip install scikit-learn==1.1.3 -q"
   ]
  },
  {
   "cell_type": "code",
   "execution_count": 5,
   "metadata": {},
   "outputs": [
    {
     "ename": "FileNotFoundError",
     "evalue": "[Errno 2] No such file or directory: '/datasets/market_file.csv'",
     "output_type": "error",
     "traceback": [
      "\u001b[1;31m---------------------------------------------------------------------------\u001b[0m",
      "\u001b[1;31mFileNotFoundError\u001b[0m                         Traceback (most recent call last)",
      "Cell \u001b[1;32mIn[5], line 1\u001b[0m\n\u001b[1;32m----> 1\u001b[0m market_file \u001b[38;5;241m=\u001b[39m pd\u001b[38;5;241m.\u001b[39mread_csv(\u001b[38;5;124m'\u001b[39m\u001b[38;5;124m/datasets/market_file.csv\u001b[39m\u001b[38;5;124m'\u001b[39m)\n\u001b[0;32m      2\u001b[0m market_file\u001b[38;5;241m.\u001b[39mhead(\u001b[38;5;241m3\u001b[39m)\n",
      "File \u001b[1;32m~\\anaconda3\\Lib\\site-packages\\pandas\\io\\parsers\\readers.py:948\u001b[0m, in \u001b[0;36mread_csv\u001b[1;34m(filepath_or_buffer, sep, delimiter, header, names, index_col, usecols, dtype, engine, converters, true_values, false_values, skipinitialspace, skiprows, skipfooter, nrows, na_values, keep_default_na, na_filter, verbose, skip_blank_lines, parse_dates, infer_datetime_format, keep_date_col, date_parser, date_format, dayfirst, cache_dates, iterator, chunksize, compression, thousands, decimal, lineterminator, quotechar, quoting, doublequote, escapechar, comment, encoding, encoding_errors, dialect, on_bad_lines, delim_whitespace, low_memory, memory_map, float_precision, storage_options, dtype_backend)\u001b[0m\n\u001b[0;32m    935\u001b[0m kwds_defaults \u001b[38;5;241m=\u001b[39m _refine_defaults_read(\n\u001b[0;32m    936\u001b[0m     dialect,\n\u001b[0;32m    937\u001b[0m     delimiter,\n\u001b[1;32m   (...)\u001b[0m\n\u001b[0;32m    944\u001b[0m     dtype_backend\u001b[38;5;241m=\u001b[39mdtype_backend,\n\u001b[0;32m    945\u001b[0m )\n\u001b[0;32m    946\u001b[0m kwds\u001b[38;5;241m.\u001b[39mupdate(kwds_defaults)\n\u001b[1;32m--> 948\u001b[0m \u001b[38;5;28;01mreturn\u001b[39;00m _read(filepath_or_buffer, kwds)\n",
      "File \u001b[1;32m~\\anaconda3\\Lib\\site-packages\\pandas\\io\\parsers\\readers.py:611\u001b[0m, in \u001b[0;36m_read\u001b[1;34m(filepath_or_buffer, kwds)\u001b[0m\n\u001b[0;32m    608\u001b[0m _validate_names(kwds\u001b[38;5;241m.\u001b[39mget(\u001b[38;5;124m\"\u001b[39m\u001b[38;5;124mnames\u001b[39m\u001b[38;5;124m\"\u001b[39m, \u001b[38;5;28;01mNone\u001b[39;00m))\n\u001b[0;32m    610\u001b[0m \u001b[38;5;66;03m# Create the parser.\u001b[39;00m\n\u001b[1;32m--> 611\u001b[0m parser \u001b[38;5;241m=\u001b[39m TextFileReader(filepath_or_buffer, \u001b[38;5;241m*\u001b[39m\u001b[38;5;241m*\u001b[39mkwds)\n\u001b[0;32m    613\u001b[0m \u001b[38;5;28;01mif\u001b[39;00m chunksize \u001b[38;5;129;01mor\u001b[39;00m iterator:\n\u001b[0;32m    614\u001b[0m     \u001b[38;5;28;01mreturn\u001b[39;00m parser\n",
      "File \u001b[1;32m~\\anaconda3\\Lib\\site-packages\\pandas\\io\\parsers\\readers.py:1448\u001b[0m, in \u001b[0;36mTextFileReader.__init__\u001b[1;34m(self, f, engine, **kwds)\u001b[0m\n\u001b[0;32m   1445\u001b[0m     \u001b[38;5;28mself\u001b[39m\u001b[38;5;241m.\u001b[39moptions[\u001b[38;5;124m\"\u001b[39m\u001b[38;5;124mhas_index_names\u001b[39m\u001b[38;5;124m\"\u001b[39m] \u001b[38;5;241m=\u001b[39m kwds[\u001b[38;5;124m\"\u001b[39m\u001b[38;5;124mhas_index_names\u001b[39m\u001b[38;5;124m\"\u001b[39m]\n\u001b[0;32m   1447\u001b[0m \u001b[38;5;28mself\u001b[39m\u001b[38;5;241m.\u001b[39mhandles: IOHandles \u001b[38;5;241m|\u001b[39m \u001b[38;5;28;01mNone\u001b[39;00m \u001b[38;5;241m=\u001b[39m \u001b[38;5;28;01mNone\u001b[39;00m\n\u001b[1;32m-> 1448\u001b[0m \u001b[38;5;28mself\u001b[39m\u001b[38;5;241m.\u001b[39m_engine \u001b[38;5;241m=\u001b[39m \u001b[38;5;28mself\u001b[39m\u001b[38;5;241m.\u001b[39m_make_engine(f, \u001b[38;5;28mself\u001b[39m\u001b[38;5;241m.\u001b[39mengine)\n",
      "File \u001b[1;32m~\\anaconda3\\Lib\\site-packages\\pandas\\io\\parsers\\readers.py:1705\u001b[0m, in \u001b[0;36mTextFileReader._make_engine\u001b[1;34m(self, f, engine)\u001b[0m\n\u001b[0;32m   1703\u001b[0m     \u001b[38;5;28;01mif\u001b[39;00m \u001b[38;5;124m\"\u001b[39m\u001b[38;5;124mb\u001b[39m\u001b[38;5;124m\"\u001b[39m \u001b[38;5;129;01mnot\u001b[39;00m \u001b[38;5;129;01min\u001b[39;00m mode:\n\u001b[0;32m   1704\u001b[0m         mode \u001b[38;5;241m+\u001b[39m\u001b[38;5;241m=\u001b[39m \u001b[38;5;124m\"\u001b[39m\u001b[38;5;124mb\u001b[39m\u001b[38;5;124m\"\u001b[39m\n\u001b[1;32m-> 1705\u001b[0m \u001b[38;5;28mself\u001b[39m\u001b[38;5;241m.\u001b[39mhandles \u001b[38;5;241m=\u001b[39m get_handle(\n\u001b[0;32m   1706\u001b[0m     f,\n\u001b[0;32m   1707\u001b[0m     mode,\n\u001b[0;32m   1708\u001b[0m     encoding\u001b[38;5;241m=\u001b[39m\u001b[38;5;28mself\u001b[39m\u001b[38;5;241m.\u001b[39moptions\u001b[38;5;241m.\u001b[39mget(\u001b[38;5;124m\"\u001b[39m\u001b[38;5;124mencoding\u001b[39m\u001b[38;5;124m\"\u001b[39m, \u001b[38;5;28;01mNone\u001b[39;00m),\n\u001b[0;32m   1709\u001b[0m     compression\u001b[38;5;241m=\u001b[39m\u001b[38;5;28mself\u001b[39m\u001b[38;5;241m.\u001b[39moptions\u001b[38;5;241m.\u001b[39mget(\u001b[38;5;124m\"\u001b[39m\u001b[38;5;124mcompression\u001b[39m\u001b[38;5;124m\"\u001b[39m, \u001b[38;5;28;01mNone\u001b[39;00m),\n\u001b[0;32m   1710\u001b[0m     memory_map\u001b[38;5;241m=\u001b[39m\u001b[38;5;28mself\u001b[39m\u001b[38;5;241m.\u001b[39moptions\u001b[38;5;241m.\u001b[39mget(\u001b[38;5;124m\"\u001b[39m\u001b[38;5;124mmemory_map\u001b[39m\u001b[38;5;124m\"\u001b[39m, \u001b[38;5;28;01mFalse\u001b[39;00m),\n\u001b[0;32m   1711\u001b[0m     is_text\u001b[38;5;241m=\u001b[39mis_text,\n\u001b[0;32m   1712\u001b[0m     errors\u001b[38;5;241m=\u001b[39m\u001b[38;5;28mself\u001b[39m\u001b[38;5;241m.\u001b[39moptions\u001b[38;5;241m.\u001b[39mget(\u001b[38;5;124m\"\u001b[39m\u001b[38;5;124mencoding_errors\u001b[39m\u001b[38;5;124m\"\u001b[39m, \u001b[38;5;124m\"\u001b[39m\u001b[38;5;124mstrict\u001b[39m\u001b[38;5;124m\"\u001b[39m),\n\u001b[0;32m   1713\u001b[0m     storage_options\u001b[38;5;241m=\u001b[39m\u001b[38;5;28mself\u001b[39m\u001b[38;5;241m.\u001b[39moptions\u001b[38;5;241m.\u001b[39mget(\u001b[38;5;124m\"\u001b[39m\u001b[38;5;124mstorage_options\u001b[39m\u001b[38;5;124m\"\u001b[39m, \u001b[38;5;28;01mNone\u001b[39;00m),\n\u001b[0;32m   1714\u001b[0m )\n\u001b[0;32m   1715\u001b[0m \u001b[38;5;28;01massert\u001b[39;00m \u001b[38;5;28mself\u001b[39m\u001b[38;5;241m.\u001b[39mhandles \u001b[38;5;129;01mis\u001b[39;00m \u001b[38;5;129;01mnot\u001b[39;00m \u001b[38;5;28;01mNone\u001b[39;00m\n\u001b[0;32m   1716\u001b[0m f \u001b[38;5;241m=\u001b[39m \u001b[38;5;28mself\u001b[39m\u001b[38;5;241m.\u001b[39mhandles\u001b[38;5;241m.\u001b[39mhandle\n",
      "File \u001b[1;32m~\\anaconda3\\Lib\\site-packages\\pandas\\io\\common.py:863\u001b[0m, in \u001b[0;36mget_handle\u001b[1;34m(path_or_buf, mode, encoding, compression, memory_map, is_text, errors, storage_options)\u001b[0m\n\u001b[0;32m    858\u001b[0m \u001b[38;5;28;01melif\u001b[39;00m \u001b[38;5;28misinstance\u001b[39m(handle, \u001b[38;5;28mstr\u001b[39m):\n\u001b[0;32m    859\u001b[0m     \u001b[38;5;66;03m# Check whether the filename is to be opened in binary mode.\u001b[39;00m\n\u001b[0;32m    860\u001b[0m     \u001b[38;5;66;03m# Binary mode does not support 'encoding' and 'newline'.\u001b[39;00m\n\u001b[0;32m    861\u001b[0m     \u001b[38;5;28;01mif\u001b[39;00m ioargs\u001b[38;5;241m.\u001b[39mencoding \u001b[38;5;129;01mand\u001b[39;00m \u001b[38;5;124m\"\u001b[39m\u001b[38;5;124mb\u001b[39m\u001b[38;5;124m\"\u001b[39m \u001b[38;5;129;01mnot\u001b[39;00m \u001b[38;5;129;01min\u001b[39;00m ioargs\u001b[38;5;241m.\u001b[39mmode:\n\u001b[0;32m    862\u001b[0m         \u001b[38;5;66;03m# Encoding\u001b[39;00m\n\u001b[1;32m--> 863\u001b[0m         handle \u001b[38;5;241m=\u001b[39m \u001b[38;5;28mopen\u001b[39m(\n\u001b[0;32m    864\u001b[0m             handle,\n\u001b[0;32m    865\u001b[0m             ioargs\u001b[38;5;241m.\u001b[39mmode,\n\u001b[0;32m    866\u001b[0m             encoding\u001b[38;5;241m=\u001b[39mioargs\u001b[38;5;241m.\u001b[39mencoding,\n\u001b[0;32m    867\u001b[0m             errors\u001b[38;5;241m=\u001b[39merrors,\n\u001b[0;32m    868\u001b[0m             newline\u001b[38;5;241m=\u001b[39m\u001b[38;5;124m\"\u001b[39m\u001b[38;5;124m\"\u001b[39m,\n\u001b[0;32m    869\u001b[0m         )\n\u001b[0;32m    870\u001b[0m     \u001b[38;5;28;01melse\u001b[39;00m:\n\u001b[0;32m    871\u001b[0m         \u001b[38;5;66;03m# Binary mode\u001b[39;00m\n\u001b[0;32m    872\u001b[0m         handle \u001b[38;5;241m=\u001b[39m \u001b[38;5;28mopen\u001b[39m(handle, ioargs\u001b[38;5;241m.\u001b[39mmode)\n",
      "\u001b[1;31mFileNotFoundError\u001b[0m: [Errno 2] No such file or directory: '/datasets/market_file.csv'"
     ]
    }
   ],
   "source": [
    "market_file = pd.read_csv('/datasets/market_file.csv')\n",
    "market_file.head(3)"
   ]
  },
  {
   "cell_type": "code",
   "execution_count": null,
   "metadata": {},
   "outputs": [],
   "source": [
    "market_money = pd.read_csv('/datasets/market_money.csv')\n",
    "market_money.head(3)"
   ]
  },
  {
   "cell_type": "code",
   "execution_count": null,
   "metadata": {},
   "outputs": [],
   "source": [
    "market_time = pd.read_csv('/datasets/market_time.csv')\n",
    "market_time.head(3)"
   ]
  },
  {
   "cell_type": "code",
   "execution_count": null,
   "metadata": {},
   "outputs": [],
   "source": [
    "money = pd.read_csv('/datasets/money.csv', sep=';', decimal = ',')\n",
    "money.head(3)"
   ]
  },
  {
   "cell_type": "markdown",
   "metadata": {},
   "source": [
    "__Вывод:__\n",
    "\n",
    "1) Загружены четыре датафрейма;\n",
    "\n",
    "2) Данные в таблицах соотвествуют описанию."
   ]
  },
  {
   "cell_type": "markdown",
   "metadata": {},
   "source": [
    "# 2.  Предобработка данных"
   ]
  },
  {
   "cell_type": "markdown",
   "metadata": {},
   "source": [
    "__План работ:__\n",
    "\n",
    "1. Проверить данные на наличие пропусков и дубликатов;\n",
    "\n",
    "2. Проверить тип данных у каждого признака;\n",
    "\n",
    "3. При необходимости устранить проблемы с данными."
   ]
  },
  {
   "cell_type": "code",
   "execution_count": null,
   "metadata": {},
   "outputs": [],
   "source": [
    "# Изучим и исправим проблемы с данными в датафреме market_file.csv"
   ]
  },
  {
   "cell_type": "code",
   "execution_count": null,
   "metadata": {},
   "outputs": [],
   "source": [
    "market_file.head(5)"
   ]
  },
  {
   "cell_type": "code",
   "execution_count": null,
   "metadata": {},
   "outputs": [],
   "source": [
    "market_file['Покупательская активность'] = market_file['Покупательская активность'].str.lower()\n",
    "market_file['Покупательская активность'].unique()"
   ]
  },
  {
   "cell_type": "code",
   "execution_count": null,
   "metadata": {},
   "outputs": [],
   "source": [
    "market_file['Тип сервиса'].unique()"
   ]
  },
  {
   "cell_type": "code",
   "execution_count": null,
   "metadata": {},
   "outputs": [],
   "source": [
    "market_file['Тип сервиса'] = market_file['Тип сервиса'].replace('стандартт','стандарт')\n",
    "market_file['Тип сервиса'].unique()"
   ]
  },
  {
   "cell_type": "code",
   "execution_count": null,
   "metadata": {},
   "outputs": [],
   "source": [
    "market_file['Популярная_категория'].unique()"
   ]
  },
  {
   "cell_type": "code",
   "execution_count": null,
   "metadata": {},
   "outputs": [],
   "source": [
    "market_file.info()"
   ]
  },
  {
   "cell_type": "code",
   "execution_count": null,
   "metadata": {},
   "outputs": [],
   "source": [
    "market_file.duplicated().sum()"
   ]
  },
  {
   "cell_type": "code",
   "execution_count": null,
   "metadata": {},
   "outputs": [],
   "source": [
    "market_file.isnull().sum() "
   ]
  },
  {
   "cell_type": "code",
   "execution_count": null,
   "metadata": {},
   "outputs": [],
   "source": [
    "market_file.describe()"
   ]
  },
  {
   "cell_type": "code",
   "execution_count": null,
   "metadata": {},
   "outputs": [],
   "source": [
    "fig, axs = plt.subplots(2, 4, figsize=(12, 12))\n",
    "\n",
    "sns.boxplot(data=market_file, x=\"Маркет_актив_6_мес\", color=\"skyblue\", ax=axs[0, 0])\n",
    "axs[0, 0].set_title(\"Маркет_актив_6_мес\")\n",
    "sns.boxplot(data=market_file, x=\"Маркет_актив_тек_мес\", color=\"skyblue\", ax=axs[0, 1])\n",
    "axs[0, 0].set_title(\"Маркет_актив_тек_мес\")\n",
    "sns.boxplot(data=market_file, x=\"Длительность\", color=\"skyblue\", ax=axs[0, 2])\n",
    "axs[0, 0].set_title(\"Длительность\")\n",
    "sns.boxplot(data=market_file, x=\"Акционные_покупки\", color=\"skyblue\", ax=axs[0, 3])\n",
    "axs[0, 0].set_title(\"Акционные_покупки\")\n",
    "sns.boxplot(data=market_file, x=\"Средний_просмотр_категорий_за_визит\", color=\"skyblue\", ax=axs[1, 0])\n",
    "axs[0, 0].set_title(\"Средний_просмотр_категорий_за_визит\")\n",
    "sns.boxplot(data=market_file, x=\"Неоплаченные_продукты_штук_квартал\", color=\"skyblue\", ax=axs[1, 1])\n",
    "axs[0, 0].set_title(\"Неоплаченные_продукты_штук_квартал\")\n",
    "sns.boxplot(data=market_file, x=\"Ошибка_сервиса\", color=\"skyblue\", ax=axs[1, 2])\n",
    "axs[0, 0].set_title(\"Ошибка_сервиса\")\n",
    "sns.boxplot(data=market_file, x=\"Страниц_за_визит\", color=\"skyblue\", ax=axs[1, 3])\n",
    "axs[0, 0].set_title(\"Страниц_за_визит\")\n",
    "\n",
    "print('Визуализация числевых данных датафрейма')\n",
    "plt.tight_layout()\n",
    "plt.show()"
   ]
  },
  {
   "cell_type": "code",
   "execution_count": null,
   "metadata": {},
   "outputs": [],
   "source": [
    "# Изучим и исправим проблемы с данными в датафреме market_money"
   ]
  },
  {
   "cell_type": "code",
   "execution_count": null,
   "metadata": {},
   "outputs": [],
   "source": [
    "market_money.head(5)"
   ]
  },
  {
   "cell_type": "code",
   "execution_count": null,
   "metadata": {},
   "outputs": [],
   "source": [
    "market_money['Период'].unique()"
   ]
  },
  {
   "cell_type": "code",
   "execution_count": null,
   "metadata": {},
   "outputs": [],
   "source": [
    "market_money.info()"
   ]
  },
  {
   "cell_type": "code",
   "execution_count": null,
   "metadata": {},
   "outputs": [],
   "source": [
    "market_money.duplicated().sum()"
   ]
  },
  {
   "cell_type": "code",
   "execution_count": null,
   "metadata": {},
   "outputs": [],
   "source": [
    "market_money = market_money.drop_duplicates()\n",
    "market_money.duplicated().sum()"
   ]
  },
  {
   "cell_type": "code",
   "execution_count": null,
   "metadata": {},
   "outputs": [],
   "source": [
    "market_money.isnull().sum() "
   ]
  },
  {
   "cell_type": "code",
   "execution_count": null,
   "metadata": {},
   "outputs": [],
   "source": [
    "market_money.describe()"
   ]
  },
  {
   "cell_type": "code",
   "execution_count": null,
   "metadata": {},
   "outputs": [],
   "source": [
    "market_money.boxplot(column=['Выручка'])"
   ]
  },
  {
   "cell_type": "code",
   "execution_count": null,
   "metadata": {},
   "outputs": [],
   "source": [
    "market_money = market_money[market_money['Выручка'] != 106862.200000]\n",
    "market_money = market_money[market_money['Выручка'] != 0]"
   ]
  },
  {
   "cell_type": "code",
   "execution_count": null,
   "metadata": {},
   "outputs": [],
   "source": [
    "market_money.boxplot(column=['Выручка'])"
   ]
  },
  {
   "cell_type": "code",
   "execution_count": null,
   "metadata": {},
   "outputs": [],
   "source": [
    "# Изучим и исправим проблемы с данными в датафреме market_time"
   ]
  },
  {
   "cell_type": "code",
   "execution_count": null,
   "metadata": {},
   "outputs": [],
   "source": [
    "market_time.head(5)"
   ]
  },
  {
   "cell_type": "code",
   "execution_count": null,
   "metadata": {},
   "outputs": [],
   "source": [
    "market_time['Период'] = market_time['Период'].replace('предыдцщий_месяц','предыдущий_месяц')\n",
    "market_time['Период'].unique()"
   ]
  },
  {
   "cell_type": "code",
   "execution_count": null,
   "metadata": {},
   "outputs": [],
   "source": [
    "market_time.duplicated().sum()"
   ]
  },
  {
   "cell_type": "code",
   "execution_count": null,
   "metadata": {},
   "outputs": [],
   "source": [
    "market_time.isnull().sum() "
   ]
  },
  {
   "cell_type": "code",
   "execution_count": null,
   "metadata": {},
   "outputs": [],
   "source": [
    "market_time.describe()"
   ]
  },
  {
   "cell_type": "code",
   "execution_count": null,
   "metadata": {},
   "outputs": [],
   "source": [
    "market_time.boxplot(column=['минут'])"
   ]
  },
  {
   "cell_type": "code",
   "execution_count": null,
   "metadata": {},
   "outputs": [],
   "source": [
    "# Изучим и исправим проблемы с данными в датафреме money"
   ]
  },
  {
   "cell_type": "code",
   "execution_count": null,
   "metadata": {},
   "outputs": [],
   "source": [
    "money.head(5)"
   ]
  },
  {
   "cell_type": "code",
   "execution_count": null,
   "metadata": {},
   "outputs": [],
   "source": [
    "money.duplicated().sum()"
   ]
  },
  {
   "cell_type": "code",
   "execution_count": null,
   "metadata": {},
   "outputs": [],
   "source": [
    "money.isnull().sum() "
   ]
  },
  {
   "cell_type": "code",
   "execution_count": null,
   "metadata": {},
   "outputs": [],
   "source": [
    "money.info()"
   ]
  },
  {
   "cell_type": "code",
   "execution_count": null,
   "metadata": {},
   "outputs": [],
   "source": [
    "#money['Прибыль']  = money['Прибыль'].str.replace(',', '.').astype(float)"
   ]
  },
  {
   "cell_type": "code",
   "execution_count": null,
   "metadata": {},
   "outputs": [],
   "source": [
    "#money.info()"
   ]
  },
  {
   "cell_type": "code",
   "execution_count": null,
   "metadata": {},
   "outputs": [],
   "source": [
    "money.boxplot(column=['Прибыль'])"
   ]
  },
  {
   "cell_type": "markdown",
   "metadata": {},
   "source": [
    "__Вывод:__\n",
    "\n",
    "1) Выявлены дубликаты в датафрейме \"market_money\" и удалены, пропусков не обнаружено;\n",
    "\n",
    "2) Выявлены и устранены дубликаты в кагориальных данных в датафреймах: \"market_file\" и \"market_money\";\n",
    "\n",
    "3) Выявлен и удален выбрас в датафрейме \"market_money\";\n",
    "\n",
    "4) Выявлена и устранена проблема с типом данных в датафрейме \"money\".\n"
   ]
  },
  {
   "cell_type": "markdown",
   "metadata": {},
   "source": [
    "# 3.  Исследовательский анализ данных"
   ]
  },
  {
   "cell_type": "markdown",
   "metadata": {},
   "source": [
    "__План работ:__\n",
    "\n",
    "1. Провести исследовательский анализ данных из каждой талблицы;\n",
    "\n",
    "2. Отобрать клиентов в покупательской активность не менее трех месяцев, т.е. таких которые что-либо покупали за этот период;\n",
    "\n",
    "3. Сделать вывод по полученным результатам."
   ]
  },
  {
   "cell_type": "code",
   "execution_count": null,
   "metadata": {},
   "outputs": [],
   "source": [
    "market_file.head(5)"
   ]
  },
  {
   "cell_type": "code",
   "execution_count": null,
   "metadata": {},
   "outputs": [],
   "source": [
    "market_file['Покупательская активность'].unique()"
   ]
  },
  {
   "cell_type": "code",
   "execution_count": null,
   "metadata": {},
   "outputs": [],
   "source": [
    "fig, axs = plt.subplots(2, 4, figsize=(15, 15))\n",
    "\n",
    "sns.histplot(data=market_file, x=\"Маркет_актив_6_мес\", color=\"skyblue\", ax=axs[0, 0])\n",
    "axs[0, 0].set_title(\"Маркет_актив_6_мес\")\n",
    "sns.histplot(data=market_file, x=\"Маркет_актив_тек_мес\", color=\"skyblue\", ax=axs[0, 1])\n",
    "axs[0, 0].set_title(\"Маркет_актив_тек_мес\")\n",
    "sns.histplot(data=market_file, x=\"Длительность\", color=\"skyblue\", ax=axs[0, 2])\n",
    "axs[0, 0].set_title(\"Длительность\")\n",
    "sns.histplot(data=market_file, x=\"Акционные_покупки\", color=\"skyblue\", ax=axs[0, 3])\n",
    "axs[0, 0].set_title(\"Акционные_покупки\")\n",
    "sns.histplot(data=market_file, x=\"Средний_просмотр_категорий_за_визит\", color=\"skyblue\", ax=axs[1, 0])\n",
    "axs[0, 0].set_title(\"Средний_просмотр_категорий_за_визит\")\n",
    "sns.histplot(data=market_file, x=\"Неоплаченные_продукты_штук_квартал\", color=\"skyblue\", ax=axs[1, 1])\n",
    "axs[0, 0].set_title(\"Неоплаченные_продукты_штук_квартал\")\n",
    "sns.histplot(data=market_file, x=\"Ошибка_сервиса\", color=\"skyblue\", ax=axs[1, 2])\n",
    "axs[0, 0].set_title(\"Ошибка_сервиса\")\n",
    "sns.histplot(data=market_file, x=\"Страниц_за_визит\", color=\"skyblue\", ax=axs[1, 3])\n",
    "axs[0, 0].set_title(\"Страниц_за_визит\")\n",
    "\n",
    "print('Визуализация числевых данных датафрейма')\n",
    "plt.tight_layout()\n",
    "plt.show()"
   ]
  },
  {
   "cell_type": "code",
   "execution_count": null,
   "metadata": {},
   "outputs": [],
   "source": [
    "sns.histplot(data=market_file, x=\"Покупательская активность\", color=\"skyblue\")\n",
    "axs[0, 0].set_title(\"Покупательская активность\")\n",
    "\n",
    "plt.tight_layout()\n",
    "plt.show()"
   ]
  },
  {
   "cell_type": "code",
   "execution_count": null,
   "metadata": {},
   "outputs": [],
   "source": [
    "sns.histplot(data=market_file, x=\"Разрешить сообщать\", color=\"skyblue\")\n",
    "axs[0, 0].set_title(\"Разрешить сообщать\")\n",
    "\n",
    "plt.tight_layout()\n",
    "plt.show()"
   ]
  },
  {
   "cell_type": "code",
   "execution_count": null,
   "metadata": {},
   "outputs": [],
   "source": [
    "filtered_market_file = market_file[market_file['Покупательская активность'] == 'прежний уровень']\n",
    "filtered_market_file.head()"
   ]
  },
  {
   "cell_type": "code",
   "execution_count": null,
   "metadata": {},
   "outputs": [],
   "source": [
    "filtered_market_file.info()"
   ]
  },
  {
   "cell_type": "code",
   "execution_count": null,
   "metadata": {},
   "outputs": [],
   "source": [
    "market_money.head(5)"
   ]
  },
  {
   "cell_type": "code",
   "execution_count": null,
   "metadata": {},
   "outputs": [],
   "source": [
    "sns.histplot(data=market_money, x=\"Период\", color=\"skyblue\")\n",
    "axs[0, 0].set_title(\"Период\")\n",
    "\n",
    "plt.tight_layout()\n",
    "plt.show()"
   ]
  },
  {
   "cell_type": "code",
   "execution_count": null,
   "metadata": {},
   "outputs": [],
   "source": [
    "sns.histplot(data=market_money, x=\"Выручка\", color=\"skyblue\")\n",
    "axs[0, 0].set_title(\"Выручка\")\n",
    "\n",
    "plt.tight_layout()\n",
    "plt.show()"
   ]
  },
  {
   "cell_type": "code",
   "execution_count": null,
   "metadata": {},
   "outputs": [],
   "source": [
    "market_money_group = market_money.groupby('Период', as_index=False)['Выручка'].sum()\n",
    "market_money_group"
   ]
  },
  {
   "cell_type": "code",
   "execution_count": null,
   "metadata": {},
   "outputs": [],
   "source": [
    "market_time.head(5)"
   ]
  },
  {
   "cell_type": "code",
   "execution_count": null,
   "metadata": {},
   "outputs": [],
   "source": [
    "sns.histplot(data=market_time, x=\"Период\", color=\"skyblue\")\n",
    "axs[0, 0].set_title(\"Период\")\n",
    "\n",
    "plt.tight_layout()\n",
    "plt.show()"
   ]
  },
  {
   "cell_type": "code",
   "execution_count": null,
   "metadata": {},
   "outputs": [],
   "source": [
    "market_time['Период'].unique()"
   ]
  },
  {
   "cell_type": "code",
   "execution_count": null,
   "metadata": {},
   "outputs": [],
   "source": [
    "sns.histplot(data=market_time, x=\"минут\", color=\"skyblue\")\n",
    "axs[0, 0].set_title(\"минут\")\n",
    "\n",
    "plt.tight_layout()\n",
    "plt.show()"
   ]
  },
  {
   "cell_type": "code",
   "execution_count": null,
   "metadata": {},
   "outputs": [],
   "source": [
    "market_time_group = market_time.groupby('Период', as_index=False)['минут'].sum()\n",
    "market_time_group"
   ]
  },
  {
   "cell_type": "code",
   "execution_count": null,
   "metadata": {},
   "outputs": [],
   "source": [
    "money.head(5)"
   ]
  },
  {
   "cell_type": "code",
   "execution_count": null,
   "metadata": {},
   "outputs": [],
   "source": [
    "sns.histplot(data=money, x=\"Прибыль\", color=\"skyblue\")\n",
    "axs[0, 0].set_title(\"Прибыль\")\n",
    "\n",
    "plt.tight_layout()\n",
    "plt.show()"
   ]
  },
  {
   "cell_type": "code",
   "execution_count": null,
   "metadata": {},
   "outputs": [],
   "source": [
    "# отбор клиентов с покупательской активностью не менее трёх месяцев"
   ]
  },
  {
   "cell_type": "code",
   "execution_count": null,
   "metadata": {},
   "outputs": [],
   "source": [
    "market_money.head()"
   ]
  },
  {
   "cell_type": "code",
   "execution_count": null,
   "metadata": {},
   "outputs": [],
   "source": [
    "#market_money.query('Выручка == 0')"
   ]
  },
  {
   "cell_type": "code",
   "execution_count": null,
   "metadata": {},
   "outputs": [],
   "source": [
    "#market_money.info()"
   ]
  },
  {
   "cell_type": "markdown",
   "metadata": {},
   "source": [
    "__Вывод:__\n",
    "\n",
    "1) Время проведенное на сайте за прошлый и текущий месяц не изменилось, в целом время проведенное на сайте имеет нормальное распределение;\n",
    "\n",
    "2) Вырочка в текущем месяце составила 6 802 586 , а за предыдущий 12 681 278, выроучка уменьшилась в 1,86 раза;\n",
    "\n",
    "3) Пользовательская активность не изменилась у 802 человек и 1300, или почти у 60% аудитории.\n"
   ]
  },
  {
   "cell_type": "markdown",
   "metadata": {},
   "source": [
    "Проведем анализ датафрейма market_file"
   ]
  },
  {
   "cell_type": "code",
   "execution_count": null,
   "metadata": {},
   "outputs": [],
   "source": [
    "plt.figure(figsize=(8,6))\n",
    "plot = sns.countplot(data=market_file, y='Покупательская активность')\n",
    "plot.set_title('Распределение покупательской активности', fontsize=16)\n",
    "plot.set_xlabel('Количество', fontsize=14)\n",
    "plt.show()"
   ]
  },
  {
   "cell_type": "markdown",
   "metadata": {},
   "source": [
    "Видно, что покупательская активность снизилась"
   ]
  },
  {
   "cell_type": "code",
   "execution_count": null,
   "metadata": {},
   "outputs": [],
   "source": [
    "plt.figure(figsize=(8,6))\n",
    "plot = sns.countplot(data=market_file, y='Тип сервиса')\n",
    "plot.set_title('Распределение типа сервиса', fontsize=16)\n",
    "plot.set_xlabel('Количество', fontsize=14)\n",
    "plt.show()"
   ]
  },
  {
   "cell_type": "markdown",
   "metadata": {},
   "source": [
    "Пользователей с подпиской Премиум значительно меньше, чем со Стандартной подпиской"
   ]
  },
  {
   "cell_type": "code",
   "execution_count": null,
   "metadata": {},
   "outputs": [],
   "source": [
    "plt.figure(figsize=(8,6))\n",
    "plot = sns.countplot(data=market_file, y='Разрешить сообщать')\n",
    "plot.set_title('Распределение разрешения на рассылку', fontsize=16)\n",
    "plot.set_xlabel('Количество', fontsize=14)\n",
    "plt.show()"
   ]
  },
  {
   "cell_type": "markdown",
   "metadata": {},
   "source": [
    "Пользователи значительно реже запрещают отправлять информацию о дополнительных предлажениях о товарах"
   ]
  },
  {
   "cell_type": "markdown",
   "metadata": {},
   "source": [
    "Далее рассмотрим влиеяние числовых значений на снижение активности, и отдельно рассмотрим Популярные категории"
   ]
  },
  {
   "cell_type": "code",
   "execution_count": null,
   "metadata": {},
   "outputs": [],
   "source": [
    "market_file[market_file['Покупательская активность'] =='снизилась']['Маркет_актив_6_мес'].plot(kind='hist', alpha=0.5, color='blue', bins=15, label='Снизилась', edgecolor='black')\n",
    "market_file[market_file['Покупательская активность'] =='прежний уровень']['Маркет_актив_6_мес'].plot(kind='hist', alpha=0.5, color='red', bins=15, label='Предний уровень', edgecolor='black')\n",
    "\n",
    "plt.title('Распределение Маркетинговой активности за последние 6 месяцев')\n",
    "plt.xlabel('Значение')\n",
    "plt.ylabel('Частота')\n",
    "plt.legend()\n",
    "plt.grid(axis='y', alpha=0.75) "
   ]
  },
  {
   "cell_type": "markdown",
   "metadata": {},
   "source": [
    "На гистограмме видно, что при снижении маркетинговой активности за 6 месяцев снижается пользовательская активность"
   ]
  },
  {
   "cell_type": "code",
   "execution_count": null,
   "metadata": {},
   "outputs": [],
   "source": [
    "market_file[market_file['Покупательская активность'] =='снизилась']['Маркет_актив_тек_мес'].plot(kind='hist', alpha=0.5, color='blue', bins=15, label='Снизилась', edgecolor='black')\n",
    "market_file[market_file['Покупательская активность'] =='прежний уровень']['Маркет_актив_тек_мес'].plot(kind='hist', alpha=0.5, color='red', bins=15, label='Предний уровень', edgecolor='black')\n",
    "\n",
    "plt.title('Распределение Маркетинговой активности за текущий месяц')\n",
    "plt.xlabel('Значение')\n",
    "plt.ylabel('Частота')\n",
    "plt.legend()\n",
    "plt.grid(axis='y', alpha=0.75) "
   ]
  },
  {
   "cell_type": "markdown",
   "metadata": {},
   "source": [
    "Аналогично, видно, что при снижении маркетинговой активности, снижается пользовательская активность"
   ]
  },
  {
   "cell_type": "code",
   "execution_count": null,
   "metadata": {},
   "outputs": [],
   "source": [
    "market_file[market_file['Покупательская активность'] =='снизилась']['Длительность'].plot(kind='hist', alpha=0.5, color='blue', bins=15, label='Снизилась', edgecolor='black')\n",
    "market_file[market_file['Покупательская активность'] =='прежний уровень']['Длительность'].plot(kind='hist', alpha=0.5, color='red', bins=15, label='Предний уровень', edgecolor='black')\n",
    "\n",
    "plt.title('Распределение Длительности времени прошедшего с регистрации на сайте')\n",
    "plt.xlabel('Значение')\n",
    "plt.ylabel('Частота')\n",
    "plt.legend()\n",
    "plt.grid(axis='y', alpha=0.75) "
   ]
  },
  {
   "cell_type": "markdown",
   "metadata": {},
   "source": [
    "На гистограмме видно, что пользовательская активность снижается у \"новых\" пользователей больше, чем у \"старых\""
   ]
  },
  {
   "cell_type": "code",
   "execution_count": null,
   "metadata": {},
   "outputs": [],
   "source": [
    "market_file[market_file['Покупательская активность'] =='снизилась']['Акционные_покупки'].plot(kind='hist', alpha=0.5, color='blue', bins=15, label='Снизилась', edgecolor='black')\n",
    "market_file[market_file['Покупательская активность'] =='прежний уровень']['Акционные_покупки'].plot(kind='hist', alpha=0.5, color='red', bins=15, label='Предний уровень', edgecolor='black')\n",
    "\n",
    "plt.title('Распределение среднемесячной доля покупок по акции от общего числа покупок за последние 6 месяцев')\n",
    "plt.xlabel('Значение')\n",
    "plt.ylabel('Частота')\n",
    "plt.legend()\n",
    "plt.grid(axis='y', alpha=0.75) "
   ]
  },
  {
   "cell_type": "markdown",
   "metadata": {},
   "source": [
    "Получается интресная картина, больше снизилась активность у пользователей которые пользуются скидками, и много пользователей не особо ориентируются на скидки."
   ]
  },
  {
   "cell_type": "code",
   "execution_count": null,
   "metadata": {},
   "outputs": [],
   "source": [
    "plt.figure(figsize=(8,6))\n",
    "plot = sns.countplot(data=market_file, y='Популярная_категория')\n",
    "plot.set_title('Распределение популярной категории покупок', fontsize=16)\n",
    "plot.set_xlabel('Количество', fontsize=14)\n",
    "plt.show()"
   ]
  },
  {
   "cell_type": "code",
   "execution_count": null,
   "metadata": {},
   "outputs": [],
   "source": [
    "market_file[market_file['Покупательская активность'] =='снизилась']['Средний_просмотр_категорий_за_визит'].plot(kind='hist', alpha=0.5, color='blue', bins=15, label='Снизилась', edgecolor='black')\n",
    "market_file[market_file['Покупательская активность'] =='прежний уровень']['Средний_просмотр_категорий_за_визит'].plot(kind='hist', alpha=0.5, color='red', bins=15, label='Предний уровень', edgecolor='black')\n",
    "\n",
    "plt.title('Распределение сколько в среднем категорий покупатель посмотрел за визит в течении последнего месяца')\n",
    "plt.xlabel('Значение')\n",
    "plt.ylabel('Частота')\n",
    "plt.legend()\n",
    "plt.grid(axis='y', alpha=0.75) "
   ]
  },
  {
   "cell_type": "markdown",
   "metadata": {},
   "source": [
    "Из гистограммы видно, что активность пользователей снизилась у пользователей которые просматривают меньше категорий, чем у пользователей которые остались на прежнем уровне"
   ]
  },
  {
   "cell_type": "code",
   "execution_count": null,
   "metadata": {},
   "outputs": [],
   "source": [
    "market_file[market_file['Покупательская активность'] =='снизилась']['Неоплаченные_продукты_штук_квартал'].plot(kind='hist', alpha=0.5, color='blue', bins=15, label='Снизилась', edgecolor='black')\n",
    "market_file[market_file['Покупательская активность'] =='прежний уровень']['Неоплаченные_продукты_штук_квартал'].plot(kind='hist', alpha=0.5, color='red', bins=15, label='Предний уровень', edgecolor='black')\n",
    "\n",
    "plt.title('Распределение числа неоплаченных товаров в корзине за последние 3 месяца')\n",
    "plt.xlabel('Значение')\n",
    "plt.ylabel('Частота')\n",
    "plt.legend()\n",
    "plt.grid(axis='y', alpha=0.75) "
   ]
  },
  {
   "cell_type": "markdown",
   "metadata": {},
   "source": [
    "Получается, что чем больше неоплаченных товаров тем больше снижается активность пользователей"
   ]
  },
  {
   "cell_type": "code",
   "execution_count": null,
   "metadata": {},
   "outputs": [],
   "source": [
    "market_file[market_file['Покупательская активность'] =='снизилась']['Ошибка_сервиса'].plot(kind='hist', alpha=0.5, color='blue', bins=15, label='Снизилась', edgecolor='black')\n",
    "market_file[market_file['Покупательская активность'] =='прежний уровень']['Ошибка_сервиса'].plot(kind='hist', alpha=0.5, color='red', bins=15, label='Предний уровень', edgecolor='black')\n",
    "\n",
    "plt.title('Распределение числа сбоев сайта, которые коснулись покупателя за время посещения сайта')\n",
    "plt.xlabel('Значение')\n",
    "plt.ylabel('Частота')\n",
    "plt.legend()\n",
    "plt.grid(axis='y', alpha=0.75)"
   ]
  },
  {
   "cell_type": "markdown",
   "metadata": {},
   "source": [
    "В среднем за одно посещения сайта, происходит 4 сбоя, это печально"
   ]
  },
  {
   "cell_type": "code",
   "execution_count": null,
   "metadata": {},
   "outputs": [],
   "source": [
    "market_file[market_file['Покупательская активность'] =='снизилась']['Страниц_за_визит'].plot(kind='hist', alpha=0.5, color='blue', bins=15, label='Снизилась', edgecolor='black')\n",
    "market_file[market_file['Покупательская активность'] =='прежний уровень']['Страниц_за_визит'].plot(kind='hist', alpha=0.5, color='red', bins=15, label='Предний уровень', edgecolor='black')\n",
    "\n",
    "plt.title('Распределение среднего количества страниц, которое посмотрел покупатель за один визит сайта за последние 3 месяца')\n",
    "plt.xlabel('Значение')\n",
    "plt.ylabel('Частота')\n",
    "plt.legend()\n",
    "plt.grid(axis='y', alpha=0.75)"
   ]
  },
  {
   "cell_type": "markdown",
   "metadata": {},
   "source": [
    "Чем больше пользователь посмотрел страниц сайта, тем меньше вероятность снижения его активности"
   ]
  },
  {
   "cell_type": "markdown",
   "metadata": {},
   "source": [
    "По анализу датафрейма market_file, портрет покупаетля со сниженной активностью следующий: мало просматривал страниц за один визит на сайт, имел много сбоев сайта за один сеанс, имел много неоплаченных товаров в корзине, мало просмотренно категорий товаров, делал много акционных покупок. Разницы в \"новых\" или \"старых\" пользователях сайта особо не наблюдается, как в маркетинговой активноности за предыдущий месяц. Имеется разница в маркетинговой активности за последниее 6 месяцев, такой активности пользователь получил меньше."
   ]
  },
  {
   "cell_type": "markdown",
   "metadata": {},
   "source": [
    "Проведем анализ датафрейма market_money"
   ]
  },
  {
   "cell_type": "code",
   "execution_count": null,
   "metadata": {},
   "outputs": [],
   "source": [
    "market_money_group = market_money.groupby('Период', as_index=False)['Выручка'].sum()\n",
    "market_money_group"
   ]
  },
  {
   "cell_type": "code",
   "execution_count": null,
   "metadata": {},
   "outputs": [],
   "source": [
    "plt.figure(figsize=(8,6))\n",
    "plot = sns.countplot(data=market_money, y='Период')\n",
    "plot.set_title('Распределение по Период', fontsize=16)\n",
    "plot.set_xlabel('Количество', fontsize=14)\n",
    "plt.show()"
   ]
  },
  {
   "cell_type": "code",
   "execution_count": null,
   "metadata": {},
   "outputs": [],
   "source": [
    "sns.histplot(data=market_money, x=\"Выручка\", color=\"skyblue\")\n",
    "\n",
    "plt.tight_layout()\n",
    "plt.title('Гистограмма по Выручка')\n",
    "plt.xlabel('Выручка')\n",
    "plt.ylabel('Количество')\n",
    "plt.show()"
   ]
  },
  {
   "cell_type": "markdown",
   "metadata": {},
   "source": [
    "Вывод по датафрейму market_money распределение выручки по трем месяцам примерно равна. Выручка имеет нормальное распределение."
   ]
  },
  {
   "cell_type": "markdown",
   "metadata": {},
   "source": [
    "Проведем анализ датафрейма market_time"
   ]
  },
  {
   "cell_type": "code",
   "execution_count": null,
   "metadata": {},
   "outputs": [],
   "source": [
    "plt.figure(figsize=(8,6))\n",
    "plot = sns.countplot(data=market_time, y='Период')\n",
    "plot.set_title('Распределение по Период', fontsize=16)\n",
    "plot.set_xlabel('Количество', fontsize=14)\n",
    "plt.show()"
   ]
  },
  {
   "cell_type": "code",
   "execution_count": null,
   "metadata": {},
   "outputs": [],
   "source": [
    "market_time_group = market_time.groupby('Период', as_index=False)['минут'].sum()\n",
    "market_time_group"
   ]
  },
  {
   "cell_type": "code",
   "execution_count": null,
   "metadata": {},
   "outputs": [],
   "source": [
    "sns.histplot(data=market_time, x=\"минут\", color=\"skyblue\")\n",
    "\n",
    "plt.tight_layout()\n",
    "plt.title('Гистограмма по минут')\n",
    "plt.xlabel('минут')\n",
    "plt.ylabel('Количество')\n",
    "plt.show()"
   ]
  },
  {
   "cell_type": "markdown",
   "metadata": {},
   "source": [
    "Вывод по датафрейму market_time: время проведенное на сайте по периоднам практически не отличается. Время проведенное на сайте имеет нормальное распределение."
   ]
  },
  {
   "cell_type": "markdown",
   "metadata": {},
   "source": [
    "__Вывод:__\n",
    "\n",
    "1) По анализу датафрейма market_file, портрет покупаетля со сниженной активностью следующий: мало просматривал страниц за один визит на сайт, имел много сбоев сайта за один сеанс, имел много неоплаченных товаров в корзине, мало просмотренно категорий товаров, делал много акционных покупок. Разницы в \"новых\" или \"старых\" пользователях сайта особо не наблюдается, как в маркетинговой активноности за предыдущий месяц. Имеется разница в маркетинговой активности за последниее 6 месяцев, такой активности пользователь получил меньше.\n",
    "\n",
    "2) Вывод по датафрейму market_money распределение выручки по трем месяцам примерно равна. Выручка имеет нормальное распределение.\n",
    "\n",
    "3) Вывод по датафрейму market_time: время проведенное на сайте по периоднам практически не отличается. Время проведенное на сайте имеет нормальное распределение."
   ]
  },
  {
   "cell_type": "markdown",
   "metadata": {},
   "source": [
    "# 4.  Объединение таблиц"
   ]
  },
  {
   "cell_type": "markdown",
   "metadata": {},
   "source": [
    "__План работ:__\n",
    "    \n",
    "1) Объеденить market_file.csv, market_money.csv, market_time.csv;\n",
    "\n",
    "2) В итоговой таблице сделать отдельный столбец для каждого периода."
   ]
  },
  {
   "cell_type": "code",
   "execution_count": null,
   "metadata": {},
   "outputs": [],
   "source": [
    "market_money_ = market_money.pivot(index='id', columns='Период', values='Выручка')\n",
    "market_money_=market_money_.reset_index()\n",
    "market_money_.columns = ['id', 'Выручка_2месяц', 'Выручка_3месяц', 'Выручка_1месяц']\n",
    "market_money_cut = market_money_.query('Выручка_2месяц>0 and Выручка_3месяц>0 and Выручка_1месяц<10000')\n",
    "display(market_money_cut.head(3))\n",
    "market_money_cut.shape"
   ]
  },
  {
   "cell_type": "code",
   "execution_count": null,
   "metadata": {},
   "outputs": [],
   "source": [
    "market_time.head()"
   ]
  },
  {
   "cell_type": "code",
   "execution_count": null,
   "metadata": {},
   "outputs": [],
   "source": [
    "market_time_ = market_time.pivot(index='id', columns='Период', values='минут')\n",
    "market_time_ = market_time_.reset_index()\n",
    "market_time_.columns = ['id', 'минут_предыдущий_месяц', 'минут_текущий_месяц']\n",
    "market_time_cut = market_time_.query('минут_предыдущий_месяц>0 and минут_текущий_месяц>0')\n",
    "display(market_time_cut.head())                             \n",
    "market_time_cut.shape"
   ]
  },
  {
   "cell_type": "code",
   "execution_count": null,
   "metadata": {},
   "outputs": [],
   "source": [
    "merged = market_file.merge(market_money_cut, on='id', how='inner').merge(market_time_cut, on='id', how='inner')\n",
    "merged.head()"
   ]
  },
  {
   "cell_type": "code",
   "execution_count": null,
   "metadata": {},
   "outputs": [],
   "source": [
    "merged = merged.set_index('id')"
   ]
  },
  {
   "cell_type": "code",
   "execution_count": null,
   "metadata": {},
   "outputs": [],
   "source": [
    "merged.info()"
   ]
  },
  {
   "cell_type": "markdown",
   "metadata": {},
   "source": [
    "__Вывод:__\n",
    "\n",
    "1) Объединено три таблицу в одну;\n",
    "\n",
    "2) Добавлены отдельные столбцы для каждого периода."
   ]
  },
  {
   "cell_type": "markdown",
   "metadata": {},
   "source": [
    "# 5.  Корреляционный анализ"
   ]
  },
  {
   "cell_type": "markdown",
   "metadata": {},
   "source": [
    "__План работ:__\n",
    "\n",
    "1) Провести корреляционный анализ признаков в количественной шкале в итоговой таблице для моделирования. \n",
    "\n",
    "2) Сделать выводы о мультиколлинеарности и при необходимости устраните её."
   ]
  },
  {
   "cell_type": "code",
   "execution_count": null,
   "metadata": {},
   "outputs": [],
   "source": [
    "merged.head(3)"
   ]
  },
  {
   "cell_type": "code",
   "execution_count": null,
   "metadata": {},
   "outputs": [],
   "source": [
    "phik_matrix_merged = merged.phik_matrix()\n",
    "\n",
    "plt.figure(figsize=(15, 15))\n",
    "\n",
    "sns.heatmap(phik_matrix_merged, annot=True, cmap='coolwarm', fmt='.2f', square=True, cbar_kws={\"shrink\": .8})\n",
    "\n",
    "plt.title('Тепловая карта корреляций по Phik')\n",
    "\n",
    "plt.show()"
   ]
  },
  {
   "cell_type": "markdown",
   "metadata": {},
   "source": [
    "__Выводы:__\n",
    "\n",
    "1) Целевым признаком является \"Покупательская активность\", с ним коррелируют следующие данные: \"Маркет_актив_6_мес\", \"Акционные_покупки\", \"Средний_просмотр_категорий_за_визит\", \"Неоплаченные_продукты_штук_квартал\", \"Страниц_за_визит\", \"Выручка_3месяц\", \"минут_предыдцщий_месяц\", \"минут_текущий_месяц\".\n",
    "\n",
    "2) Отсутствует мультиколлинеарность переменных\n"
   ]
  },
  {
   "cell_type": "markdown",
   "metadata": {},
   "source": [
    "# 6.  Использование пайплайнов"
   ]
  },
  {
   "cell_type": "markdown",
   "metadata": {},
   "source": [
    "__План работ:__\n",
    "\n",
    "1) Во время подготовки использовать данных ColumnTransformer. Количественные и категориальные признаки обработать в пайплайне раздельно. Для кодирования категориальных признаков используйте как минимум два кодировщика, для масштабирования количественных — как минимум два скейлера. Для каждой модели можно подготовить данные с разным кодированием и масштабированием;\n",
    "\n",
    "2) Обучить четыре модели: KNeighborsClassifier(), DecisionTreeClassifier(), LogisticRegression() и  SVC(). Для каждой из них подобрать минимум один гиперпараметр. Выберать подходящую для задачи метрику, аргументировать свой выбор. Использовать эту метрику при подборе гиперпараметров;\n",
    "\n",
    "3) Выбрать лучшую модель, используя заданную метрику. Для этого применить одну из стратегий:\n",
    "\n",
    "- использовать пайплайны и инструменты подбора гиперпараметров для каждой модели отдельно, чтобы выбрать лучшую модель самостоятельно;\n",
    "\n",
    "- использовать один общий пайплайн для всех моделей и инструмент подбора гиперпараметров, который вернёт лучшую модель."
   ]
  },
  {
   "cell_type": "code",
   "execution_count": null,
   "metadata": {
    "scrolled": false
   },
   "outputs": [],
   "source": [
    "X_train, X_test, y_train, y_test = train_test_split(\n",
    "    merged.drop(['Покупательская активность'], axis=1),\n",
    "    merged['Покупательская активность'],\n",
    "    test_size = TEST_SIZE, \n",
    "    random_state = RANDOM_STATE,\n",
    "    stratify = merged['Покупательская активность'])\n",
    "\n",
    "#X_train.shape, X_test.shape\n",
    "\n",
    "# создаём списки с названиями признаков\n",
    "ohe_columns = ['Популярная_категория']\n",
    "ord_columns = ['Тип сервиса', 'Разрешить сообщать']\n",
    "num_columns = ['Маркет_актив_6_мес',\n",
    "               'Маркет_актив_тек_мес',\n",
    "               'Длительность',\n",
    "               'Акционные_покупки',\n",
    "               'Средний_просмотр_категорий_за_визит',\n",
    "               'Неоплаченные_продукты_штук_квартал',\n",
    "               'Ошибка_сервиса',\n",
    "               'Страниц_за_визит',\n",
    "               'Выручка_2месяц',\n",
    "               'Выручка_3месяц',\n",
    "               'Выручка_1месяц',\n",
    "               'минут_предыдущий_месяц',\n",
    "               'минут_текущий_месяц']\n",
    "\n",
    "# создаём пайплайн для подготовки признаков из списка ohe_columns: заполнение пропусков и OHE-кодирование\n",
    "# SimpleImputer + OHE\n",
    "ohe_pipe = Pipeline(\n",
    "    [\n",
    "        ('simpleImputer_ohe', SimpleImputer(missing_values=np.nan, strategy='most_frequent')),\n",
    "        ('ohe', OneHotEncoder(drop='first', handle_unknown='error', sparse=False))\n",
    "    ]\n",
    ")\n",
    "#drop='first',\n",
    "# sparse_output=False\n",
    "# cоздаём пайплайн для подготовки признаков из списка ord_columns: заполнение пропусков и Ordinal-кодирование\n",
    "# SimpleImputer + OE\n",
    "\n",
    "ord_pipe = Pipeline(\n",
    "    [('simpleImputer_before_ord', SimpleImputer(missing_values=np.nan, strategy='most_frequent')),\n",
    "     ('ord', OrdinalEncoder(\n",
    "                categories=[\n",
    "                    ['премиум', 'стандарт'],\n",
    "                    ['да', 'нет'],\n",
    "                ], \n",
    "                handle_unknown='use_encoded_value', unknown_value=np.nan\n",
    "            )\n",
    "        ),\n",
    "        ('simpleImputer_after_ord', SimpleImputer(missing_values=np.nan, strategy='most_frequent'))\n",
    "    ]\n",
    ")\n",
    "\n",
    "# создаём общий пайплайн для подготовки данных\n",
    "data_preprocessor = ColumnTransformer(\n",
    "    [('ohe', ohe_pipe, ohe_columns),\n",
    "     ('ord', ord_pipe, ord_columns),\n",
    "     ('num', MinMaxScaler(), num_columns)\n",
    "    ], \n",
    "    remainder='passthrough'\n",
    ")    \n",
    "\n",
    "# создаём итоговый пайплайн: подготовка данных и модель\n",
    "pipe_final = Pipeline([\n",
    "    ('preprocessor', data_preprocessor),\n",
    "    ('models', DecisionTreeClassifier(random_state=RANDOM_STATE))\n",
    "])\n",
    "\n",
    "param_grid = [\n",
    "    # словарь для модели DecisionTreeClassifier()\n",
    "    {\n",
    "        'models': [DecisionTreeClassifier(random_state=RANDOM_STATE)],\n",
    "        'models__max_depth': range(2, 7),\n",
    "        'models__max_features': range(2, 7),\n",
    "        'preprocessor__num': [StandardScaler(), MinMaxScaler(), 'passthrough'] \n",
    "    },\n",
    "    \n",
    "    # словарь для модели KNeighborsClassifier() \n",
    "    {\n",
    "        'models': [KNeighborsClassifier()],\n",
    "        'models__n_neighbors': range(2, 5),\n",
    "        'preprocessor__num': [StandardScaler(), MinMaxScaler(), 'passthrough']   \n",
    "    },\n",
    "    # словарь для модели LogisticRegression()\n",
    "    {\n",
    "        'models': [LogisticRegression(\n",
    "            random_state=RANDOM_STATE, \n",
    "            solver='liblinear', \n",
    "            penalty='l1'\n",
    "        )],\n",
    "        'models__C': range(1, 5),\n",
    "        'preprocessor__num': [StandardScaler(), MinMaxScaler(), 'passthrough']  \n",
    "    },\n",
    "    \n",
    "    # словарь для модели SVC()\n",
    "    {\n",
    "        'models': [SVC(random_state=RANDOM_STATE, kernel='poly')],\n",
    "        'models__degree': range(2, 3),\n",
    "        'preprocessor__num': [StandardScaler(), MinMaxScaler(), 'passthrough']\n",
    "    }\n",
    "]\n",
    "\n",
    "randomized_search = RandomizedSearchCV(\n",
    "    pipe_final, \n",
    "    param_grid, \n",
    "    cv=5,\n",
    "    scoring='roc_auc',\n",
    "    random_state=RANDOM_STATE,\n",
    "    n_jobs=-1\n",
    ")\n",
    "\n",
    "randomized_search.fit(X_train, y_train)\n",
    "\n",
    "print('Лучшая модель и её параметры:\\n\\n', randomized_search.best_estimator_)\n",
    "print ('Метрика лучшей модели на тренировочной выборке:', randomized_search.best_score_)"
   ]
  },
  {
   "cell_type": "code",
   "execution_count": null,
   "metadata": {},
   "outputs": [],
   "source": [
    "# проверьте работу модели на тестовой выборке\n",
    "# рассчитайте прогноз на тестовых данных\n",
    "y_test_pred = randomized_search.predict(X_test)\n",
    "y_test_proba = randomized_search.predict_proba(X_test)\n",
    "print(f'Метрика ROC-AUC на тестовой выборке: {round(roc_auc_score(y_test, y_test_proba[:,1]), 2)}')"
   ]
  },
  {
   "cell_type": "code",
   "execution_count": null,
   "metadata": {},
   "outputs": [],
   "source": [
    "print(f'Метрика F1-score на тестовой выборке: {round(f1_score(y_test, y_test_pred, average=\"macro\"), 2)}')"
   ]
  },
  {
   "cell_type": "markdown",
   "metadata": {},
   "source": [
    "__Вывод:__\n",
    "\n",
    "1) Построен один общий пайплайн для всех моделей и инструмент подбора гиперпараметров, который вернёт вам лучшую модель;\n",
    "\n",
    "2) Лучшая модель LogisticRegression с гиперпаратметрами C=1, penalty='l1', random_state=42, solver='liblinear';\n",
    "\n",
    "3) Метрика 'roc_auc' лучшей модели на тестовой выборке: 0,92 и F1-score 0,89. Показатели хорошие, модель очень хорошо справляется с прогнозом."
   ]
  },
  {
   "cell_type": "markdown",
   "metadata": {},
   "source": [
    "# 7.  Анализ важности признаков"
   ]
  },
  {
   "cell_type": "markdown",
   "metadata": {},
   "source": [
    "__План работ:__\n",
    "\n",
    "1) Оценить важность признаков для лучшей модели и постройте график важности с помощью метода SHAP;\n",
    "\n",
    "2) Сделать выводы о значимости признаков:\n",
    "\n",
    "- какие признаки мало значимы для модели;\n",
    "\n",
    "- какие признаки сильнее всего влияют на целевой признак;\n",
    "\n",
    "- как можно использовать эти наблюдения при моделировании и принятии бизнес-решений.\n"
   ]
  },
  {
   "cell_type": "code",
   "execution_count": null,
   "metadata": {
    "scrolled": true
   },
   "outputs": [],
   "source": [
    "X_train_2 = pipe_final.named_steps['preprocessor'].fit_transform(X_train)\n",
    "explainer = shap.LinearExplainer(randomized_search.best_estimator_.named_steps['models'], X_train_2)\n",
    "\n",
    "#shap.TreeExplainer(randomized_search.best_estimator_.named_steps['models'], X_train_2)\n",
    "\n",
    "X_test_2 = pipe_final.named_steps['preprocessor'].transform(X_test)\n",
    "\n",
    "feature_names = pipe_final.named_steps['preprocessor'].get_feature_names_out()\n",
    "\n",
    "X_test_2 = pd.DataFrame(X_test_2, columns=feature_names)\n",
    " \n",
    "shap_values = explainer(X_test_2)\n",
    " \n",
    "shap.plots.beeswarm(shap_values[:,:,0], max_display=15)"
   ]
  },
  {
   "cell_type": "code",
   "execution_count": null,
   "metadata": {},
   "outputs": [],
   "source": [
    "shap.plots.bar(shap_values[:,:,0], max_display=15)\n",
    "plt.tick_params(axis='y', labelsize=13)\n",
    "plt.show()"
   ]
  },
  {
   "cell_type": "code",
   "execution_count": null,
   "metadata": {},
   "outputs": [],
   "source": [
    "shap.plots.waterfall(shap_values[0, :, 0], max_display=15)"
   ]
  },
  {
   "cell_type": "markdown",
   "metadata": {},
   "source": [
    "__Вывод:__\n",
    "\n",
    "1) Построены графики важности признаков модели с помощью метода SHAP;\n",
    "\n",
    "2) Самые важные для модели признаки: \n",
    "\n",
    "- Популярная_категория_Техника для красоты и здоровья;\n",
    "\n",
    "- Средний просмотр категорий за визит;\n",
    "\n",
    "- Страниц за визит;\n",
    "\n",
    "- минут_предыдущий_месяц;\n",
    "\n",
    "- минут_текущий_месяц;\n",
    "\n",
    "- неоплаченные_продукты_квартал;\n",
    "\n",
    "3) Малозначеные признаки для модели:\n",
    "\n",
    "- Популярная категория (кроме Техники для красоты и здоровья);\n",
    "\n",
    "- Маркет_актив_тек_мес;\n",
    "\n",
    "- Разрешить сообщать;\n",
    "\n",
    "- Тип сервиса;\n",
    "\n",
    "- Ошибка сервиса;\n",
    "\n",
    "- Выручка_1месяц;\n",
    "\n",
    "- Выручка_2месяц;\n",
    "\n",
    "- Выручка_3месяц;\n",
    "\n",
    "4) Рекомендация бизнесу для того чтобы покупатель при носил прибыль, нужно сделать так что бы пользователь больше времени проводил в интернет магазине, просматривал больше страниц, и добавлял товары в козину, даже если их сейчас не купит. Можно проанализировать UI/UX дизайн сайта, дальше развивать категорию с товарами Тезника для красоты и здоровья. "
   ]
  },
  {
   "cell_type": "markdown",
   "metadata": {},
   "source": [
    "__Вывод:__\n",
    "\n",
    "1) Построены графики важности признаков модели с помощью метода SHAP;\n",
    "\n",
    "2) Самые важные для модели признаки: \n",
    "\n",
    "- Популярная_категория_Техника для красоты и здоровья;\n",
    "\n",
    "- Средний просмотр категорий за визит;\n",
    "\n",
    "- Страниц за визит;\n",
    "\n",
    "- минут_предыдущий_месяц;\n",
    "\n",
    "- минут_текущий_месяц;\n",
    "\n",
    "- неоплаченные_продукты_квартал;\n",
    "\n",
    "3) Малозначеные признаки для модели:\n",
    "\n",
    "- Популярная категория (кроме Техники для красоты и здоровья);\n",
    "\n",
    "- Маркет_актив_тек_мес;\n",
    "\n",
    "- Разрешить сообщать;\n",
    "\n",
    "- Тип сервиса;\n",
    "\n",
    "- Ошибка сервиса;\n",
    "\n",
    "- Выручка_1месяц;\n",
    "\n",
    "- Выручка_2месяц;\n",
    "\n",
    "- Выручка_3месяц;"
   ]
  },
  {
   "cell_type": "markdown",
   "metadata": {},
   "source": [
    "# 8.  Сегментация покупателей"
   ]
  },
  {
   "cell_type": "markdown",
   "metadata": {},
   "source": [
    "__План работ:__\n",
    "\n",
    "1) Выполнить сегментацию покупателей, используя результаты моделирования и данные о прибыльности покупателей;\n",
    "\n",
    "2) Выберать группу покупателей и предложить, как увеличить её покупательскую активность:\n",
    "\n",
    "- Провести графическое и аналитическое исследование группы покупателей;\n",
    "\n",
    "- Сделать предложения по работе с сегментом для увеличения покупательской активности.\n",
    "\n",
    "2) Сделать выводы о сегментах:\n",
    "\n",
    "- Какой сегмент следует взять для дополнительного исследования;\n",
    "\n",
    "- Какие предложения следует сделать и почему."
   ]
  },
  {
   "cell_type": "markdown",
   "metadata": {},
   "source": [
    "__План работ:__\n",
    "\n",
    "1) Выбрать группу покупателей и предложить, как увеличить её покупательскую активность:\n",
    "\n",
    "- Провести графическое и аналитическое исследование группы покупателей;\n",
    "\n",
    "- Сделать предложения по работе с сегментом для увеличения покупательской активности.\n",
    "\n",
    "2) Выполнить сегментацию покупателей, используя результаты моделирования и данные о прибыльности покупателей;\n",
    "\n",
    "3) Сделать выводы о сегментах:\n",
    "\n",
    "- Какой сегмент следует взять для дополнительного исследования;\n",
    "\n",
    "- Какие предложения следует сделать и почему."
   ]
  },
  {
   "cell_type": "code",
   "execution_count": null,
   "metadata": {},
   "outputs": [],
   "source": [
    "y_test_proba = randomized_search.predict_proba(X_test)[:,1]\n",
    "y_train_proba = randomized_search.predict_proba(X_train)[:,1]"
   ]
  },
  {
   "cell_type": "code",
   "execution_count": null,
   "metadata": {},
   "outputs": [],
   "source": [
    "X_test.head(3)"
   ]
  },
  {
   "cell_type": "code",
   "execution_count": null,
   "metadata": {},
   "outputs": [],
   "source": [
    "X_test_merged = X_test.copy()\n",
    "X_train_merged = X_train.copy()\n",
    "\n",
    "X_test_merged['вероятность_снижения'] = y_test_proba\n",
    "X_train_merged['вероятность_снижения'] = y_train_proba\n",
    "df_merged = pd.concat([X_train_merged, X_test_merged])\n",
    "\n",
    "money = money.set_index('id')\n",
    "df_merged = df_merged.join(money)"
   ]
  },
  {
   "cell_type": "code",
   "execution_count": null,
   "metadata": {},
   "outputs": [],
   "source": [
    "df_merged.head()"
   ]
  },
  {
   "cell_type": "code",
   "execution_count": null,
   "metadata": {},
   "outputs": [],
   "source": [
    "fig = plt.figure(figsize=(8,8))\n",
    "sns.scatterplot(data=df_merged, y='Прибыль', x='вероятность_снижения')\n",
    "plt.xlabel('Вероятность снижения активности')\n",
    "plt.ylabel('Прибыль')\n",
    "plt.title('Зависимость вероятности снижения активности от выручки')\n",
    "plt.show()"
   ]
  },
  {
   "cell_type": "markdown",
   "metadata": {},
   "source": [
    "Не наблюдаю на диаграмме рассеивания зависимости вероятности активности пользователя от прибыли."
   ]
  },
  {
   "cell_type": "code",
   "execution_count": null,
   "metadata": {},
   "outputs": [],
   "source": [
    "#fig = plt.figure(figsize=(8,8))\n",
    "#sns.scatterplot(data=df_merged, y='Прибыль', x='вероятность_снижения')\n",
    "#plt.xlabel('Вероятность снижения активности')\n",
    "#plt.ylabel('Прибыль')\n",
    "#plt.title('Зависимость вероятности снижения активности от выручки')\n",
    "#plt.show()"
   ]
  },
  {
   "cell_type": "code",
   "execution_count": null,
   "metadata": {},
   "outputs": [],
   "source": [
    "#Вероятность снижения активности не имеет зависимость от типа сервиса."
   ]
  },
  {
   "cell_type": "code",
   "execution_count": null,
   "metadata": {},
   "outputs": [],
   "source": [
    "#fig = plt.figure(figsize=(8,8))\n",
    "#sns.scatterplot(data=df_merged, y='Разрешить сообщать', x='вероятность_снижения')\n",
    "#plt.xlabel('Вероятность снижения активности')\n",
    "#plt.ylabel('Разрешить сообщать')\n",
    "#plt.title('Зависимость вероятности снижения активности от разрешения сообщать информацию о доп. предложениях')\n",
    "#plt.show()"
   ]
  },
  {
   "cell_type": "code",
   "execution_count": null,
   "metadata": {},
   "outputs": [],
   "source": [
    "#Тоже нет зависимости"
   ]
  },
  {
   "cell_type": "code",
   "execution_count": null,
   "metadata": {},
   "outputs": [],
   "source": [
    "fig = plt.figure(figsize=(8,8))\n",
    "sns.scatterplot(data=df_merged, y='Акционные_покупки', x='вероятность_снижения')\n",
    "plt.xlabel('Вероятность снижения активности')\n",
    "plt.ylabel('Акционные_покупки')\n",
    "plt.title('Зависимость вероятности снижения активности от Акционные_покупки')\n",
    "plt.show()"
   ]
  },
  {
   "cell_type": "markdown",
   "metadata": {},
   "source": [
    "Наложим полученные данные по вероятности снижения активности с прибылю и акционными покупками. Есть большая вероятность снижения активности в акционных покупках. Рассмотрим этот подробнее. "
   ]
  },
  {
   "cell_type": "code",
   "execution_count": null,
   "metadata": {},
   "outputs": [],
   "source": [
    "fig = plt.figure(figsize=(8,8))\n",
    "sns.scatterplot(\n",
    "    x=\"вероятность_снижения\",\n",
    "    y=\"Прибыль\",\n",
    "    data=df_merged,\n",
    "    hue='Акционные_покупки'\n",
    ")\n",
    "plt.title('Зависимость вероятности снижения активности от аукционных покупок и прибыли')\n",
    "plt.show()"
   ]
  },
  {
   "cell_type": "markdown",
   "metadata": {},
   "source": [
    "На объедененном графике видно, что что акционные покупки имеют высокую стоимость и высокую вероятность снижения пользовательской активности. Вероятно, что хорошие скидки бывают редко, и соотвественно от этого зависят покупки.\n",
    "\n",
    "Для анализа сегмента с акционными покупками, возбмем диапозон больше 80%, т.к. больше вероятности снижения находятся в диапозоне от 0,8 до 1 "
   ]
  },
  {
   "cell_type": "code",
   "execution_count": null,
   "metadata": {},
   "outputs": [],
   "source": [
    "#fig = plt.figure(figsize=(8,8))\n",
    "#sns.scatterplot(data=df_merged, y='Популярная_категория', x='вероятность_снижения')\n",
    "#plt.xlabel('Вероятность снижения активности')\n",
    "#plt.ylabel('Популярная_категория')\n",
    "#plt.title('Зависимость вероятности снижения активности от Популярная_категория')\n",
    "#plt.show()"
   ]
  },
  {
   "cell_type": "code",
   "execution_count": null,
   "metadata": {},
   "outputs": [],
   "source": [
    "#Рассмотрим подробнее популярную категорию покупок и вероятность снижения активности. "
   ]
  },
  {
   "cell_type": "code",
   "execution_count": null,
   "metadata": {},
   "outputs": [],
   "source": [
    "df_merged.head(3)"
   ]
  },
  {
   "cell_type": "code",
   "execution_count": null,
   "metadata": {},
   "outputs": [],
   "source": [
    "df_merged['сегмент'] = np.where(df_merged['вероятность_снижения'] > 0.8, 'вероятность высокая', 'вероятность низкая')"
   ]
  },
  {
   "cell_type": "code",
   "execution_count": null,
   "metadata": {},
   "outputs": [],
   "source": [
    "df_merged.head(3)"
   ]
  },
  {
   "cell_type": "code",
   "execution_count": null,
   "metadata": {},
   "outputs": [],
   "source": [
    "high_probability_df = df_merged[df_merged['сегмент'] == 'вероятность высокая']\n",
    "high_probability_df.head(3)"
   ]
  },
  {
   "cell_type": "code",
   "execution_count": null,
   "metadata": {},
   "outputs": [],
   "source": [
    "plt.figure(figsize=(8, 8))\n",
    "sns.histplot(data=high_probability_df, x=\"Популярная_категория\", color=\"skyblue\")\n",
    "axs[0, 0].set_title(\"Популярная_категория\")\n",
    "plt.xticks(rotation=90)\n",
    "plt.title(\"Категории с высокой вероятностью снижения активности\")\n",
    "plt.tight_layout() \n",
    "plt.show()"
   ]
  },
  {
   "cell_type": "code",
   "execution_count": null,
   "metadata": {},
   "outputs": [],
   "source": [
    "high_probability_df.head(3)"
   ]
  },
  {
   "cell_type": "code",
   "execution_count": null,
   "metadata": {},
   "outputs": [],
   "source": [
    "fig = plt.figure(figsize=(8,8))\n",
    "sns.scatterplot(\n",
    "    data=df_merged,\n",
    "    x=\"вероятность_снижения\",\n",
    "    y=\"Выручка_1месяц\",\n",
    "    hue='Выручка_2месяц',\n",
    "    size='Выручка_3месяц',\n",
    "    sizes=(20, 200)\n",
    ")\n",
    "plt.title('Динамика выручки по месяцам от прибыли')\n",
    "plt.show()"
   ]
  },
  {
   "cell_type": "markdown",
   "metadata": {},
   "source": [
    "Из графика видно, что с каждым месяцем выручка снижается.\n",
    "\n",
    "P.S. у меня не получилось адекватно построить сводную таблицу, хотя сам график тоже не удеален."
   ]
  },
  {
   "cell_type": "markdown",
   "metadata": {},
   "source": [
    "Рассмотрим популярные категории с высокой вероятностью снижения активности"
   ]
  },
  {
   "cell_type": "code",
   "execution_count": null,
   "metadata": {},
   "outputs": [],
   "source": [
    "plt.figure(figsize=(8, 8))\n",
    "sns.histplot(data=high_probability_df, x=\"Популярная_категория\", color=\"skyblue\")\n",
    "axs[0, 0].set_title(\"Популярная_категория\")\n",
    "plt.xticks(rotation=90)\n",
    "plt.title(\"Категории с высокой вероятностью снижения активности\")\n",
    "plt.tight_layout() \n",
    "plt.show()"
   ]
  },
  {
   "cell_type": "markdown",
   "metadata": {},
   "source": [
    "Верояность снижения покупак имеет категория товаров для детей. Наверно это логично, т.к. дети растут достаточно быстро, и покупки потребность в товарах меняется.\n",
    "\n",
    "По убыванию идут две категории\" Косметика и аксесуары и домашний текстиль, вероятнее всего такие покупки делают мамы с детьми. \n",
    "\n",
    "Рассмострим так же сколько времени тратиться на покупку товара в категории."
   ]
  },
  {
   "cell_type": "code",
   "execution_count": null,
   "metadata": {},
   "outputs": [],
   "source": [
    "pivot_table_df = high_probability_df.pivot_table(values='Длительность', index='Популярная_категория', aggfunc='sum').reset_index()\n",
    "pivot_table_df.columns = ['Популярная_категория', 'Сумма_Длительности']\n",
    "pivot_table_df = pivot_table_df.sort_values(by='Сумма_Длительности', ascending=False)\n",
    "print(pivot_table_df)"
   ]
  },
  {
   "cell_type": "markdown",
   "metadata": {},
   "source": [
    "Аналогично категориям тратиться времени на их покупки. ~~Еще одно подтвержение того что покупки делают мамы с детьми.~~"
   ]
  },
  {
   "cell_type": "markdown",
   "metadata": {},
   "source": [
    "~~__Мои предложения по увеличению прибыли от покупок:__ переработь карточки с товароми для детей, чтобы можно было быстрее найти нужный товар, делать более персональные предложения для покупателей, и учитывать рост детей т.е. предлогать товары для следующей возростной группы. Так может освободится время на следующие покупки.~~"
   ]
  },
  {
   "cell_type": "markdown",
   "metadata": {},
   "source": [
    "Рассмотрим количества страниц за визит у пользователей с высокой вероятностью снижения активности"
   ]
  },
  {
   "cell_type": "code",
   "execution_count": null,
   "metadata": {},
   "outputs": [],
   "source": [
    "plt.figure(figsize=(8, 8))\n",
    "sns.histplot(data=high_probability_df, x=\"Страниц_за_визит\", color=\"skyblue\")\n",
    "\n",
    "plt.title(\"Количество страниц за визит у пользователей с высокой вероятностью снижения активности\")\n",
    "plt.xlabel('Страниц_за_визит')\n",
    "plt.ylabel('Количество')\n",
    "plt.tight_layout() \n",
    "plt.show()"
   ]
  },
  {
   "cell_type": "markdown",
   "metadata": {},
   "source": [
    "От 1 до 5 посещенных страниц за визит преобладает у выбранной категории"
   ]
  },
  {
   "cell_type": "markdown",
   "metadata": {},
   "source": [
    "Рассмотрим среднее количество просмотров категорий товаров за визит у пользователей с высокой вероятностью снижения активности"
   ]
  },
  {
   "cell_type": "code",
   "execution_count": null,
   "metadata": {},
   "outputs": [],
   "source": [
    "plt.figure(figsize=(8, 8))\n",
    "sns.histplot(data=high_probability_df, x=\"Средний_просмотр_категорий_за_визит\", color=\"skyblue\")\n",
    "\n",
    "plt.title(\"Среднее количество просмотренных категорий за визит у пользователей с высокой вероятностью снижения активности\")\n",
    "plt.xlabel('Среднее количество просмотренных категорий за визит')\n",
    "plt.ylabel('Количество')\n",
    "plt.tight_layout() \n",
    "plt.show()"
   ]
  },
  {
   "cell_type": "markdown",
   "metadata": {},
   "source": [
    "Получается мало категорий просматривает у выбранного сегмента"
   ]
  },
  {
   "cell_type": "markdown",
   "metadata": {},
   "source": [
    "Рассмотрим Маркетинговую активность за 6 месяцев у выбранного сегмента"
   ]
  },
  {
   "cell_type": "code",
   "execution_count": null,
   "metadata": {},
   "outputs": [],
   "source": [
    "plt.figure(figsize=(8, 8))\n",
    "sns.histplot(data=high_probability_df, x=\"Маркет_актив_6_мес\", color=\"skyblue\")\n",
    "\n",
    "#plt.xticks(rotation=90)\n",
    "plt.title(\"Маркет_актив_6_мес у пользователей с высокой вероятностью снижения активности\")\n",
    "plt.xlabel('Маркет_актив_6_мес')\n",
    "plt.ylabel('Количество')\n",
    "plt.tight_layout() \n",
    "plt.show()"
   ]
  },
  {
   "cell_type": "markdown",
   "metadata": {},
   "source": [
    "После 4-го месяца идет снижение маркетинговой активности"
   ]
  },
  {
   "cell_type": "markdown",
   "metadata": {},
   "source": [
    "Рассмотрим Маркетинговую активность текущего месяца за 6 месяцев у выбранного сегмента"
   ]
  },
  {
   "cell_type": "code",
   "execution_count": null,
   "metadata": {},
   "outputs": [],
   "source": [
    "plt.figure(figsize=(8, 8))\n",
    "sns.histplot(data=high_probability_df, x=\"Маркет_актив_тек_мес\", color=\"skyblue\")\n",
    "\n",
    "#plt.xticks(rotation=90)\n",
    "plt.title(\"Маркетинговая активность текущего месяца у пользователей с высокой вероятностью снижения активности\")\n",
    "plt.xlabel('Маркетинговая активность текущего месяца')\n",
    "plt.ylabel('Количество')\n",
    "plt.tight_layout() \n",
    "plt.show()"
   ]
  },
  {
   "cell_type": "markdown",
   "metadata": {},
   "source": [
    "Не могу сделать однозначный выводов по меркетинговой активности текущего месяца у выбранного сегмента"
   ]
  },
  {
   "cell_type": "code",
   "execution_count": null,
   "metadata": {},
   "outputs": [],
   "source": [
    "plt.figure(figsize=(8, 8))\n",
    "sns.histplot(data=high_probability_df, x=\"Длительность\", color=\"skyblue\")\n",
    "\n",
    "#plt.xticks(rotation=90)\n",
    "plt.title(\"Количество дней прошедших со дня регистрации у пользователей с высокой вероятностью снижения активности\")\n",
    "plt.xlabel('Количество дней прошедших со дня регистрации')\n",
    "plt.ylabel('Количество')\n",
    "plt.tight_layout() \n",
    "plt.show()"
   ]
  },
  {
   "cell_type": "markdown",
   "metadata": {},
   "source": [
    "Тут особо ничего интересного"
   ]
  },
  {
   "cell_type": "markdown",
   "metadata": {},
   "source": [
    "Рассмотрим неоплаченные продукты за квартал"
   ]
  },
  {
   "cell_type": "code",
   "execution_count": null,
   "metadata": {},
   "outputs": [],
   "source": [
    "plt.figure(figsize=(8, 8))\n",
    "sns.histplot(data=high_probability_df, x=\"Неоплаченные_продукты_штук_квартал\", color=\"skyblue\")\n",
    "\n",
    "#plt.xticks(rotation=90)\n",
    "plt.title(\"Количество неоплаченных продуктов в корзине за квартал у пользователей с высокой вероятностью снижения активности\")\n",
    "plt.xlabel('Количество неоплаченных продуктов в корзине за квартал')\n",
    "plt.ylabel('Количество')\n",
    "plt.tight_layout() \n",
    "plt.show()"
   ]
  },
  {
   "cell_type": "markdown",
   "metadata": {},
   "source": [
    "Отдельно смотря на количество неоплаченных продуктов в корзине за квартал у выбранного сегмента, сложно сделать вывод."
   ]
  },
  {
   "cell_type": "markdown",
   "metadata": {},
   "source": [
    "__Общий портрет покупателя с большой вероятностью снижения активности:__ пользователь в среднем относительно давно зарегистрирован на сайте, за последние 6 месяцев получает мало маркетинговой активности, посещает мало страниц за визит, смотрит мало категорий за визит, достаточно много неоплаченных товаров в корзине, самая актуальная категория покупой товары для детей.\n",
    "\n",
    "__Предложения для такого покупателя:__ нужно сконцентрироваться на главной странице сайта, там отображать категории товаров для конкретного покупателя. Нужно чтобы были товары с больной скидкой. Чтобы покупатель быстро выбрал нужный товар с большой скидкой и купил его."
   ]
  },
  {
   "cell_type": "markdown",
   "metadata": {},
   "source": [
    "# 9.  Общий вывод"
   ]
  },
  {
   "cell_type": "markdown",
   "metadata": {},
   "source": [
    "__Что было сделано:__\n",
    "\n",
    "1) Были загруженны данные четырех датафреймов;\n",
    "\n",
    "2) Выполнена предобработка данных:\n",
    "\n",
    "- Выявлены дубликаты в датафрейме \"market_money\" и удалены, пропусков не обнаружено;\n",
    "\n",
    "- Выявлены и устранены дубликаты в кагориальных данных в датафреймах: \"market_file\" и \"market_money\";\n",
    "\n",
    "- Выявлен и удален выбрас в датафрейме \"market_money\";\n",
    "\n",
    "- Выявлена и устранена проблема с типом данных в датафрейме \"money\".\n",
    "\n",
    "3) Проведен исследовательский анализ данных:\n",
    "\n",
    "- Время проведенное на сайте за прошлый и текущий месяц не изменилось, в целом время проведенное на сайте имеет нормальное распределение;\n",
    "\n",
    "- Выручка в текущем месяце составила 6 802 586 , а за предыдущий 12 681 278, выроучка уменьшилась в 1,86 раза;\n",
    "\n",
    "- Пользовательская активность не изменилась у 802 человек и 1300, или почти у 60% аудитории.\n",
    "\n",
    "4) Объеденены таблицы:\n",
    "\n",
    "- Объеденино три таблицу в одну;\n",
    "\n",
    "- Добавлены отдельные столбцы для каждого периода.\n",
    "\n",
    "\n",
    "5) Выполнен корреляционный анализ:\n",
    "\n",
    "- Целевым признаком является \"Покупательская активность\", с ним коррелируют следующие данные: \"Маркет_актив6мес\", \"Акционные_покупки\", \"Средний_просмотр_категорий_за_визит\", \"Неоплаченные_продукты_штук_квартал\", \"Страниц_за_визит\", \"Выручка_3месяц\", \"минут_предыдцщий_месяц\", \"минут_текущий_месяц\".\n",
    "\n",
    "6) С использованием пайплан обучены четыре модели и выбрана лучшая:\n",
    "\n",
    "- Лучшая модель LogisticRegression с гиперпаратметрами C=1, penalty='l1', random_state=42, solver='liblinear';\n",
    "\n",
    "- Метрика 'roc_auc' лучшей модели на тестовой выборке: 0,92 и F1-score 0,89. Показатели хорошие, модель очень хорошо справляется с прогнозом.\n",
    "\n",
    "7) Проведен анализ важности признаков:\n",
    "\n",
    "- Построены графики важности признаков модели с помощью метода SHAP;\n",
    "\n",
    "- Определены самые и менее важные признаки для модели;\n",
    "\n",
    "8) Проведена сегментация пользователей:\n",
    "\n",
    "- Проведена сегментация вероятности снижения активности на высокую и низкую для популярных категорий покупок;\n",
    "\n",
    "- Проанализирована высокая вероятность снижения активности (больше 0,8);\n",
    "\n",
    "- Сделан общий портрет покупателя с большой вероятностью снижения активности: пользователь в среднем относительно давно зарегистрирован на сайте, за последние 6 месяцев получает мало маркетинговой активности, посещает мало страниц за визит, смотрит мало категорий за визит, достаточно много неоплаченных товаров в корзине, самая актуальная категория покупой товары для детей.\n",
    "\n",
    "- Сделано предложения для такого покупателя: нужно сконцентрироваться на главной странице сайта, там отображать категории товаров для конкретного покупателя. Нужно чтобы были товары с больной скидкой. Чтобы покупатель быстро выбрал нужный товар с большой скидкой и купил его\n"
   ]
  }
 ],
 "metadata": {
  "ExecuteTimeLog": [
   {
    "duration": 1652,
    "start_time": "2024-09-02T17:13:30.346Z"
   },
   {
    "duration": 132,
    "start_time": "2024-09-02T17:14:05.883Z"
   },
   {
    "duration": 49,
    "start_time": "2024-09-02T17:14:21.793Z"
   },
   {
    "duration": 156,
    "start_time": "2024-09-02T17:14:43.278Z"
   },
   {
    "duration": 47,
    "start_time": "2024-09-02T17:14:50.111Z"
   },
   {
    "duration": 162,
    "start_time": "2024-09-02T17:15:13.375Z"
   },
   {
    "duration": 134,
    "start_time": "2024-09-02T17:15:24.726Z"
   },
   {
    "duration": 116,
    "start_time": "2024-09-02T17:15:36.851Z"
   },
   {
    "duration": 48,
    "start_time": "2024-09-02T17:15:56.940Z"
   },
   {
    "duration": 2,
    "start_time": "2024-09-02T17:25:18.383Z"
   },
   {
    "duration": 52,
    "start_time": "2024-09-02T17:25:29.564Z"
   },
   {
    "duration": 39,
    "start_time": "2024-09-02T17:25:35.360Z"
   },
   {
    "duration": 24,
    "start_time": "2024-09-02T17:25:35.845Z"
   },
   {
    "duration": 48,
    "start_time": "2024-09-02T17:25:36.493Z"
   },
   {
    "duration": 48,
    "start_time": "2024-09-02T17:25:38.484Z"
   },
   {
    "duration": 42,
    "start_time": "2024-09-02T17:25:50.811Z"
   },
   {
    "duration": 42,
    "start_time": "2024-09-02T17:26:11.793Z"
   },
   {
    "duration": 26,
    "start_time": "2024-09-02T17:26:12.617Z"
   },
   {
    "duration": 37,
    "start_time": "2024-09-02T17:26:13.005Z"
   },
   {
    "duration": 34,
    "start_time": "2024-09-02T17:26:13.233Z"
   },
   {
    "duration": 43,
    "start_time": "2024-09-02T17:26:42.544Z"
   },
   {
    "duration": 40,
    "start_time": "2024-09-02T17:26:54.269Z"
   },
   {
    "duration": 37,
    "start_time": "2024-09-02T17:27:02.787Z"
   },
   {
    "duration": 48,
    "start_time": "2024-09-02T17:27:11.572Z"
   },
   {
    "duration": 43,
    "start_time": "2024-09-02T17:27:15.976Z"
   },
   {
    "duration": 26,
    "start_time": "2024-09-02T17:27:16.340Z"
   },
   {
    "duration": 24,
    "start_time": "2024-09-02T17:27:16.680Z"
   },
   {
    "duration": 35,
    "start_time": "2024-09-02T17:27:16.972Z"
   },
   {
    "duration": 14,
    "start_time": "2024-09-02T17:27:31.388Z"
   },
   {
    "duration": 11,
    "start_time": "2024-09-02T17:27:55.647Z"
   },
   {
    "duration": 7,
    "start_time": "2024-09-02T17:28:35.459Z"
   },
   {
    "duration": 7,
    "start_time": "2024-09-02T17:28:48.588Z"
   },
   {
    "duration": 30,
    "start_time": "2024-09-02T17:31:11.876Z"
   },
   {
    "duration": 4,
    "start_time": "2024-09-02T17:39:21.223Z"
   },
   {
    "duration": 6,
    "start_time": "2024-09-02T17:39:48.685Z"
   },
   {
    "duration": 4,
    "start_time": "2024-09-02T17:40:08.676Z"
   },
   {
    "duration": 6,
    "start_time": "2024-09-02T17:42:11.565Z"
   },
   {
    "duration": 4,
    "start_time": "2024-09-02T17:42:41.108Z"
   },
   {
    "duration": 10,
    "start_time": "2024-09-02T17:43:02.912Z"
   },
   {
    "duration": 9,
    "start_time": "2024-09-02T17:43:17.664Z"
   },
   {
    "duration": 5,
    "start_time": "2024-09-02T17:43:46.846Z"
   },
   {
    "duration": 9,
    "start_time": "2024-09-02T17:43:48.208Z"
   },
   {
    "duration": 4,
    "start_time": "2024-09-02T17:43:55.638Z"
   },
   {
    "duration": 600,
    "start_time": "2024-09-02T17:46:06.711Z"
   },
   {
    "duration": 646,
    "start_time": "2024-09-02T17:46:46.621Z"
   },
   {
    "duration": 549,
    "start_time": "2024-09-02T17:47:22.480Z"
   },
   {
    "duration": 618,
    "start_time": "2024-09-02T17:48:11.471Z"
   },
   {
    "duration": 728,
    "start_time": "2024-09-02T17:48:42.150Z"
   },
   {
    "duration": 596,
    "start_time": "2024-09-02T17:49:37.788Z"
   },
   {
    "duration": 615,
    "start_time": "2024-09-02T17:50:10.041Z"
   },
   {
    "duration": 673,
    "start_time": "2024-09-02T17:50:34.479Z"
   },
   {
    "duration": 465,
    "start_time": "2024-09-02T17:51:31.053Z"
   },
   {
    "duration": 791,
    "start_time": "2024-09-02T17:51:51.708Z"
   },
   {
    "duration": 478,
    "start_time": "2024-09-02T17:52:06.572Z"
   },
   {
    "duration": 893,
    "start_time": "2024-09-02T17:52:13.335Z"
   },
   {
    "duration": 725,
    "start_time": "2024-09-02T17:52:21.310Z"
   },
   {
    "duration": 11,
    "start_time": "2024-09-02T17:54:03.306Z"
   },
   {
    "duration": 821,
    "start_time": "2024-09-02T17:54:33.054Z"
   },
   {
    "duration": 5,
    "start_time": "2024-09-02T17:54:43.361Z"
   },
   {
    "duration": 6,
    "start_time": "2024-09-02T17:55:49.841Z"
   },
   {
    "duration": 10,
    "start_time": "2024-09-02T17:56:17.855Z"
   },
   {
    "duration": 14,
    "start_time": "2024-09-02T17:56:34.748Z"
   },
   {
    "duration": 89,
    "start_time": "2024-09-02T17:56:56.108Z"
   },
   {
    "duration": 6,
    "start_time": "2024-09-02T17:57:48.833Z"
   },
   {
    "duration": 108,
    "start_time": "2024-09-02T17:57:53.352Z"
   },
   {
    "duration": 5,
    "start_time": "2024-09-02T17:58:34.900Z"
   },
   {
    "duration": 89,
    "start_time": "2024-09-02T17:58:36.604Z"
   },
   {
    "duration": 96,
    "start_time": "2024-09-02T17:59:07.201Z"
   },
   {
    "duration": 7,
    "start_time": "2024-09-02T17:59:53.589Z"
   },
   {
    "duration": 1325,
    "start_time": "2024-09-02T18:00:21.446Z"
   },
   {
    "duration": 50,
    "start_time": "2024-09-02T18:00:23.645Z"
   },
   {
    "duration": 26,
    "start_time": "2024-09-02T18:00:23.829Z"
   },
   {
    "duration": 24,
    "start_time": "2024-09-02T18:00:24.005Z"
   },
   {
    "duration": 34,
    "start_time": "2024-09-02T18:00:24.182Z"
   },
   {
    "duration": 2,
    "start_time": "2024-09-02T18:00:24.918Z"
   },
   {
    "duration": 12,
    "start_time": "2024-09-02T18:00:25.111Z"
   },
   {
    "duration": 6,
    "start_time": "2024-09-02T18:00:25.293Z"
   },
   {
    "duration": 4,
    "start_time": "2024-09-02T18:00:25.494Z"
   },
   {
    "duration": 5,
    "start_time": "2024-09-02T18:00:25.686Z"
   },
   {
    "duration": 4,
    "start_time": "2024-09-02T18:00:25.886Z"
   },
   {
    "duration": 10,
    "start_time": "2024-09-02T18:00:26.078Z"
   },
   {
    "duration": 7,
    "start_time": "2024-09-02T18:00:26.269Z"
   },
   {
    "duration": 6,
    "start_time": "2024-09-02T18:00:26.469Z"
   },
   {
    "duration": 31,
    "start_time": "2024-09-02T18:00:26.694Z"
   },
   {
    "duration": 772,
    "start_time": "2024-09-02T18:00:26.920Z"
   },
   {
    "duration": 2,
    "start_time": "2024-09-02T18:00:27.694Z"
   },
   {
    "duration": 21,
    "start_time": "2024-09-02T18:00:27.697Z"
   },
   {
    "duration": 4,
    "start_time": "2024-09-02T18:00:27.725Z"
   },
   {
    "duration": 5,
    "start_time": "2024-09-02T18:00:28.011Z"
   },
   {
    "duration": 10,
    "start_time": "2024-09-02T18:00:28.325Z"
   },
   {
    "duration": 13,
    "start_time": "2024-09-02T18:00:28.638Z"
   },
   {
    "duration": 96,
    "start_time": "2024-09-02T18:00:28.932Z"
   },
   {
    "duration": 6,
    "start_time": "2024-09-02T18:00:29.274Z"
   },
   {
    "duration": 91,
    "start_time": "2024-09-02T18:00:29.748Z"
   },
   {
    "duration": 2,
    "start_time": "2024-09-02T18:00:30.610Z"
   },
   {
    "duration": 6,
    "start_time": "2024-09-02T18:00:31.262Z"
   },
   {
    "duration": 103,
    "start_time": "2024-09-02T18:00:32.229Z"
   },
   {
    "duration": 5,
    "start_time": "2024-09-02T18:00:58.498Z"
   },
   {
    "duration": 6,
    "start_time": "2024-09-02T18:01:47.237Z"
   },
   {
    "duration": 180,
    "start_time": "2024-09-02T18:02:07.439Z"
   },
   {
    "duration": 98,
    "start_time": "2024-09-02T18:02:29.214Z"
   },
   {
    "duration": 15,
    "start_time": "2024-09-02T18:02:49.827Z"
   },
   {
    "duration": 6,
    "start_time": "2024-09-02T18:03:25.786Z"
   },
   {
    "duration": 11,
    "start_time": "2024-09-02T18:03:35.345Z"
   },
   {
    "duration": 104,
    "start_time": "2024-09-02T18:03:54.961Z"
   },
   {
    "duration": 9,
    "start_time": "2024-09-02T18:04:16.156Z"
   },
   {
    "duration": 13,
    "start_time": "2024-09-02T18:04:59.809Z"
   },
   {
    "duration": 8,
    "start_time": "2024-09-02T18:05:52.045Z"
   },
   {
    "duration": 218,
    "start_time": "2024-09-02T18:05:58.253Z"
   },
   {
    "duration": 8,
    "start_time": "2024-09-02T18:07:36.541Z"
   },
   {
    "duration": 8,
    "start_time": "2024-09-02T18:07:44.276Z"
   },
   {
    "duration": 426,
    "start_time": "2024-09-02T18:08:48.773Z"
   },
   {
    "duration": 443,
    "start_time": "2024-09-02T18:09:50.204Z"
   },
   {
    "duration": 511,
    "start_time": "2024-09-02T18:10:30.762Z"
   },
   {
    "duration": 1711,
    "start_time": "2024-09-03T17:02:19.778Z"
   },
   {
    "duration": 108,
    "start_time": "2024-09-03T17:02:22.871Z"
   },
   {
    "duration": 110,
    "start_time": "2024-09-03T17:02:23.540Z"
   },
   {
    "duration": 76,
    "start_time": "2024-09-03T17:02:23.751Z"
   },
   {
    "duration": 96,
    "start_time": "2024-09-03T17:02:23.935Z"
   },
   {
    "duration": 2,
    "start_time": "2024-09-03T17:02:24.647Z"
   },
   {
    "duration": 14,
    "start_time": "2024-09-03T17:02:24.816Z"
   },
   {
    "duration": 7,
    "start_time": "2024-09-03T17:02:25.023Z"
   },
   {
    "duration": 5,
    "start_time": "2024-09-03T17:02:25.215Z"
   },
   {
    "duration": 5,
    "start_time": "2024-09-03T17:02:25.401Z"
   },
   {
    "duration": 4,
    "start_time": "2024-09-03T17:02:25.600Z"
   },
   {
    "duration": 13,
    "start_time": "2024-09-03T17:02:25.799Z"
   },
   {
    "duration": 7,
    "start_time": "2024-09-03T17:02:26.007Z"
   },
   {
    "duration": 7,
    "start_time": "2024-09-03T17:02:26.207Z"
   },
   {
    "duration": 34,
    "start_time": "2024-09-03T17:02:26.392Z"
   },
   {
    "duration": 976,
    "start_time": "2024-09-03T17:02:26.630Z"
   },
   {
    "duration": 3,
    "start_time": "2024-09-03T17:02:27.608Z"
   },
   {
    "duration": 19,
    "start_time": "2024-09-03T17:02:27.612Z"
   },
   {
    "duration": 13,
    "start_time": "2024-09-03T17:02:27.632Z"
   },
   {
    "duration": 6,
    "start_time": "2024-09-03T17:02:27.646Z"
   },
   {
    "duration": 11,
    "start_time": "2024-09-03T17:02:27.661Z"
   },
   {
    "duration": 16,
    "start_time": "2024-09-03T17:02:27.907Z"
   },
   {
    "duration": 107,
    "start_time": "2024-09-03T17:02:28.168Z"
   },
   {
    "duration": 6,
    "start_time": "2024-09-03T17:02:28.404Z"
   },
   {
    "duration": 116,
    "start_time": "2024-09-03T17:02:28.665Z"
   },
   {
    "duration": 2,
    "start_time": "2024-09-03T17:02:29.253Z"
   },
   {
    "duration": 7,
    "start_time": "2024-09-03T17:02:29.744Z"
   },
   {
    "duration": 5,
    "start_time": "2024-09-03T17:02:30.109Z"
   },
   {
    "duration": 21,
    "start_time": "2024-09-03T17:02:30.488Z"
   },
   {
    "duration": 212,
    "start_time": "2024-09-03T17:02:31.103Z"
   },
   {
    "duration": 3,
    "start_time": "2024-09-03T17:02:31.508Z"
   },
   {
    "duration": 10,
    "start_time": "2024-09-03T17:02:32.176Z"
   },
   {
    "duration": 14,
    "start_time": "2024-09-03T17:02:32.791Z"
   },
   {
    "duration": 1468,
    "start_time": "2024-09-03T17:05:07.927Z"
   },
   {
    "duration": 46,
    "start_time": "2024-09-03T17:05:10.340Z"
   },
   {
    "duration": 24,
    "start_time": "2024-09-03T17:05:10.753Z"
   },
   {
    "duration": 23,
    "start_time": "2024-09-03T17:05:10.964Z"
   },
   {
    "duration": 31,
    "start_time": "2024-09-03T17:05:11.150Z"
   },
   {
    "duration": 3,
    "start_time": "2024-09-03T17:05:11.895Z"
   },
   {
    "duration": 15,
    "start_time": "2024-09-03T17:05:12.100Z"
   },
   {
    "duration": 7,
    "start_time": "2024-09-03T17:05:12.300Z"
   },
   {
    "duration": 4,
    "start_time": "2024-09-03T17:05:12.495Z"
   },
   {
    "duration": 6,
    "start_time": "2024-09-03T17:05:12.698Z"
   },
   {
    "duration": 4,
    "start_time": "2024-09-03T17:05:12.903Z"
   },
   {
    "duration": 12,
    "start_time": "2024-09-03T17:05:13.104Z"
   },
   {
    "duration": 7,
    "start_time": "2024-09-03T17:05:13.314Z"
   },
   {
    "duration": 9,
    "start_time": "2024-09-03T17:05:13.528Z"
   },
   {
    "duration": 33,
    "start_time": "2024-09-03T17:05:13.752Z"
   },
   {
    "duration": 867,
    "start_time": "2024-09-03T17:05:13.984Z"
   },
   {
    "duration": 2,
    "start_time": "2024-09-03T17:05:14.853Z"
   },
   {
    "duration": 8,
    "start_time": "2024-09-03T17:05:14.951Z"
   },
   {
    "duration": 5,
    "start_time": "2024-09-03T17:05:15.458Z"
   },
   {
    "duration": 7,
    "start_time": "2024-09-03T17:05:15.868Z"
   },
   {
    "duration": 11,
    "start_time": "2024-09-03T17:05:16.303Z"
   },
   {
    "duration": 15,
    "start_time": "2024-09-03T17:05:16.700Z"
   },
   {
    "duration": 106,
    "start_time": "2024-09-03T17:05:17.090Z"
   },
   {
    "duration": 6,
    "start_time": "2024-09-03T17:05:17.519Z"
   },
   {
    "duration": 100,
    "start_time": "2024-09-03T17:05:18.088Z"
   },
   {
    "duration": 2,
    "start_time": "2024-09-03T17:05:18.769Z"
   },
   {
    "duration": 8,
    "start_time": "2024-09-03T17:05:19.408Z"
   },
   {
    "duration": 6,
    "start_time": "2024-09-03T17:05:19.955Z"
   },
   {
    "duration": 14,
    "start_time": "2024-09-03T17:05:20.447Z"
   },
   {
    "duration": 197,
    "start_time": "2024-09-03T17:05:20.915Z"
   },
   {
    "duration": 2,
    "start_time": "2024-09-03T17:05:21.727Z"
   },
   {
    "duration": 8,
    "start_time": "2024-09-03T17:05:22.328Z"
   },
   {
    "duration": 11,
    "start_time": "2024-09-03T17:05:22.918Z"
   },
   {
    "duration": 2,
    "start_time": "2024-09-03T17:05:25.433Z"
   },
   {
    "duration": 3,
    "start_time": "2024-09-03T17:05:26.863Z"
   },
   {
    "duration": 3,
    "start_time": "2024-09-03T17:05:27.375Z"
   },
   {
    "duration": 11,
    "start_time": "2024-09-03T17:05:34.475Z"
   },
   {
    "duration": 3,
    "start_time": "2024-09-03T17:05:34.999Z"
   },
   {
    "duration": 118,
    "start_time": "2024-09-03T17:06:37.660Z"
   },
   {
    "duration": 4,
    "start_time": "2024-09-03T17:07:08.064Z"
   },
   {
    "duration": 5,
    "start_time": "2024-09-03T17:07:15.487Z"
   },
   {
    "duration": 19,
    "start_time": "2024-09-03T17:07:23.351Z"
   },
   {
    "duration": 127,
    "start_time": "2024-09-03T17:08:36.508Z"
   },
   {
    "duration": 4,
    "start_time": "2024-09-03T17:09:28.464Z"
   },
   {
    "duration": 106,
    "start_time": "2024-09-03T17:09:31.391Z"
   },
   {
    "duration": 16,
    "start_time": "2024-09-03T17:09:39.041Z"
   },
   {
    "duration": 1367,
    "start_time": "2024-09-03T17:10:04.500Z"
   },
   {
    "duration": 48,
    "start_time": "2024-09-03T17:10:06.670Z"
   },
   {
    "duration": 25,
    "start_time": "2024-09-03T17:10:07.187Z"
   },
   {
    "duration": 22,
    "start_time": "2024-09-03T17:10:07.448Z"
   },
   {
    "duration": 31,
    "start_time": "2024-09-03T17:10:07.676Z"
   },
   {
    "duration": 2,
    "start_time": "2024-09-03T17:10:08.462Z"
   },
   {
    "duration": 14,
    "start_time": "2024-09-03T17:10:08.652Z"
   },
   {
    "duration": 7,
    "start_time": "2024-09-03T17:10:08.859Z"
   },
   {
    "duration": 5,
    "start_time": "2024-09-03T17:10:09.039Z"
   },
   {
    "duration": 6,
    "start_time": "2024-09-03T17:10:09.230Z"
   },
   {
    "duration": 5,
    "start_time": "2024-09-03T17:10:09.427Z"
   },
   {
    "duration": 12,
    "start_time": "2024-09-03T17:10:09.612Z"
   },
   {
    "duration": 7,
    "start_time": "2024-09-03T17:10:09.803Z"
   },
   {
    "duration": 7,
    "start_time": "2024-09-03T17:10:10.012Z"
   },
   {
    "duration": 31,
    "start_time": "2024-09-03T17:10:10.212Z"
   },
   {
    "duration": 879,
    "start_time": "2024-09-03T17:10:10.420Z"
   },
   {
    "duration": 2,
    "start_time": "2024-09-03T17:10:11.301Z"
   },
   {
    "duration": 33,
    "start_time": "2024-09-03T17:10:11.304Z"
   },
   {
    "duration": 24,
    "start_time": "2024-09-03T17:10:11.339Z"
   },
   {
    "duration": 7,
    "start_time": "2024-09-03T17:10:11.626Z"
   },
   {
    "duration": 11,
    "start_time": "2024-09-03T17:10:11.677Z"
   },
   {
    "duration": 16,
    "start_time": "2024-09-03T17:10:11.951Z"
   },
   {
    "duration": 107,
    "start_time": "2024-09-03T17:10:12.211Z"
   },
   {
    "duration": 6,
    "start_time": "2024-09-03T17:10:12.560Z"
   },
   {
    "duration": 117,
    "start_time": "2024-09-03T17:10:12.991Z"
   },
   {
    "duration": 2,
    "start_time": "2024-09-03T17:10:13.308Z"
   },
   {
    "duration": 7,
    "start_time": "2024-09-03T17:10:13.624Z"
   },
   {
    "duration": 6,
    "start_time": "2024-09-03T17:10:13.964Z"
   },
   {
    "duration": 15,
    "start_time": "2024-09-03T17:10:15.307Z"
   },
   {
    "duration": 182,
    "start_time": "2024-09-03T17:10:15.948Z"
   },
   {
    "duration": 2,
    "start_time": "2024-09-03T17:10:16.165Z"
   },
   {
    "duration": 6,
    "start_time": "2024-09-03T17:10:17.143Z"
   },
   {
    "duration": 10,
    "start_time": "2024-09-03T17:10:17.652Z"
   },
   {
    "duration": 17,
    "start_time": "2024-09-03T17:10:18.036Z"
   },
   {
    "duration": 134,
    "start_time": "2024-09-03T17:10:18.621Z"
   },
   {
    "duration": 6,
    "start_time": "2024-09-03T17:20:38.994Z"
   },
   {
    "duration": 6,
    "start_time": "2024-09-03T17:20:54.554Z"
   },
   {
    "duration": 8,
    "start_time": "2024-09-03T17:21:50.175Z"
   },
   {
    "duration": 6,
    "start_time": "2024-09-03T17:22:05.992Z"
   },
   {
    "duration": 8,
    "start_time": "2024-09-03T17:23:51.589Z"
   },
   {
    "duration": 6,
    "start_time": "2024-09-03T17:24:52.499Z"
   },
   {
    "duration": 8,
    "start_time": "2024-09-03T17:25:10.655Z"
   },
   {
    "duration": 11,
    "start_time": "2024-09-03T17:26:55.814Z"
   },
   {
    "duration": 16,
    "start_time": "2024-09-03T17:27:18.471Z"
   },
   {
    "duration": 10,
    "start_time": "2024-09-03T17:27:20.807Z"
   },
   {
    "duration": 1530,
    "start_time": "2024-09-03T17:27:29.755Z"
   },
   {
    "duration": 46,
    "start_time": "2024-09-03T17:27:31.976Z"
   },
   {
    "duration": 24,
    "start_time": "2024-09-03T17:27:32.715Z"
   },
   {
    "duration": 35,
    "start_time": "2024-09-03T17:27:33.279Z"
   },
   {
    "duration": 34,
    "start_time": "2024-09-03T17:27:33.535Z"
   },
   {
    "duration": 2,
    "start_time": "2024-09-03T17:27:34.407Z"
   },
   {
    "duration": 16,
    "start_time": "2024-09-03T17:27:34.468Z"
   },
   {
    "duration": 6,
    "start_time": "2024-09-03T17:27:34.660Z"
   },
   {
    "duration": 6,
    "start_time": "2024-09-03T17:27:34.867Z"
   },
   {
    "duration": 6,
    "start_time": "2024-09-03T17:27:35.058Z"
   },
   {
    "duration": 5,
    "start_time": "2024-09-03T17:27:35.251Z"
   },
   {
    "duration": 12,
    "start_time": "2024-09-03T17:27:35.459Z"
   },
   {
    "duration": 8,
    "start_time": "2024-09-03T17:27:35.668Z"
   },
   {
    "duration": 6,
    "start_time": "2024-09-03T17:27:35.875Z"
   },
   {
    "duration": 34,
    "start_time": "2024-09-03T17:27:36.063Z"
   },
   {
    "duration": 834,
    "start_time": "2024-09-03T17:27:36.304Z"
   },
   {
    "duration": 2,
    "start_time": "2024-09-03T17:27:37.146Z"
   },
   {
    "duration": 8,
    "start_time": "2024-09-03T17:27:37.307Z"
   },
   {
    "duration": 6,
    "start_time": "2024-09-03T17:27:37.703Z"
   },
   {
    "duration": 6,
    "start_time": "2024-09-03T17:27:38.026Z"
   },
   {
    "duration": 11,
    "start_time": "2024-09-03T17:27:38.291Z"
   },
   {
    "duration": 8,
    "start_time": "2024-09-03T17:27:38.659Z"
   },
   {
    "duration": 9,
    "start_time": "2024-09-03T17:27:38.922Z"
   },
   {
    "duration": 7,
    "start_time": "2024-09-03T17:27:39.170Z"
   },
   {
    "duration": 14,
    "start_time": "2024-09-03T17:27:39.791Z"
   },
   {
    "duration": 105,
    "start_time": "2024-09-03T17:27:40.189Z"
   },
   {
    "duration": 5,
    "start_time": "2024-09-03T17:27:40.584Z"
   },
   {
    "duration": 101,
    "start_time": "2024-09-03T17:27:41.002Z"
   },
   {
    "duration": 3,
    "start_time": "2024-09-03T17:27:41.438Z"
   },
   {
    "duration": 8,
    "start_time": "2024-09-03T17:27:41.835Z"
   },
   {
    "duration": 5,
    "start_time": "2024-09-03T17:27:42.236Z"
   },
   {
    "duration": 6,
    "start_time": "2024-09-03T17:27:42.618Z"
   },
   {
    "duration": 8,
    "start_time": "2024-09-03T17:27:42.976Z"
   },
   {
    "duration": 14,
    "start_time": "2024-09-03T17:27:43.363Z"
   },
   {
    "duration": 187,
    "start_time": "2024-09-03T17:27:43.939Z"
   },
   {
    "duration": 3,
    "start_time": "2024-09-03T17:27:44.600Z"
   },
   {
    "duration": 7,
    "start_time": "2024-09-03T17:27:45.090Z"
   },
   {
    "duration": 6,
    "start_time": "2024-09-03T17:27:45.510Z"
   },
   {
    "duration": 8,
    "start_time": "2024-09-03T17:27:46.062Z"
   },
   {
    "duration": 13,
    "start_time": "2024-09-03T17:27:46.650Z"
   },
   {
    "duration": 589,
    "start_time": "2024-09-03T17:27:49.414Z"
   },
   {
    "duration": 1378,
    "start_time": "2024-09-03T17:29:09.987Z"
   },
   {
    "duration": 55,
    "start_time": "2024-09-03T17:29:11.367Z"
   },
   {
    "duration": 29,
    "start_time": "2024-09-03T17:29:11.424Z"
   },
   {
    "duration": 22,
    "start_time": "2024-09-03T17:29:11.455Z"
   },
   {
    "duration": 33,
    "start_time": "2024-09-03T17:29:11.479Z"
   },
   {
    "duration": 42,
    "start_time": "2024-09-03T17:29:23.195Z"
   },
   {
    "duration": 3,
    "start_time": "2024-09-03T17:29:25.108Z"
   },
   {
    "duration": 19,
    "start_time": "2024-09-03T17:29:25.275Z"
   },
   {
    "duration": 6,
    "start_time": "2024-09-03T17:29:25.467Z"
   },
   {
    "duration": 5,
    "start_time": "2024-09-03T17:29:25.649Z"
   },
   {
    "duration": 6,
    "start_time": "2024-09-03T17:29:25.827Z"
   },
   {
    "duration": 4,
    "start_time": "2024-09-03T17:29:26.003Z"
   },
   {
    "duration": 13,
    "start_time": "2024-09-03T17:29:26.195Z"
   },
   {
    "duration": 8,
    "start_time": "2024-09-03T17:29:26.378Z"
   },
   {
    "duration": 7,
    "start_time": "2024-09-03T17:29:26.579Z"
   },
   {
    "duration": 33,
    "start_time": "2024-09-03T17:29:26.774Z"
   },
   {
    "duration": 887,
    "start_time": "2024-09-03T17:29:26.955Z"
   },
   {
    "duration": 3,
    "start_time": "2024-09-03T17:29:27.845Z"
   },
   {
    "duration": 16,
    "start_time": "2024-09-03T17:29:27.850Z"
   },
   {
    "duration": 25,
    "start_time": "2024-09-03T17:29:27.868Z"
   },
   {
    "duration": 21,
    "start_time": "2024-09-03T17:29:27.894Z"
   },
   {
    "duration": 11,
    "start_time": "2024-09-03T17:29:27.938Z"
   },
   {
    "duration": 6,
    "start_time": "2024-09-03T17:29:28.123Z"
   },
   {
    "duration": 7,
    "start_time": "2024-09-03T17:29:28.333Z"
   },
   {
    "duration": 8,
    "start_time": "2024-09-03T17:29:28.547Z"
   },
   {
    "duration": 16,
    "start_time": "2024-09-03T17:29:28.795Z"
   },
   {
    "duration": 118,
    "start_time": "2024-09-03T17:29:29.042Z"
   },
   {
    "duration": 7,
    "start_time": "2024-09-03T17:29:29.267Z"
   },
   {
    "duration": 100,
    "start_time": "2024-09-03T17:29:29.499Z"
   },
   {
    "duration": 2,
    "start_time": "2024-09-03T17:29:29.691Z"
   },
   {
    "duration": 8,
    "start_time": "2024-09-03T17:29:29.867Z"
   },
   {
    "duration": 5,
    "start_time": "2024-09-03T17:29:30.043Z"
   },
   {
    "duration": 6,
    "start_time": "2024-09-03T17:29:30.242Z"
   },
   {
    "duration": 7,
    "start_time": "2024-09-03T17:29:30.420Z"
   },
   {
    "duration": 19,
    "start_time": "2024-09-03T17:29:30.603Z"
   },
   {
    "duration": 185,
    "start_time": "2024-09-03T17:29:30.807Z"
   },
   {
    "duration": 2,
    "start_time": "2024-09-03T17:29:30.995Z"
   },
   {
    "duration": 8,
    "start_time": "2024-09-03T17:29:31.162Z"
   },
   {
    "duration": 5,
    "start_time": "2024-09-03T17:29:31.603Z"
   },
   {
    "duration": 6,
    "start_time": "2024-09-03T17:29:31.819Z"
   },
   {
    "duration": 9,
    "start_time": "2024-09-03T17:29:32.043Z"
   },
   {
    "duration": 628,
    "start_time": "2024-09-03T17:29:32.243Z"
   },
   {
    "duration": 0,
    "start_time": "2024-09-03T17:29:32.874Z"
   },
   {
    "duration": 5,
    "start_time": "2024-09-03T17:29:56.259Z"
   },
   {
    "duration": 11,
    "start_time": "2024-09-03T17:30:06.951Z"
   },
   {
    "duration": 100,
    "start_time": "2024-09-03T17:30:09.519Z"
   },
   {
    "duration": 14,
    "start_time": "2024-09-03T17:41:44.492Z"
   },
   {
    "duration": 8,
    "start_time": "2024-09-03T17:42:40.860Z"
   },
   {
    "duration": 7,
    "start_time": "2024-09-03T17:42:54.783Z"
   },
   {
    "duration": 8,
    "start_time": "2024-09-03T17:43:02.348Z"
   },
   {
    "duration": 1546,
    "start_time": "2024-09-03T17:45:22.482Z"
   },
   {
    "duration": 26,
    "start_time": "2024-09-03T17:51:24.310Z"
   },
   {
    "duration": 32,
    "start_time": "2024-09-03T17:52:12.769Z"
   },
   {
    "duration": 220,
    "start_time": "2024-09-03T17:52:26.933Z"
   },
   {
    "duration": 468,
    "start_time": "2024-09-03T17:53:04.404Z"
   },
   {
    "duration": 231,
    "start_time": "2024-09-03T17:53:31.615Z"
   },
   {
    "duration": 302,
    "start_time": "2024-09-03T17:53:56.010Z"
   },
   {
    "duration": 18,
    "start_time": "2024-09-03T17:54:11.276Z"
   },
   {
    "duration": 297,
    "start_time": "2024-09-03T17:54:17.588Z"
   },
   {
    "duration": 13,
    "start_time": "2024-09-03T17:56:56.922Z"
   },
   {
    "duration": 11,
    "start_time": "2024-09-03T17:58:15.394Z"
   },
   {
    "duration": 17,
    "start_time": "2024-09-03T17:58:56.828Z"
   },
   {
    "duration": 13,
    "start_time": "2024-09-03T17:59:06.274Z"
   },
   {
    "duration": 5,
    "start_time": "2024-09-03T17:59:36.688Z"
   },
   {
    "duration": 247,
    "start_time": "2024-09-03T18:01:05.411Z"
   },
   {
    "duration": 16,
    "start_time": "2024-09-03T18:31:55.614Z"
   },
   {
    "duration": 13,
    "start_time": "2024-09-03T18:32:09.346Z"
   },
   {
    "duration": 1586,
    "start_time": "2024-09-04T16:59:05.704Z"
   },
   {
    "duration": 173,
    "start_time": "2024-09-04T16:59:07.291Z"
   },
   {
    "duration": 147,
    "start_time": "2024-09-04T16:59:07.466Z"
   },
   {
    "duration": 92,
    "start_time": "2024-09-04T16:59:07.615Z"
   },
   {
    "duration": 92,
    "start_time": "2024-09-04T16:59:08.272Z"
   },
   {
    "duration": 3,
    "start_time": "2024-09-04T16:59:09.542Z"
   },
   {
    "duration": 14,
    "start_time": "2024-09-04T16:59:09.743Z"
   },
   {
    "duration": 7,
    "start_time": "2024-09-04T16:59:09.951Z"
   },
   {
    "duration": 4,
    "start_time": "2024-09-04T16:59:10.161Z"
   },
   {
    "duration": 5,
    "start_time": "2024-09-04T16:59:10.352Z"
   },
   {
    "duration": 5,
    "start_time": "2024-09-04T16:59:10.542Z"
   },
   {
    "duration": 12,
    "start_time": "2024-09-04T16:59:10.742Z"
   },
   {
    "duration": 7,
    "start_time": "2024-09-04T16:59:10.942Z"
   },
   {
    "duration": 7,
    "start_time": "2024-09-04T16:59:11.142Z"
   },
   {
    "duration": 32,
    "start_time": "2024-09-04T16:59:11.362Z"
   },
   {
    "duration": 886,
    "start_time": "2024-09-04T16:59:11.551Z"
   },
   {
    "duration": 3,
    "start_time": "2024-09-04T16:59:12.438Z"
   },
   {
    "duration": 66,
    "start_time": "2024-09-04T16:59:12.442Z"
   },
   {
    "duration": 6,
    "start_time": "2024-09-04T16:59:12.510Z"
   },
   {
    "duration": 8,
    "start_time": "2024-09-04T16:59:12.517Z"
   },
   {
    "duration": 10,
    "start_time": "2024-09-04T16:59:12.549Z"
   },
   {
    "duration": 6,
    "start_time": "2024-09-04T16:59:12.750Z"
   },
   {
    "duration": 7,
    "start_time": "2024-09-04T16:59:12.975Z"
   },
   {
    "duration": 6,
    "start_time": "2024-09-04T16:59:13.183Z"
   },
   {
    "duration": 14,
    "start_time": "2024-09-04T16:59:13.391Z"
   },
   {
    "duration": 108,
    "start_time": "2024-09-04T16:59:13.623Z"
   },
   {
    "duration": 6,
    "start_time": "2024-09-04T16:59:13.822Z"
   },
   {
    "duration": 97,
    "start_time": "2024-09-04T16:59:14.031Z"
   },
   {
    "duration": 2,
    "start_time": "2024-09-04T16:59:14.247Z"
   },
   {
    "duration": 7,
    "start_time": "2024-09-04T16:59:14.448Z"
   },
   {
    "duration": 5,
    "start_time": "2024-09-04T16:59:14.662Z"
   },
   {
    "duration": 6,
    "start_time": "2024-09-04T16:59:14.888Z"
   },
   {
    "duration": 6,
    "start_time": "2024-09-04T16:59:15.115Z"
   },
   {
    "duration": 15,
    "start_time": "2024-09-04T16:59:15.327Z"
   },
   {
    "duration": 191,
    "start_time": "2024-09-04T16:59:15.526Z"
   },
   {
    "duration": 3,
    "start_time": "2024-09-04T16:59:15.743Z"
   },
   {
    "duration": 7,
    "start_time": "2024-09-04T16:59:15.951Z"
   },
   {
    "duration": 5,
    "start_time": "2024-09-04T16:59:16.168Z"
   },
   {
    "duration": 6,
    "start_time": "2024-09-04T16:59:16.358Z"
   },
   {
    "duration": 10,
    "start_time": "2024-09-04T16:59:16.566Z"
   },
   {
    "duration": 4,
    "start_time": "2024-09-04T16:59:16.791Z"
   },
   {
    "duration": 10,
    "start_time": "2024-09-04T16:59:17.030Z"
   },
   {
    "duration": 95,
    "start_time": "2024-09-04T16:59:17.222Z"
   },
   {
    "duration": 12,
    "start_time": "2024-09-04T16:59:18.140Z"
   },
   {
    "duration": 4,
    "start_time": "2024-09-04T16:59:18.294Z"
   },
   {
    "duration": 1565,
    "start_time": "2024-09-04T16:59:18.503Z"
   },
   {
    "duration": 238,
    "start_time": "2024-09-04T16:59:20.070Z"
   },
   {
    "duration": 13,
    "start_time": "2024-09-04T16:59:20.310Z"
   },
   {
    "duration": 10,
    "start_time": "2024-09-04T16:59:20.325Z"
   },
   {
    "duration": 8,
    "start_time": "2024-09-04T16:59:20.337Z"
   },
   {
    "duration": 258,
    "start_time": "2024-09-04T16:59:20.346Z"
   },
   {
    "duration": 347,
    "start_time": "2024-09-04T16:59:20.606Z"
   },
   {
    "duration": 11,
    "start_time": "2024-09-04T16:59:20.955Z"
   },
   {
    "duration": 39,
    "start_time": "2024-09-04T16:59:20.968Z"
   },
   {
    "duration": 296,
    "start_time": "2024-09-04T16:59:21.223Z"
   },
   {
    "duration": 313,
    "start_time": "2024-09-04T16:59:21.520Z"
   },
   {
    "duration": 11,
    "start_time": "2024-09-04T16:59:21.835Z"
   },
   {
    "duration": 7,
    "start_time": "2024-09-04T16:59:21.919Z"
   },
   {
    "duration": 302,
    "start_time": "2024-09-04T16:59:22.158Z"
   },
   {
    "duration": 122,
    "start_time": "2024-09-04T17:29:15.602Z"
   },
   {
    "duration": 14,
    "start_time": "2024-09-04T17:31:00.384Z"
   },
   {
    "duration": 13,
    "start_time": "2024-09-04T17:31:17.566Z"
   },
   {
    "duration": 12,
    "start_time": "2024-09-04T17:31:33.156Z"
   },
   {
    "duration": 8,
    "start_time": "2024-09-04T17:31:41.571Z"
   },
   {
    "duration": 1399,
    "start_time": "2024-09-04T17:32:20.360Z"
   },
   {
    "duration": 51,
    "start_time": "2024-09-04T17:32:22.480Z"
   },
   {
    "duration": 27,
    "start_time": "2024-09-04T17:32:22.775Z"
   },
   {
    "duration": 25,
    "start_time": "2024-09-04T17:32:22.968Z"
   },
   {
    "duration": 36,
    "start_time": "2024-09-04T17:32:23.151Z"
   },
   {
    "duration": 3,
    "start_time": "2024-09-04T17:32:23.927Z"
   },
   {
    "duration": 14,
    "start_time": "2024-09-04T17:32:24.119Z"
   },
   {
    "duration": 7,
    "start_time": "2024-09-04T17:32:24.295Z"
   },
   {
    "duration": 4,
    "start_time": "2024-09-04T17:32:24.646Z"
   },
   {
    "duration": 5,
    "start_time": "2024-09-04T17:32:24.829Z"
   },
   {
    "duration": 4,
    "start_time": "2024-09-04T17:32:25.016Z"
   },
   {
    "duration": 12,
    "start_time": "2024-09-04T17:32:25.205Z"
   },
   {
    "duration": 6,
    "start_time": "2024-09-04T17:32:25.410Z"
   },
   {
    "duration": 6,
    "start_time": "2024-09-04T17:32:25.614Z"
   },
   {
    "duration": 32,
    "start_time": "2024-09-04T17:32:25.828Z"
   },
   {
    "duration": 874,
    "start_time": "2024-09-04T17:32:26.044Z"
   },
   {
    "duration": 2,
    "start_time": "2024-09-04T17:32:26.920Z"
   },
   {
    "duration": 10,
    "start_time": "2024-09-04T17:32:26.924Z"
   },
   {
    "duration": 5,
    "start_time": "2024-09-04T17:32:26.935Z"
   },
   {
    "duration": 7,
    "start_time": "2024-09-04T17:32:26.941Z"
   },
   {
    "duration": 17,
    "start_time": "2024-09-04T17:32:26.949Z"
   },
   {
    "duration": 7,
    "start_time": "2024-09-04T17:32:27.108Z"
   },
   {
    "duration": 9,
    "start_time": "2024-09-04T17:32:27.316Z"
   },
   {
    "duration": 6,
    "start_time": "2024-09-04T17:32:27.521Z"
   },
   {
    "duration": 14,
    "start_time": "2024-09-04T17:32:27.839Z"
   },
   {
    "duration": 108,
    "start_time": "2024-09-04T17:32:27.995Z"
   },
   {
    "duration": 6,
    "start_time": "2024-09-04T17:32:28.144Z"
   },
   {
    "duration": 128,
    "start_time": "2024-09-04T17:32:28.342Z"
   },
   {
    "duration": 3,
    "start_time": "2024-09-04T17:32:28.547Z"
   },
   {
    "duration": 7,
    "start_time": "2024-09-04T17:32:28.760Z"
   },
   {
    "duration": 5,
    "start_time": "2024-09-04T17:32:28.975Z"
   },
   {
    "duration": 5,
    "start_time": "2024-09-04T17:32:29.167Z"
   },
   {
    "duration": 5,
    "start_time": "2024-09-04T17:32:29.385Z"
   },
   {
    "duration": 14,
    "start_time": "2024-09-04T17:32:29.600Z"
   },
   {
    "duration": 185,
    "start_time": "2024-09-04T17:32:30.376Z"
   },
   {
    "duration": 2,
    "start_time": "2024-09-04T17:32:30.807Z"
   },
   {
    "duration": 7,
    "start_time": "2024-09-04T17:32:31.611Z"
   },
   {
    "duration": 5,
    "start_time": "2024-09-04T17:32:32.020Z"
   },
   {
    "duration": 7,
    "start_time": "2024-09-04T17:32:32.439Z"
   },
   {
    "duration": 10,
    "start_time": "2024-09-04T17:32:33.067Z"
   },
   {
    "duration": 5,
    "start_time": "2024-09-04T17:32:33.575Z"
   },
   {
    "duration": 10,
    "start_time": "2024-09-04T17:32:34.319Z"
   },
   {
    "duration": 102,
    "start_time": "2024-09-04T17:32:34.511Z"
   },
   {
    "duration": 13,
    "start_time": "2024-09-04T17:32:35.343Z"
   },
   {
    "duration": 4,
    "start_time": "2024-09-04T17:32:35.890Z"
   },
   {
    "duration": 1548,
    "start_time": "2024-09-04T17:32:36.319Z"
   },
   {
    "duration": 249,
    "start_time": "2024-09-04T17:32:37.869Z"
   },
   {
    "duration": 14,
    "start_time": "2024-09-04T17:32:38.119Z"
   },
   {
    "duration": 11,
    "start_time": "2024-09-04T17:32:38.135Z"
   },
   {
    "duration": 8,
    "start_time": "2024-09-04T17:32:39.417Z"
   },
   {
    "duration": 226,
    "start_time": "2024-09-04T17:32:39.888Z"
   },
   {
    "duration": 320,
    "start_time": "2024-09-04T17:32:40.334Z"
   },
   {
    "duration": 12,
    "start_time": "2024-09-04T17:32:40.775Z"
   },
   {
    "duration": 8,
    "start_time": "2024-09-04T17:32:41.299Z"
   },
   {
    "duration": 303,
    "start_time": "2024-09-04T17:32:42.320Z"
   },
   {
    "duration": 276,
    "start_time": "2024-09-04T17:32:49.091Z"
   },
   {
    "duration": 10,
    "start_time": "2024-09-04T17:32:49.483Z"
   },
   {
    "duration": 8,
    "start_time": "2024-09-04T17:32:49.931Z"
   },
   {
    "duration": 294,
    "start_time": "2024-09-04T17:32:50.344Z"
   },
   {
    "duration": 117,
    "start_time": "2024-09-04T17:32:51.819Z"
   },
   {
    "duration": 12,
    "start_time": "2024-09-04T17:32:53.068Z"
   },
   {
    "duration": 11,
    "start_time": "2024-09-04T17:32:53.673Z"
   },
   {
    "duration": 11,
    "start_time": "2024-09-04T17:33:25.444Z"
   },
   {
    "duration": 1431,
    "start_time": "2024-09-04T17:33:35.460Z"
   },
   {
    "duration": 52,
    "start_time": "2024-09-04T17:33:37.791Z"
   },
   {
    "duration": 32,
    "start_time": "2024-09-04T17:33:38.408Z"
   },
   {
    "duration": 24,
    "start_time": "2024-09-04T17:33:38.737Z"
   },
   {
    "duration": 49,
    "start_time": "2024-09-04T17:33:38.928Z"
   },
   {
    "duration": 2,
    "start_time": "2024-09-04T17:33:39.635Z"
   },
   {
    "duration": 12,
    "start_time": "2024-09-04T17:33:39.824Z"
   },
   {
    "duration": 6,
    "start_time": "2024-09-04T17:33:40.009Z"
   },
   {
    "duration": 5,
    "start_time": "2024-09-04T17:33:40.207Z"
   },
   {
    "duration": 6,
    "start_time": "2024-09-04T17:33:40.390Z"
   },
   {
    "duration": 4,
    "start_time": "2024-09-04T17:33:40.576Z"
   },
   {
    "duration": 12,
    "start_time": "2024-09-04T17:33:40.784Z"
   },
   {
    "duration": 7,
    "start_time": "2024-09-04T17:33:40.975Z"
   },
   {
    "duration": 6,
    "start_time": "2024-09-04T17:33:41.168Z"
   },
   {
    "duration": 33,
    "start_time": "2024-09-04T17:33:41.367Z"
   },
   {
    "duration": 856,
    "start_time": "2024-09-04T17:33:41.560Z"
   },
   {
    "duration": 2,
    "start_time": "2024-09-04T17:33:42.418Z"
   },
   {
    "duration": 17,
    "start_time": "2024-09-04T17:33:42.421Z"
   },
   {
    "duration": 17,
    "start_time": "2024-09-04T17:33:42.440Z"
   },
   {
    "duration": 7,
    "start_time": "2024-09-04T17:33:42.458Z"
   },
   {
    "duration": 11,
    "start_time": "2024-09-04T17:33:42.513Z"
   },
   {
    "duration": 5,
    "start_time": "2024-09-04T17:33:42.696Z"
   },
   {
    "duration": 8,
    "start_time": "2024-09-04T17:33:42.896Z"
   },
   {
    "duration": 6,
    "start_time": "2024-09-04T17:33:43.087Z"
   },
   {
    "duration": 16,
    "start_time": "2024-09-04T17:33:43.291Z"
   },
   {
    "duration": 112,
    "start_time": "2024-09-04T17:33:43.490Z"
   },
   {
    "duration": 5,
    "start_time": "2024-09-04T17:33:43.687Z"
   },
   {
    "duration": 102,
    "start_time": "2024-09-04T17:33:43.885Z"
   },
   {
    "duration": 3,
    "start_time": "2024-09-04T17:33:44.087Z"
   },
   {
    "duration": 7,
    "start_time": "2024-09-04T17:33:44.300Z"
   },
   {
    "duration": 5,
    "start_time": "2024-09-04T17:33:44.495Z"
   },
   {
    "duration": 6,
    "start_time": "2024-09-04T17:33:44.695Z"
   },
   {
    "duration": 6,
    "start_time": "2024-09-04T17:33:44.911Z"
   },
   {
    "duration": 15,
    "start_time": "2024-09-04T17:33:45.111Z"
   },
   {
    "duration": 187,
    "start_time": "2024-09-04T17:33:45.319Z"
   },
   {
    "duration": 3,
    "start_time": "2024-09-04T17:33:45.511Z"
   },
   {
    "duration": 7,
    "start_time": "2024-09-04T17:33:45.728Z"
   },
   {
    "duration": 6,
    "start_time": "2024-09-04T17:33:45.929Z"
   },
   {
    "duration": 6,
    "start_time": "2024-09-04T17:33:46.143Z"
   },
   {
    "duration": 10,
    "start_time": "2024-09-04T17:33:46.391Z"
   },
   {
    "duration": 5,
    "start_time": "2024-09-04T17:33:46.665Z"
   },
   {
    "duration": 9,
    "start_time": "2024-09-04T17:33:46.888Z"
   },
   {
    "duration": 96,
    "start_time": "2024-09-04T17:33:47.104Z"
   },
   {
    "duration": 13,
    "start_time": "2024-09-04T17:33:47.952Z"
   },
   {
    "duration": 5,
    "start_time": "2024-09-04T17:33:48.167Z"
   },
   {
    "duration": 1606,
    "start_time": "2024-09-04T17:33:48.388Z"
   },
   {
    "duration": 238,
    "start_time": "2024-09-04T17:33:49.998Z"
   },
   {
    "duration": 15,
    "start_time": "2024-09-04T17:33:50.238Z"
   },
   {
    "duration": 35,
    "start_time": "2024-09-04T17:33:50.255Z"
   },
   {
    "duration": 8,
    "start_time": "2024-09-04T17:33:50.292Z"
   },
   {
    "duration": 209,
    "start_time": "2024-09-04T17:33:50.302Z"
   },
   {
    "duration": 339,
    "start_time": "2024-09-04T17:33:50.513Z"
   },
   {
    "duration": 9,
    "start_time": "2024-09-04T17:33:50.854Z"
   },
   {
    "duration": 13,
    "start_time": "2024-09-04T17:33:50.865Z"
   },
   {
    "duration": 338,
    "start_time": "2024-09-04T17:33:50.880Z"
   },
   {
    "duration": 307,
    "start_time": "2024-09-04T17:33:51.220Z"
   },
   {
    "duration": 10,
    "start_time": "2024-09-04T17:33:51.528Z"
   },
   {
    "duration": 7,
    "start_time": "2024-09-04T17:33:51.540Z"
   },
   {
    "duration": 298,
    "start_time": "2024-09-04T17:33:51.549Z"
   },
   {
    "duration": 1341,
    "start_time": "2024-09-04T17:34:18.752Z"
   },
   {
    "duration": 50,
    "start_time": "2024-09-04T17:34:20.095Z"
   },
   {
    "duration": 26,
    "start_time": "2024-09-04T17:34:20.147Z"
   },
   {
    "duration": 24,
    "start_time": "2024-09-04T17:34:20.175Z"
   },
   {
    "duration": 35,
    "start_time": "2024-09-04T17:34:20.200Z"
   },
   {
    "duration": 3,
    "start_time": "2024-09-04T17:34:20.513Z"
   },
   {
    "duration": 13,
    "start_time": "2024-09-04T17:34:20.720Z"
   },
   {
    "duration": 6,
    "start_time": "2024-09-04T17:34:20.914Z"
   },
   {
    "duration": 4,
    "start_time": "2024-09-04T17:34:21.128Z"
   },
   {
    "duration": 5,
    "start_time": "2024-09-04T17:34:21.335Z"
   },
   {
    "duration": 4,
    "start_time": "2024-09-04T17:34:21.544Z"
   },
   {
    "duration": 12,
    "start_time": "2024-09-04T17:34:21.763Z"
   },
   {
    "duration": 7,
    "start_time": "2024-09-04T17:34:21.973Z"
   },
   {
    "duration": 6,
    "start_time": "2024-09-04T17:34:22.248Z"
   },
   {
    "duration": 34,
    "start_time": "2024-09-04T17:34:22.505Z"
   },
   {
    "duration": 861,
    "start_time": "2024-09-04T17:34:22.741Z"
   },
   {
    "duration": 2,
    "start_time": "2024-09-04T17:34:23.604Z"
   },
   {
    "duration": 62,
    "start_time": "2024-09-04T17:34:23.607Z"
   },
   {
    "duration": 20,
    "start_time": "2024-09-04T17:34:23.671Z"
   },
   {
    "duration": 6,
    "start_time": "2024-09-04T17:34:23.759Z"
   },
   {
    "duration": 11,
    "start_time": "2024-09-04T17:34:23.967Z"
   },
   {
    "duration": 6,
    "start_time": "2024-09-04T17:34:24.207Z"
   },
   {
    "duration": 8,
    "start_time": "2024-09-04T17:34:24.444Z"
   },
   {
    "duration": 7,
    "start_time": "2024-09-04T17:34:24.695Z"
   },
   {
    "duration": 14,
    "start_time": "2024-09-04T17:34:24.892Z"
   },
   {
    "duration": 102,
    "start_time": "2024-09-04T17:34:25.149Z"
   },
   {
    "duration": 6,
    "start_time": "2024-09-04T17:34:25.383Z"
   },
   {
    "duration": 102,
    "start_time": "2024-09-04T17:34:25.595Z"
   },
   {
    "duration": 2,
    "start_time": "2024-09-04T17:34:25.803Z"
   },
   {
    "duration": 6,
    "start_time": "2024-09-04T17:34:26.000Z"
   },
   {
    "duration": 6,
    "start_time": "2024-09-04T17:34:26.212Z"
   },
   {
    "duration": 6,
    "start_time": "2024-09-04T17:34:26.427Z"
   },
   {
    "duration": 6,
    "start_time": "2024-09-04T17:34:26.631Z"
   },
   {
    "duration": 15,
    "start_time": "2024-09-04T17:34:26.844Z"
   },
   {
    "duration": 193,
    "start_time": "2024-09-04T17:34:27.051Z"
   },
   {
    "duration": 2,
    "start_time": "2024-09-04T17:34:27.267Z"
   },
   {
    "duration": 8,
    "start_time": "2024-09-04T17:34:27.469Z"
   },
   {
    "duration": 5,
    "start_time": "2024-09-04T17:34:27.691Z"
   },
   {
    "duration": 6,
    "start_time": "2024-09-04T17:34:27.917Z"
   },
   {
    "duration": 10,
    "start_time": "2024-09-04T17:34:28.148Z"
   },
   {
    "duration": 7,
    "start_time": "2024-09-04T17:34:28.374Z"
   },
   {
    "duration": 10,
    "start_time": "2024-09-04T17:34:28.595Z"
   },
   {
    "duration": 98,
    "start_time": "2024-09-04T17:34:28.827Z"
   },
   {
    "duration": 16,
    "start_time": "2024-09-04T17:34:29.866Z"
   },
   {
    "duration": 4,
    "start_time": "2024-09-04T17:34:30.107Z"
   },
   {
    "duration": 1529,
    "start_time": "2024-09-04T17:34:30.381Z"
   },
   {
    "duration": 219,
    "start_time": "2024-09-04T17:34:31.912Z"
   },
   {
    "duration": 15,
    "start_time": "2024-09-04T17:34:32.132Z"
   },
   {
    "duration": 12,
    "start_time": "2024-09-04T17:34:32.149Z"
   },
   {
    "duration": 38,
    "start_time": "2024-09-04T17:34:32.162Z"
   },
   {
    "duration": 209,
    "start_time": "2024-09-04T17:34:32.203Z"
   },
   {
    "duration": 346,
    "start_time": "2024-09-04T17:34:32.414Z"
   },
   {
    "duration": 9,
    "start_time": "2024-09-04T17:34:32.762Z"
   },
   {
    "duration": 6,
    "start_time": "2024-09-04T17:34:32.773Z"
   },
   {
    "duration": 322,
    "start_time": "2024-09-04T17:34:32.797Z"
   },
   {
    "duration": 309,
    "start_time": "2024-09-04T17:34:33.121Z"
   },
   {
    "duration": 10,
    "start_time": "2024-09-04T17:34:33.432Z"
   },
   {
    "duration": 6,
    "start_time": "2024-09-04T17:34:33.444Z"
   },
   {
    "duration": 275,
    "start_time": "2024-09-04T17:34:33.474Z"
   },
   {
    "duration": 21,
    "start_time": "2024-09-04T17:34:34.655Z"
   },
   {
    "duration": 12,
    "start_time": "2024-09-04T17:34:54.333Z"
   },
   {
    "duration": 8,
    "start_time": "2024-09-04T17:34:54.948Z"
   },
   {
    "duration": 27,
    "start_time": "2024-09-04T17:35:38.168Z"
   },
   {
    "duration": 24,
    "start_time": "2024-09-04T17:36:16.236Z"
   },
   {
    "duration": 1379,
    "start_time": "2024-09-04T17:36:29.044Z"
   },
   {
    "duration": 51,
    "start_time": "2024-09-04T17:36:31.452Z"
   },
   {
    "duration": 28,
    "start_time": "2024-09-04T17:36:31.644Z"
   },
   {
    "duration": 25,
    "start_time": "2024-09-04T17:36:31.837Z"
   },
   {
    "duration": 36,
    "start_time": "2024-09-04T17:36:32.004Z"
   },
   {
    "duration": 3,
    "start_time": "2024-09-04T17:36:32.787Z"
   },
   {
    "duration": 13,
    "start_time": "2024-09-04T17:36:32.975Z"
   },
   {
    "duration": 7,
    "start_time": "2024-09-04T17:36:33.171Z"
   },
   {
    "duration": 5,
    "start_time": "2024-09-04T17:36:33.390Z"
   },
   {
    "duration": 6,
    "start_time": "2024-09-04T17:36:33.579Z"
   },
   {
    "duration": 5,
    "start_time": "2024-09-04T17:36:33.771Z"
   },
   {
    "duration": 12,
    "start_time": "2024-09-04T17:36:33.971Z"
   },
   {
    "duration": 7,
    "start_time": "2024-09-04T17:36:34.164Z"
   },
   {
    "duration": 7,
    "start_time": "2024-09-04T17:36:34.350Z"
   },
   {
    "duration": 41,
    "start_time": "2024-09-04T17:36:34.548Z"
   },
   {
    "duration": 845,
    "start_time": "2024-09-04T17:36:34.756Z"
   },
   {
    "duration": 2,
    "start_time": "2024-09-04T17:36:35.603Z"
   },
   {
    "duration": 79,
    "start_time": "2024-09-04T17:36:35.607Z"
   },
   {
    "duration": 8,
    "start_time": "2024-09-04T17:36:35.688Z"
   },
   {
    "duration": 6,
    "start_time": "2024-09-04T17:36:35.697Z"
   },
   {
    "duration": 11,
    "start_time": "2024-09-04T17:36:35.780Z"
   },
   {
    "duration": 5,
    "start_time": "2024-09-04T17:36:35.980Z"
   },
   {
    "duration": 8,
    "start_time": "2024-09-04T17:36:36.202Z"
   },
   {
    "duration": 6,
    "start_time": "2024-09-04T17:36:36.398Z"
   },
   {
    "duration": 15,
    "start_time": "2024-09-04T17:36:36.612Z"
   },
   {
    "duration": 106,
    "start_time": "2024-09-04T17:36:36.813Z"
   },
   {
    "duration": 6,
    "start_time": "2024-09-04T17:36:37.020Z"
   },
   {
    "duration": 107,
    "start_time": "2024-09-04T17:36:37.227Z"
   },
   {
    "duration": 3,
    "start_time": "2024-09-04T17:36:37.411Z"
   },
   {
    "duration": 8,
    "start_time": "2024-09-04T17:36:37.621Z"
   },
   {
    "duration": 7,
    "start_time": "2024-09-04T17:36:37.819Z"
   },
   {
    "duration": 6,
    "start_time": "2024-09-04T17:36:38.022Z"
   },
   {
    "duration": 6,
    "start_time": "2024-09-04T17:36:38.227Z"
   },
   {
    "duration": 15,
    "start_time": "2024-09-04T17:36:38.428Z"
   },
   {
    "duration": 189,
    "start_time": "2024-09-04T17:36:38.635Z"
   },
   {
    "duration": 2,
    "start_time": "2024-09-04T17:36:38.844Z"
   },
   {
    "duration": 7,
    "start_time": "2024-09-04T17:36:39.035Z"
   },
   {
    "duration": 6,
    "start_time": "2024-09-04T17:36:39.266Z"
   },
   {
    "duration": 5,
    "start_time": "2024-09-04T17:36:39.452Z"
   },
   {
    "duration": 11,
    "start_time": "2024-09-04T17:36:39.659Z"
   },
   {
    "duration": 6,
    "start_time": "2024-09-04T17:36:39.867Z"
   },
   {
    "duration": 10,
    "start_time": "2024-09-04T17:36:40.068Z"
   },
   {
    "duration": 99,
    "start_time": "2024-09-04T17:36:40.284Z"
   },
   {
    "duration": 12,
    "start_time": "2024-09-04T17:36:41.117Z"
   },
   {
    "duration": 4,
    "start_time": "2024-09-04T17:36:41.337Z"
   },
   {
    "duration": 1558,
    "start_time": "2024-09-04T17:36:41.556Z"
   },
   {
    "duration": 214,
    "start_time": "2024-09-04T17:36:43.116Z"
   },
   {
    "duration": 14,
    "start_time": "2024-09-04T17:36:43.331Z"
   },
   {
    "duration": 53,
    "start_time": "2024-09-04T17:36:43.347Z"
   },
   {
    "duration": 24,
    "start_time": "2024-09-04T17:36:43.401Z"
   },
   {
    "duration": 204,
    "start_time": "2024-09-04T17:36:43.426Z"
   },
   {
    "duration": 340,
    "start_time": "2024-09-04T17:36:43.631Z"
   },
   {
    "duration": 11,
    "start_time": "2024-09-04T17:36:43.973Z"
   },
   {
    "duration": 21,
    "start_time": "2024-09-04T17:36:43.985Z"
   },
   {
    "duration": 312,
    "start_time": "2024-09-04T17:36:44.008Z"
   },
   {
    "duration": 319,
    "start_time": "2024-09-04T17:36:44.321Z"
   },
   {
    "duration": 10,
    "start_time": "2024-09-04T17:36:44.641Z"
   },
   {
    "duration": 6,
    "start_time": "2024-09-04T17:36:44.653Z"
   },
   {
    "duration": 310,
    "start_time": "2024-09-04T17:36:44.661Z"
   },
   {
    "duration": 24,
    "start_time": "2024-09-04T17:36:45.605Z"
   },
   {
    "duration": 13,
    "start_time": "2024-09-04T17:36:45.860Z"
   },
   {
    "duration": 8,
    "start_time": "2024-09-04T17:36:47.992Z"
   },
   {
    "duration": 30,
    "start_time": "2024-09-04T17:38:03.964Z"
   },
   {
    "duration": 23,
    "start_time": "2024-09-04T17:38:09.724Z"
   },
   {
    "duration": 39,
    "start_time": "2024-09-04T17:39:40.034Z"
   },
   {
    "duration": 44,
    "start_time": "2024-09-04T17:39:53.171Z"
   },
   {
    "duration": 1387,
    "start_time": "2024-09-04T17:40:42.914Z"
   },
   {
    "duration": 51,
    "start_time": "2024-09-04T17:40:47.095Z"
   },
   {
    "duration": 27,
    "start_time": "2024-09-04T17:40:47.889Z"
   },
   {
    "duration": 38,
    "start_time": "2024-09-04T17:40:49.088Z"
   },
   {
    "duration": 35,
    "start_time": "2024-09-04T17:40:49.528Z"
   },
   {
    "duration": 3,
    "start_time": "2024-09-04T17:40:50.439Z"
   },
   {
    "duration": 13,
    "start_time": "2024-09-04T17:40:50.632Z"
   },
   {
    "duration": 7,
    "start_time": "2024-09-04T17:40:50.823Z"
   },
   {
    "duration": 5,
    "start_time": "2024-09-04T17:40:51.002Z"
   },
   {
    "duration": 6,
    "start_time": "2024-09-04T17:40:51.201Z"
   },
   {
    "duration": 4,
    "start_time": "2024-09-04T17:40:51.400Z"
   },
   {
    "duration": 12,
    "start_time": "2024-09-04T17:40:51.600Z"
   },
   {
    "duration": 6,
    "start_time": "2024-09-04T17:40:51.800Z"
   },
   {
    "duration": 7,
    "start_time": "2024-09-04T17:40:51.984Z"
   },
   {
    "duration": 33,
    "start_time": "2024-09-04T17:40:52.185Z"
   },
   {
    "duration": 840,
    "start_time": "2024-09-04T17:40:52.391Z"
   },
   {
    "duration": 3,
    "start_time": "2024-09-04T17:40:53.232Z"
   },
   {
    "duration": 11,
    "start_time": "2024-09-04T17:40:53.236Z"
   },
   {
    "duration": 63,
    "start_time": "2024-09-04T17:40:53.248Z"
   },
   {
    "duration": 7,
    "start_time": "2024-09-04T17:40:53.313Z"
   },
   {
    "duration": 11,
    "start_time": "2024-09-04T17:40:53.391Z"
   },
   {
    "duration": 6,
    "start_time": "2024-09-04T17:40:53.575Z"
   },
   {
    "duration": 9,
    "start_time": "2024-09-04T17:40:53.792Z"
   },
   {
    "duration": 7,
    "start_time": "2024-09-04T17:40:53.984Z"
   },
   {
    "duration": 17,
    "start_time": "2024-09-04T17:40:54.175Z"
   },
   {
    "duration": 108,
    "start_time": "2024-09-04T17:40:54.376Z"
   },
   {
    "duration": 5,
    "start_time": "2024-09-04T17:40:54.580Z"
   },
   {
    "duration": 110,
    "start_time": "2024-09-04T17:40:54.769Z"
   },
   {
    "duration": 2,
    "start_time": "2024-09-04T17:40:54.968Z"
   },
   {
    "duration": 7,
    "start_time": "2024-09-04T17:40:55.160Z"
   },
   {
    "duration": 6,
    "start_time": "2024-09-04T17:40:55.368Z"
   },
   {
    "duration": 6,
    "start_time": "2024-09-04T17:40:55.569Z"
   },
   {
    "duration": 6,
    "start_time": "2024-09-04T17:40:55.776Z"
   },
   {
    "duration": 14,
    "start_time": "2024-09-04T17:40:55.969Z"
   },
   {
    "duration": 198,
    "start_time": "2024-09-04T17:40:56.168Z"
   },
   {
    "duration": 2,
    "start_time": "2024-09-04T17:40:56.368Z"
   },
   {
    "duration": 7,
    "start_time": "2024-09-04T17:40:56.584Z"
   },
   {
    "duration": 5,
    "start_time": "2024-09-04T17:40:56.793Z"
   },
   {
    "duration": 6,
    "start_time": "2024-09-04T17:40:56.993Z"
   },
   {
    "duration": 9,
    "start_time": "2024-09-04T17:40:57.207Z"
   },
   {
    "duration": 5,
    "start_time": "2024-09-04T17:40:57.408Z"
   },
   {
    "duration": 11,
    "start_time": "2024-09-04T17:40:57.618Z"
   },
   {
    "duration": 107,
    "start_time": "2024-09-04T17:40:57.822Z"
   },
   {
    "duration": 12,
    "start_time": "2024-09-04T17:40:58.617Z"
   },
   {
    "duration": 5,
    "start_time": "2024-09-04T17:40:58.831Z"
   },
   {
    "duration": 1577,
    "start_time": "2024-09-04T17:40:59.037Z"
   },
   {
    "duration": 213,
    "start_time": "2024-09-04T17:41:00.616Z"
   },
   {
    "duration": 15,
    "start_time": "2024-09-04T17:41:00.830Z"
   },
   {
    "duration": 13,
    "start_time": "2024-09-04T17:41:00.847Z"
   },
   {
    "duration": 39,
    "start_time": "2024-09-04T17:41:00.861Z"
   },
   {
    "duration": 222,
    "start_time": "2024-09-04T17:41:00.902Z"
   },
   {
    "duration": 390,
    "start_time": "2024-09-04T17:41:01.126Z"
   },
   {
    "duration": 11,
    "start_time": "2024-09-04T17:41:01.518Z"
   },
   {
    "duration": 11,
    "start_time": "2024-09-04T17:41:01.531Z"
   },
   {
    "duration": 355,
    "start_time": "2024-09-04T17:41:01.544Z"
   },
   {
    "duration": 300,
    "start_time": "2024-09-04T17:41:01.901Z"
   },
   {
    "duration": 12,
    "start_time": "2024-09-04T17:41:02.202Z"
   },
   {
    "duration": 63,
    "start_time": "2024-09-04T17:41:02.216Z"
   },
   {
    "duration": 326,
    "start_time": "2024-09-04T17:41:02.280Z"
   },
   {
    "duration": 26,
    "start_time": "2024-09-04T17:41:03.180Z"
   },
   {
    "duration": 46,
    "start_time": "2024-09-04T17:41:03.409Z"
   },
   {
    "duration": 16,
    "start_time": "2024-09-04T17:41:43.597Z"
   },
   {
    "duration": 118,
    "start_time": "2024-09-04T17:44:43.044Z"
   },
   {
    "duration": 1358,
    "start_time": "2024-09-04T17:44:59.437Z"
   },
   {
    "duration": 51,
    "start_time": "2024-09-04T17:45:01.476Z"
   },
   {
    "duration": 27,
    "start_time": "2024-09-04T17:45:01.924Z"
   },
   {
    "duration": 26,
    "start_time": "2024-09-04T17:45:02.285Z"
   },
   {
    "duration": 49,
    "start_time": "2024-09-04T17:45:02.628Z"
   },
   {
    "duration": 2,
    "start_time": "2024-09-04T17:45:03.443Z"
   },
   {
    "duration": 12,
    "start_time": "2024-09-04T17:45:03.628Z"
   },
   {
    "duration": 6,
    "start_time": "2024-09-04T17:45:03.843Z"
   },
   {
    "duration": 4,
    "start_time": "2024-09-04T17:45:04.036Z"
   },
   {
    "duration": 6,
    "start_time": "2024-09-04T17:45:04.249Z"
   },
   {
    "duration": 5,
    "start_time": "2024-09-04T17:45:04.419Z"
   },
   {
    "duration": 12,
    "start_time": "2024-09-04T17:45:04.603Z"
   },
   {
    "duration": 7,
    "start_time": "2024-09-04T17:45:04.812Z"
   },
   {
    "duration": 7,
    "start_time": "2024-09-04T17:45:04.995Z"
   },
   {
    "duration": 34,
    "start_time": "2024-09-04T17:45:05.196Z"
   },
   {
    "duration": 844,
    "start_time": "2024-09-04T17:45:05.391Z"
   },
   {
    "duration": 2,
    "start_time": "2024-09-04T17:45:06.237Z"
   },
   {
    "duration": 10,
    "start_time": "2024-09-04T17:45:06.240Z"
   },
   {
    "duration": 6,
    "start_time": "2024-09-04T17:45:06.252Z"
   },
   {
    "duration": 18,
    "start_time": "2024-09-04T17:45:06.259Z"
   },
   {
    "duration": 10,
    "start_time": "2024-09-04T17:45:06.349Z"
   },
   {
    "duration": 6,
    "start_time": "2024-09-04T17:45:06.548Z"
   },
   {
    "duration": 9,
    "start_time": "2024-09-04T17:45:06.750Z"
   },
   {
    "duration": 6,
    "start_time": "2024-09-04T17:45:06.948Z"
   },
   {
    "duration": 14,
    "start_time": "2024-09-04T17:45:07.148Z"
   },
   {
    "duration": 105,
    "start_time": "2024-09-04T17:45:07.333Z"
   },
   {
    "duration": 6,
    "start_time": "2024-09-04T17:45:07.539Z"
   },
   {
    "duration": 102,
    "start_time": "2024-09-04T17:45:07.732Z"
   },
   {
    "duration": 2,
    "start_time": "2024-09-04T17:45:07.935Z"
   },
   {
    "duration": 8,
    "start_time": "2024-09-04T17:45:08.123Z"
   },
   {
    "duration": 5,
    "start_time": "2024-09-04T17:45:08.327Z"
   },
   {
    "duration": 5,
    "start_time": "2024-09-04T17:45:08.526Z"
   },
   {
    "duration": 6,
    "start_time": "2024-09-04T17:45:08.719Z"
   },
   {
    "duration": 16,
    "start_time": "2024-09-04T17:45:08.925Z"
   },
   {
    "duration": 206,
    "start_time": "2024-09-04T17:45:09.119Z"
   },
   {
    "duration": 2,
    "start_time": "2024-09-04T17:45:09.327Z"
   },
   {
    "duration": 6,
    "start_time": "2024-09-04T17:45:09.548Z"
   },
   {
    "duration": 5,
    "start_time": "2024-09-04T17:45:09.757Z"
   },
   {
    "duration": 5,
    "start_time": "2024-09-04T17:45:09.957Z"
   },
   {
    "duration": 9,
    "start_time": "2024-09-04T17:45:10.157Z"
   },
   {
    "duration": 5,
    "start_time": "2024-09-04T17:45:10.374Z"
   },
   {
    "duration": 10,
    "start_time": "2024-09-04T17:45:10.581Z"
   },
   {
    "duration": 102,
    "start_time": "2024-09-04T17:45:10.773Z"
   },
   {
    "duration": 13,
    "start_time": "2024-09-04T17:45:11.621Z"
   },
   {
    "duration": 4,
    "start_time": "2024-09-04T17:45:11.871Z"
   },
   {
    "duration": 1632,
    "start_time": "2024-09-04T17:45:12.094Z"
   },
   {
    "duration": 281,
    "start_time": "2024-09-04T17:45:13.728Z"
   },
   {
    "duration": 17,
    "start_time": "2024-09-04T17:45:14.010Z"
   },
   {
    "duration": 41,
    "start_time": "2024-09-04T17:45:14.030Z"
   },
   {
    "duration": 9,
    "start_time": "2024-09-04T17:45:14.073Z"
   },
   {
    "duration": 220,
    "start_time": "2024-09-04T17:45:14.084Z"
   },
   {
    "duration": 337,
    "start_time": "2024-09-04T17:45:14.306Z"
   },
   {
    "duration": 11,
    "start_time": "2024-09-04T17:45:14.645Z"
   },
   {
    "duration": 12,
    "start_time": "2024-09-04T17:45:14.657Z"
   },
   {
    "duration": 335,
    "start_time": "2024-09-04T17:45:14.671Z"
   },
   {
    "duration": 247,
    "start_time": "2024-09-04T17:45:15.008Z"
   },
   {
    "duration": 43,
    "start_time": "2024-09-04T17:45:15.257Z"
   },
   {
    "duration": 40,
    "start_time": "2024-09-04T17:45:15.301Z"
   },
   {
    "duration": 299,
    "start_time": "2024-09-04T17:45:15.343Z"
   },
   {
    "duration": 23,
    "start_time": "2024-09-04T17:45:15.700Z"
   },
   {
    "duration": 17,
    "start_time": "2024-09-04T17:45:16.683Z"
   },
   {
    "duration": 14,
    "start_time": "2024-09-04T17:48:43.805Z"
   },
   {
    "duration": 11,
    "start_time": "2024-09-04T17:49:10.193Z"
   },
   {
    "duration": 9,
    "start_time": "2024-09-04T17:49:31.441Z"
   },
   {
    "duration": 20,
    "start_time": "2024-09-04T17:50:29.765Z"
   },
   {
    "duration": 8,
    "start_time": "2024-09-04T17:50:30.672Z"
   },
   {
    "duration": 3387,
    "start_time": "2024-09-04T18:03:58.684Z"
   },
   {
    "duration": 1455,
    "start_time": "2024-09-04T18:04:02.073Z"
   },
   {
    "duration": 50,
    "start_time": "2024-09-04T18:04:05.255Z"
   },
   {
    "duration": 28,
    "start_time": "2024-09-04T18:04:05.671Z"
   },
   {
    "duration": 25,
    "start_time": "2024-09-04T18:04:05.954Z"
   },
   {
    "duration": 35,
    "start_time": "2024-09-04T18:04:06.119Z"
   },
   {
    "duration": 2,
    "start_time": "2024-09-04T18:04:06.847Z"
   },
   {
    "duration": 12,
    "start_time": "2024-09-04T18:04:07.062Z"
   },
   {
    "duration": 6,
    "start_time": "2024-09-04T18:04:07.262Z"
   },
   {
    "duration": 5,
    "start_time": "2024-09-04T18:04:07.462Z"
   },
   {
    "duration": 6,
    "start_time": "2024-09-04T18:04:07.686Z"
   },
   {
    "duration": 5,
    "start_time": "2024-09-04T18:04:07.850Z"
   },
   {
    "duration": 12,
    "start_time": "2024-09-04T18:04:08.055Z"
   },
   {
    "duration": 6,
    "start_time": "2024-09-04T18:04:08.287Z"
   },
   {
    "duration": 6,
    "start_time": "2024-09-04T18:04:08.495Z"
   },
   {
    "duration": 33,
    "start_time": "2024-09-04T18:04:08.703Z"
   },
   {
    "duration": 861,
    "start_time": "2024-09-04T18:04:08.935Z"
   },
   {
    "duration": 2,
    "start_time": "2024-09-04T18:04:09.798Z"
   },
   {
    "duration": 57,
    "start_time": "2024-09-04T18:04:09.802Z"
   },
   {
    "duration": 19,
    "start_time": "2024-09-04T18:04:09.861Z"
   },
   {
    "duration": 13,
    "start_time": "2024-09-04T18:04:09.882Z"
   },
   {
    "duration": 11,
    "start_time": "2024-09-04T18:04:10.005Z"
   },
   {
    "duration": 6,
    "start_time": "2024-09-04T18:04:10.192Z"
   },
   {
    "duration": 8,
    "start_time": "2024-09-04T18:04:10.391Z"
   },
   {
    "duration": 6,
    "start_time": "2024-09-04T18:04:10.599Z"
   },
   {
    "duration": 16,
    "start_time": "2024-09-04T18:04:10.782Z"
   },
   {
    "duration": 104,
    "start_time": "2024-09-04T18:04:11.004Z"
   },
   {
    "duration": 6,
    "start_time": "2024-09-04T18:04:11.223Z"
   },
   {
    "duration": 104,
    "start_time": "2024-09-04T18:04:11.463Z"
   },
   {
    "duration": 3,
    "start_time": "2024-09-04T18:04:11.695Z"
   },
   {
    "duration": 7,
    "start_time": "2024-09-04T18:04:11.927Z"
   },
   {
    "duration": 5,
    "start_time": "2024-09-04T18:04:12.160Z"
   },
   {
    "duration": 6,
    "start_time": "2024-09-04T18:04:12.407Z"
   },
   {
    "duration": 6,
    "start_time": "2024-09-04T18:04:12.591Z"
   },
   {
    "duration": 13,
    "start_time": "2024-09-04T18:04:12.847Z"
   },
   {
    "duration": 187,
    "start_time": "2024-09-04T18:04:13.064Z"
   },
   {
    "duration": 2,
    "start_time": "2024-09-04T18:04:13.287Z"
   },
   {
    "duration": 6,
    "start_time": "2024-09-04T18:04:13.526Z"
   },
   {
    "duration": 6,
    "start_time": "2024-09-04T18:04:13.736Z"
   },
   {
    "duration": 6,
    "start_time": "2024-09-04T18:04:13.976Z"
   },
   {
    "duration": 10,
    "start_time": "2024-09-04T18:04:14.193Z"
   },
   {
    "duration": 5,
    "start_time": "2024-09-04T18:04:14.407Z"
   },
   {
    "duration": 10,
    "start_time": "2024-09-04T18:04:14.617Z"
   },
   {
    "duration": 101,
    "start_time": "2024-09-04T18:04:14.847Z"
   },
   {
    "duration": 13,
    "start_time": "2024-09-04T18:04:15.710Z"
   },
   {
    "duration": 5,
    "start_time": "2024-09-04T18:04:15.930Z"
   },
   {
    "duration": 1551,
    "start_time": "2024-09-04T18:04:16.135Z"
   },
   {
    "duration": 260,
    "start_time": "2024-09-04T18:04:17.688Z"
   },
   {
    "duration": 15,
    "start_time": "2024-09-04T18:04:17.950Z"
   },
   {
    "duration": 12,
    "start_time": "2024-09-04T18:04:17.967Z"
   },
   {
    "duration": 8,
    "start_time": "2024-09-04T18:04:17.997Z"
   },
   {
    "duration": 211,
    "start_time": "2024-09-04T18:04:18.007Z"
   },
   {
    "duration": 356,
    "start_time": "2024-09-04T18:04:18.219Z"
   },
   {
    "duration": 11,
    "start_time": "2024-09-04T18:04:18.577Z"
   },
   {
    "duration": 7,
    "start_time": "2024-09-04T18:04:18.597Z"
   },
   {
    "duration": 420,
    "start_time": "2024-09-04T18:04:18.606Z"
   },
   {
    "duration": 328,
    "start_time": "2024-09-04T18:04:19.028Z"
   },
   {
    "duration": 10,
    "start_time": "2024-09-04T18:04:19.358Z"
   },
   {
    "duration": 7,
    "start_time": "2024-09-04T18:04:19.370Z"
   },
   {
    "duration": 340,
    "start_time": "2024-09-04T18:04:19.398Z"
   },
   {
    "duration": 25,
    "start_time": "2024-09-04T18:04:20.200Z"
   },
   {
    "duration": 18,
    "start_time": "2024-09-04T18:04:20.430Z"
   },
   {
    "duration": 14,
    "start_time": "2024-09-04T18:04:20.678Z"
   },
   {
    "duration": 11,
    "start_time": "2024-09-04T18:04:20.923Z"
   },
   {
    "duration": 19,
    "start_time": "2024-09-04T18:04:21.150Z"
   },
   {
    "duration": 8,
    "start_time": "2024-09-04T18:04:21.375Z"
   },
   {
    "duration": 3,
    "start_time": "2024-09-04T18:04:21.606Z"
   },
   {
    "duration": 936,
    "start_time": "2024-09-04T18:14:09.349Z"
   },
   {
    "duration": 2744,
    "start_time": "2024-09-04T18:15:08.082Z"
   },
   {
    "duration": 13,
    "start_time": "2024-09-04T18:21:43.742Z"
   },
   {
    "duration": 151,
    "start_time": "2024-09-04T18:22:32.217Z"
   },
   {
    "duration": 160,
    "start_time": "2024-09-04T18:24:23.262Z"
   },
   {
    "duration": 141,
    "start_time": "2024-09-04T18:25:00.701Z"
   },
   {
    "duration": 144,
    "start_time": "2024-09-04T18:25:11.581Z"
   },
   {
    "duration": 146,
    "start_time": "2024-09-04T18:25:46.017Z"
   },
   {
    "duration": 49,
    "start_time": "2024-09-04T18:28:42.289Z"
   },
   {
    "duration": 176,
    "start_time": "2024-09-04T18:28:54.710Z"
   },
   {
    "duration": 264,
    "start_time": "2024-09-04T18:29:05.271Z"
   },
   {
    "duration": 142,
    "start_time": "2024-09-04T18:29:15.710Z"
   },
   {
    "duration": 158,
    "start_time": "2024-09-04T18:30:01.142Z"
   },
   {
    "duration": 155,
    "start_time": "2024-09-04T18:31:06.741Z"
   },
   {
    "duration": 3830,
    "start_time": "2024-09-05T16:33:53.025Z"
   },
   {
    "duration": 1831,
    "start_time": "2024-09-05T16:33:57.430Z"
   },
   {
    "duration": 93,
    "start_time": "2024-09-05T16:33:59.263Z"
   },
   {
    "duration": 114,
    "start_time": "2024-09-05T16:33:59.358Z"
   },
   {
    "duration": 90,
    "start_time": "2024-09-05T16:34:00.061Z"
   },
   {
    "duration": 100,
    "start_time": "2024-09-05T16:34:00.316Z"
   },
   {
    "duration": 2,
    "start_time": "2024-09-05T16:34:01.055Z"
   },
   {
    "duration": 13,
    "start_time": "2024-09-05T16:34:02.679Z"
   },
   {
    "duration": 7,
    "start_time": "2024-09-05T16:34:03.037Z"
   },
   {
    "duration": 5,
    "start_time": "2024-09-05T16:34:03.229Z"
   },
   {
    "duration": 7,
    "start_time": "2024-09-05T16:34:03.429Z"
   },
   {
    "duration": 5,
    "start_time": "2024-09-05T16:34:03.626Z"
   },
   {
    "duration": 19,
    "start_time": "2024-09-05T16:34:03.805Z"
   },
   {
    "duration": 13,
    "start_time": "2024-09-05T16:34:04.008Z"
   },
   {
    "duration": 7,
    "start_time": "2024-09-05T16:34:04.197Z"
   },
   {
    "duration": 36,
    "start_time": "2024-09-05T16:34:04.397Z"
   },
   {
    "duration": 983,
    "start_time": "2024-09-05T16:34:04.597Z"
   },
   {
    "duration": 3,
    "start_time": "2024-09-05T16:34:05.582Z"
   },
   {
    "duration": 46,
    "start_time": "2024-09-05T16:34:05.586Z"
   },
   {
    "duration": 35,
    "start_time": "2024-09-05T16:34:05.633Z"
   },
   {
    "duration": 21,
    "start_time": "2024-09-05T16:34:05.669Z"
   },
   {
    "duration": 47,
    "start_time": "2024-09-05T16:34:05.692Z"
   },
   {
    "duration": 6,
    "start_time": "2024-09-05T16:34:05.854Z"
   },
   {
    "duration": 10,
    "start_time": "2024-09-05T16:34:06.045Z"
   },
   {
    "duration": 6,
    "start_time": "2024-09-05T16:34:06.263Z"
   },
   {
    "duration": 14,
    "start_time": "2024-09-05T16:34:06.458Z"
   },
   {
    "duration": 111,
    "start_time": "2024-09-05T16:34:06.653Z"
   },
   {
    "duration": 8,
    "start_time": "2024-09-05T16:34:06.852Z"
   },
   {
    "duration": 115,
    "start_time": "2024-09-05T16:34:07.054Z"
   },
   {
    "duration": 2,
    "start_time": "2024-09-05T16:34:07.254Z"
   },
   {
    "duration": 8,
    "start_time": "2024-09-05T16:34:07.445Z"
   },
   {
    "duration": 6,
    "start_time": "2024-09-05T16:34:07.637Z"
   },
   {
    "duration": 5,
    "start_time": "2024-09-05T16:34:07.845Z"
   },
   {
    "duration": 6,
    "start_time": "2024-09-05T16:34:08.044Z"
   },
   {
    "duration": 16,
    "start_time": "2024-09-05T16:34:08.236Z"
   },
   {
    "duration": 199,
    "start_time": "2024-09-05T16:34:08.429Z"
   },
   {
    "duration": 3,
    "start_time": "2024-09-05T16:34:08.630Z"
   },
   {
    "duration": 8,
    "start_time": "2024-09-05T16:34:08.823Z"
   },
   {
    "duration": 6,
    "start_time": "2024-09-05T16:34:09.029Z"
   },
   {
    "duration": 7,
    "start_time": "2024-09-05T16:34:09.228Z"
   },
   {
    "duration": 11,
    "start_time": "2024-09-05T16:34:09.437Z"
   },
   {
    "duration": 5,
    "start_time": "2024-09-05T16:34:09.637Z"
   },
   {
    "duration": 10,
    "start_time": "2024-09-05T16:34:09.829Z"
   },
   {
    "duration": 125,
    "start_time": "2024-09-05T16:34:10.045Z"
   },
   {
    "duration": 12,
    "start_time": "2024-09-05T16:34:10.865Z"
   },
   {
    "duration": 4,
    "start_time": "2024-09-05T16:34:11.077Z"
   },
   {
    "duration": 1647,
    "start_time": "2024-09-05T16:34:11.311Z"
   },
   {
    "duration": 273,
    "start_time": "2024-09-05T16:34:12.961Z"
   },
   {
    "duration": 15,
    "start_time": "2024-09-05T16:34:13.236Z"
   },
   {
    "duration": 67,
    "start_time": "2024-09-05T16:34:13.254Z"
   },
   {
    "duration": 9,
    "start_time": "2024-09-05T16:34:13.323Z"
   },
   {
    "duration": 298,
    "start_time": "2024-09-05T16:34:13.334Z"
   },
   {
    "duration": 380,
    "start_time": "2024-09-05T16:34:13.634Z"
   },
   {
    "duration": 12,
    "start_time": "2024-09-05T16:34:14.017Z"
   },
   {
    "duration": 13,
    "start_time": "2024-09-05T16:34:14.031Z"
   },
   {
    "duration": 374,
    "start_time": "2024-09-05T16:34:14.046Z"
   },
   {
    "duration": 307,
    "start_time": "2024-09-05T16:34:14.421Z"
   },
   {
    "duration": 10,
    "start_time": "2024-09-05T16:34:14.730Z"
   },
   {
    "duration": 7,
    "start_time": "2024-09-05T16:34:14.742Z"
   },
   {
    "duration": 322,
    "start_time": "2024-09-05T16:34:14.751Z"
   },
   {
    "duration": 32,
    "start_time": "2024-09-05T16:34:15.194Z"
   },
   {
    "duration": 25,
    "start_time": "2024-09-05T16:34:15.404Z"
   },
   {
    "duration": 18,
    "start_time": "2024-09-05T16:34:15.609Z"
   },
   {
    "duration": 11,
    "start_time": "2024-09-05T16:34:15.875Z"
   },
   {
    "duration": 20,
    "start_time": "2024-09-05T16:34:16.115Z"
   },
   {
    "duration": 11,
    "start_time": "2024-09-05T16:34:16.353Z"
   },
   {
    "duration": 6,
    "start_time": "2024-09-05T16:34:16.915Z"
   },
   {
    "duration": 17,
    "start_time": "2024-09-05T16:34:18.296Z"
   },
   {
    "duration": 2998,
    "start_time": "2024-09-05T16:34:18.691Z"
   },
   {
    "duration": 153,
    "start_time": "2024-09-05T16:34:21.692Z"
   },
   {
    "duration": 176,
    "start_time": "2024-09-05T16:34:21.847Z"
   },
   {
    "duration": 167,
    "start_time": "2024-09-05T16:34:22.025Z"
   },
   {
    "duration": 197,
    "start_time": "2024-09-05T16:34:22.193Z"
   },
   {
    "duration": 184,
    "start_time": "2024-09-05T16:34:22.392Z"
   },
   {
    "duration": 32,
    "start_time": "2024-09-05T16:47:16.192Z"
   },
   {
    "duration": 15,
    "start_time": "2024-09-05T16:52:07.501Z"
   },
   {
    "duration": 7,
    "start_time": "2024-09-05T16:55:46.970Z"
   },
   {
    "duration": 6,
    "start_time": "2024-09-05T16:55:52.362Z"
   },
   {
    "duration": 5,
    "start_time": "2024-09-05T16:55:54.739Z"
   },
   {
    "duration": 1474,
    "start_time": "2024-09-05T17:12:54.418Z"
   },
   {
    "duration": 2575,
    "start_time": "2024-09-05T17:13:02.151Z"
   },
   {
    "duration": 1437,
    "start_time": "2024-09-05T17:13:07.526Z"
   },
   {
    "duration": 53,
    "start_time": "2024-09-05T17:13:08.965Z"
   },
   {
    "duration": 39,
    "start_time": "2024-09-05T17:13:09.986Z"
   },
   {
    "duration": 24,
    "start_time": "2024-09-05T17:13:10.294Z"
   },
   {
    "duration": 30,
    "start_time": "2024-09-05T17:13:10.662Z"
   },
   {
    "duration": 4,
    "start_time": "2024-09-05T17:13:11.461Z"
   },
   {
    "duration": 12,
    "start_time": "2024-09-05T17:13:11.637Z"
   },
   {
    "duration": 11,
    "start_time": "2024-09-05T17:13:11.830Z"
   },
   {
    "duration": 4,
    "start_time": "2024-09-05T17:13:12.030Z"
   },
   {
    "duration": 9,
    "start_time": "2024-09-05T17:13:12.213Z"
   },
   {
    "duration": 15,
    "start_time": "2024-09-05T17:13:12.406Z"
   },
   {
    "duration": 16,
    "start_time": "2024-09-05T17:13:12.613Z"
   },
   {
    "duration": 6,
    "start_time": "2024-09-05T17:13:12.797Z"
   },
   {
    "duration": 6,
    "start_time": "2024-09-05T17:13:13.017Z"
   },
   {
    "duration": 38,
    "start_time": "2024-09-05T17:13:13.197Z"
   },
   {
    "duration": 915,
    "start_time": "2024-09-05T17:13:13.418Z"
   },
   {
    "duration": 2,
    "start_time": "2024-09-05T17:13:14.335Z"
   },
   {
    "duration": 42,
    "start_time": "2024-09-05T17:13:14.339Z"
   },
   {
    "duration": 29,
    "start_time": "2024-09-05T17:13:14.383Z"
   },
   {
    "duration": 15,
    "start_time": "2024-09-05T17:13:14.417Z"
   },
   {
    "duration": 16,
    "start_time": "2024-09-05T17:13:14.434Z"
   },
   {
    "duration": 6,
    "start_time": "2024-09-05T17:13:14.632Z"
   },
   {
    "duration": 10,
    "start_time": "2024-09-05T17:13:14.832Z"
   },
   {
    "duration": 6,
    "start_time": "2024-09-05T17:13:15.022Z"
   },
   {
    "duration": 18,
    "start_time": "2024-09-05T17:13:15.205Z"
   },
   {
    "duration": 112,
    "start_time": "2024-09-05T17:13:15.417Z"
   },
   {
    "duration": 9,
    "start_time": "2024-09-05T17:13:15.616Z"
   },
   {
    "duration": 190,
    "start_time": "2024-09-05T17:13:15.805Z"
   },
   {
    "duration": 5,
    "start_time": "2024-09-05T17:13:16.007Z"
   },
   {
    "duration": 14,
    "start_time": "2024-09-05T17:13:16.207Z"
   },
   {
    "duration": 9,
    "start_time": "2024-09-05T17:13:16.409Z"
   },
   {
    "duration": 5,
    "start_time": "2024-09-05T17:13:16.598Z"
   },
   {
    "duration": 9,
    "start_time": "2024-09-05T17:13:16.805Z"
   },
   {
    "duration": 20,
    "start_time": "2024-09-05T17:13:16.998Z"
   },
   {
    "duration": 127,
    "start_time": "2024-09-05T17:13:17.193Z"
   },
   {
    "duration": 3,
    "start_time": "2024-09-05T17:13:17.399Z"
   },
   {
    "duration": 9,
    "start_time": "2024-09-05T17:13:17.576Z"
   },
   {
    "duration": 6,
    "start_time": "2024-09-05T17:13:17.780Z"
   },
   {
    "duration": 6,
    "start_time": "2024-09-05T17:13:17.986Z"
   },
   {
    "duration": 9,
    "start_time": "2024-09-05T17:13:18.176Z"
   },
   {
    "duration": 5,
    "start_time": "2024-09-05T17:13:18.366Z"
   },
   {
    "duration": 11,
    "start_time": "2024-09-05T17:13:18.566Z"
   },
   {
    "duration": 107,
    "start_time": "2024-09-05T17:13:18.766Z"
   },
   {
    "duration": 13,
    "start_time": "2024-09-05T17:13:19.564Z"
   },
   {
    "duration": 4,
    "start_time": "2024-09-05T17:13:19.770Z"
   },
   {
    "duration": 1634,
    "start_time": "2024-09-05T17:13:19.986Z"
   },
   {
    "duration": 216,
    "start_time": "2024-09-05T17:13:21.622Z"
   },
   {
    "duration": 13,
    "start_time": "2024-09-05T17:13:21.840Z"
   },
   {
    "duration": 26,
    "start_time": "2024-09-05T17:13:21.854Z"
   },
   {
    "duration": 14,
    "start_time": "2024-09-05T17:13:21.882Z"
   },
   {
    "duration": 231,
    "start_time": "2024-09-05T17:13:21.897Z"
   },
   {
    "duration": 459,
    "start_time": "2024-09-05T17:13:22.129Z"
   },
   {
    "duration": 30,
    "start_time": "2024-09-05T17:13:22.590Z"
   },
   {
    "duration": 9,
    "start_time": "2024-09-05T17:13:22.622Z"
   },
   {
    "duration": 312,
    "start_time": "2024-09-05T17:13:22.633Z"
   },
   {
    "duration": 324,
    "start_time": "2024-09-05T17:13:22.946Z"
   },
   {
    "duration": 10,
    "start_time": "2024-09-05T17:13:23.378Z"
   },
   {
    "duration": 8,
    "start_time": "2024-09-05T17:13:24.074Z"
   },
   {
    "duration": 291,
    "start_time": "2024-09-05T17:13:24.677Z"
   },
   {
    "duration": 23,
    "start_time": "2024-09-05T17:13:26.075Z"
   },
   {
    "duration": 29,
    "start_time": "2024-09-05T17:13:26.489Z"
   },
   {
    "duration": 17,
    "start_time": "2024-09-05T17:13:26.812Z"
   },
   {
    "duration": 18,
    "start_time": "2024-09-05T17:13:27.097Z"
   },
   {
    "duration": 24,
    "start_time": "2024-09-05T17:13:27.345Z"
   },
   {
    "duration": 8,
    "start_time": "2024-09-05T17:13:27.614Z"
   },
   {
    "duration": 2,
    "start_time": "2024-09-05T17:13:27.844Z"
   },
   {
    "duration": 13,
    "start_time": "2024-09-05T17:13:28.689Z"
   },
   {
    "duration": 2788,
    "start_time": "2024-09-05T17:13:28.897Z"
   },
   {
    "duration": 149,
    "start_time": "2024-09-05T17:13:31.688Z"
   },
   {
    "duration": 161,
    "start_time": "2024-09-05T17:13:31.839Z"
   },
   {
    "duration": 165,
    "start_time": "2024-09-05T17:13:32.005Z"
   },
   {
    "duration": 305,
    "start_time": "2024-09-05T17:13:32.173Z"
   },
   {
    "duration": 174,
    "start_time": "2024-09-05T17:13:32.480Z"
   },
   {
    "duration": 133,
    "start_time": "2024-09-05T17:13:32.657Z"
   },
   {
    "duration": 506,
    "start_time": "2024-09-05T17:14:03.869Z"
   },
   {
    "duration": 1457,
    "start_time": "2024-09-05T17:15:38.597Z"
   },
   {
    "duration": 5,
    "start_time": "2024-09-05T17:16:05.398Z"
   },
   {
    "duration": 26504,
    "start_time": "2024-09-05T17:16:43.798Z"
   },
   {
    "duration": 77,
    "start_time": "2024-09-05T17:38:23.317Z"
   },
   {
    "duration": 29,
    "start_time": "2024-09-05T17:39:18.023Z"
   },
   {
    "duration": 41892,
    "start_time": "2024-09-05T17:39:32.818Z"
   },
   {
    "duration": 40671,
    "start_time": "2024-09-05T17:46:01.040Z"
   },
   {
    "duration": 7613,
    "start_time": "2024-09-05T17:52:06.045Z"
   },
   {
    "duration": 48,
    "start_time": "2024-09-05T17:52:40.305Z"
   },
   {
    "duration": 360,
    "start_time": "2024-09-05T17:53:34.994Z"
   },
   {
    "duration": 33,
    "start_time": "2024-09-05T18:08:18.614Z"
   },
   {
    "duration": 45,
    "start_time": "2024-09-05T18:08:28.006Z"
   },
   {
    "duration": 6,
    "start_time": "2024-09-05T18:09:22.357Z"
   },
   {
    "duration": 20,
    "start_time": "2024-09-05T18:09:33.757Z"
   },
   {
    "duration": 64,
    "start_time": "2024-09-05T18:11:22.334Z"
   },
   {
    "duration": 3174,
    "start_time": "2024-09-05T18:15:04.504Z"
   },
   {
    "duration": 3005,
    "start_time": "2024-09-05T18:15:21.977Z"
   },
   {
    "duration": 3396,
    "start_time": "2024-09-06T16:59:51.635Z"
   },
   {
    "duration": 3838,
    "start_time": "2024-09-06T16:59:55.033Z"
   },
   {
    "duration": 1887,
    "start_time": "2024-09-06T17:04:33.983Z"
   },
   {
    "duration": 87,
    "start_time": "2024-09-06T17:04:35.872Z"
   },
   {
    "duration": 104,
    "start_time": "2024-09-06T17:04:35.960Z"
   },
   {
    "duration": 71,
    "start_time": "2024-09-06T17:04:36.067Z"
   },
   {
    "duration": 92,
    "start_time": "2024-09-06T17:04:39.542Z"
   },
   {
    "duration": 2,
    "start_time": "2024-09-06T17:04:45.165Z"
   },
   {
    "duration": 11,
    "start_time": "2024-09-06T17:04:46.011Z"
   },
   {
    "duration": 6,
    "start_time": "2024-09-06T17:05:28.159Z"
   },
   {
    "duration": 4,
    "start_time": "2024-09-06T17:05:31.799Z"
   },
   {
    "duration": 5,
    "start_time": "2024-09-06T17:05:33.438Z"
   },
   {
    "duration": 4,
    "start_time": "2024-09-06T17:05:37.891Z"
   },
   {
    "duration": 10,
    "start_time": "2024-09-06T17:05:38.343Z"
   },
   {
    "duration": 6,
    "start_time": "2024-09-06T17:05:40.799Z"
   },
   {
    "duration": 5,
    "start_time": "2024-09-06T17:05:41.295Z"
   },
   {
    "duration": 26,
    "start_time": "2024-09-06T17:05:44.393Z"
   },
   {
    "duration": 791,
    "start_time": "2024-09-06T17:05:46.808Z"
   },
   {
    "duration": 669,
    "start_time": "2024-09-06T17:05:56.736Z"
   },
   {
    "duration": 756,
    "start_time": "2024-09-06T17:06:04.618Z"
   },
   {
    "duration": 9,
    "start_time": "2024-09-06T17:06:10.838Z"
   },
   {
    "duration": 4,
    "start_time": "2024-09-06T17:06:56.764Z"
   },
   {
    "duration": 10,
    "start_time": "2024-09-06T17:07:01.043Z"
   },
   {
    "duration": 5,
    "start_time": "2024-09-06T17:07:03.540Z"
   },
   {
    "duration": 7,
    "start_time": "2024-09-06T17:07:05.067Z"
   },
   {
    "duration": 7,
    "start_time": "2024-09-06T17:07:05.635Z"
   },
   {
    "duration": 17,
    "start_time": "2024-09-06T17:07:07.164Z"
   },
   {
    "duration": 82,
    "start_time": "2024-09-06T17:07:09.819Z"
   },
   {
    "duration": 5,
    "start_time": "2024-09-06T17:07:11.575Z"
   },
   {
    "duration": 80,
    "start_time": "2024-09-06T17:07:13.639Z"
   },
   {
    "duration": 2,
    "start_time": "2024-09-06T17:07:16.287Z"
   },
   {
    "duration": 6,
    "start_time": "2024-09-06T17:07:18.391Z"
   },
   {
    "duration": 5,
    "start_time": "2024-09-06T17:07:26.958Z"
   },
   {
    "duration": 4,
    "start_time": "2024-09-06T17:07:27.440Z"
   },
   {
    "duration": 5,
    "start_time": "2024-09-06T17:07:27.899Z"
   },
   {
    "duration": 13,
    "start_time": "2024-09-06T17:07:29.127Z"
   },
   {
    "duration": 85,
    "start_time": "2024-09-06T17:07:29.516Z"
   },
   {
    "duration": 2,
    "start_time": "2024-09-06T17:07:31.479Z"
   },
   {
    "duration": 5,
    "start_time": "2024-09-06T17:07:32.009Z"
   },
   {
    "duration": 5,
    "start_time": "2024-09-06T17:07:33.974Z"
   },
   {
    "duration": 5,
    "start_time": "2024-09-06T17:07:34.756Z"
   },
   {
    "duration": 9,
    "start_time": "2024-09-06T17:07:35.207Z"
   },
   {
    "duration": 5,
    "start_time": "2024-09-06T17:07:39.554Z"
   },
   {
    "duration": 9,
    "start_time": "2024-09-06T17:07:59.592Z"
   },
   {
    "duration": 130,
    "start_time": "2024-09-06T17:08:00.155Z"
   },
   {
    "duration": 8,
    "start_time": "2024-09-06T17:08:00.544Z"
   },
   {
    "duration": 8,
    "start_time": "2024-09-06T17:08:07.272Z"
   },
   {
    "duration": 86,
    "start_time": "2024-09-06T17:08:07.995Z"
   },
   {
    "duration": 10,
    "start_time": "2024-09-06T17:08:51.292Z"
   },
   {
    "duration": 4,
    "start_time": "2024-09-06T17:08:53.387Z"
   },
   {
    "duration": 1349,
    "start_time": "2024-09-06T17:09:01.286Z"
   },
   {
    "duration": 169,
    "start_time": "2024-09-06T17:09:02.949Z"
   },
   {
    "duration": 13,
    "start_time": "2024-09-06T17:09:07.039Z"
   },
   {
    "duration": 182,
    "start_time": "2024-09-06T17:10:20.228Z"
   },
   {
    "duration": 13,
    "start_time": "2024-09-06T17:10:34.677Z"
   },
   {
    "duration": 9,
    "start_time": "2024-09-06T17:10:36.236Z"
   },
   {
    "duration": 7,
    "start_time": "2024-09-06T17:10:36.761Z"
   },
   {
    "duration": 185,
    "start_time": "2024-09-06T17:10:39.141Z"
   },
   {
    "duration": 260,
    "start_time": "2024-09-06T17:12:54.601Z"
   },
   {
    "duration": 10,
    "start_time": "2024-09-06T17:12:55.368Z"
   },
   {
    "duration": 6,
    "start_time": "2024-09-06T17:12:55.953Z"
   },
   {
    "duration": 155,
    "start_time": "2024-09-06T17:12:56.564Z"
   },
   {
    "duration": 289,
    "start_time": "2024-09-06T17:12:57.544Z"
   },
   {
    "duration": 8,
    "start_time": "2024-09-06T17:12:58.137Z"
   },
   {
    "duration": 9,
    "start_time": "2024-09-06T17:12:59.044Z"
   },
   {
    "duration": 239,
    "start_time": "2024-09-06T17:13:02.892Z"
   },
   {
    "duration": 182,
    "start_time": "2024-09-06T17:14:25.646Z"
   },
   {
    "duration": 230,
    "start_time": "2024-09-06T17:14:44.089Z"
   },
   {
    "duration": 8,
    "start_time": "2024-09-06T17:22:27.061Z"
   },
   {
    "duration": 24,
    "start_time": "2024-09-06T17:22:45.613Z"
   },
   {
    "duration": 2390,
    "start_time": "2024-09-06T17:23:05.445Z"
   },
   {
    "duration": 2473,
    "start_time": "2024-09-06T17:23:08.278Z"
   },
   {
    "duration": 1615,
    "start_time": "2024-09-06T17:23:10.752Z"
   },
   {
    "duration": 39,
    "start_time": "2024-09-06T17:23:12.368Z"
   },
   {
    "duration": 19,
    "start_time": "2024-09-06T17:23:12.409Z"
   },
   {
    "duration": 19,
    "start_time": "2024-09-06T17:23:12.429Z"
   },
   {
    "duration": 28,
    "start_time": "2024-09-06T17:23:12.450Z"
   },
   {
    "duration": 2,
    "start_time": "2024-09-06T17:23:12.479Z"
   },
   {
    "duration": 17,
    "start_time": "2024-09-06T17:23:12.482Z"
   },
   {
    "duration": 8,
    "start_time": "2024-09-06T17:23:12.500Z"
   },
   {
    "duration": 14,
    "start_time": "2024-09-06T17:23:12.510Z"
   },
   {
    "duration": 6,
    "start_time": "2024-09-06T17:23:12.525Z"
   },
   {
    "duration": 5,
    "start_time": "2024-09-06T17:23:12.533Z"
   },
   {
    "duration": 10,
    "start_time": "2024-09-06T17:23:12.539Z"
   },
   {
    "duration": 7,
    "start_time": "2024-09-06T17:23:12.550Z"
   },
   {
    "duration": 25,
    "start_time": "2024-09-06T17:23:12.558Z"
   },
   {
    "duration": 34,
    "start_time": "2024-09-06T17:23:12.585Z"
   },
   {
    "duration": 718,
    "start_time": "2024-09-06T17:23:12.621Z"
   },
   {
    "duration": 3,
    "start_time": "2024-09-06T17:23:13.340Z"
   },
   {
    "duration": 31,
    "start_time": "2024-09-06T17:23:13.344Z"
   },
   {
    "duration": 20,
    "start_time": "2024-09-06T17:23:13.378Z"
   },
   {
    "duration": 32,
    "start_time": "2024-09-06T17:23:13.400Z"
   },
   {
    "duration": 17,
    "start_time": "2024-09-06T17:23:13.433Z"
   },
   {
    "duration": 4,
    "start_time": "2024-09-06T17:23:13.451Z"
   },
   {
    "duration": 7,
    "start_time": "2024-09-06T17:23:13.591Z"
   },
   {
    "duration": 5,
    "start_time": "2024-09-06T17:23:13.806Z"
   },
   {
    "duration": 12,
    "start_time": "2024-09-06T17:23:14.030Z"
   },
   {
    "duration": 86,
    "start_time": "2024-09-06T17:23:14.269Z"
   },
   {
    "duration": 6,
    "start_time": "2024-09-06T17:23:14.499Z"
   },
   {
    "duration": 88,
    "start_time": "2024-09-06T17:23:14.741Z"
   },
   {
    "duration": 2,
    "start_time": "2024-09-06T17:23:14.962Z"
   },
   {
    "duration": 6,
    "start_time": "2024-09-06T17:23:15.357Z"
   },
   {
    "duration": 5,
    "start_time": "2024-09-06T17:23:15.817Z"
   },
   {
    "duration": 5,
    "start_time": "2024-09-06T17:23:17.234Z"
   },
   {
    "duration": 5,
    "start_time": "2024-09-06T17:23:17.549Z"
   },
   {
    "duration": 10,
    "start_time": "2024-09-06T17:23:17.762Z"
   },
   {
    "duration": 80,
    "start_time": "2024-09-06T17:23:17.981Z"
   },
   {
    "duration": 2,
    "start_time": "2024-09-06T17:23:18.193Z"
   },
   {
    "duration": 6,
    "start_time": "2024-09-06T17:23:18.401Z"
   },
   {
    "duration": 5,
    "start_time": "2024-09-06T17:23:18.618Z"
   },
   {
    "duration": 5,
    "start_time": "2024-09-06T17:23:18.835Z"
   },
   {
    "duration": 8,
    "start_time": "2024-09-06T17:23:19.033Z"
   },
   {
    "duration": 5,
    "start_time": "2024-09-06T17:23:19.266Z"
   },
   {
    "duration": 8,
    "start_time": "2024-09-06T17:23:19.490Z"
   },
   {
    "duration": 155,
    "start_time": "2024-09-06T17:23:19.690Z"
   },
   {
    "duration": 10,
    "start_time": "2024-09-06T17:23:21.234Z"
   },
   {
    "duration": 4,
    "start_time": "2024-09-06T17:23:21.425Z"
   },
   {
    "duration": 1228,
    "start_time": "2024-09-06T17:23:21.651Z"
   },
   {
    "duration": 228,
    "start_time": "2024-09-06T17:23:22.881Z"
   },
   {
    "duration": 216,
    "start_time": "2024-09-06T17:23:23.110Z"
   },
   {
    "duration": 15,
    "start_time": "2024-09-06T17:23:23.328Z"
   },
   {
    "duration": 9,
    "start_time": "2024-09-06T17:23:24.594Z"
   },
   {
    "duration": 6,
    "start_time": "2024-09-06T17:23:25.430Z"
   },
   {
    "duration": 170,
    "start_time": "2024-09-06T17:23:25.839Z"
   },
   {
    "duration": 290,
    "start_time": "2024-09-06T17:23:26.043Z"
   },
   {
    "duration": 144,
    "start_time": "2024-09-06T17:23:26.335Z"
   },
   {
    "duration": 0,
    "start_time": "2024-09-06T17:23:26.481Z"
   },
   {
    "duration": 6,
    "start_time": "2024-09-06T17:23:26.601Z"
   },
   {
    "duration": 268,
    "start_time": "2024-09-06T17:23:27.445Z"
   },
   {
    "duration": 222,
    "start_time": "2024-09-06T17:23:27.715Z"
   },
   {
    "duration": 8,
    "start_time": "2024-09-06T17:23:27.938Z"
   },
   {
    "duration": 8,
    "start_time": "2024-09-06T17:23:28.012Z"
   },
   {
    "duration": 224,
    "start_time": "2024-09-06T17:23:28.220Z"
   },
   {
    "duration": 19,
    "start_time": "2024-09-06T17:23:29.098Z"
   },
   {
    "duration": 19,
    "start_time": "2024-09-06T17:23:29.325Z"
   },
   {
    "duration": 7,
    "start_time": "2024-09-06T17:23:51.635Z"
   },
   {
    "duration": 8,
    "start_time": "2024-09-06T17:25:23.779Z"
   },
   {
    "duration": 2403,
    "start_time": "2024-09-06T17:25:50.128Z"
   },
   {
    "duration": 2444,
    "start_time": "2024-09-06T17:25:52.534Z"
   },
   {
    "duration": 1616,
    "start_time": "2024-09-06T17:25:54.979Z"
   },
   {
    "duration": 38,
    "start_time": "2024-09-06T17:25:56.596Z"
   },
   {
    "duration": 19,
    "start_time": "2024-09-06T17:25:56.635Z"
   },
   {
    "duration": 19,
    "start_time": "2024-09-06T17:25:56.656Z"
   },
   {
    "duration": 28,
    "start_time": "2024-09-06T17:25:56.676Z"
   },
   {
    "duration": 2,
    "start_time": "2024-09-06T17:25:56.706Z"
   },
   {
    "duration": 10,
    "start_time": "2024-09-06T17:25:56.709Z"
   },
   {
    "duration": 5,
    "start_time": "2024-09-06T17:25:56.721Z"
   },
   {
    "duration": 3,
    "start_time": "2024-09-06T17:25:56.727Z"
   },
   {
    "duration": 5,
    "start_time": "2024-09-06T17:25:56.731Z"
   },
   {
    "duration": 4,
    "start_time": "2024-09-06T17:25:56.737Z"
   },
   {
    "duration": 9,
    "start_time": "2024-09-06T17:25:56.742Z"
   },
   {
    "duration": 7,
    "start_time": "2024-09-06T17:25:56.752Z"
   },
   {
    "duration": 5,
    "start_time": "2024-09-06T17:25:56.761Z"
   },
   {
    "duration": 55,
    "start_time": "2024-09-06T17:25:56.767Z"
   },
   {
    "duration": 639,
    "start_time": "2024-09-06T17:25:56.823Z"
   },
   {
    "duration": 2,
    "start_time": "2024-09-06T17:25:57.464Z"
   },
   {
    "duration": 31,
    "start_time": "2024-09-06T17:25:57.467Z"
   },
   {
    "duration": 8,
    "start_time": "2024-09-06T17:25:57.500Z"
   },
   {
    "duration": 9,
    "start_time": "2024-09-06T17:25:57.510Z"
   },
   {
    "duration": 11,
    "start_time": "2024-09-06T17:25:57.521Z"
   },
   {
    "duration": 5,
    "start_time": "2024-09-06T17:25:57.533Z"
   },
   {
    "duration": 8,
    "start_time": "2024-09-06T17:25:57.539Z"
   },
   {
    "duration": 6,
    "start_time": "2024-09-06T17:25:57.550Z"
   },
   {
    "duration": 33,
    "start_time": "2024-09-06T17:25:57.557Z"
   },
   {
    "duration": 247,
    "start_time": "2024-09-06T17:25:57.591Z"
   },
   {
    "duration": 5,
    "start_time": "2024-09-06T17:25:57.840Z"
   },
   {
    "duration": 87,
    "start_time": "2024-09-06T17:25:57.846Z"
   },
   {
    "duration": 1,
    "start_time": "2024-09-06T17:25:57.935Z"
   },
   {
    "duration": 6,
    "start_time": "2024-09-06T17:25:57.969Z"
   },
   {
    "duration": 5,
    "start_time": "2024-09-06T17:25:58.158Z"
   },
   {
    "duration": 5,
    "start_time": "2024-09-06T17:25:58.365Z"
   },
   {
    "duration": 5,
    "start_time": "2024-09-06T17:25:58.574Z"
   },
   {
    "duration": 12,
    "start_time": "2024-09-06T17:25:58.838Z"
   },
   {
    "duration": 86,
    "start_time": "2024-09-06T17:25:58.991Z"
   },
   {
    "duration": 2,
    "start_time": "2024-09-06T17:25:59.217Z"
   },
   {
    "duration": 7,
    "start_time": "2024-09-06T17:25:59.414Z"
   },
   {
    "duration": 5,
    "start_time": "2024-09-06T17:25:59.637Z"
   },
   {
    "duration": 5,
    "start_time": "2024-09-06T17:25:59.845Z"
   },
   {
    "duration": 9,
    "start_time": "2024-09-06T17:26:00.083Z"
   },
   {
    "duration": 6,
    "start_time": "2024-09-06T17:26:00.293Z"
   },
   {
    "duration": 8,
    "start_time": "2024-09-06T17:26:00.518Z"
   },
   {
    "duration": 146,
    "start_time": "2024-09-06T17:26:00.734Z"
   },
   {
    "duration": 10,
    "start_time": "2024-09-06T17:26:01.701Z"
   },
   {
    "duration": 3,
    "start_time": "2024-09-06T17:26:01.982Z"
   },
   {
    "duration": 1214,
    "start_time": "2024-09-06T17:26:02.245Z"
   },
   {
    "duration": 174,
    "start_time": "2024-09-06T17:26:03.461Z"
   },
   {
    "duration": 198,
    "start_time": "2024-09-06T17:26:03.636Z"
   },
   {
    "duration": 16,
    "start_time": "2024-09-06T17:26:03.906Z"
   },
   {
    "duration": 16,
    "start_time": "2024-09-06T17:26:03.924Z"
   },
   {
    "duration": 9,
    "start_time": "2024-09-06T17:26:04.118Z"
   },
   {
    "duration": 230,
    "start_time": "2024-09-06T17:26:04.579Z"
   },
   {
    "duration": 294,
    "start_time": "2024-09-06T17:26:05.039Z"
   },
   {
    "duration": 8,
    "start_time": "2024-09-06T17:26:05.854Z"
   },
   {
    "duration": 6,
    "start_time": "2024-09-06T17:26:06.246Z"
   },
   {
    "duration": 251,
    "start_time": "2024-09-06T17:26:06.673Z"
   },
   {
    "duration": 236,
    "start_time": "2024-09-06T17:26:07.005Z"
   },
   {
    "duration": 7,
    "start_time": "2024-09-06T17:26:07.552Z"
   },
   {
    "duration": 6,
    "start_time": "2024-09-06T17:26:08.317Z"
   },
   {
    "duration": 259,
    "start_time": "2024-09-06T17:26:08.889Z"
   },
   {
    "duration": 20,
    "start_time": "2024-09-06T17:26:10.941Z"
   },
   {
    "duration": 20,
    "start_time": "2024-09-06T17:26:11.354Z"
   },
   {
    "duration": 11,
    "start_time": "2024-09-06T17:26:11.813Z"
   },
   {
    "duration": 9,
    "start_time": "2024-09-06T17:26:12.270Z"
   },
   {
    "duration": 15,
    "start_time": "2024-09-06T17:26:12.693Z"
   },
   {
    "duration": 6,
    "start_time": "2024-09-06T17:26:13.134Z"
   },
   {
    "duration": 3,
    "start_time": "2024-09-06T17:26:13.525Z"
   },
   {
    "duration": 11,
    "start_time": "2024-09-06T17:26:15.301Z"
   },
   {
    "duration": 2126,
    "start_time": "2024-09-06T17:26:16.647Z"
   },
   {
    "duration": 108,
    "start_time": "2024-09-06T17:26:19.944Z"
   },
   {
    "duration": 119,
    "start_time": "2024-09-06T17:26:20.702Z"
   },
   {
    "duration": 129,
    "start_time": "2024-09-06T17:26:21.278Z"
   },
   {
    "duration": 134,
    "start_time": "2024-09-06T17:26:21.668Z"
   },
   {
    "duration": 120,
    "start_time": "2024-09-06T17:26:22.267Z"
   },
   {
    "duration": 19767,
    "start_time": "2024-09-06T17:26:24.687Z"
   },
   {
    "duration": 0,
    "start_time": "2024-09-06T17:26:44.456Z"
   },
   {
    "duration": 0,
    "start_time": "2024-09-06T17:26:44.457Z"
   },
   {
    "duration": 766,
    "start_time": "2024-09-06T17:27:30.754Z"
   },
   {
    "duration": 14,
    "start_time": "2024-09-06T17:27:32.314Z"
   },
   {
    "duration": 3416,
    "start_time": "2024-09-09T17:02:20.642Z"
   },
   {
    "duration": 3427,
    "start_time": "2024-09-09T17:02:24.060Z"
   },
   {
    "duration": 1884,
    "start_time": "2024-09-09T17:02:27.489Z"
   },
   {
    "duration": 138,
    "start_time": "2024-09-09T17:02:29.376Z"
   },
   {
    "duration": 120,
    "start_time": "2024-09-09T17:02:29.515Z"
   },
   {
    "duration": 74,
    "start_time": "2024-09-09T17:02:29.636Z"
   },
   {
    "duration": 71,
    "start_time": "2024-09-09T17:02:29.711Z"
   },
   {
    "duration": 2,
    "start_time": "2024-09-09T17:02:29.784Z"
   },
   {
    "duration": 11,
    "start_time": "2024-09-09T17:02:29.787Z"
   },
   {
    "duration": 5,
    "start_time": "2024-09-09T17:02:29.801Z"
   },
   {
    "duration": 4,
    "start_time": "2024-09-09T17:02:29.807Z"
   },
   {
    "duration": 7,
    "start_time": "2024-09-09T17:02:29.813Z"
   },
   {
    "duration": 6,
    "start_time": "2024-09-09T17:02:29.821Z"
   },
   {
    "duration": 14,
    "start_time": "2024-09-09T17:02:29.828Z"
   },
   {
    "duration": 6,
    "start_time": "2024-09-09T17:02:29.844Z"
   },
   {
    "duration": 6,
    "start_time": "2024-09-09T17:02:29.851Z"
   },
   {
    "duration": 29,
    "start_time": "2024-09-09T17:02:29.858Z"
   },
   {
    "duration": 780,
    "start_time": "2024-09-09T17:02:29.888Z"
   },
   {
    "duration": 2,
    "start_time": "2024-09-09T17:02:30.670Z"
   },
   {
    "duration": 40,
    "start_time": "2024-09-09T17:02:30.673Z"
   },
   {
    "duration": 16,
    "start_time": "2024-09-09T17:02:30.714Z"
   },
   {
    "duration": 60,
    "start_time": "2024-09-09T17:02:30.733Z"
   },
   {
    "duration": 21,
    "start_time": "2024-09-09T17:02:30.794Z"
   },
   {
    "duration": 6,
    "start_time": "2024-09-09T17:02:30.817Z"
   },
   {
    "duration": 8,
    "start_time": "2024-09-09T17:02:31.013Z"
   },
   {
    "duration": 6,
    "start_time": "2024-09-09T17:02:31.349Z"
   },
   {
    "duration": 13,
    "start_time": "2024-09-09T17:02:31.621Z"
   },
   {
    "duration": 94,
    "start_time": "2024-09-09T17:02:31.845Z"
   },
   {
    "duration": 6,
    "start_time": "2024-09-09T17:02:32.081Z"
   },
   {
    "duration": 102,
    "start_time": "2024-09-09T17:02:32.284Z"
   },
   {
    "duration": 2,
    "start_time": "2024-09-09T17:02:32.527Z"
   },
   {
    "duration": 6,
    "start_time": "2024-09-09T17:02:32.773Z"
   },
   {
    "duration": 5,
    "start_time": "2024-09-09T17:02:33.554Z"
   },
   {
    "duration": 5,
    "start_time": "2024-09-09T17:02:34.011Z"
   },
   {
    "duration": 5,
    "start_time": "2024-09-09T17:02:34.417Z"
   },
   {
    "duration": 13,
    "start_time": "2024-09-09T17:02:34.814Z"
   },
   {
    "duration": 97,
    "start_time": "2024-09-09T17:02:35.273Z"
   },
   {
    "duration": 2,
    "start_time": "2024-09-09T17:02:35.717Z"
   },
   {
    "duration": 6,
    "start_time": "2024-09-09T17:02:36.227Z"
   },
   {
    "duration": 5,
    "start_time": "2024-09-09T17:02:36.614Z"
   },
   {
    "duration": 5,
    "start_time": "2024-09-09T17:02:37.029Z"
   },
   {
    "duration": 10,
    "start_time": "2024-09-09T17:02:37.420Z"
   },
   {
    "duration": 4,
    "start_time": "2024-09-09T17:02:37.829Z"
   },
   {
    "duration": 9,
    "start_time": "2024-09-09T17:02:38.189Z"
   },
   {
    "duration": 178,
    "start_time": "2024-09-09T17:02:38.557Z"
   },
   {
    "duration": 11,
    "start_time": "2024-09-09T17:02:40.005Z"
   },
   {
    "duration": 4,
    "start_time": "2024-09-09T17:02:40.477Z"
   },
   {
    "duration": 1428,
    "start_time": "2024-09-09T17:02:40.701Z"
   },
   {
    "duration": 224,
    "start_time": "2024-09-09T17:02:42.131Z"
   },
   {
    "duration": 199,
    "start_time": "2024-09-09T17:02:42.356Z"
   },
   {
    "duration": 13,
    "start_time": "2024-09-09T17:02:42.557Z"
   },
   {
    "duration": 25,
    "start_time": "2024-09-09T17:02:42.571Z"
   },
   {
    "duration": 14,
    "start_time": "2024-09-09T17:02:42.598Z"
   },
   {
    "duration": 241,
    "start_time": "2024-09-09T17:02:42.614Z"
   },
   {
    "duration": 310,
    "start_time": "2024-09-09T17:02:43.650Z"
   },
   {
    "duration": 9,
    "start_time": "2024-09-09T17:02:43.962Z"
   },
   {
    "duration": 6,
    "start_time": "2024-09-09T17:02:44.237Z"
   },
   {
    "duration": 323,
    "start_time": "2024-09-09T17:02:44.629Z"
   },
   {
    "duration": 277,
    "start_time": "2024-09-09T17:02:45.088Z"
   },
   {
    "duration": 9,
    "start_time": "2024-09-09T17:02:45.581Z"
   },
   {
    "duration": 7,
    "start_time": "2024-09-09T17:02:46.029Z"
   },
   {
    "duration": 261,
    "start_time": "2024-09-09T17:02:46.499Z"
   },
   {
    "duration": 24,
    "start_time": "2024-09-09T17:02:52.960Z"
   },
   {
    "duration": 16,
    "start_time": "2024-09-09T17:02:53.441Z"
   },
   {
    "duration": 12,
    "start_time": "2024-09-09T17:02:57.924Z"
   },
   {
    "duration": 10,
    "start_time": "2024-09-09T17:02:58.314Z"
   },
   {
    "duration": 18,
    "start_time": "2024-09-09T17:02:58.861Z"
   },
   {
    "duration": 8,
    "start_time": "2024-09-09T17:02:59.357Z"
   },
   {
    "duration": 2307,
    "start_time": "2024-09-09T17:09:54.950Z"
   },
   {
    "duration": 2319,
    "start_time": "2024-09-09T17:09:57.259Z"
   },
   {
    "duration": 1672,
    "start_time": "2024-09-09T17:09:59.582Z"
   },
   {
    "duration": 42,
    "start_time": "2024-09-09T17:10:01.255Z"
   },
   {
    "duration": 21,
    "start_time": "2024-09-09T17:10:01.298Z"
   },
   {
    "duration": 27,
    "start_time": "2024-09-09T17:10:01.321Z"
   },
   {
    "duration": 29,
    "start_time": "2024-09-09T17:10:01.350Z"
   },
   {
    "duration": 2,
    "start_time": "2024-09-09T17:10:01.381Z"
   },
   {
    "duration": 37,
    "start_time": "2024-09-09T17:10:01.384Z"
   },
   {
    "duration": 39,
    "start_time": "2024-09-09T17:10:01.423Z"
   },
   {
    "duration": 11,
    "start_time": "2024-09-09T17:10:01.463Z"
   },
   {
    "duration": 62,
    "start_time": "2024-09-09T17:10:01.476Z"
   },
   {
    "duration": 39,
    "start_time": "2024-09-09T17:10:01.540Z"
   },
   {
    "duration": 17,
    "start_time": "2024-09-09T17:10:01.580Z"
   },
   {
    "duration": 43,
    "start_time": "2024-09-09T17:10:01.599Z"
   },
   {
    "duration": 12,
    "start_time": "2024-09-09T17:10:01.644Z"
   },
   {
    "duration": 36,
    "start_time": "2024-09-09T17:10:01.657Z"
   },
   {
    "duration": 736,
    "start_time": "2024-09-09T17:10:01.694Z"
   },
   {
    "duration": 2,
    "start_time": "2024-09-09T17:10:02.433Z"
   },
   {
    "duration": 12,
    "start_time": "2024-09-09T17:10:02.437Z"
   },
   {
    "duration": 14,
    "start_time": "2024-09-09T17:10:02.451Z"
   },
   {
    "duration": 5,
    "start_time": "2024-09-09T17:10:03.153Z"
   },
   {
    "duration": 10,
    "start_time": "2024-09-09T17:10:03.993Z"
   },
   {
    "duration": 6,
    "start_time": "2024-09-09T17:10:08.184Z"
   },
   {
    "duration": 8,
    "start_time": "2024-09-09T17:10:08.621Z"
   },
   {
    "duration": 6,
    "start_time": "2024-09-09T17:10:09.024Z"
   },
   {
    "duration": 14,
    "start_time": "2024-09-09T17:10:09.313Z"
   },
   {
    "duration": 124,
    "start_time": "2024-09-09T17:10:09.573Z"
   },
   {
    "duration": 6,
    "start_time": "2024-09-09T17:10:10.040Z"
   },
   {
    "duration": 97,
    "start_time": "2024-09-09T17:10:10.417Z"
   },
   {
    "duration": 2,
    "start_time": "2024-09-09T17:10:10.673Z"
   },
   {
    "duration": 7,
    "start_time": "2024-09-09T17:10:10.920Z"
   },
   {
    "duration": 5,
    "start_time": "2024-09-09T17:10:11.180Z"
   },
   {
    "duration": 6,
    "start_time": "2024-09-09T17:10:11.437Z"
   },
   {
    "duration": 6,
    "start_time": "2024-09-09T17:10:12.047Z"
   },
   {
    "duration": 54,
    "start_time": "2024-09-09T17:10:12.054Z"
   },
   {
    "duration": 100,
    "start_time": "2024-09-09T17:10:12.129Z"
   },
   {
    "duration": 2,
    "start_time": "2024-09-09T17:10:12.328Z"
   },
   {
    "duration": 7,
    "start_time": "2024-09-09T17:10:12.548Z"
   },
   {
    "duration": 5,
    "start_time": "2024-09-09T17:10:13.646Z"
   },
   {
    "duration": 6,
    "start_time": "2024-09-09T17:17:46.467Z"
   },
   {
    "duration": 10,
    "start_time": "2024-09-09T17:17:47.565Z"
   },
   {
    "duration": 4,
    "start_time": "2024-09-09T17:17:48.213Z"
   },
   {
    "duration": 8,
    "start_time": "2024-09-09T17:17:48.655Z"
   },
   {
    "duration": 181,
    "start_time": "2024-09-09T17:17:49.015Z"
   },
   {
    "duration": 10,
    "start_time": "2024-09-09T17:17:50.864Z"
   },
   {
    "duration": 4,
    "start_time": "2024-09-09T17:17:51.373Z"
   },
   {
    "duration": 1367,
    "start_time": "2024-09-09T17:17:51.765Z"
   },
   {
    "duration": 209,
    "start_time": "2024-09-09T17:17:53.133Z"
   },
   {
    "duration": 194,
    "start_time": "2024-09-09T17:17:53.344Z"
   },
   {
    "duration": 13,
    "start_time": "2024-09-09T17:17:53.539Z"
   },
   {
    "duration": 15,
    "start_time": "2024-09-09T17:17:53.553Z"
   },
   {
    "duration": 7,
    "start_time": "2024-09-09T17:17:53.569Z"
   },
   {
    "duration": 252,
    "start_time": "2024-09-09T17:17:53.577Z"
   },
   {
    "duration": 299,
    "start_time": "2024-09-09T17:17:54.069Z"
   },
   {
    "duration": 10,
    "start_time": "2024-09-09T17:17:54.613Z"
   },
   {
    "duration": 7,
    "start_time": "2024-09-09T17:17:55.045Z"
   },
   {
    "duration": 331,
    "start_time": "2024-09-09T17:17:55.497Z"
   },
   {
    "duration": 220,
    "start_time": "2024-09-09T17:17:55.949Z"
   },
   {
    "duration": 10,
    "start_time": "2024-09-09T17:17:56.454Z"
   },
   {
    "duration": 6,
    "start_time": "2024-09-09T17:17:56.894Z"
   },
   {
    "duration": 258,
    "start_time": "2024-09-09T17:17:57.405Z"
   },
   {
    "duration": 2219,
    "start_time": "2024-09-09T17:19:54.565Z"
   },
   {
    "duration": 2223,
    "start_time": "2024-09-09T17:19:56.786Z"
   },
   {
    "duration": 2277,
    "start_time": "2024-09-09T17:19:59.011Z"
   },
   {
    "duration": 41,
    "start_time": "2024-09-09T17:20:01.290Z"
   },
   {
    "duration": 21,
    "start_time": "2024-09-09T17:20:01.997Z"
   },
   {
    "duration": 33,
    "start_time": "2024-09-09T17:20:02.593Z"
   },
   {
    "duration": 30,
    "start_time": "2024-09-09T17:20:03.045Z"
   },
   {
    "duration": 2,
    "start_time": "2024-09-09T17:20:04.685Z"
   },
   {
    "duration": 11,
    "start_time": "2024-09-09T17:20:04.974Z"
   },
   {
    "duration": 6,
    "start_time": "2024-09-09T17:20:05.293Z"
   },
   {
    "duration": 4,
    "start_time": "2024-09-09T17:20:05.595Z"
   },
   {
    "duration": 5,
    "start_time": "2024-09-09T17:20:06.114Z"
   },
   {
    "duration": 4,
    "start_time": "2024-09-09T17:20:06.537Z"
   },
   {
    "duration": 10,
    "start_time": "2024-09-09T17:20:06.873Z"
   },
   {
    "duration": 6,
    "start_time": "2024-09-09T17:20:07.293Z"
   },
   {
    "duration": 6,
    "start_time": "2024-09-09T17:20:07.689Z"
   },
   {
    "duration": 30,
    "start_time": "2024-09-09T17:20:08.118Z"
   },
   {
    "duration": 678,
    "start_time": "2024-09-09T17:20:08.618Z"
   },
   {
    "duration": 2,
    "start_time": "2024-09-09T17:20:09.298Z"
   },
   {
    "duration": 20,
    "start_time": "2024-09-09T17:20:09.304Z"
   },
   {
    "duration": 5,
    "start_time": "2024-09-09T17:20:09.660Z"
   },
   {
    "duration": 10,
    "start_time": "2024-09-09T17:20:10.017Z"
   },
   {
    "duration": 7,
    "start_time": "2024-09-09T17:20:10.444Z"
   },
   {
    "duration": 7,
    "start_time": "2024-09-09T17:20:12.661Z"
   },
   {
    "duration": 6,
    "start_time": "2024-09-09T17:20:13.509Z"
   },
   {
    "duration": 12,
    "start_time": "2024-09-09T17:20:14.574Z"
   },
   {
    "duration": 95,
    "start_time": "2024-09-09T17:20:15.254Z"
   },
   {
    "duration": 6,
    "start_time": "2024-09-09T17:20:16.740Z"
   },
   {
    "duration": 86,
    "start_time": "2024-09-09T17:20:17.281Z"
   },
   {
    "duration": 2,
    "start_time": "2024-09-09T17:20:17.869Z"
   },
   {
    "duration": 6,
    "start_time": "2024-09-09T17:20:18.341Z"
   },
   {
    "duration": 4,
    "start_time": "2024-09-09T17:20:18.814Z"
   },
   {
    "duration": 7,
    "start_time": "2024-09-09T17:20:19.581Z"
   },
   {
    "duration": 5,
    "start_time": "2024-09-09T17:20:20.029Z"
   },
   {
    "duration": 14,
    "start_time": "2024-09-09T17:20:20.387Z"
   },
   {
    "duration": 107,
    "start_time": "2024-09-09T17:20:21.062Z"
   },
   {
    "duration": 3,
    "start_time": "2024-09-09T17:20:21.437Z"
   },
   {
    "duration": 9,
    "start_time": "2024-09-09T17:20:21.807Z"
   },
   {
    "duration": 5,
    "start_time": "2024-09-09T17:20:22.129Z"
   },
   {
    "duration": 6,
    "start_time": "2024-09-09T17:20:22.353Z"
   },
   {
    "duration": 8,
    "start_time": "2024-09-09T17:20:22.556Z"
   },
   {
    "duration": 4,
    "start_time": "2024-09-09T17:20:23.006Z"
   },
   {
    "duration": 9,
    "start_time": "2024-09-09T17:20:28.749Z"
   },
   {
    "duration": 179,
    "start_time": "2024-09-09T17:20:29.665Z"
   },
   {
    "duration": 11,
    "start_time": "2024-09-09T17:20:32.505Z"
   },
   {
    "duration": 4,
    "start_time": "2024-09-09T17:20:33.090Z"
   },
   {
    "duration": 1304,
    "start_time": "2024-09-09T17:20:33.638Z"
   },
   {
    "duration": 232,
    "start_time": "2024-09-09T17:20:35.202Z"
   },
   {
    "duration": 189,
    "start_time": "2024-09-09T17:20:36.238Z"
   },
   {
    "duration": 13,
    "start_time": "2024-09-09T17:20:37.221Z"
   },
   {
    "duration": 11,
    "start_time": "2024-09-09T17:20:38.010Z"
   },
   {
    "duration": 7,
    "start_time": "2024-09-09T17:20:38.417Z"
   },
   {
    "duration": 192,
    "start_time": "2024-09-09T17:20:39.044Z"
   },
   {
    "duration": 277,
    "start_time": "2024-09-09T17:20:42.501Z"
   },
   {
    "duration": 10,
    "start_time": "2024-09-09T17:20:44.073Z"
   },
   {
    "duration": 6,
    "start_time": "2024-09-09T17:20:50.694Z"
   },
   {
    "duration": 292,
    "start_time": "2024-09-09T17:20:54.141Z"
   },
   {
    "duration": 314,
    "start_time": "2024-09-09T17:20:59.562Z"
   },
   {
    "duration": 9,
    "start_time": "2024-09-09T17:21:00.475Z"
   },
   {
    "duration": 7,
    "start_time": "2024-09-09T17:21:05.201Z"
   },
   {
    "duration": 283,
    "start_time": "2024-09-09T17:21:07.457Z"
   },
   {
    "duration": 5,
    "start_time": "2024-09-09T17:23:42.597Z"
   },
   {
    "duration": 2188,
    "start_time": "2024-09-09T17:25:09.345Z"
   },
   {
    "duration": 2212,
    "start_time": "2024-09-09T17:25:11.535Z"
   },
   {
    "duration": 1744,
    "start_time": "2024-09-09T17:25:13.830Z"
   },
   {
    "duration": 42,
    "start_time": "2024-09-09T17:25:17.381Z"
   },
   {
    "duration": 21,
    "start_time": "2024-09-09T17:25:18.182Z"
   },
   {
    "duration": 32,
    "start_time": "2024-09-09T17:25:18.654Z"
   },
   {
    "duration": 5,
    "start_time": "2024-09-09T17:25:19.161Z"
   },
   {
    "duration": 39,
    "start_time": "2024-09-09T17:25:28.550Z"
   },
   {
    "duration": 2,
    "start_time": "2024-09-09T17:25:31.192Z"
   },
   {
    "duration": 11,
    "start_time": "2024-09-09T17:25:31.379Z"
   },
   {
    "duration": 6,
    "start_time": "2024-09-09T17:25:31.583Z"
   },
   {
    "duration": 3,
    "start_time": "2024-09-09T17:25:31.718Z"
   },
   {
    "duration": 5,
    "start_time": "2024-09-09T17:25:31.910Z"
   },
   {
    "duration": 3,
    "start_time": "2024-09-09T17:25:32.101Z"
   },
   {
    "duration": 9,
    "start_time": "2024-09-09T17:25:32.278Z"
   },
   {
    "duration": 7,
    "start_time": "2024-09-09T17:25:32.474Z"
   },
   {
    "duration": 6,
    "start_time": "2024-09-09T17:25:32.694Z"
   },
   {
    "duration": 28,
    "start_time": "2024-09-09T17:25:32.901Z"
   },
   {
    "duration": 703,
    "start_time": "2024-09-09T17:25:33.099Z"
   },
   {
    "duration": 2,
    "start_time": "2024-09-09T17:25:33.803Z"
   },
   {
    "duration": 15,
    "start_time": "2024-09-09T17:25:33.807Z"
   },
   {
    "duration": 7,
    "start_time": "2024-09-09T17:25:33.826Z"
   },
   {
    "duration": 10,
    "start_time": "2024-09-09T17:25:33.880Z"
   },
   {
    "duration": 5,
    "start_time": "2024-09-09T17:25:34.071Z"
   },
   {
    "duration": 7,
    "start_time": "2024-09-09T17:25:34.263Z"
   },
   {
    "duration": 5,
    "start_time": "2024-09-09T17:25:34.462Z"
   },
   {
    "duration": 13,
    "start_time": "2024-09-09T17:25:34.670Z"
   },
   {
    "duration": 93,
    "start_time": "2024-09-09T17:25:34.870Z"
   },
   {
    "duration": 5,
    "start_time": "2024-09-09T17:25:35.071Z"
   },
   {
    "duration": 90,
    "start_time": "2024-09-09T17:25:35.270Z"
   },
   {
    "duration": 2,
    "start_time": "2024-09-09T17:25:35.472Z"
   },
   {
    "duration": 6,
    "start_time": "2024-09-09T17:25:35.661Z"
   },
   {
    "duration": 4,
    "start_time": "2024-09-09T17:25:35.863Z"
   },
   {
    "duration": 5,
    "start_time": "2024-09-09T17:25:36.053Z"
   },
   {
    "duration": 5,
    "start_time": "2024-09-09T17:25:36.245Z"
   },
   {
    "duration": 12,
    "start_time": "2024-09-09T17:25:36.470Z"
   },
   {
    "duration": 95,
    "start_time": "2024-09-09T17:25:36.670Z"
   },
   {
    "duration": 2,
    "start_time": "2024-09-09T17:25:36.878Z"
   },
   {
    "duration": 6,
    "start_time": "2024-09-09T17:25:37.088Z"
   },
   {
    "duration": 5,
    "start_time": "2024-09-09T17:25:37.293Z"
   },
   {
    "duration": 5,
    "start_time": "2024-09-09T17:25:37.486Z"
   },
   {
    "duration": 9,
    "start_time": "2024-09-09T17:25:37.719Z"
   },
   {
    "duration": 4,
    "start_time": "2024-09-09T17:25:37.919Z"
   },
   {
    "duration": 9,
    "start_time": "2024-09-09T17:25:38.117Z"
   },
   {
    "duration": 172,
    "start_time": "2024-09-09T17:25:38.335Z"
   },
   {
    "duration": 11,
    "start_time": "2024-09-09T17:25:39.189Z"
   },
   {
    "duration": 4,
    "start_time": "2024-09-09T17:25:39.398Z"
   },
   {
    "duration": 1372,
    "start_time": "2024-09-09T17:25:39.638Z"
   },
   {
    "duration": 220,
    "start_time": "2024-09-09T17:25:41.012Z"
   },
   {
    "duration": 195,
    "start_time": "2024-09-09T17:25:41.234Z"
   },
   {
    "duration": 12,
    "start_time": "2024-09-09T17:25:41.431Z"
   },
   {
    "duration": 11,
    "start_time": "2024-09-09T17:25:41.444Z"
   },
   {
    "duration": 7,
    "start_time": "2024-09-09T17:25:41.456Z"
   },
   {
    "duration": 276,
    "start_time": "2024-09-09T17:25:41.465Z"
   },
   {
    "duration": 316,
    "start_time": "2024-09-09T17:25:41.742Z"
   },
   {
    "duration": 10,
    "start_time": "2024-09-09T17:25:42.059Z"
   },
   {
    "duration": 9,
    "start_time": "2024-09-09T17:25:42.070Z"
   },
   {
    "duration": 272,
    "start_time": "2024-09-09T17:25:42.080Z"
   },
   {
    "duration": 73,
    "start_time": "2024-09-09T17:25:42.354Z"
   },
   {
    "duration": 244,
    "start_time": "2024-09-09T17:25:42.531Z"
   },
   {
    "duration": 10,
    "start_time": "2024-09-09T17:25:42.835Z"
   },
   {
    "duration": 6,
    "start_time": "2024-09-09T17:25:43.204Z"
   },
   {
    "duration": 216,
    "start_time": "2024-09-09T17:25:43.347Z"
   },
   {
    "duration": 22,
    "start_time": "2024-09-09T17:25:44.313Z"
   },
   {
    "duration": 17,
    "start_time": "2024-09-09T17:25:44.550Z"
   },
   {
    "duration": 12,
    "start_time": "2024-09-09T17:25:44.814Z"
   },
   {
    "duration": 13,
    "start_time": "2024-09-09T17:25:45.083Z"
   },
   {
    "duration": 18,
    "start_time": "2024-09-09T17:25:45.346Z"
   },
   {
    "duration": 6,
    "start_time": "2024-09-09T17:25:45.603Z"
   },
   {
    "duration": 2,
    "start_time": "2024-09-09T17:25:45.862Z"
   },
   {
    "duration": 11,
    "start_time": "2024-09-09T17:25:48.971Z"
   },
   {
    "duration": 2537,
    "start_time": "2024-09-09T17:25:49.553Z"
   },
   {
    "duration": 126,
    "start_time": "2024-09-09T17:25:52.091Z"
   },
   {
    "duration": 129,
    "start_time": "2024-09-09T17:25:52.219Z"
   },
   {
    "duration": 137,
    "start_time": "2024-09-09T17:25:52.350Z"
   },
   {
    "duration": 147,
    "start_time": "2024-09-09T17:25:52.488Z"
   },
   {
    "duration": 133,
    "start_time": "2024-09-09T17:25:52.637Z"
   },
   {
    "duration": 2220,
    "start_time": "2024-09-09T17:28:41.709Z"
   },
   {
    "duration": 2234,
    "start_time": "2024-09-09T17:28:45.534Z"
   },
   {
    "duration": 1748,
    "start_time": "2024-09-09T17:28:48.303Z"
   },
   {
    "duration": 40,
    "start_time": "2024-09-09T17:28:50.053Z"
   },
   {
    "duration": 22,
    "start_time": "2024-09-09T17:28:50.381Z"
   },
   {
    "duration": 32,
    "start_time": "2024-09-09T17:28:51.305Z"
   },
   {
    "duration": 29,
    "start_time": "2024-09-09T17:28:51.948Z"
   },
   {
    "duration": 2,
    "start_time": "2024-09-09T17:28:53.960Z"
   },
   {
    "duration": 12,
    "start_time": "2024-09-09T17:28:54.334Z"
   },
   {
    "duration": 6,
    "start_time": "2024-09-09T17:28:54.804Z"
   },
   {
    "duration": 4,
    "start_time": "2024-09-09T17:28:55.892Z"
   },
   {
    "duration": 5,
    "start_time": "2024-09-09T17:29:02.342Z"
   },
   {
    "duration": 6,
    "start_time": "2024-09-09T17:29:04.368Z"
   },
   {
    "duration": 15,
    "start_time": "2024-09-09T17:29:05.052Z"
   },
   {
    "duration": 8,
    "start_time": "2024-09-09T17:29:06.309Z"
   },
   {
    "duration": 6,
    "start_time": "2024-09-09T17:29:07.333Z"
   },
   {
    "duration": 30,
    "start_time": "2024-09-09T17:29:07.710Z"
   },
   {
    "duration": 759,
    "start_time": "2024-09-09T17:29:08.701Z"
   },
   {
    "duration": 2,
    "start_time": "2024-09-09T17:29:10.069Z"
   },
   {
    "duration": 8,
    "start_time": "2024-09-09T17:29:10.904Z"
   },
   {
    "duration": 4,
    "start_time": "2024-09-09T17:29:11.878Z"
   },
   {
    "duration": 10,
    "start_time": "2024-09-09T17:29:14.090Z"
   },
   {
    "duration": 6,
    "start_time": "2024-09-09T17:29:15.232Z"
   },
   {
    "duration": 8,
    "start_time": "2024-09-09T17:29:16.037Z"
   },
   {
    "duration": 5,
    "start_time": "2024-09-09T17:29:16.444Z"
   },
   {
    "duration": 13,
    "start_time": "2024-09-09T17:29:16.910Z"
   },
   {
    "duration": 92,
    "start_time": "2024-09-09T17:29:17.838Z"
   },
   {
    "duration": 6,
    "start_time": "2024-09-09T17:29:18.222Z"
   },
   {
    "duration": 90,
    "start_time": "2024-09-09T17:29:18.841Z"
   },
   {
    "duration": 2,
    "start_time": "2024-09-09T17:29:25.997Z"
   },
   {
    "duration": 7,
    "start_time": "2024-09-09T17:29:26.715Z"
   },
   {
    "duration": 5,
    "start_time": "2024-09-09T17:29:27.331Z"
   },
   {
    "duration": 5,
    "start_time": "2024-09-09T17:29:27.888Z"
   },
   {
    "duration": 5,
    "start_time": "2024-09-09T17:29:28.233Z"
   },
   {
    "duration": 13,
    "start_time": "2024-09-09T17:29:28.465Z"
   },
   {
    "duration": 98,
    "start_time": "2024-09-09T17:29:29.008Z"
   },
   {
    "duration": 2,
    "start_time": "2024-09-09T17:29:29.722Z"
   },
   {
    "duration": 6,
    "start_time": "2024-09-09T17:29:30.285Z"
   },
   {
    "duration": 6,
    "start_time": "2024-09-09T17:29:30.741Z"
   },
   {
    "duration": 6,
    "start_time": "2024-09-09T17:29:31.100Z"
   },
   {
    "duration": 9,
    "start_time": "2024-09-09T17:29:31.952Z"
   },
   {
    "duration": 10,
    "start_time": "2024-09-09T17:29:31.963Z"
   },
   {
    "duration": 9,
    "start_time": "2024-09-09T17:29:32.762Z"
   },
   {
    "duration": 176,
    "start_time": "2024-09-09T17:29:33.081Z"
   },
   {
    "duration": 11,
    "start_time": "2024-09-09T17:29:34.709Z"
   },
   {
    "duration": 4,
    "start_time": "2024-09-09T17:29:35.009Z"
   },
   {
    "duration": 1331,
    "start_time": "2024-09-09T17:29:35.248Z"
   },
   {
    "duration": 247,
    "start_time": "2024-09-09T17:29:36.580Z"
   },
   {
    "duration": 203,
    "start_time": "2024-09-09T17:29:36.828Z"
   },
   {
    "duration": 12,
    "start_time": "2024-09-09T17:29:37.033Z"
   },
   {
    "duration": 11,
    "start_time": "2024-09-09T17:29:37.046Z"
   },
   {
    "duration": 7,
    "start_time": "2024-09-09T17:29:37.058Z"
   },
   {
    "duration": 271,
    "start_time": "2024-09-09T17:29:37.066Z"
   },
   {
    "duration": 327,
    "start_time": "2024-09-09T17:29:37.339Z"
   },
   {
    "duration": 10,
    "start_time": "2024-09-09T17:29:37.668Z"
   },
   {
    "duration": 7,
    "start_time": "2024-09-09T17:29:37.832Z"
   },
   {
    "duration": 298,
    "start_time": "2024-09-09T17:29:38.057Z"
   },
   {
    "duration": 4,
    "start_time": "2024-09-09T17:29:38.739Z"
   },
   {
    "duration": 246,
    "start_time": "2024-09-09T17:29:39.208Z"
   },
   {
    "duration": 12,
    "start_time": "2024-09-09T17:29:39.614Z"
   },
   {
    "duration": 6,
    "start_time": "2024-09-09T17:29:40.122Z"
   },
   {
    "duration": 281,
    "start_time": "2024-09-09T17:29:40.493Z"
   },
   {
    "duration": 23,
    "start_time": "2024-09-09T17:29:42.081Z"
   },
   {
    "duration": 17,
    "start_time": "2024-09-09T17:29:42.337Z"
   },
   {
    "duration": 12,
    "start_time": "2024-09-09T17:29:42.560Z"
   },
   {
    "duration": 10,
    "start_time": "2024-09-09T17:29:42.813Z"
   },
   {
    "duration": 17,
    "start_time": "2024-09-09T17:29:43.041Z"
   },
   {
    "duration": 7,
    "start_time": "2024-09-09T17:29:43.248Z"
   },
   {
    "duration": 2,
    "start_time": "2024-09-09T17:29:43.478Z"
   },
   {
    "duration": 11,
    "start_time": "2024-09-09T17:29:44.330Z"
   },
   {
    "duration": 2384,
    "start_time": "2024-09-09T17:29:44.562Z"
   },
   {
    "duration": 123,
    "start_time": "2024-09-09T17:29:46.947Z"
   },
   {
    "duration": 130,
    "start_time": "2024-09-09T17:29:47.071Z"
   },
   {
    "duration": 137,
    "start_time": "2024-09-09T17:29:47.202Z"
   },
   {
    "duration": 150,
    "start_time": "2024-09-09T17:29:47.341Z"
   },
   {
    "duration": 150,
    "start_time": "2024-09-09T17:29:47.493Z"
   },
   {
    "duration": 18459,
    "start_time": "2024-09-09T17:29:47.645Z"
   },
   {
    "duration": 0,
    "start_time": "2024-09-09T17:30:06.105Z"
   },
   {
    "duration": 0,
    "start_time": "2024-09-09T17:30:06.106Z"
   },
   {
    "duration": 3,
    "start_time": "2024-09-09T17:36:49.846Z"
   },
   {
    "duration": 8,
    "start_time": "2024-09-09T17:37:20.346Z"
   },
   {
    "duration": 6,
    "start_time": "2024-09-09T17:38:33.942Z"
   },
   {
    "duration": 7,
    "start_time": "2024-09-09T17:38:37.584Z"
   },
   {
    "duration": 21,
    "start_time": "2024-09-09T17:40:07.016Z"
   },
   {
    "duration": 18,
    "start_time": "2024-09-09T17:40:16.151Z"
   },
   {
    "duration": 18,
    "start_time": "2024-09-09T17:40:35.965Z"
   },
   {
    "duration": 9,
    "start_time": "2024-09-09T17:43:13.832Z"
   },
   {
    "duration": 9,
    "start_time": "2024-09-09T17:43:35.475Z"
   },
   {
    "duration": 7,
    "start_time": "2024-09-09T17:59:39.070Z"
   },
   {
    "duration": 29,
    "start_time": "2024-09-09T18:03:17.482Z"
   },
   {
    "duration": 16,
    "start_time": "2024-09-09T18:03:30.905Z"
   },
   {
    "duration": 7,
    "start_time": "2024-09-09T18:07:32.943Z"
   },
   {
    "duration": 12,
    "start_time": "2024-09-09T18:07:40.140Z"
   },
   {
    "duration": 16,
    "start_time": "2024-09-09T18:07:48.276Z"
   },
   {
    "duration": 11,
    "start_time": "2024-09-09T18:08:14.229Z"
   },
   {
    "duration": 15,
    "start_time": "2024-09-09T18:08:15.077Z"
   },
   {
    "duration": 7,
    "start_time": "2024-09-09T18:08:35.703Z"
   },
   {
    "duration": 13,
    "start_time": "2024-09-09T18:08:36.239Z"
   },
   {
    "duration": 7,
    "start_time": "2024-09-09T18:09:00.992Z"
   },
   {
    "duration": 7,
    "start_time": "2024-09-09T18:10:27.263Z"
   },
   {
    "duration": 43,
    "start_time": "2024-09-09T18:14:23.632Z"
   },
   {
    "duration": 14,
    "start_time": "2024-09-09T18:14:31.012Z"
   },
   {
    "duration": 5,
    "start_time": "2024-09-09T18:15:44.360Z"
   },
   {
    "duration": 20,
    "start_time": "2024-09-09T18:16:06.559Z"
   },
   {
    "duration": 12,
    "start_time": "2024-09-09T18:16:23.259Z"
   },
   {
    "duration": 3,
    "start_time": "2024-09-09T18:18:00.183Z"
   },
   {
    "duration": 2,
    "start_time": "2024-09-09T18:18:00.596Z"
   },
   {
    "duration": 2320,
    "start_time": "2024-09-09T18:18:37.454Z"
   },
   {
    "duration": 2314,
    "start_time": "2024-09-09T18:18:39.776Z"
   },
   {
    "duration": 1693,
    "start_time": "2024-09-09T18:18:42.092Z"
   },
   {
    "duration": 41,
    "start_time": "2024-09-09T18:18:43.786Z"
   },
   {
    "duration": 21,
    "start_time": "2024-09-09T18:18:43.829Z"
   },
   {
    "duration": 21,
    "start_time": "2024-09-09T18:18:43.851Z"
   },
   {
    "duration": 29,
    "start_time": "2024-09-09T18:18:43.873Z"
   },
   {
    "duration": 3,
    "start_time": "2024-09-09T18:18:43.903Z"
   },
   {
    "duration": 12,
    "start_time": "2024-09-09T18:18:43.907Z"
   },
   {
    "duration": 9,
    "start_time": "2024-09-09T18:18:43.921Z"
   },
   {
    "duration": 6,
    "start_time": "2024-09-09T18:18:43.932Z"
   },
   {
    "duration": 9,
    "start_time": "2024-09-09T18:18:43.939Z"
   },
   {
    "duration": 4,
    "start_time": "2024-09-09T18:18:43.949Z"
   },
   {
    "duration": 10,
    "start_time": "2024-09-09T18:18:43.954Z"
   },
   {
    "duration": 5,
    "start_time": "2024-09-09T18:18:43.966Z"
   },
   {
    "duration": 5,
    "start_time": "2024-09-09T18:18:43.973Z"
   },
   {
    "duration": 54,
    "start_time": "2024-09-09T18:18:43.980Z"
   },
   {
    "duration": 774,
    "start_time": "2024-09-09T18:18:44.036Z"
   },
   {
    "duration": 2,
    "start_time": "2024-09-09T18:18:44.813Z"
   },
   {
    "duration": 17,
    "start_time": "2024-09-09T18:18:44.816Z"
   },
   {
    "duration": 9,
    "start_time": "2024-09-09T18:18:44.834Z"
   },
   {
    "duration": 9,
    "start_time": "2024-09-09T18:18:44.845Z"
   },
   {
    "duration": 4,
    "start_time": "2024-09-09T18:18:44.856Z"
   },
   {
    "duration": 7,
    "start_time": "2024-09-09T18:18:45.065Z"
   },
   {
    "duration": 6,
    "start_time": "2024-09-09T18:18:45.278Z"
   },
   {
    "duration": 13,
    "start_time": "2024-09-09T18:18:45.492Z"
   },
   {
    "duration": 102,
    "start_time": "2024-09-09T18:18:45.717Z"
   },
   {
    "duration": 6,
    "start_time": "2024-09-09T18:18:45.923Z"
   },
   {
    "duration": 89,
    "start_time": "2024-09-09T18:18:46.128Z"
   },
   {
    "duration": 2,
    "start_time": "2024-09-09T18:18:46.348Z"
   },
   {
    "duration": 6,
    "start_time": "2024-09-09T18:18:46.556Z"
   },
   {
    "duration": 4,
    "start_time": "2024-09-09T18:18:46.760Z"
   },
   {
    "duration": 5,
    "start_time": "2024-09-09T18:18:46.981Z"
   },
   {
    "duration": 5,
    "start_time": "2024-09-09T18:18:47.202Z"
   },
   {
    "duration": 13,
    "start_time": "2024-09-09T18:18:47.401Z"
   },
   {
    "duration": 90,
    "start_time": "2024-09-09T18:18:47.629Z"
   },
   {
    "duration": 3,
    "start_time": "2024-09-09T18:18:47.832Z"
   },
   {
    "duration": 7,
    "start_time": "2024-09-09T18:18:48.064Z"
   },
   {
    "duration": 5,
    "start_time": "2024-09-09T18:18:48.288Z"
   },
   {
    "duration": 5,
    "start_time": "2024-09-09T18:18:48.684Z"
   },
   {
    "duration": 9,
    "start_time": "2024-09-09T18:18:48.716Z"
   },
   {
    "duration": 4,
    "start_time": "2024-09-09T18:18:48.932Z"
   },
   {
    "duration": 9,
    "start_time": "2024-09-09T18:18:49.136Z"
   },
   {
    "duration": 179,
    "start_time": "2024-09-09T18:18:49.336Z"
   },
   {
    "duration": 11,
    "start_time": "2024-09-09T18:18:50.254Z"
   },
   {
    "duration": 4,
    "start_time": "2024-09-09T18:18:50.492Z"
   },
   {
    "duration": 1353,
    "start_time": "2024-09-09T18:18:50.732Z"
   },
   {
    "duration": 240,
    "start_time": "2024-09-09T18:18:52.087Z"
   },
   {
    "duration": 205,
    "start_time": "2024-09-09T18:18:52.329Z"
   },
   {
    "duration": 12,
    "start_time": "2024-09-09T18:18:52.536Z"
   },
   {
    "duration": 20,
    "start_time": "2024-09-09T18:18:52.550Z"
   },
   {
    "duration": 7,
    "start_time": "2024-09-09T18:18:52.572Z"
   },
   {
    "duration": 247,
    "start_time": "2024-09-09T18:18:52.580Z"
   },
   {
    "duration": 310,
    "start_time": "2024-09-09T18:18:52.829Z"
   },
   {
    "duration": 10,
    "start_time": "2024-09-09T18:18:53.140Z"
   },
   {
    "duration": 7,
    "start_time": "2024-09-09T18:18:53.152Z"
   },
   {
    "duration": 365,
    "start_time": "2024-09-09T18:18:53.160Z"
   },
   {
    "duration": 4,
    "start_time": "2024-09-09T18:18:53.527Z"
   },
   {
    "duration": 248,
    "start_time": "2024-09-09T18:18:53.533Z"
   },
   {
    "duration": 9,
    "start_time": "2024-09-09T18:18:53.783Z"
   },
   {
    "duration": 7,
    "start_time": "2024-09-09T18:18:53.887Z"
   },
   {
    "duration": 257,
    "start_time": "2024-09-09T18:18:54.112Z"
   },
   {
    "duration": 2,
    "start_time": "2024-09-09T18:18:54.371Z"
   },
   {
    "duration": 7,
    "start_time": "2024-09-09T18:18:54.554Z"
   },
   {
    "duration": 7,
    "start_time": "2024-09-09T18:18:54.778Z"
   },
   {
    "duration": 9,
    "start_time": "2024-09-09T18:18:55.010Z"
   },
   {
    "duration": 16,
    "start_time": "2024-09-09T18:18:55.872Z"
   },
   {
    "duration": 2,
    "start_time": "2024-09-09T18:18:56.104Z"
   },
   {
    "duration": 2,
    "start_time": "2024-09-09T18:18:56.347Z"
   },
   {
    "duration": 6,
    "start_time": "2024-09-09T18:18:56.553Z"
   },
   {
    "duration": 14,
    "start_time": "2024-09-09T18:18:56.767Z"
   },
   {
    "duration": 22,
    "start_time": "2024-09-09T18:18:56.992Z"
   },
   {
    "duration": 13,
    "start_time": "2024-09-09T18:18:57.210Z"
   },
   {
    "duration": 3,
    "start_time": "2024-09-09T18:18:57.440Z"
   },
   {
    "duration": 2,
    "start_time": "2024-09-09T18:18:57.690Z"
   },
   {
    "duration": 3,
    "start_time": "2024-09-09T18:18:57.920Z"
   },
   {
    "duration": 2,
    "start_time": "2024-09-09T18:18:58.138Z"
   },
   {
    "duration": 3,
    "start_time": "2024-09-09T18:18:58.343Z"
   },
   {
    "duration": 3,
    "start_time": "2024-09-09T18:18:58.568Z"
   },
   {
    "duration": 21,
    "start_time": "2024-09-09T18:19:28.881Z"
   },
   {
    "duration": 2307,
    "start_time": "2024-09-09T18:19:47.075Z"
   },
   {
    "duration": 2362,
    "start_time": "2024-09-09T18:19:49.383Z"
   },
   {
    "duration": 1738,
    "start_time": "2024-09-09T18:19:51.746Z"
   },
   {
    "duration": 40,
    "start_time": "2024-09-09T18:19:53.486Z"
   },
   {
    "duration": 21,
    "start_time": "2024-09-09T18:19:53.528Z"
   },
   {
    "duration": 21,
    "start_time": "2024-09-09T18:19:53.551Z"
   },
   {
    "duration": 28,
    "start_time": "2024-09-09T18:19:53.574Z"
   },
   {
    "duration": 2,
    "start_time": "2024-09-09T18:19:53.604Z"
   },
   {
    "duration": 17,
    "start_time": "2024-09-09T18:19:53.607Z"
   },
   {
    "duration": 9,
    "start_time": "2024-09-09T18:19:53.627Z"
   },
   {
    "duration": 5,
    "start_time": "2024-09-09T18:19:53.638Z"
   },
   {
    "duration": 6,
    "start_time": "2024-09-09T18:19:53.644Z"
   },
   {
    "duration": 9,
    "start_time": "2024-09-09T18:19:53.651Z"
   },
   {
    "duration": 12,
    "start_time": "2024-09-09T18:19:53.661Z"
   },
   {
    "duration": 6,
    "start_time": "2024-09-09T18:19:53.675Z"
   },
   {
    "duration": 6,
    "start_time": "2024-09-09T18:19:53.682Z"
   },
   {
    "duration": 62,
    "start_time": "2024-09-09T18:19:53.689Z"
   },
   {
    "duration": 772,
    "start_time": "2024-09-09T18:19:53.753Z"
   },
   {
    "duration": 2,
    "start_time": "2024-09-09T18:19:54.527Z"
   },
   {
    "duration": 10,
    "start_time": "2024-09-09T18:19:54.530Z"
   },
   {
    "duration": 4,
    "start_time": "2024-09-09T18:19:54.541Z"
   },
   {
    "duration": 15,
    "start_time": "2024-09-09T18:19:54.546Z"
   },
   {
    "duration": 20,
    "start_time": "2024-09-09T18:19:54.562Z"
   },
   {
    "duration": 7,
    "start_time": "2024-09-09T18:19:54.584Z"
   },
   {
    "duration": 8,
    "start_time": "2024-09-09T18:19:54.592Z"
   },
   {
    "duration": 31,
    "start_time": "2024-09-09T18:19:54.602Z"
   },
   {
    "duration": 102,
    "start_time": "2024-09-09T18:19:54.635Z"
   },
   {
    "duration": 5,
    "start_time": "2024-09-09T18:19:54.740Z"
   },
   {
    "duration": 111,
    "start_time": "2024-09-09T18:19:54.746Z"
   },
   {
    "duration": 3,
    "start_time": "2024-09-09T18:19:54.858Z"
   },
   {
    "duration": 9,
    "start_time": "2024-09-09T18:19:54.862Z"
   },
   {
    "duration": 5,
    "start_time": "2024-09-09T18:19:54.872Z"
   },
   {
    "duration": 6,
    "start_time": "2024-09-09T18:19:54.878Z"
   },
   {
    "duration": 5,
    "start_time": "2024-09-09T18:19:54.886Z"
   },
   {
    "duration": 14,
    "start_time": "2024-09-09T18:19:55.076Z"
   },
   {
    "duration": 103,
    "start_time": "2024-09-09T18:19:55.260Z"
   },
   {
    "duration": 2,
    "start_time": "2024-09-09T18:19:55.492Z"
   },
   {
    "duration": 6,
    "start_time": "2024-09-09T18:19:55.701Z"
   },
   {
    "duration": 5,
    "start_time": "2024-09-09T18:19:55.911Z"
   },
   {
    "duration": 5,
    "start_time": "2024-09-09T18:19:56.125Z"
   },
   {
    "duration": 10,
    "start_time": "2024-09-09T18:19:56.343Z"
   },
   {
    "duration": 5,
    "start_time": "2024-09-09T18:19:56.558Z"
   },
   {
    "duration": 11,
    "start_time": "2024-09-09T18:19:56.796Z"
   },
   {
    "duration": 193,
    "start_time": "2024-09-09T18:19:57.019Z"
   },
   {
    "duration": 13,
    "start_time": "2024-09-09T18:19:57.995Z"
   },
   {
    "duration": 5,
    "start_time": "2024-09-09T18:19:58.261Z"
   },
   {
    "duration": 1401,
    "start_time": "2024-09-09T18:19:58.508Z"
   },
   {
    "duration": 247,
    "start_time": "2024-09-09T18:19:59.911Z"
   },
   {
    "duration": 268,
    "start_time": "2024-09-09T18:20:00.159Z"
   },
   {
    "duration": 13,
    "start_time": "2024-09-09T18:20:00.429Z"
   },
   {
    "duration": 21,
    "start_time": "2024-09-09T18:20:00.444Z"
   },
   {
    "duration": 12,
    "start_time": "2024-09-09T18:20:00.466Z"
   },
   {
    "duration": 248,
    "start_time": "2024-09-09T18:20:00.479Z"
   },
   {
    "duration": 296,
    "start_time": "2024-09-09T18:20:00.729Z"
   },
   {
    "duration": 9,
    "start_time": "2024-09-09T18:20:01.027Z"
   },
   {
    "duration": 10,
    "start_time": "2024-09-09T18:20:01.038Z"
   },
   {
    "duration": 378,
    "start_time": "2024-09-09T18:20:01.049Z"
   },
   {
    "duration": 4,
    "start_time": "2024-09-09T18:20:01.429Z"
   },
   {
    "duration": 234,
    "start_time": "2024-09-09T18:20:01.434Z"
   },
   {
    "duration": 10,
    "start_time": "2024-09-09T18:20:01.670Z"
   },
   {
    "duration": 7,
    "start_time": "2024-09-09T18:20:01.717Z"
   },
   {
    "duration": 265,
    "start_time": "2024-09-09T18:20:02.301Z"
   },
   {
    "duration": 2,
    "start_time": "2024-09-09T18:20:02.568Z"
   },
   {
    "duration": 8,
    "start_time": "2024-09-09T18:20:02.748Z"
   },
   {
    "duration": 8,
    "start_time": "2024-09-09T18:20:02.964Z"
   },
   {
    "duration": 10,
    "start_time": "2024-09-09T18:20:03.188Z"
   },
   {
    "duration": 15,
    "start_time": "2024-09-09T18:20:04.845Z"
   },
   {
    "duration": 2,
    "start_time": "2024-09-09T18:20:05.258Z"
   },
   {
    "duration": 3,
    "start_time": "2024-09-09T18:20:05.687Z"
   },
   {
    "duration": 7,
    "start_time": "2024-09-09T18:20:06.090Z"
   },
   {
    "duration": 15,
    "start_time": "2024-09-09T18:20:06.580Z"
   },
   {
    "duration": 22,
    "start_time": "2024-09-09T18:20:07.447Z"
   },
   {
    "duration": 13,
    "start_time": "2024-09-09T18:20:07.956Z"
   },
   {
    "duration": 3,
    "start_time": "2024-09-09T18:20:08.960Z"
   },
   {
    "duration": 2365,
    "start_time": "2024-09-09T18:20:56.537Z"
   },
   {
    "duration": 2300,
    "start_time": "2024-09-09T18:20:58.904Z"
   },
   {
    "duration": 1772,
    "start_time": "2024-09-09T18:21:01.206Z"
   },
   {
    "duration": 41,
    "start_time": "2024-09-09T18:21:02.980Z"
   },
   {
    "duration": 22,
    "start_time": "2024-09-09T18:21:03.023Z"
   },
   {
    "duration": 22,
    "start_time": "2024-09-09T18:21:03.046Z"
   },
   {
    "duration": 29,
    "start_time": "2024-09-09T18:21:03.069Z"
   },
   {
    "duration": 3,
    "start_time": "2024-09-09T18:21:03.099Z"
   },
   {
    "duration": 20,
    "start_time": "2024-09-09T18:21:03.104Z"
   },
   {
    "duration": 20,
    "start_time": "2024-09-09T18:21:03.126Z"
   },
   {
    "duration": 5,
    "start_time": "2024-09-09T18:21:03.147Z"
   },
   {
    "duration": 13,
    "start_time": "2024-09-09T18:21:03.153Z"
   },
   {
    "duration": 8,
    "start_time": "2024-09-09T18:21:03.168Z"
   },
   {
    "duration": 11,
    "start_time": "2024-09-09T18:21:03.178Z"
   },
   {
    "duration": 8,
    "start_time": "2024-09-09T18:21:03.190Z"
   },
   {
    "duration": 24,
    "start_time": "2024-09-09T18:21:03.200Z"
   },
   {
    "duration": 31,
    "start_time": "2024-09-09T18:21:03.226Z"
   },
   {
    "duration": 782,
    "start_time": "2024-09-09T18:21:03.259Z"
   },
   {
    "duration": 2,
    "start_time": "2024-09-09T18:21:04.043Z"
   },
   {
    "duration": 9,
    "start_time": "2024-09-09T18:21:04.047Z"
   },
   {
    "duration": 8,
    "start_time": "2024-09-09T18:21:04.058Z"
   },
   {
    "duration": 12,
    "start_time": "2024-09-09T18:21:04.069Z"
   },
   {
    "duration": 6,
    "start_time": "2024-09-09T18:21:04.082Z"
   },
   {
    "duration": 7,
    "start_time": "2024-09-09T18:21:04.090Z"
   },
   {
    "duration": 6,
    "start_time": "2024-09-09T18:21:04.125Z"
   },
   {
    "duration": 14,
    "start_time": "2024-09-09T18:21:04.133Z"
   },
   {
    "duration": 93,
    "start_time": "2024-09-09T18:21:04.304Z"
   },
   {
    "duration": 5,
    "start_time": "2024-09-09T18:21:04.521Z"
   },
   {
    "duration": 87,
    "start_time": "2024-09-09T18:21:04.737Z"
   },
   {
    "duration": 2,
    "start_time": "2024-09-09T18:21:04.952Z"
   },
   {
    "duration": 7,
    "start_time": "2024-09-09T18:21:05.169Z"
   },
   {
    "duration": 4,
    "start_time": "2024-09-09T18:21:05.385Z"
   },
   {
    "duration": 5,
    "start_time": "2024-09-09T18:21:05.601Z"
   },
   {
    "duration": 5,
    "start_time": "2024-09-09T18:21:05.817Z"
   },
   {
    "duration": 14,
    "start_time": "2024-09-09T18:21:06.024Z"
   },
   {
    "duration": 100,
    "start_time": "2024-09-09T18:21:06.247Z"
   },
   {
    "duration": 2,
    "start_time": "2024-09-09T18:21:06.456Z"
   },
   {
    "duration": 6,
    "start_time": "2024-09-09T18:21:06.681Z"
   },
   {
    "duration": 5,
    "start_time": "2024-09-09T18:21:06.906Z"
   },
   {
    "duration": 6,
    "start_time": "2024-09-09T18:21:07.136Z"
   },
   {
    "duration": 9,
    "start_time": "2024-09-09T18:21:07.361Z"
   },
   {
    "duration": 4,
    "start_time": "2024-09-09T18:21:07.571Z"
   },
   {
    "duration": 9,
    "start_time": "2024-09-09T18:21:07.778Z"
   },
   {
    "duration": 189,
    "start_time": "2024-09-09T18:21:07.992Z"
   },
   {
    "duration": 17,
    "start_time": "2024-09-09T18:21:08.888Z"
   },
   {
    "duration": 5,
    "start_time": "2024-09-09T18:21:09.113Z"
   },
   {
    "duration": 1459,
    "start_time": "2024-09-09T18:21:09.337Z"
   },
   {
    "duration": 229,
    "start_time": "2024-09-09T18:21:10.798Z"
   },
   {
    "duration": 199,
    "start_time": "2024-09-09T18:21:11.029Z"
   },
   {
    "duration": 12,
    "start_time": "2024-09-09T18:21:11.230Z"
   },
   {
    "duration": 87,
    "start_time": "2024-09-09T18:21:11.243Z"
   },
   {
    "duration": 15,
    "start_time": "2024-09-09T18:21:11.331Z"
   },
   {
    "duration": 202,
    "start_time": "2024-09-09T18:21:11.347Z"
   },
   {
    "duration": 318,
    "start_time": "2024-09-09T18:21:11.550Z"
   },
   {
    "duration": 9,
    "start_time": "2024-09-09T18:21:11.869Z"
   },
   {
    "duration": 6,
    "start_time": "2024-09-09T18:21:11.880Z"
   },
   {
    "duration": 343,
    "start_time": "2024-09-09T18:21:11.887Z"
   },
   {
    "duration": 4,
    "start_time": "2024-09-09T18:21:12.232Z"
   },
   {
    "duration": 237,
    "start_time": "2024-09-09T18:21:12.238Z"
   },
   {
    "duration": 8,
    "start_time": "2024-09-09T18:21:12.477Z"
   },
   {
    "duration": 40,
    "start_time": "2024-09-09T18:21:12.487Z"
   },
   {
    "duration": 243,
    "start_time": "2024-09-09T18:21:12.720Z"
   },
   {
    "duration": 2,
    "start_time": "2024-09-09T18:21:12.965Z"
   },
   {
    "duration": 8,
    "start_time": "2024-09-09T18:21:13.176Z"
   },
   {
    "duration": 8,
    "start_time": "2024-09-09T18:21:13.410Z"
   },
   {
    "duration": 10,
    "start_time": "2024-09-09T18:21:13.640Z"
   },
   {
    "duration": 18,
    "start_time": "2024-09-09T18:21:14.512Z"
   },
   {
    "duration": 3,
    "start_time": "2024-09-09T18:21:14.772Z"
   },
   {
    "duration": 2,
    "start_time": "2024-09-09T18:21:14.992Z"
   },
   {
    "duration": 7,
    "start_time": "2024-09-09T18:21:15.279Z"
   },
   {
    "duration": 14,
    "start_time": "2024-09-09T18:21:15.482Z"
   },
   {
    "duration": 23,
    "start_time": "2024-09-09T18:21:15.713Z"
   },
   {
    "duration": 11,
    "start_time": "2024-09-09T18:21:15.960Z"
   },
   {
    "duration": 14,
    "start_time": "2024-09-09T18:21:16.896Z"
   },
   {
    "duration": 2877,
    "start_time": "2024-09-09T18:21:17.149Z"
   },
   {
    "duration": 154,
    "start_time": "2024-09-09T18:21:20.028Z"
   },
   {
    "duration": 0,
    "start_time": "2024-09-09T18:21:20.184Z"
   },
   {
    "duration": 0,
    "start_time": "2024-09-09T18:21:20.185Z"
   },
   {
    "duration": 0,
    "start_time": "2024-09-09T18:21:20.186Z"
   },
   {
    "duration": 0,
    "start_time": "2024-09-09T18:21:20.188Z"
   },
   {
    "duration": 15,
    "start_time": "2024-09-09T18:21:53.957Z"
   },
   {
    "duration": 132,
    "start_time": "2024-09-09T18:21:54.795Z"
   },
   {
    "duration": 140,
    "start_time": "2024-09-09T18:21:55.908Z"
   },
   {
    "duration": 145,
    "start_time": "2024-09-09T18:21:56.609Z"
   },
   {
    "duration": 147,
    "start_time": "2024-09-09T18:21:58.093Z"
   },
   {
    "duration": 10,
    "start_time": "2024-09-09T18:30:36.785Z"
   },
   {
    "duration": 10,
    "start_time": "2024-09-09T18:30:37.706Z"
   },
   {
    "duration": 2245,
    "start_time": "2024-09-09T18:31:02.245Z"
   },
   {
    "duration": 2268,
    "start_time": "2024-09-09T18:31:04.969Z"
   },
   {
    "duration": 1707,
    "start_time": "2024-09-09T18:31:08.986Z"
   },
   {
    "duration": 41,
    "start_time": "2024-09-09T18:31:10.821Z"
   },
   {
    "duration": 21,
    "start_time": "2024-09-09T18:31:11.174Z"
   },
   {
    "duration": 21,
    "start_time": "2024-09-09T18:31:11.362Z"
   },
   {
    "duration": 29,
    "start_time": "2024-09-09T18:31:11.546Z"
   },
   {
    "duration": 2,
    "start_time": "2024-09-09T18:31:12.313Z"
   },
   {
    "duration": 11,
    "start_time": "2024-09-09T18:31:12.498Z"
   },
   {
    "duration": 7,
    "start_time": "2024-09-09T18:31:12.713Z"
   },
   {
    "duration": 4,
    "start_time": "2024-09-09T18:31:12.882Z"
   },
   {
    "duration": 5,
    "start_time": "2024-09-09T18:31:13.086Z"
   },
   {
    "duration": 5,
    "start_time": "2024-09-09T18:31:13.266Z"
   },
   {
    "duration": 11,
    "start_time": "2024-09-09T18:31:13.449Z"
   },
   {
    "duration": 6,
    "start_time": "2024-09-09T18:31:13.650Z"
   },
   {
    "duration": 7,
    "start_time": "2024-09-09T18:31:13.841Z"
   },
   {
    "duration": 31,
    "start_time": "2024-09-09T18:31:14.050Z"
   },
   {
    "duration": 734,
    "start_time": "2024-09-09T18:31:14.237Z"
   },
   {
    "duration": 2,
    "start_time": "2024-09-09T18:31:14.973Z"
   },
   {
    "duration": 116,
    "start_time": "2024-09-09T18:31:14.977Z"
   },
   {
    "duration": 34,
    "start_time": "2024-09-09T18:31:15.095Z"
   },
   {
    "duration": 45,
    "start_time": "2024-09-09T18:31:15.131Z"
   },
   {
    "duration": 7,
    "start_time": "2024-09-09T18:31:15.200Z"
   },
   {
    "duration": 7,
    "start_time": "2024-09-09T18:31:15.402Z"
   },
   {
    "duration": 6,
    "start_time": "2024-09-09T18:31:15.585Z"
   },
   {
    "duration": 14,
    "start_time": "2024-09-09T18:31:15.801Z"
   },
   {
    "duration": 93,
    "start_time": "2024-09-09T18:31:15.977Z"
   },
   {
    "duration": 6,
    "start_time": "2024-09-09T18:31:16.177Z"
   },
   {
    "duration": 91,
    "start_time": "2024-09-09T18:31:16.378Z"
   },
   {
    "duration": 2,
    "start_time": "2024-09-09T18:31:16.564Z"
   },
   {
    "duration": 7,
    "start_time": "2024-09-09T18:31:16.761Z"
   },
   {
    "duration": 4,
    "start_time": "2024-09-09T18:31:16.953Z"
   },
   {
    "duration": 5,
    "start_time": "2024-09-09T18:31:17.157Z"
   },
   {
    "duration": 6,
    "start_time": "2024-09-09T18:31:17.338Z"
   },
   {
    "duration": 13,
    "start_time": "2024-09-09T18:31:17.553Z"
   },
   {
    "duration": 96,
    "start_time": "2024-09-09T18:31:17.754Z"
   },
   {
    "duration": 3,
    "start_time": "2024-09-09T18:31:17.953Z"
   },
   {
    "duration": 6,
    "start_time": "2024-09-09T18:31:18.161Z"
   },
   {
    "duration": 6,
    "start_time": "2024-09-09T18:31:18.361Z"
   },
   {
    "duration": 5,
    "start_time": "2024-09-09T18:31:18.569Z"
   },
   {
    "duration": 9,
    "start_time": "2024-09-09T18:31:18.769Z"
   },
   {
    "duration": 5,
    "start_time": "2024-09-09T18:31:18.977Z"
   },
   {
    "duration": 10,
    "start_time": "2024-09-09T18:31:19.169Z"
   },
   {
    "duration": 181,
    "start_time": "2024-09-09T18:31:19.362Z"
   },
   {
    "duration": 12,
    "start_time": "2024-09-09T18:31:20.169Z"
   },
   {
    "duration": 5,
    "start_time": "2024-09-09T18:31:20.369Z"
   },
   {
    "duration": 1398,
    "start_time": "2024-09-09T18:31:20.586Z"
   },
   {
    "duration": 254,
    "start_time": "2024-09-09T18:31:21.986Z"
   },
   {
    "duration": 190,
    "start_time": "2024-09-09T18:31:22.241Z"
   },
   {
    "duration": 13,
    "start_time": "2024-09-09T18:31:22.433Z"
   },
   {
    "duration": 20,
    "start_time": "2024-09-09T18:31:22.448Z"
   },
   {
    "duration": 8,
    "start_time": "2024-09-09T18:31:22.469Z"
   },
   {
    "duration": 269,
    "start_time": "2024-09-09T18:31:22.478Z"
   },
   {
    "duration": 347,
    "start_time": "2024-09-09T18:31:22.748Z"
   },
   {
    "duration": 9,
    "start_time": "2024-09-09T18:31:23.097Z"
   },
   {
    "duration": 18,
    "start_time": "2024-09-09T18:31:23.108Z"
   },
   {
    "duration": 313,
    "start_time": "2024-09-09T18:31:23.127Z"
   },
   {
    "duration": 4,
    "start_time": "2024-09-09T18:31:23.441Z"
   },
   {
    "duration": 297,
    "start_time": "2024-09-09T18:31:23.446Z"
   },
   {
    "duration": 9,
    "start_time": "2024-09-09T18:31:23.745Z"
   },
   {
    "duration": 6,
    "start_time": "2024-09-09T18:31:23.756Z"
   },
   {
    "duration": 292,
    "start_time": "2024-09-09T18:31:23.764Z"
   },
   {
    "duration": 2,
    "start_time": "2024-09-09T18:31:24.058Z"
   },
   {
    "duration": 8,
    "start_time": "2024-09-09T18:31:24.121Z"
   },
   {
    "duration": 7,
    "start_time": "2024-09-09T18:31:24.346Z"
   },
   {
    "duration": 9,
    "start_time": "2024-09-09T18:31:24.538Z"
   },
   {
    "duration": 16,
    "start_time": "2024-09-09T18:31:25.426Z"
   },
   {
    "duration": 2,
    "start_time": "2024-09-09T18:31:25.919Z"
   },
   {
    "duration": 4,
    "start_time": "2024-09-09T18:31:26.145Z"
   },
   {
    "duration": 9,
    "start_time": "2024-09-09T18:31:26.401Z"
   },
   {
    "duration": 19,
    "start_time": "2024-09-09T18:31:26.645Z"
   },
   {
    "duration": 22,
    "start_time": "2024-09-09T18:31:26.881Z"
   },
   {
    "duration": 12,
    "start_time": "2024-09-09T18:31:27.233Z"
   },
   {
    "duration": 14,
    "start_time": "2024-09-09T18:31:28.193Z"
   },
   {
    "duration": 2934,
    "start_time": "2024-09-09T18:31:28.860Z"
   },
   {
    "duration": 5957,
    "start_time": "2024-09-09T18:31:31.826Z"
   },
   {
    "duration": 0,
    "start_time": "2024-09-09T18:31:37.785Z"
   },
   {
    "duration": 0,
    "start_time": "2024-09-09T18:31:37.787Z"
   },
   {
    "duration": 16,
    "start_time": "2024-09-09T18:32:01.847Z"
   },
   {
    "duration": 9,
    "start_time": "2024-09-09T18:32:02.538Z"
   },
   {
    "duration": 5670,
    "start_time": "2024-09-09T18:39:21.625Z"
   },
   {
    "duration": 2266,
    "start_time": "2024-09-09T18:40:14.635Z"
   },
   {
    "duration": 2394,
    "start_time": "2024-09-09T18:40:17.375Z"
   },
   {
    "duration": 1788,
    "start_time": "2024-09-09T18:40:20.221Z"
   },
   {
    "duration": 41,
    "start_time": "2024-09-09T18:40:22.011Z"
   },
   {
    "duration": 22,
    "start_time": "2024-09-09T18:40:22.054Z"
   },
   {
    "duration": 24,
    "start_time": "2024-09-09T18:40:22.078Z"
   },
   {
    "duration": 29,
    "start_time": "2024-09-09T18:40:22.103Z"
   },
   {
    "duration": 3,
    "start_time": "2024-09-09T18:40:22.831Z"
   },
   {
    "duration": 12,
    "start_time": "2024-09-09T18:40:23.014Z"
   },
   {
    "duration": 6,
    "start_time": "2024-09-09T18:40:23.211Z"
   },
   {
    "duration": 4,
    "start_time": "2024-09-09T18:40:23.379Z"
   },
   {
    "duration": 5,
    "start_time": "2024-09-09T18:40:23.571Z"
   },
   {
    "duration": 4,
    "start_time": "2024-09-09T18:40:23.763Z"
   },
   {
    "duration": 10,
    "start_time": "2024-09-09T18:40:23.958Z"
   },
   {
    "duration": 6,
    "start_time": "2024-09-09T18:40:24.150Z"
   },
   {
    "duration": 6,
    "start_time": "2024-09-09T18:40:24.357Z"
   },
   {
    "duration": 28,
    "start_time": "2024-09-09T18:40:24.565Z"
   },
   {
    "duration": 733,
    "start_time": "2024-09-09T18:40:24.758Z"
   },
   {
    "duration": 2,
    "start_time": "2024-09-09T18:40:25.493Z"
   },
   {
    "duration": 10,
    "start_time": "2024-09-09T18:40:25.497Z"
   },
   {
    "duration": 18,
    "start_time": "2024-09-09T18:40:25.509Z"
   },
   {
    "duration": 10,
    "start_time": "2024-09-09T18:40:25.566Z"
   },
   {
    "duration": 5,
    "start_time": "2024-09-09T18:40:25.767Z"
   },
   {
    "duration": 7,
    "start_time": "2024-09-09T18:40:25.967Z"
   },
   {
    "duration": 6,
    "start_time": "2024-09-09T18:40:26.179Z"
   },
   {
    "duration": 13,
    "start_time": "2024-09-09T18:40:26.381Z"
   },
   {
    "duration": 94,
    "start_time": "2024-09-09T18:40:26.585Z"
   },
   {
    "duration": 5,
    "start_time": "2024-09-09T18:40:26.779Z"
   },
   {
    "duration": 90,
    "start_time": "2024-09-09T18:40:26.960Z"
   },
   {
    "duration": 2,
    "start_time": "2024-09-09T18:40:27.162Z"
   },
   {
    "duration": 7,
    "start_time": "2024-09-09T18:40:27.366Z"
   },
   {
    "duration": 5,
    "start_time": "2024-09-09T18:40:27.558Z"
   },
   {
    "duration": 6,
    "start_time": "2024-09-09T18:40:27.763Z"
   },
   {
    "duration": 6,
    "start_time": "2024-09-09T18:40:27.986Z"
   },
   {
    "duration": 13,
    "start_time": "2024-09-09T18:40:28.200Z"
   },
   {
    "duration": 99,
    "start_time": "2024-09-09T18:40:28.375Z"
   },
   {
    "duration": 2,
    "start_time": "2024-09-09T18:40:28.589Z"
   },
   {
    "duration": 7,
    "start_time": "2024-09-09T18:40:28.763Z"
   },
   {
    "duration": 6,
    "start_time": "2024-09-09T18:40:28.975Z"
   },
   {
    "duration": 6,
    "start_time": "2024-09-09T18:40:29.182Z"
   },
   {
    "duration": 12,
    "start_time": "2024-09-09T18:40:29.367Z"
   },
   {
    "duration": 4,
    "start_time": "2024-09-09T18:40:29.558Z"
   },
   {
    "duration": 9,
    "start_time": "2024-09-09T18:40:29.751Z"
   },
   {
    "duration": 188,
    "start_time": "2024-09-09T18:40:29.943Z"
   },
   {
    "duration": 11,
    "start_time": "2024-09-09T18:40:30.765Z"
   },
   {
    "duration": 5,
    "start_time": "2024-09-09T18:40:30.978Z"
   },
   {
    "duration": 1405,
    "start_time": "2024-09-09T18:40:31.175Z"
   },
   {
    "duration": 247,
    "start_time": "2024-09-09T18:40:32.582Z"
   },
   {
    "duration": 203,
    "start_time": "2024-09-09T18:40:32.830Z"
   },
   {
    "duration": 15,
    "start_time": "2024-09-09T18:40:33.035Z"
   },
   {
    "duration": 24,
    "start_time": "2024-09-09T18:40:33.051Z"
   },
   {
    "duration": 14,
    "start_time": "2024-09-09T18:40:33.077Z"
   },
   {
    "duration": 240,
    "start_time": "2024-09-09T18:40:33.092Z"
   },
   {
    "duration": 333,
    "start_time": "2024-09-09T18:40:33.334Z"
   },
   {
    "duration": 10,
    "start_time": "2024-09-09T18:40:33.668Z"
   },
   {
    "duration": 12,
    "start_time": "2024-09-09T18:40:33.680Z"
   },
   {
    "duration": 334,
    "start_time": "2024-09-09T18:40:33.693Z"
   },
   {
    "duration": 4,
    "start_time": "2024-09-09T18:40:34.029Z"
   },
   {
    "duration": 232,
    "start_time": "2024-09-09T18:40:34.034Z"
   },
   {
    "duration": 9,
    "start_time": "2024-09-09T18:40:34.268Z"
   },
   {
    "duration": 17,
    "start_time": "2024-09-09T18:40:34.278Z"
   },
   {
    "duration": 269,
    "start_time": "2024-09-09T18:40:34.297Z"
   },
   {
    "duration": 3,
    "start_time": "2024-09-09T18:40:34.567Z"
   },
   {
    "duration": 10,
    "start_time": "2024-09-09T18:40:34.571Z"
   },
   {
    "duration": 8,
    "start_time": "2024-09-09T18:40:34.758Z"
   },
   {
    "duration": 10,
    "start_time": "2024-09-09T18:40:34.966Z"
   },
   {
    "duration": 16,
    "start_time": "2024-09-09T18:40:35.783Z"
   },
   {
    "duration": 3,
    "start_time": "2024-09-09T18:40:35.999Z"
   },
   {
    "duration": 3,
    "start_time": "2024-09-09T18:40:36.201Z"
   },
   {
    "duration": 7,
    "start_time": "2024-09-09T18:40:36.415Z"
   },
   {
    "duration": 14,
    "start_time": "2024-09-09T18:40:36.634Z"
   },
   {
    "duration": 22,
    "start_time": "2024-09-09T18:40:36.855Z"
   },
   {
    "duration": 11,
    "start_time": "2024-09-09T18:40:37.070Z"
   },
   {
    "duration": 14,
    "start_time": "2024-09-09T18:40:37.862Z"
   },
   {
    "duration": 2943,
    "start_time": "2024-09-09T18:40:38.075Z"
   },
   {
    "duration": 5852,
    "start_time": "2024-09-09T18:40:43.200Z"
   },
   {
    "duration": 0,
    "start_time": "2024-09-09T18:40:49.053Z"
   },
   {
    "duration": 2347,
    "start_time": "2024-09-09T18:47:45.040Z"
   },
   {
    "duration": 2329,
    "start_time": "2024-09-09T18:47:48.083Z"
   },
   {
    "duration": 1695,
    "start_time": "2024-09-09T18:47:50.588Z"
   },
   {
    "duration": 40,
    "start_time": "2024-09-09T18:47:52.711Z"
   },
   {
    "duration": 32,
    "start_time": "2024-09-09T18:47:54.751Z"
   },
   {
    "duration": 22,
    "start_time": "2024-09-09T18:47:55.335Z"
   },
   {
    "duration": 30,
    "start_time": "2024-09-09T18:47:55.703Z"
   },
   {
    "duration": 2,
    "start_time": "2024-09-09T18:47:56.990Z"
   },
   {
    "duration": 11,
    "start_time": "2024-09-09T18:47:57.247Z"
   },
   {
    "duration": 6,
    "start_time": "2024-09-09T18:47:57.408Z"
   },
   {
    "duration": 4,
    "start_time": "2024-09-09T18:47:57.624Z"
   },
   {
    "duration": 5,
    "start_time": "2024-09-09T18:47:57.831Z"
   },
   {
    "duration": 4,
    "start_time": "2024-09-09T18:47:58.040Z"
   },
   {
    "duration": 11,
    "start_time": "2024-09-09T18:47:58.223Z"
   },
   {
    "duration": 7,
    "start_time": "2024-09-09T18:47:58.424Z"
   },
   {
    "duration": 7,
    "start_time": "2024-09-09T18:47:58.607Z"
   },
   {
    "duration": 32,
    "start_time": "2024-09-09T18:47:58.823Z"
   },
   {
    "duration": 746,
    "start_time": "2024-09-09T18:47:59.047Z"
   },
   {
    "duration": 3,
    "start_time": "2024-09-09T18:47:59.795Z"
   },
   {
    "duration": 11,
    "start_time": "2024-09-09T18:47:59.799Z"
   },
   {
    "duration": 6,
    "start_time": "2024-09-09T18:47:59.827Z"
   },
   {
    "duration": 11,
    "start_time": "2024-09-09T18:47:59.918Z"
   },
   {
    "duration": 6,
    "start_time": "2024-09-09T18:48:00.104Z"
   },
   {
    "duration": 9,
    "start_time": "2024-09-09T18:48:00.303Z"
   },
   {
    "duration": 6,
    "start_time": "2024-09-09T18:48:00.495Z"
   },
   {
    "duration": 14,
    "start_time": "2024-09-09T18:48:01.476Z"
   },
   {
    "duration": 102,
    "start_time": "2024-09-09T18:48:02.287Z"
   },
   {
    "duration": 6,
    "start_time": "2024-09-09T18:48:02.799Z"
   },
   {
    "duration": 96,
    "start_time": "2024-09-09T18:48:03.206Z"
   },
   {
    "duration": 3,
    "start_time": "2024-09-09T18:48:03.618Z"
   },
   {
    "duration": 6,
    "start_time": "2024-09-09T18:48:04.020Z"
   },
   {
    "duration": 5,
    "start_time": "2024-09-09T18:48:04.280Z"
   },
   {
    "duration": 7,
    "start_time": "2024-09-09T18:48:04.466Z"
   },
   {
    "duration": 6,
    "start_time": "2024-09-09T18:48:04.727Z"
   },
   {
    "duration": 13,
    "start_time": "2024-09-09T18:48:04.975Z"
   },
   {
    "duration": 102,
    "start_time": "2024-09-09T18:48:05.439Z"
   },
   {
    "duration": 3,
    "start_time": "2024-09-09T18:48:05.678Z"
   },
   {
    "duration": 7,
    "start_time": "2024-09-09T18:48:05.915Z"
   },
   {
    "duration": 5,
    "start_time": "2024-09-09T18:48:06.102Z"
   },
   {
    "duration": 5,
    "start_time": "2024-09-09T18:48:06.317Z"
   },
   {
    "duration": 9,
    "start_time": "2024-09-09T18:48:06.534Z"
   },
   {
    "duration": 4,
    "start_time": "2024-09-09T18:48:06.732Z"
   },
   {
    "duration": 9,
    "start_time": "2024-09-09T18:48:06.939Z"
   },
   {
    "duration": 188,
    "start_time": "2024-09-09T18:48:07.138Z"
   },
   {
    "duration": 12,
    "start_time": "2024-09-09T18:48:08.231Z"
   },
   {
    "duration": 4,
    "start_time": "2024-09-09T18:48:08.468Z"
   },
   {
    "duration": 1502,
    "start_time": "2024-09-09T18:48:08.712Z"
   },
   {
    "duration": 234,
    "start_time": "2024-09-09T18:48:10.217Z"
   },
   {
    "duration": 195,
    "start_time": "2024-09-09T18:48:10.452Z"
   },
   {
    "duration": 14,
    "start_time": "2024-09-09T18:48:10.649Z"
   },
   {
    "duration": 12,
    "start_time": "2024-09-09T18:48:10.664Z"
   },
   {
    "duration": 7,
    "start_time": "2024-09-09T18:48:10.678Z"
   },
   {
    "duration": 257,
    "start_time": "2024-09-09T18:48:10.687Z"
   },
   {
    "duration": 325,
    "start_time": "2024-09-09T18:48:10.945Z"
   },
   {
    "duration": 9,
    "start_time": "2024-09-09T18:48:11.271Z"
   },
   {
    "duration": 6,
    "start_time": "2024-09-09T18:48:11.282Z"
   },
   {
    "duration": 347,
    "start_time": "2024-09-09T18:48:11.290Z"
   },
   {
    "duration": 4,
    "start_time": "2024-09-09T18:48:11.638Z"
   },
   {
    "duration": 299,
    "start_time": "2024-09-09T18:48:11.643Z"
   },
   {
    "duration": 10,
    "start_time": "2024-09-09T18:48:11.943Z"
   },
   {
    "duration": 7,
    "start_time": "2024-09-09T18:48:11.954Z"
   },
   {
    "duration": 288,
    "start_time": "2024-09-09T18:48:12.174Z"
   },
   {
    "duration": 3,
    "start_time": "2024-09-09T18:48:12.463Z"
   },
   {
    "duration": 7,
    "start_time": "2024-09-09T18:48:12.504Z"
   },
   {
    "duration": 8,
    "start_time": "2024-09-09T18:48:12.699Z"
   },
   {
    "duration": 11,
    "start_time": "2024-09-09T18:48:12.932Z"
   },
   {
    "duration": 17,
    "start_time": "2024-09-09T18:48:13.903Z"
   },
   {
    "duration": 2,
    "start_time": "2024-09-09T18:48:14.396Z"
   },
   {
    "duration": 2,
    "start_time": "2024-09-09T18:48:14.835Z"
   },
   {
    "duration": 7,
    "start_time": "2024-09-09T18:48:15.236Z"
   },
   {
    "duration": 15,
    "start_time": "2024-09-09T18:48:15.715Z"
   },
   {
    "duration": 23,
    "start_time": "2024-09-09T18:48:16.491Z"
   },
   {
    "duration": 12,
    "start_time": "2024-09-09T18:48:17.191Z"
   },
   {
    "duration": 14,
    "start_time": "2024-09-09T18:48:18.987Z"
   },
   {
    "duration": 2922,
    "start_time": "2024-09-09T18:48:19.538Z"
   },
   {
    "duration": 5755,
    "start_time": "2024-09-09T18:48:25.156Z"
   },
   {
    "duration": 5573,
    "start_time": "2024-09-09T18:51:17.240Z"
   },
   {
    "duration": 6032,
    "start_time": "2024-09-09T18:56:10.058Z"
   },
   {
    "duration": 15,
    "start_time": "2024-09-09T18:58:06.058Z"
   },
   {
    "duration": 10,
    "start_time": "2024-09-09T18:58:10.249Z"
   },
   {
    "duration": 4712,
    "start_time": "2024-09-10T16:26:21.940Z"
   },
   {
    "duration": 4520,
    "start_time": "2024-09-10T16:26:27.139Z"
   },
   {
    "duration": 1839,
    "start_time": "2024-09-10T16:26:31.661Z"
   },
   {
    "duration": 138,
    "start_time": "2024-09-10T16:26:33.501Z"
   },
   {
    "duration": 89,
    "start_time": "2024-09-10T16:26:33.939Z"
   },
   {
    "duration": 79,
    "start_time": "2024-09-10T16:26:34.504Z"
   },
   {
    "duration": 77,
    "start_time": "2024-09-10T16:26:34.763Z"
   },
   {
    "duration": 3,
    "start_time": "2024-09-10T16:26:36.503Z"
   },
   {
    "duration": 10,
    "start_time": "2024-09-10T16:26:36.827Z"
   },
   {
    "duration": 6,
    "start_time": "2024-09-10T16:26:37.184Z"
   },
   {
    "duration": 4,
    "start_time": "2024-09-10T16:26:37.558Z"
   },
   {
    "duration": 5,
    "start_time": "2024-09-10T16:26:37.804Z"
   },
   {
    "duration": 4,
    "start_time": "2024-09-10T16:26:37.992Z"
   },
   {
    "duration": 11,
    "start_time": "2024-09-10T16:26:38.174Z"
   },
   {
    "duration": 7,
    "start_time": "2024-09-10T16:26:38.367Z"
   },
   {
    "duration": 5,
    "start_time": "2024-09-10T16:26:38.568Z"
   },
   {
    "duration": 25,
    "start_time": "2024-09-10T16:26:38.839Z"
   },
   {
    "duration": 746,
    "start_time": "2024-09-10T16:26:39.112Z"
   },
   {
    "duration": 2,
    "start_time": "2024-09-10T16:26:39.860Z"
   },
   {
    "duration": 9,
    "start_time": "2024-09-10T16:26:39.863Z"
   },
   {
    "duration": 4,
    "start_time": "2024-09-10T16:26:40.256Z"
   },
   {
    "duration": 9,
    "start_time": "2024-09-10T16:26:40.619Z"
   },
   {
    "duration": 5,
    "start_time": "2024-09-10T16:26:40.926Z"
   },
   {
    "duration": 7,
    "start_time": "2024-09-10T16:26:41.159Z"
   },
   {
    "duration": 5,
    "start_time": "2024-09-10T16:26:41.358Z"
   },
   {
    "duration": 11,
    "start_time": "2024-09-10T16:26:41.747Z"
   },
   {
    "duration": 87,
    "start_time": "2024-09-10T16:26:42.014Z"
   },
   {
    "duration": 5,
    "start_time": "2024-09-10T16:26:42.262Z"
   },
   {
    "duration": 82,
    "start_time": "2024-09-10T16:26:42.471Z"
   },
   {
    "duration": 2,
    "start_time": "2024-09-10T16:26:42.702Z"
   },
   {
    "duration": 6,
    "start_time": "2024-09-10T16:26:43.124Z"
   },
   {
    "duration": 4,
    "start_time": "2024-09-10T16:26:43.378Z"
   },
   {
    "duration": 4,
    "start_time": "2024-09-10T16:26:43.608Z"
   },
   {
    "duration": 4,
    "start_time": "2024-09-10T16:26:43.824Z"
   },
   {
    "duration": 11,
    "start_time": "2024-09-10T16:26:44.030Z"
   },
   {
    "duration": 83,
    "start_time": "2024-09-10T16:26:44.278Z"
   },
   {
    "duration": 2,
    "start_time": "2024-09-10T16:26:44.693Z"
   },
   {
    "duration": 5,
    "start_time": "2024-09-10T16:26:45.135Z"
   },
   {
    "duration": 4,
    "start_time": "2024-09-10T16:26:45.529Z"
   },
   {
    "duration": 5,
    "start_time": "2024-09-10T16:26:45.830Z"
   },
   {
    "duration": 8,
    "start_time": "2024-09-10T16:26:46.081Z"
   },
   {
    "duration": 4,
    "start_time": "2024-09-10T16:26:46.302Z"
   },
   {
    "duration": 8,
    "start_time": "2024-09-10T16:26:46.519Z"
   },
   {
    "duration": 149,
    "start_time": "2024-09-10T16:26:46.735Z"
   },
   {
    "duration": 10,
    "start_time": "2024-09-10T16:26:47.619Z"
   },
   {
    "duration": 4,
    "start_time": "2024-09-10T16:26:47.838Z"
   },
   {
    "duration": 1261,
    "start_time": "2024-09-10T16:26:48.062Z"
   },
   {
    "duration": 227,
    "start_time": "2024-09-10T16:26:49.325Z"
   },
   {
    "duration": 207,
    "start_time": "2024-09-10T16:26:49.553Z"
   },
   {
    "duration": 10,
    "start_time": "2024-09-10T16:26:49.762Z"
   },
   {
    "duration": 18,
    "start_time": "2024-09-10T16:26:49.773Z"
   },
   {
    "duration": 6,
    "start_time": "2024-09-10T16:26:49.792Z"
   },
   {
    "duration": 178,
    "start_time": "2024-09-10T16:26:49.799Z"
   },
   {
    "duration": 318,
    "start_time": "2024-09-10T16:26:49.979Z"
   },
   {
    "duration": 9,
    "start_time": "2024-09-10T16:26:50.299Z"
   },
   {
    "duration": 6,
    "start_time": "2024-09-10T16:26:50.309Z"
   },
   {
    "duration": 229,
    "start_time": "2024-09-10T16:26:50.449Z"
   },
   {
    "duration": 4,
    "start_time": "2024-09-10T16:26:50.786Z"
   },
   {
    "duration": 210,
    "start_time": "2024-09-10T16:26:51.070Z"
   },
   {
    "duration": 8,
    "start_time": "2024-09-10T16:26:51.309Z"
   },
   {
    "duration": 6,
    "start_time": "2024-09-10T16:26:51.604Z"
   },
   {
    "duration": 259,
    "start_time": "2024-09-10T16:26:51.798Z"
   },
   {
    "duration": 2,
    "start_time": "2024-09-10T16:26:52.058Z"
   },
   {
    "duration": 6,
    "start_time": "2024-09-10T16:26:52.262Z"
   },
   {
    "duration": 6,
    "start_time": "2024-09-10T16:26:52.487Z"
   },
   {
    "duration": 8,
    "start_time": "2024-09-10T16:26:52.710Z"
   },
   {
    "duration": 14,
    "start_time": "2024-09-10T16:26:53.742Z"
   },
   {
    "duration": 2,
    "start_time": "2024-09-10T16:26:54.198Z"
   },
   {
    "duration": 2,
    "start_time": "2024-09-10T16:26:54.685Z"
   },
   {
    "duration": 6,
    "start_time": "2024-09-10T16:26:55.015Z"
   },
   {
    "duration": 13,
    "start_time": "2024-09-10T16:26:55.616Z"
   },
   {
    "duration": 19,
    "start_time": "2024-09-10T16:26:56.039Z"
   },
   {
    "duration": 11,
    "start_time": "2024-09-10T16:26:56.491Z"
   },
   {
    "duration": 13,
    "start_time": "2024-09-10T16:26:58.286Z"
   },
   {
    "duration": 2560,
    "start_time": "2024-09-10T16:26:59.039Z"
   },
   {
    "duration": 5877,
    "start_time": "2024-09-10T16:27:04.672Z"
   },
   {
    "duration": 1,
    "start_time": "2024-09-10T16:27:10.550Z"
   },
   {
    "duration": 14,
    "start_time": "2024-09-10T16:27:22.686Z"
   },
   {
    "duration": 8,
    "start_time": "2024-09-10T16:27:23.258Z"
   },
   {
    "duration": 5896,
    "start_time": "2024-09-10T16:31:44.392Z"
   },
   {
    "duration": 12,
    "start_time": "2024-09-10T16:33:49.284Z"
   },
   {
    "duration": 5511,
    "start_time": "2024-09-10T16:40:43.382Z"
   },
   {
    "duration": 3,
    "start_time": "2024-09-10T16:42:12.915Z"
   },
   {
    "duration": 5308,
    "start_time": "2024-09-10T16:42:39.154Z"
   },
   {
    "duration": 194,
    "start_time": "2024-09-10T16:43:43.758Z"
   },
   {
    "duration": 7,
    "start_time": "2024-09-10T16:43:45.619Z"
   },
   {
    "duration": 2530,
    "start_time": "2024-09-10T16:44:15.751Z"
   },
   {
    "duration": 2489,
    "start_time": "2024-09-10T16:44:19.445Z"
   },
   {
    "duration": 1664,
    "start_time": "2024-09-10T16:44:21.936Z"
   },
   {
    "duration": 38,
    "start_time": "2024-09-10T16:44:23.602Z"
   },
   {
    "duration": 18,
    "start_time": "2024-09-10T16:44:23.641Z"
   },
   {
    "duration": 19,
    "start_time": "2024-09-10T16:44:23.660Z"
   },
   {
    "duration": 27,
    "start_time": "2024-09-10T16:44:23.680Z"
   },
   {
    "duration": 2,
    "start_time": "2024-09-10T16:44:23.708Z"
   },
   {
    "duration": 20,
    "start_time": "2024-09-10T16:44:23.712Z"
   },
   {
    "duration": 5,
    "start_time": "2024-09-10T16:44:23.734Z"
   },
   {
    "duration": 3,
    "start_time": "2024-09-10T16:44:23.871Z"
   },
   {
    "duration": 5,
    "start_time": "2024-09-10T16:44:24.053Z"
   },
   {
    "duration": 4,
    "start_time": "2024-09-10T16:44:24.256Z"
   },
   {
    "duration": 10,
    "start_time": "2024-09-10T16:44:24.450Z"
   },
   {
    "duration": 5,
    "start_time": "2024-09-10T16:44:24.630Z"
   },
   {
    "duration": 6,
    "start_time": "2024-09-10T16:44:24.822Z"
   },
   {
    "duration": 24,
    "start_time": "2024-09-10T16:44:25.022Z"
   },
   {
    "duration": 673,
    "start_time": "2024-09-10T16:44:25.227Z"
   },
   {
    "duration": 2,
    "start_time": "2024-09-10T16:44:25.902Z"
   },
   {
    "duration": 15,
    "start_time": "2024-09-10T16:44:25.905Z"
   },
   {
    "duration": 27,
    "start_time": "2024-09-10T16:44:25.922Z"
   },
   {
    "duration": 8,
    "start_time": "2024-09-10T16:44:26.070Z"
   },
   {
    "duration": 5,
    "start_time": "2024-09-10T16:44:26.270Z"
   },
   {
    "duration": 7,
    "start_time": "2024-09-10T16:44:26.470Z"
   },
   {
    "duration": 5,
    "start_time": "2024-09-10T16:44:26.679Z"
   },
   {
    "duration": 11,
    "start_time": "2024-09-10T16:44:26.886Z"
   },
   {
    "duration": 85,
    "start_time": "2024-09-10T16:44:27.093Z"
   },
   {
    "duration": 5,
    "start_time": "2024-09-10T16:44:27.294Z"
   },
   {
    "duration": 82,
    "start_time": "2024-09-10T16:44:27.501Z"
   },
   {
    "duration": 3,
    "start_time": "2024-09-10T16:44:28.253Z"
   },
   {
    "duration": 6,
    "start_time": "2024-09-10T16:44:28.423Z"
   },
   {
    "duration": 5,
    "start_time": "2024-09-10T16:44:28.601Z"
   },
   {
    "duration": 4,
    "start_time": "2024-09-10T16:44:28.774Z"
   },
   {
    "duration": 5,
    "start_time": "2024-09-10T16:44:28.998Z"
   },
   {
    "duration": 12,
    "start_time": "2024-09-10T16:44:29.205Z"
   },
   {
    "duration": 85,
    "start_time": "2024-09-10T16:44:29.405Z"
   },
   {
    "duration": 2,
    "start_time": "2024-09-10T16:44:29.624Z"
   },
   {
    "duration": 6,
    "start_time": "2024-09-10T16:44:29.815Z"
   },
   {
    "duration": 5,
    "start_time": "2024-09-10T16:44:30.055Z"
   },
   {
    "duration": 5,
    "start_time": "2024-09-10T16:44:30.271Z"
   },
   {
    "duration": 9,
    "start_time": "2024-09-10T16:44:30.502Z"
   },
   {
    "duration": 4,
    "start_time": "2024-09-10T16:44:30.718Z"
   },
   {
    "duration": 9,
    "start_time": "2024-09-10T16:44:30.951Z"
   },
   {
    "duration": 144,
    "start_time": "2024-09-10T16:44:31.175Z"
   },
   {
    "duration": 10,
    "start_time": "2024-09-10T16:44:32.087Z"
   },
   {
    "duration": 5,
    "start_time": "2024-09-10T16:44:32.311Z"
   },
   {
    "duration": 1245,
    "start_time": "2024-09-10T16:44:32.510Z"
   },
   {
    "duration": 204,
    "start_time": "2024-09-10T16:44:33.756Z"
   },
   {
    "duration": 191,
    "start_time": "2024-09-10T16:44:33.961Z"
   },
   {
    "duration": 11,
    "start_time": "2024-09-10T16:44:34.154Z"
   },
   {
    "duration": 21,
    "start_time": "2024-09-10T16:44:34.166Z"
   },
   {
    "duration": 10,
    "start_time": "2024-09-10T16:44:34.189Z"
   },
   {
    "duration": 177,
    "start_time": "2024-09-10T16:44:34.201Z"
   },
   {
    "duration": 319,
    "start_time": "2024-09-10T16:44:34.379Z"
   },
   {
    "duration": 8,
    "start_time": "2024-09-10T16:44:34.700Z"
   },
   {
    "duration": 6,
    "start_time": "2024-09-10T16:44:34.709Z"
   },
   {
    "duration": 257,
    "start_time": "2024-09-10T16:44:34.716Z"
   },
   {
    "duration": 4,
    "start_time": "2024-09-10T16:44:34.975Z"
   },
   {
    "duration": 214,
    "start_time": "2024-09-10T16:44:35.069Z"
   },
   {
    "duration": 8,
    "start_time": "2024-09-10T16:44:35.285Z"
   },
   {
    "duration": 6,
    "start_time": "2024-09-10T16:44:35.495Z"
   },
   {
    "duration": 259,
    "start_time": "2024-09-10T16:44:35.706Z"
   },
   {
    "duration": 1,
    "start_time": "2024-09-10T16:44:35.967Z"
   },
   {
    "duration": 7,
    "start_time": "2024-09-10T16:44:36.182Z"
   },
   {
    "duration": 8,
    "start_time": "2024-09-10T16:44:36.391Z"
   },
   {
    "duration": 9,
    "start_time": "2024-09-10T16:44:36.609Z"
   },
   {
    "duration": 14,
    "start_time": "2024-09-10T16:44:37.568Z"
   },
   {
    "duration": 2,
    "start_time": "2024-09-10T16:44:37.818Z"
   },
   {
    "duration": 2,
    "start_time": "2024-09-10T16:44:38.045Z"
   },
   {
    "duration": 7,
    "start_time": "2024-09-10T16:44:38.310Z"
   },
   {
    "duration": 13,
    "start_time": "2024-09-10T16:44:38.542Z"
   },
   {
    "duration": 20,
    "start_time": "2024-09-10T16:44:38.791Z"
   },
   {
    "duration": 11,
    "start_time": "2024-09-10T16:44:39.178Z"
   },
   {
    "duration": 12,
    "start_time": "2024-09-10T16:44:40.167Z"
   },
   {
    "duration": 2525,
    "start_time": "2024-09-10T16:44:40.390Z"
   },
   {
    "duration": 12,
    "start_time": "2024-09-10T16:44:42.916Z"
   },
   {
    "duration": 17,
    "start_time": "2024-09-10T16:44:42.930Z"
   },
   {
    "duration": 5312,
    "start_time": "2024-09-10T16:44:42.949Z"
   },
   {
    "duration": 305,
    "start_time": "2024-09-10T16:44:48.262Z"
   },
   {
    "duration": 84,
    "start_time": "2024-09-10T16:44:48.568Z"
   },
   {
    "duration": 245,
    "start_time": "2024-09-10T16:44:48.657Z"
   },
   {
    "duration": 9,
    "start_time": "2024-09-10T17:07:36.823Z"
   },
   {
    "duration": 24,
    "start_time": "2024-09-10T17:13:07.651Z"
   },
   {
    "duration": 24,
    "start_time": "2024-09-10T17:13:33.682Z"
   },
   {
    "duration": 4,
    "start_time": "2024-09-10T17:24:01.772Z"
   },
   {
    "duration": 25,
    "start_time": "2024-09-10T17:24:12.988Z"
   },
   {
    "duration": 28,
    "start_time": "2024-09-10T17:25:34.488Z"
   },
   {
    "duration": 24,
    "start_time": "2024-09-10T17:26:18.434Z"
   },
   {
    "duration": 27,
    "start_time": "2024-09-10T17:33:11.942Z"
   },
   {
    "duration": 9,
    "start_time": "2024-09-10T17:37:23.706Z"
   },
   {
    "duration": 9,
    "start_time": "2024-09-10T17:37:37.056Z"
   },
   {
    "duration": 17,
    "start_time": "2024-09-10T17:38:41.987Z"
   },
   {
    "duration": 141,
    "start_time": "2024-09-10T17:49:10.215Z"
   },
   {
    "duration": 12,
    "start_time": "2024-09-10T17:49:19.672Z"
   },
   {
    "duration": 2436,
    "start_time": "2024-09-10T18:08:41.041Z"
   },
   {
    "duration": 2450,
    "start_time": "2024-09-10T18:08:44.421Z"
   },
   {
    "duration": 2498,
    "start_time": "2024-09-10T18:09:02.867Z"
   },
   {
    "duration": 2492,
    "start_time": "2024-09-10T18:09:05.953Z"
   },
   {
    "duration": 1592,
    "start_time": "2024-09-10T18:09:08.447Z"
   },
   {
    "duration": 38,
    "start_time": "2024-09-10T18:09:10.182Z"
   },
   {
    "duration": 20,
    "start_time": "2024-09-10T18:09:10.938Z"
   },
   {
    "duration": 29,
    "start_time": "2024-09-10T18:09:11.521Z"
   },
   {
    "duration": 27,
    "start_time": "2024-09-10T18:09:12.211Z"
   },
   {
    "duration": 2,
    "start_time": "2024-09-10T18:09:13.844Z"
   },
   {
    "duration": 10,
    "start_time": "2024-09-10T18:09:14.242Z"
   },
   {
    "duration": 6,
    "start_time": "2024-09-10T18:09:14.596Z"
   },
   {
    "duration": 4,
    "start_time": "2024-09-10T18:09:14.878Z"
   },
   {
    "duration": 5,
    "start_time": "2024-09-10T18:09:15.112Z"
   },
   {
    "duration": 3,
    "start_time": "2024-09-10T18:09:15.322Z"
   },
   {
    "duration": 9,
    "start_time": "2024-09-10T18:09:15.537Z"
   },
   {
    "duration": 6,
    "start_time": "2024-09-10T18:09:15.733Z"
   },
   {
    "duration": 5,
    "start_time": "2024-09-10T18:09:15.943Z"
   },
   {
    "duration": 26,
    "start_time": "2024-09-10T18:09:16.128Z"
   },
   {
    "duration": 689,
    "start_time": "2024-09-10T18:09:16.328Z"
   },
   {
    "duration": 2,
    "start_time": "2024-09-10T18:09:17.018Z"
   },
   {
    "duration": 10,
    "start_time": "2024-09-10T18:09:17.021Z"
   },
   {
    "duration": 4,
    "start_time": "2024-09-10T18:09:17.033Z"
   },
   {
    "duration": 9,
    "start_time": "2024-09-10T18:09:17.146Z"
   },
   {
    "duration": 5,
    "start_time": "2024-09-10T18:09:17.360Z"
   },
   {
    "duration": 6,
    "start_time": "2024-09-10T18:09:17.567Z"
   },
   {
    "duration": 5,
    "start_time": "2024-09-10T18:09:17.760Z"
   },
   {
    "duration": 12,
    "start_time": "2024-09-10T18:09:17.966Z"
   },
   {
    "duration": 84,
    "start_time": "2024-09-10T18:09:18.176Z"
   },
   {
    "duration": 6,
    "start_time": "2024-09-10T18:09:18.367Z"
   },
   {
    "duration": 82,
    "start_time": "2024-09-10T18:09:18.578Z"
   },
   {
    "duration": 2,
    "start_time": "2024-09-10T18:09:18.768Z"
   },
   {
    "duration": 6,
    "start_time": "2024-09-10T18:09:18.983Z"
   },
   {
    "duration": 3,
    "start_time": "2024-09-10T18:09:19.207Z"
   },
   {
    "duration": 4,
    "start_time": "2024-09-10T18:09:19.424Z"
   },
   {
    "duration": 5,
    "start_time": "2024-09-10T18:09:19.640Z"
   },
   {
    "duration": 12,
    "start_time": "2024-09-10T18:09:19.863Z"
   },
   {
    "duration": 85,
    "start_time": "2024-09-10T18:09:20.078Z"
   },
   {
    "duration": 2,
    "start_time": "2024-09-10T18:09:20.311Z"
   },
   {
    "duration": 6,
    "start_time": "2024-09-10T18:09:20.530Z"
   },
   {
    "duration": 4,
    "start_time": "2024-09-10T18:09:20.767Z"
   },
   {
    "duration": 5,
    "start_time": "2024-09-10T18:09:21.000Z"
   },
   {
    "duration": 8,
    "start_time": "2024-09-10T18:09:21.215Z"
   },
   {
    "duration": 4,
    "start_time": "2024-09-10T18:09:21.424Z"
   },
   {
    "duration": 8,
    "start_time": "2024-09-10T18:09:21.663Z"
   },
   {
    "duration": 137,
    "start_time": "2024-09-10T18:09:21.879Z"
   },
   {
    "duration": 11,
    "start_time": "2024-09-10T18:09:22.782Z"
   },
   {
    "duration": 4,
    "start_time": "2024-09-10T18:09:23.015Z"
   },
   {
    "duration": 1249,
    "start_time": "2024-09-10T18:09:23.256Z"
   },
   {
    "duration": 173,
    "start_time": "2024-09-10T18:09:24.507Z"
   },
   {
    "duration": 129,
    "start_time": "2024-09-10T18:09:24.750Z"
   },
   {
    "duration": 81,
    "start_time": "2024-09-10T18:09:24.881Z"
   },
   {
    "duration": 36,
    "start_time": "2024-09-10T18:09:24.963Z"
   },
   {
    "duration": 7,
    "start_time": "2024-09-10T18:09:25.000Z"
   },
   {
    "duration": 171,
    "start_time": "2024-09-10T18:09:25.008Z"
   },
   {
    "duration": 316,
    "start_time": "2024-09-10T18:09:25.181Z"
   },
   {
    "duration": 8,
    "start_time": "2024-09-10T18:09:25.499Z"
   },
   {
    "duration": 5,
    "start_time": "2024-09-10T18:09:25.508Z"
   },
   {
    "duration": 212,
    "start_time": "2024-09-10T18:09:25.571Z"
   },
   {
    "duration": 3,
    "start_time": "2024-09-10T18:09:25.855Z"
   },
   {
    "duration": 248,
    "start_time": "2024-09-10T18:09:26.020Z"
   },
   {
    "duration": 8,
    "start_time": "2024-09-10T18:09:26.270Z"
   },
   {
    "duration": 7,
    "start_time": "2024-09-10T18:09:26.473Z"
   },
   {
    "duration": 265,
    "start_time": "2024-09-10T18:09:26.688Z"
   },
   {
    "duration": 2,
    "start_time": "2024-09-10T18:09:26.955Z"
   },
   {
    "duration": 7,
    "start_time": "2024-09-10T18:09:27.105Z"
   },
   {
    "duration": 7,
    "start_time": "2024-09-10T18:09:27.335Z"
   },
   {
    "duration": 9,
    "start_time": "2024-09-10T18:09:27.569Z"
   },
   {
    "duration": 16,
    "start_time": "2024-09-10T18:09:28.432Z"
   },
   {
    "duration": 2,
    "start_time": "2024-09-10T18:09:28.649Z"
   },
   {
    "duration": 2,
    "start_time": "2024-09-10T18:09:28.865Z"
   },
   {
    "duration": 6,
    "start_time": "2024-09-10T18:09:29.080Z"
   },
   {
    "duration": 13,
    "start_time": "2024-09-10T18:09:29.281Z"
   },
   {
    "duration": 21,
    "start_time": "2024-09-10T18:09:29.504Z"
   },
   {
    "duration": 12,
    "start_time": "2024-09-10T18:09:29.737Z"
   },
   {
    "duration": 12,
    "start_time": "2024-09-10T18:09:30.584Z"
   },
   {
    "duration": 2526,
    "start_time": "2024-09-10T18:09:30.800Z"
   },
   {
    "duration": 3475,
    "start_time": "2024-09-10T18:09:33.328Z"
   },
   {
    "duration": 19,
    "start_time": "2024-09-10T18:09:36.804Z"
   },
   {
    "duration": 6,
    "start_time": "2024-09-10T18:09:36.824Z"
   },
   {
    "duration": 3610,
    "start_time": "2024-09-10T18:11:38.895Z"
   },
   {
    "duration": 21,
    "start_time": "2024-09-10T18:12:07.985Z"
   },
   {
    "duration": 5,
    "start_time": "2024-09-10T18:12:08.777Z"
   },
   {
    "duration": 143,
    "start_time": "2024-09-10T18:12:16.322Z"
   },
   {
    "duration": 11,
    "start_time": "2024-09-10T18:13:56.643Z"
   },
   {
    "duration": 31,
    "start_time": "2024-09-10T18:15:19.439Z"
   },
   {
    "duration": 36,
    "start_time": "2024-09-10T18:15:28.421Z"
   },
   {
    "duration": 33,
    "start_time": "2024-09-10T18:16:35.712Z"
   },
   {
    "duration": 39,
    "start_time": "2024-09-10T18:17:04.516Z"
   },
   {
    "duration": 33,
    "start_time": "2024-09-10T18:19:55.984Z"
   },
   {
    "duration": 36,
    "start_time": "2024-09-10T18:21:31.241Z"
   },
   {
    "duration": 3349,
    "start_time": "2024-09-11T16:53:11.181Z"
   },
   {
    "duration": 3833,
    "start_time": "2024-09-11T16:53:14.532Z"
   },
   {
    "duration": 1836,
    "start_time": "2024-09-11T16:53:18.368Z"
   },
   {
    "duration": 88,
    "start_time": "2024-09-11T16:53:21.403Z"
   },
   {
    "duration": 111,
    "start_time": "2024-09-11T16:53:22.319Z"
   },
   {
    "duration": 104,
    "start_time": "2024-09-11T16:53:23.067Z"
   },
   {
    "duration": 85,
    "start_time": "2024-09-11T16:53:23.551Z"
   },
   {
    "duration": 2,
    "start_time": "2024-09-11T16:53:25.103Z"
   },
   {
    "duration": 10,
    "start_time": "2024-09-11T16:53:25.486Z"
   },
   {
    "duration": 5,
    "start_time": "2024-09-11T16:53:25.780Z"
   },
   {
    "duration": 4,
    "start_time": "2024-09-11T16:53:26.021Z"
   },
   {
    "duration": 4,
    "start_time": "2024-09-11T16:53:26.265Z"
   },
   {
    "duration": 3,
    "start_time": "2024-09-11T16:53:26.482Z"
   },
   {
    "duration": 10,
    "start_time": "2024-09-11T16:53:26.729Z"
   },
   {
    "duration": 6,
    "start_time": "2024-09-11T16:53:26.886Z"
   },
   {
    "duration": 5,
    "start_time": "2024-09-11T16:53:27.104Z"
   },
   {
    "duration": 34,
    "start_time": "2024-09-11T16:53:27.311Z"
   },
   {
    "duration": 647,
    "start_time": "2024-09-11T16:53:27.527Z"
   },
   {
    "duration": 2,
    "start_time": "2024-09-11T16:53:28.175Z"
   },
   {
    "duration": 12,
    "start_time": "2024-09-11T16:53:28.178Z"
   },
   {
    "duration": 29,
    "start_time": "2024-09-11T16:53:28.192Z"
   },
   {
    "duration": 11,
    "start_time": "2024-09-11T16:53:28.364Z"
   },
   {
    "duration": 6,
    "start_time": "2024-09-11T16:53:28.558Z"
   },
   {
    "duration": 7,
    "start_time": "2024-09-11T16:53:28.768Z"
   },
   {
    "duration": 6,
    "start_time": "2024-09-11T16:53:28.958Z"
   },
   {
    "duration": 13,
    "start_time": "2024-09-11T16:53:29.168Z"
   },
   {
    "duration": 83,
    "start_time": "2024-09-11T16:53:29.366Z"
   },
   {
    "duration": 5,
    "start_time": "2024-09-11T16:53:29.598Z"
   },
   {
    "duration": 77,
    "start_time": "2024-09-11T16:53:29.809Z"
   },
   {
    "duration": 3,
    "start_time": "2024-09-11T16:53:30.037Z"
   },
   {
    "duration": 6,
    "start_time": "2024-09-11T16:53:30.247Z"
   },
   {
    "duration": 5,
    "start_time": "2024-09-11T16:53:30.438Z"
   },
   {
    "duration": 4,
    "start_time": "2024-09-11T16:53:30.640Z"
   },
   {
    "duration": 5,
    "start_time": "2024-09-11T16:53:30.847Z"
   },
   {
    "duration": 12,
    "start_time": "2024-09-11T16:53:31.064Z"
   },
   {
    "duration": 89,
    "start_time": "2024-09-11T16:53:31.279Z"
   },
   {
    "duration": 2,
    "start_time": "2024-09-11T16:53:31.496Z"
   },
   {
    "duration": 7,
    "start_time": "2024-09-11T16:53:31.704Z"
   },
   {
    "duration": 4,
    "start_time": "2024-09-11T16:53:31.918Z"
   },
   {
    "duration": 5,
    "start_time": "2024-09-11T16:53:32.127Z"
   },
   {
    "duration": 8,
    "start_time": "2024-09-11T16:53:32.350Z"
   },
   {
    "duration": 5,
    "start_time": "2024-09-11T16:53:32.598Z"
   },
   {
    "duration": 7,
    "start_time": "2024-09-11T16:53:32.839Z"
   },
   {
    "duration": 153,
    "start_time": "2024-09-11T16:53:33.034Z"
   },
   {
    "duration": 13,
    "start_time": "2024-09-11T16:53:33.855Z"
   },
   {
    "duration": 4,
    "start_time": "2024-09-11T16:53:34.079Z"
   },
   {
    "duration": 1262,
    "start_time": "2024-09-11T16:53:34.305Z"
   },
   {
    "duration": 166,
    "start_time": "2024-09-11T16:53:35.568Z"
   },
   {
    "duration": 199,
    "start_time": "2024-09-11T16:53:35.736Z"
   },
   {
    "duration": 11,
    "start_time": "2024-09-11T16:53:36.006Z"
   },
   {
    "duration": 58,
    "start_time": "2024-09-11T16:53:36.019Z"
   },
   {
    "duration": 24,
    "start_time": "2024-09-11T16:53:36.079Z"
   },
   {
    "duration": 206,
    "start_time": "2024-09-11T16:53:36.104Z"
   },
   {
    "duration": 265,
    "start_time": "2024-09-11T16:53:36.311Z"
   },
   {
    "duration": 35,
    "start_time": "2024-09-11T16:53:36.577Z"
   },
   {
    "duration": 72,
    "start_time": "2024-09-11T16:53:36.613Z"
   },
   {
    "duration": 250,
    "start_time": "2024-09-11T16:53:36.686Z"
   },
   {
    "duration": 4,
    "start_time": "2024-09-11T16:53:37.008Z"
   },
   {
    "duration": 240,
    "start_time": "2024-09-11T16:53:37.014Z"
   },
   {
    "duration": 10,
    "start_time": "2024-09-11T16:53:37.260Z"
   },
   {
    "duration": 19,
    "start_time": "2024-09-11T16:53:37.306Z"
   },
   {
    "duration": 256,
    "start_time": "2024-09-11T16:53:37.463Z"
   },
   {
    "duration": 2,
    "start_time": "2024-09-11T16:53:37.721Z"
   },
   {
    "duration": 7,
    "start_time": "2024-09-11T16:53:37.886Z"
   },
   {
    "duration": 7,
    "start_time": "2024-09-11T16:53:38.087Z"
   },
   {
    "duration": 8,
    "start_time": "2024-09-11T16:53:38.311Z"
   },
   {
    "duration": 14,
    "start_time": "2024-09-11T16:53:39.159Z"
   },
   {
    "duration": 2,
    "start_time": "2024-09-11T16:53:39.359Z"
   },
   {
    "duration": 2,
    "start_time": "2024-09-11T16:53:39.574Z"
   },
   {
    "duration": 6,
    "start_time": "2024-09-11T16:53:39.816Z"
   },
   {
    "duration": 11,
    "start_time": "2024-09-11T16:53:40.025Z"
   },
   {
    "duration": 18,
    "start_time": "2024-09-11T16:53:40.231Z"
   },
   {
    "duration": 9,
    "start_time": "2024-09-11T16:53:40.478Z"
   },
   {
    "duration": 11,
    "start_time": "2024-09-11T16:53:41.350Z"
   },
   {
    "duration": 2439,
    "start_time": "2024-09-11T16:53:41.594Z"
   },
   {
    "duration": 3385,
    "start_time": "2024-09-11T16:53:47.466Z"
   },
   {
    "duration": 19,
    "start_time": "2024-09-11T16:53:58.823Z"
   },
   {
    "duration": 5,
    "start_time": "2024-09-11T16:54:00.438Z"
   },
   {
    "duration": 148,
    "start_time": "2024-09-11T16:54:16.570Z"
   },
   {
    "duration": 34,
    "start_time": "2024-09-11T16:54:20.486Z"
   },
   {
    "duration": 45,
    "start_time": "2024-09-11T17:10:05.726Z"
   },
   {
    "duration": 2,
    "start_time": "2024-09-11T17:11:55.118Z"
   },
   {
    "duration": 3,
    "start_time": "2024-09-11T17:12:02.561Z"
   },
   {
    "duration": 8,
    "start_time": "2024-09-11T17:12:22.556Z"
   },
   {
    "duration": 8,
    "start_time": "2024-09-11T17:12:35.186Z"
   },
   {
    "duration": 8,
    "start_time": "2024-09-11T17:12:44.518Z"
   },
   {
    "duration": 3,
    "start_time": "2024-09-11T17:13:06.679Z"
   },
   {
    "duration": 32,
    "start_time": "2024-09-11T17:13:39.664Z"
   },
   {
    "duration": 946,
    "start_time": "2024-09-11T17:14:48.110Z"
   },
   {
    "duration": 3418,
    "start_time": "2024-09-11T17:23:44.468Z"
   },
   {
    "duration": 18,
    "start_time": "2024-09-11T17:24:00.942Z"
   },
   {
    "duration": 6,
    "start_time": "2024-09-11T17:24:01.709Z"
   },
   {
    "duration": 2314,
    "start_time": "2024-09-11T17:24:48.006Z"
   },
   {
    "duration": 3421,
    "start_time": "2024-09-11T17:25:17.741Z"
   },
   {
    "duration": 30,
    "start_time": "2024-09-11T17:27:54.759Z"
   },
   {
    "duration": 338,
    "start_time": "2024-09-11T17:29:54.262Z"
   },
   {
    "duration": 3447,
    "start_time": "2024-09-11T17:30:47.020Z"
   },
   {
    "duration": 9,
    "start_time": "2024-09-11T17:31:17.433Z"
   },
   {
    "duration": 33,
    "start_time": "2024-09-11T17:31:37.986Z"
   },
   {
    "duration": 41,
    "start_time": "2024-09-11T17:33:01.882Z"
   },
   {
    "duration": 24,
    "start_time": "2024-09-11T17:33:28.875Z"
   },
   {
    "duration": 16,
    "start_time": "2024-09-11T17:36:49.819Z"
   },
   {
    "duration": 34,
    "start_time": "2024-09-11T17:42:35.462Z"
   },
   {
    "duration": 34,
    "start_time": "2024-09-11T17:43:06.120Z"
   },
   {
    "duration": 9,
    "start_time": "2024-09-11T17:43:23.001Z"
   },
   {
    "duration": 34,
    "start_time": "2024-09-11T17:43:29.296Z"
   },
   {
    "duration": 20,
    "start_time": "2024-09-11T17:45:11.071Z"
   },
   {
    "duration": 46,
    "start_time": "2024-09-11T17:48:24.050Z"
   },
   {
    "duration": 9,
    "start_time": "2024-09-11T17:54:22.519Z"
   },
   {
    "duration": 10,
    "start_time": "2024-09-11T17:59:21.558Z"
   },
   {
    "duration": 14,
    "start_time": "2024-09-11T18:01:49.642Z"
   },
   {
    "duration": 8,
    "start_time": "2024-09-11T18:02:54.318Z"
   },
   {
    "duration": 13,
    "start_time": "2024-09-11T18:03:29.298Z"
   },
   {
    "duration": 22,
    "start_time": "2024-09-11T18:04:23.070Z"
   },
   {
    "duration": 27,
    "start_time": "2024-09-11T18:07:19.074Z"
   },
   {
    "duration": 37,
    "start_time": "2024-09-11T18:14:18.416Z"
   },
   {
    "duration": 12,
    "start_time": "2024-09-11T18:17:30.972Z"
   },
   {
    "duration": 34,
    "start_time": "2024-09-11T18:17:43.128Z"
   },
   {
    "duration": 27,
    "start_time": "2024-09-11T18:18:03.776Z"
   },
   {
    "duration": 401,
    "start_time": "2024-09-11T18:19:15.889Z"
   },
   {
    "duration": 9,
    "start_time": "2024-09-11T18:19:34.979Z"
   },
   {
    "duration": 423,
    "start_time": "2024-09-11T18:19:47.370Z"
   },
   {
    "duration": 25,
    "start_time": "2024-09-11T18:21:02.881Z"
   },
   {
    "duration": 25,
    "start_time": "2024-09-11T18:21:45.605Z"
   },
   {
    "duration": 72,
    "start_time": "2024-09-11T18:22:51.176Z"
   },
   {
    "duration": 26,
    "start_time": "2024-09-11T18:22:58.153Z"
   },
   {
    "duration": 27,
    "start_time": "2024-09-11T18:23:56.629Z"
   },
   {
    "duration": 13,
    "start_time": "2024-09-11T18:24:59.687Z"
   },
   {
    "duration": 17,
    "start_time": "2024-09-11T18:25:33.549Z"
   },
   {
    "duration": 3059,
    "start_time": "2024-09-11T18:31:53.384Z"
   },
   {
    "duration": 37,
    "start_time": "2024-09-11T18:32:04.589Z"
   },
   {
    "duration": 34,
    "start_time": "2024-09-11T18:42:18.734Z"
   },
   {
    "duration": 23,
    "start_time": "2024-09-11T18:42:27.438Z"
   },
   {
    "duration": 24,
    "start_time": "2024-09-11T18:42:37.996Z"
   },
   {
    "duration": 37,
    "start_time": "2024-09-11T18:42:54.998Z"
   },
   {
    "duration": 44,
    "start_time": "2024-09-11T18:43:14.314Z"
   },
   {
    "duration": 27,
    "start_time": "2024-09-11T18:44:52.494Z"
   },
   {
    "duration": 41,
    "start_time": "2024-09-11T18:44:59.268Z"
   },
   {
    "duration": 43,
    "start_time": "2024-09-11T18:47:28.271Z"
   },
   {
    "duration": 35,
    "start_time": "2024-09-11T18:47:38.495Z"
   },
   {
    "duration": 29,
    "start_time": "2024-09-11T18:48:57.335Z"
   },
   {
    "duration": 95,
    "start_time": "2024-09-11T18:52:32.903Z"
   },
   {
    "duration": 7,
    "start_time": "2024-09-11T18:53:14.468Z"
   },
   {
    "duration": 41,
    "start_time": "2024-09-11T18:53:45.266Z"
   },
   {
    "duration": 42,
    "start_time": "2024-09-11T18:54:50.763Z"
   },
   {
    "duration": 8,
    "start_time": "2024-09-11T18:58:12.704Z"
   },
   {
    "duration": 3,
    "start_time": "2024-09-11T18:58:25.931Z"
   },
   {
    "duration": 6376,
    "start_time": "2024-09-11T18:59:05.208Z"
   },
   {
    "duration": 4,
    "start_time": "2024-09-11T18:59:14.458Z"
   },
   {
    "duration": 3573,
    "start_time": "2024-09-12T17:07:25.055Z"
   },
   {
    "duration": 4299,
    "start_time": "2024-09-12T17:07:28.630Z"
   },
   {
    "duration": 2129,
    "start_time": "2024-09-12T17:07:32.931Z"
   },
   {
    "duration": 86,
    "start_time": "2024-09-12T17:07:39.573Z"
   },
   {
    "duration": 113,
    "start_time": "2024-09-12T17:07:40.881Z"
   },
   {
    "duration": 87,
    "start_time": "2024-09-12T17:07:41.422Z"
   },
   {
    "duration": 88,
    "start_time": "2024-09-12T17:07:42.117Z"
   },
   {
    "duration": 3,
    "start_time": "2024-09-12T17:07:44.214Z"
   },
   {
    "duration": 11,
    "start_time": "2024-09-12T17:07:44.662Z"
   },
   {
    "duration": 6,
    "start_time": "2024-09-12T17:07:45.029Z"
   },
   {
    "duration": 5,
    "start_time": "2024-09-12T17:07:45.442Z"
   },
   {
    "duration": 5,
    "start_time": "2024-09-12T17:07:45.823Z"
   },
   {
    "duration": 5,
    "start_time": "2024-09-12T17:07:46.149Z"
   },
   {
    "duration": 12,
    "start_time": "2024-09-12T17:07:46.720Z"
   },
   {
    "duration": 7,
    "start_time": "2024-09-12T17:07:47.359Z"
   },
   {
    "duration": 6,
    "start_time": "2024-09-12T17:07:47.742Z"
   },
   {
    "duration": 31,
    "start_time": "2024-09-12T17:07:48.127Z"
   },
   {
    "duration": 790,
    "start_time": "2024-09-12T17:07:48.884Z"
   },
   {
    "duration": 3,
    "start_time": "2024-09-12T17:07:49.676Z"
   },
   {
    "duration": 9,
    "start_time": "2024-09-12T17:07:49.681Z"
   },
   {
    "duration": 7,
    "start_time": "2024-09-12T17:07:49.933Z"
   },
   {
    "duration": 11,
    "start_time": "2024-09-12T17:07:50.242Z"
   },
   {
    "duration": 5,
    "start_time": "2024-09-12T17:07:50.649Z"
   },
   {
    "duration": 8,
    "start_time": "2024-09-12T17:07:50.909Z"
   },
   {
    "duration": 6,
    "start_time": "2024-09-12T17:07:51.141Z"
   },
   {
    "duration": 15,
    "start_time": "2024-09-12T17:07:51.334Z"
   },
   {
    "duration": 116,
    "start_time": "2024-09-12T17:07:51.533Z"
   },
   {
    "duration": 6,
    "start_time": "2024-09-12T17:07:51.731Z"
   },
   {
    "duration": 107,
    "start_time": "2024-09-12T17:07:51.917Z"
   },
   {
    "duration": 2,
    "start_time": "2024-09-12T17:07:52.118Z"
   },
   {
    "duration": 10,
    "start_time": "2024-09-12T17:07:52.311Z"
   },
   {
    "duration": 5,
    "start_time": "2024-09-12T17:07:52.494Z"
   },
   {
    "duration": 7,
    "start_time": "2024-09-12T17:07:52.704Z"
   },
   {
    "duration": 8,
    "start_time": "2024-09-12T17:07:52.933Z"
   },
   {
    "duration": 15,
    "start_time": "2024-09-12T17:07:53.125Z"
   },
   {
    "duration": 108,
    "start_time": "2024-09-12T17:07:53.322Z"
   },
   {
    "duration": 3,
    "start_time": "2024-09-12T17:07:53.541Z"
   },
   {
    "duration": 7,
    "start_time": "2024-09-12T17:07:53.750Z"
   },
   {
    "duration": 6,
    "start_time": "2024-09-12T17:07:53.965Z"
   },
   {
    "duration": 5,
    "start_time": "2024-09-12T17:07:54.170Z"
   },
   {
    "duration": 11,
    "start_time": "2024-09-12T17:07:54.414Z"
   },
   {
    "duration": 5,
    "start_time": "2024-09-12T17:07:54.621Z"
   },
   {
    "duration": 11,
    "start_time": "2024-09-12T17:07:55.065Z"
   },
   {
    "duration": 212,
    "start_time": "2024-09-12T17:07:55.305Z"
   },
   {
    "duration": 12,
    "start_time": "2024-09-12T17:07:56.101Z"
   },
   {
    "duration": 4,
    "start_time": "2024-09-12T17:07:56.301Z"
   },
   {
    "duration": 1543,
    "start_time": "2024-09-12T17:07:56.515Z"
   },
   {
    "duration": 254,
    "start_time": "2024-09-12T17:07:58.060Z"
   },
   {
    "duration": 224,
    "start_time": "2024-09-12T17:07:58.315Z"
   },
   {
    "duration": 14,
    "start_time": "2024-09-12T17:07:58.541Z"
   },
   {
    "duration": 16,
    "start_time": "2024-09-12T17:07:58.557Z"
   },
   {
    "duration": 8,
    "start_time": "2024-09-12T17:07:58.574Z"
   },
   {
    "duration": 249,
    "start_time": "2024-09-12T17:07:58.584Z"
   },
   {
    "duration": 329,
    "start_time": "2024-09-12T17:07:58.835Z"
   },
   {
    "duration": 10,
    "start_time": "2024-09-12T17:07:59.166Z"
   },
   {
    "duration": 7,
    "start_time": "2024-09-12T17:07:59.317Z"
   },
   {
    "duration": 298,
    "start_time": "2024-09-12T17:07:59.534Z"
   },
   {
    "duration": 74,
    "start_time": "2024-09-12T17:07:59.834Z"
   },
   {
    "duration": 306,
    "start_time": "2024-09-12T17:07:59.942Z"
   },
   {
    "duration": 11,
    "start_time": "2024-09-12T17:08:00.250Z"
   },
   {
    "duration": 8,
    "start_time": "2024-09-12T17:08:00.362Z"
   },
   {
    "duration": 294,
    "start_time": "2024-09-12T17:08:00.578Z"
   },
   {
    "duration": 3,
    "start_time": "2024-09-12T17:08:00.874Z"
   },
   {
    "duration": 7,
    "start_time": "2024-09-12T17:08:00.998Z"
   },
   {
    "duration": 8,
    "start_time": "2024-09-12T17:08:01.205Z"
   },
   {
    "duration": 10,
    "start_time": "2024-09-12T17:08:01.422Z"
   },
   {
    "duration": 18,
    "start_time": "2024-09-12T17:08:02.565Z"
   },
   {
    "duration": 2,
    "start_time": "2024-09-12T17:08:02.790Z"
   },
   {
    "duration": 2,
    "start_time": "2024-09-12T17:08:03.026Z"
   },
   {
    "duration": 7,
    "start_time": "2024-09-12T17:08:03.326Z"
   },
   {
    "duration": 15,
    "start_time": "2024-09-12T17:08:03.769Z"
   },
   {
    "duration": 24,
    "start_time": "2024-09-12T17:08:04.526Z"
   },
   {
    "duration": 12,
    "start_time": "2024-09-12T17:08:05.085Z"
   },
   {
    "duration": 15,
    "start_time": "2024-09-12T17:08:06.653Z"
   },
   {
    "duration": 3166,
    "start_time": "2024-09-12T17:08:07.111Z"
   },
   {
    "duration": 3648,
    "start_time": "2024-09-12T17:08:10.280Z"
   },
   {
    "duration": 23,
    "start_time": "2024-09-12T17:08:13.930Z"
   },
   {
    "duration": 14,
    "start_time": "2024-09-12T17:08:13.954Z"
   },
   {
    "duration": 2866,
    "start_time": "2024-09-12T17:08:33.977Z"
   },
   {
    "duration": 6515,
    "start_time": "2024-09-12T17:08:36.846Z"
   },
   {
    "duration": 176,
    "start_time": "2024-09-12T17:08:46.547Z"
   },
   {
    "duration": 40,
    "start_time": "2024-09-12T17:14:50.247Z"
   },
   {
    "duration": 10,
    "start_time": "2024-09-12T17:19:07.247Z"
   },
   {
    "duration": 11,
    "start_time": "2024-09-12T17:19:50.904Z"
   },
   {
    "duration": 14,
    "start_time": "2024-09-12T17:20:00.144Z"
   },
   {
    "duration": 2628,
    "start_time": "2024-09-12T17:22:46.206Z"
   },
   {
    "duration": 42,
    "start_time": "2024-09-12T17:23:53.399Z"
   },
   {
    "duration": 18,
    "start_time": "2024-09-12T17:26:22.042Z"
   },
   {
    "duration": 72,
    "start_time": "2024-09-12T17:27:33.786Z"
   },
   {
    "duration": 72,
    "start_time": "2024-09-12T17:27:41.672Z"
   },
   {
    "duration": 74,
    "start_time": "2024-09-12T17:28:08.290Z"
   },
   {
    "duration": 982,
    "start_time": "2024-09-12T17:28:47.526Z"
   },
   {
    "duration": 1053,
    "start_time": "2024-09-12T17:29:41.891Z"
   },
   {
    "duration": 6,
    "start_time": "2024-09-12T17:30:46.173Z"
   },
   {
    "duration": 4,
    "start_time": "2024-09-12T17:31:13.231Z"
   },
   {
    "duration": 42,
    "start_time": "2024-09-12T17:31:44.324Z"
   },
   {
    "duration": 26,
    "start_time": "2024-09-12T17:41:02.413Z"
   },
   {
    "duration": 2671,
    "start_time": "2024-09-12T17:41:22.346Z"
   },
   {
    "duration": 2656,
    "start_time": "2024-09-12T17:41:25.020Z"
   },
   {
    "duration": 2513,
    "start_time": "2024-09-12T17:41:56.437Z"
   },
   {
    "duration": 2709,
    "start_time": "2024-09-12T17:41:58.953Z"
   },
   {
    "duration": 1777,
    "start_time": "2024-09-12T17:42:01.664Z"
   },
   {
    "duration": 43,
    "start_time": "2024-09-12T17:42:03.443Z"
   },
   {
    "duration": 36,
    "start_time": "2024-09-12T17:42:03.487Z"
   },
   {
    "duration": 22,
    "start_time": "2024-09-12T17:42:03.525Z"
   },
   {
    "duration": 30,
    "start_time": "2024-09-12T17:42:03.549Z"
   },
   {
    "duration": 2,
    "start_time": "2024-09-12T17:42:03.581Z"
   },
   {
    "duration": 22,
    "start_time": "2024-09-12T17:42:03.585Z"
   },
   {
    "duration": 27,
    "start_time": "2024-09-12T17:42:03.610Z"
   },
   {
    "duration": 10,
    "start_time": "2024-09-12T17:42:03.638Z"
   },
   {
    "duration": 34,
    "start_time": "2024-09-12T17:42:03.650Z"
   },
   {
    "duration": 47,
    "start_time": "2024-09-12T17:42:03.686Z"
   },
   {
    "duration": 23,
    "start_time": "2024-09-12T17:42:03.735Z"
   },
   {
    "duration": 22,
    "start_time": "2024-09-12T17:42:03.760Z"
   },
   {
    "duration": 8,
    "start_time": "2024-09-12T17:42:03.784Z"
   },
   {
    "duration": 48,
    "start_time": "2024-09-12T17:42:03.793Z"
   },
   {
    "duration": 845,
    "start_time": "2024-09-12T17:42:03.843Z"
   },
   {
    "duration": 3,
    "start_time": "2024-09-12T17:42:04.689Z"
   },
   {
    "duration": 12,
    "start_time": "2024-09-12T17:42:04.704Z"
   },
   {
    "duration": 19,
    "start_time": "2024-09-12T17:42:04.718Z"
   },
   {
    "duration": 22,
    "start_time": "2024-09-12T17:42:04.739Z"
   },
   {
    "duration": 6,
    "start_time": "2024-09-12T17:42:04.763Z"
   },
   {
    "duration": 9,
    "start_time": "2024-09-12T17:42:04.770Z"
   },
   {
    "duration": 19,
    "start_time": "2024-09-12T17:42:04.781Z"
   },
   {
    "duration": 15,
    "start_time": "2024-09-12T17:42:05.790Z"
   },
   {
    "duration": 109,
    "start_time": "2024-09-12T17:42:06.705Z"
   },
   {
    "duration": 6,
    "start_time": "2024-09-12T17:42:07.350Z"
   },
   {
    "duration": 117,
    "start_time": "2024-09-12T17:42:07.808Z"
   },
   {
    "duration": 2,
    "start_time": "2024-09-12T17:42:08.309Z"
   },
   {
    "duration": 11,
    "start_time": "2024-09-12T17:42:08.738Z"
   },
   {
    "duration": 5,
    "start_time": "2024-09-12T17:42:09.172Z"
   },
   {
    "duration": 6,
    "start_time": "2024-09-12T17:42:09.570Z"
   },
   {
    "duration": 6,
    "start_time": "2024-09-12T17:42:09.877Z"
   },
   {
    "duration": 14,
    "start_time": "2024-09-12T17:42:10.249Z"
   },
   {
    "duration": 135,
    "start_time": "2024-09-12T17:42:10.435Z"
   },
   {
    "duration": 2,
    "start_time": "2024-09-12T17:42:10.635Z"
   },
   {
    "duration": 13,
    "start_time": "2024-09-12T17:42:10.864Z"
   },
   {
    "duration": 5,
    "start_time": "2024-09-12T17:42:11.070Z"
   },
   {
    "duration": 6,
    "start_time": "2024-09-12T17:42:11.290Z"
   },
   {
    "duration": 11,
    "start_time": "2024-09-12T17:42:11.505Z"
   },
   {
    "duration": 5,
    "start_time": "2024-09-12T17:42:11.708Z"
   },
   {
    "duration": 11,
    "start_time": "2024-09-12T17:42:11.923Z"
   },
   {
    "duration": 202,
    "start_time": "2024-09-12T17:42:12.128Z"
   },
   {
    "duration": 13,
    "start_time": "2024-09-12T17:42:12.925Z"
   },
   {
    "duration": 5,
    "start_time": "2024-09-12T17:42:13.245Z"
   },
   {
    "duration": 1598,
    "start_time": "2024-09-12T17:42:13.422Z"
   },
   {
    "duration": 225,
    "start_time": "2024-09-12T17:42:15.022Z"
   },
   {
    "duration": 263,
    "start_time": "2024-09-12T17:42:15.248Z"
   },
   {
    "duration": 16,
    "start_time": "2024-09-12T17:42:15.513Z"
   },
   {
    "duration": 28,
    "start_time": "2024-09-12T17:42:15.531Z"
   },
   {
    "duration": 11,
    "start_time": "2024-09-12T17:42:15.560Z"
   },
   {
    "duration": 263,
    "start_time": "2024-09-12T17:42:15.573Z"
   },
   {
    "duration": 346,
    "start_time": "2024-09-12T17:42:15.838Z"
   },
   {
    "duration": 20,
    "start_time": "2024-09-12T17:42:16.186Z"
   },
   {
    "duration": 9,
    "start_time": "2024-09-12T17:42:16.208Z"
   },
   {
    "duration": 387,
    "start_time": "2024-09-12T17:42:16.218Z"
   },
   {
    "duration": 4,
    "start_time": "2024-09-12T17:42:16.607Z"
   },
   {
    "duration": 325,
    "start_time": "2024-09-12T17:42:16.613Z"
   },
   {
    "duration": 10,
    "start_time": "2024-09-12T17:42:16.939Z"
   },
   {
    "duration": 49,
    "start_time": "2024-09-12T17:42:16.951Z"
   },
   {
    "duration": 311,
    "start_time": "2024-09-12T17:42:17.044Z"
   },
   {
    "duration": 3,
    "start_time": "2024-09-12T17:42:17.357Z"
   },
   {
    "duration": 8,
    "start_time": "2024-09-12T17:42:17.570Z"
   },
   {
    "duration": 9,
    "start_time": "2024-09-12T17:42:17.820Z"
   },
   {
    "duration": 12,
    "start_time": "2024-09-12T17:42:18.033Z"
   },
   {
    "duration": 23,
    "start_time": "2024-09-12T17:42:18.967Z"
   },
   {
    "duration": 3,
    "start_time": "2024-09-12T17:42:19.316Z"
   },
   {
    "duration": 3,
    "start_time": "2024-09-12T17:42:19.592Z"
   },
   {
    "duration": 7,
    "start_time": "2024-09-12T17:42:19.874Z"
   },
   {
    "duration": 14,
    "start_time": "2024-09-12T17:42:20.098Z"
   },
   {
    "duration": 23,
    "start_time": "2024-09-12T17:42:20.338Z"
   },
   {
    "duration": 13,
    "start_time": "2024-09-12T17:42:20.612Z"
   },
   {
    "duration": 15,
    "start_time": "2024-09-12T17:42:21.903Z"
   },
   {
    "duration": 3189,
    "start_time": "2024-09-12T17:42:22.262Z"
   },
   {
    "duration": 151,
    "start_time": "2024-09-12T17:42:28.349Z"
   },
   {
    "duration": 11,
    "start_time": "2024-09-12T17:42:40.755Z"
   },
   {
    "duration": 11,
    "start_time": "2024-09-12T17:42:41.187Z"
   },
   {
    "duration": 25,
    "start_time": "2024-09-12T17:43:03.641Z"
   },
   {
    "duration": 3120,
    "start_time": "2024-09-12T17:43:55.258Z"
   },
   {
    "duration": 34,
    "start_time": "2024-09-12T17:43:59.706Z"
   },
   {
    "duration": 24,
    "start_time": "2024-09-12T17:44:02.723Z"
   },
   {
    "duration": 2658,
    "start_time": "2024-09-12T17:45:09.854Z"
   },
   {
    "duration": 2543,
    "start_time": "2024-09-12T17:45:12.514Z"
   },
   {
    "duration": 3076,
    "start_time": "2024-09-12T17:45:15.059Z"
   },
   {
    "duration": 1847,
    "start_time": "2024-09-12T17:45:19.136Z"
   },
   {
    "duration": 42,
    "start_time": "2024-09-12T17:45:20.985Z"
   },
   {
    "duration": 21,
    "start_time": "2024-09-12T17:45:21.029Z"
   },
   {
    "duration": 26,
    "start_time": "2024-09-12T17:45:21.784Z"
   },
   {
    "duration": 40,
    "start_time": "2024-09-12T17:45:21.998Z"
   },
   {
    "duration": 3,
    "start_time": "2024-09-12T17:45:22.781Z"
   },
   {
    "duration": 13,
    "start_time": "2024-09-12T17:45:22.982Z"
   },
   {
    "duration": 7,
    "start_time": "2024-09-12T17:45:23.186Z"
   },
   {
    "duration": 6,
    "start_time": "2024-09-12T17:45:23.411Z"
   },
   {
    "duration": 5,
    "start_time": "2024-09-12T17:45:23.590Z"
   },
   {
    "duration": 4,
    "start_time": "2024-09-12T17:45:23.783Z"
   },
   {
    "duration": 11,
    "start_time": "2024-09-12T17:45:23.982Z"
   },
   {
    "duration": 7,
    "start_time": "2024-09-12T17:45:24.221Z"
   },
   {
    "duration": 7,
    "start_time": "2024-09-12T17:45:24.397Z"
   },
   {
    "duration": 42,
    "start_time": "2024-09-12T17:45:24.647Z"
   },
   {
    "duration": 785,
    "start_time": "2024-09-12T17:45:24.855Z"
   },
   {
    "duration": 2,
    "start_time": "2024-09-12T17:45:25.643Z"
   },
   {
    "duration": 15,
    "start_time": "2024-09-12T17:45:25.647Z"
   },
   {
    "duration": 61,
    "start_time": "2024-09-12T17:45:25.664Z"
   },
   {
    "duration": 36,
    "start_time": "2024-09-12T17:45:25.728Z"
   },
   {
    "duration": 7,
    "start_time": "2024-09-12T17:45:25.896Z"
   },
   {
    "duration": 8,
    "start_time": "2024-09-12T17:45:26.118Z"
   },
   {
    "duration": 6,
    "start_time": "2024-09-12T17:45:26.327Z"
   },
   {
    "duration": 14,
    "start_time": "2024-09-12T17:45:26.547Z"
   },
   {
    "duration": 117,
    "start_time": "2024-09-12T17:45:26.751Z"
   },
   {
    "duration": 6,
    "start_time": "2024-09-12T17:45:26.949Z"
   },
   {
    "duration": 95,
    "start_time": "2024-09-12T17:45:27.183Z"
   },
   {
    "duration": 3,
    "start_time": "2024-09-12T17:45:27.380Z"
   },
   {
    "duration": 8,
    "start_time": "2024-09-12T17:45:27.616Z"
   },
   {
    "duration": 5,
    "start_time": "2024-09-12T17:45:27.830Z"
   },
   {
    "duration": 6,
    "start_time": "2024-09-12T17:45:28.047Z"
   },
   {
    "duration": 6,
    "start_time": "2024-09-12T17:45:28.258Z"
   },
   {
    "duration": 16,
    "start_time": "2024-09-12T17:45:28.456Z"
   },
   {
    "duration": 107,
    "start_time": "2024-09-12T17:45:28.654Z"
   },
   {
    "duration": 3,
    "start_time": "2024-09-12T17:45:28.854Z"
   },
   {
    "duration": 7,
    "start_time": "2024-09-12T17:45:29.062Z"
   },
   {
    "duration": 5,
    "start_time": "2024-09-12T17:45:29.270Z"
   },
   {
    "duration": 6,
    "start_time": "2024-09-12T17:45:29.479Z"
   },
   {
    "duration": 11,
    "start_time": "2024-09-12T17:45:29.694Z"
   },
   {
    "duration": 12,
    "start_time": "2024-09-12T17:45:29.908Z"
   },
   {
    "duration": 11,
    "start_time": "2024-09-12T17:45:30.118Z"
   },
   {
    "duration": 192,
    "start_time": "2024-09-12T17:45:30.319Z"
   },
   {
    "duration": 19,
    "start_time": "2024-09-12T17:45:31.139Z"
   },
   {
    "duration": 5,
    "start_time": "2024-09-12T17:45:31.358Z"
   },
   {
    "duration": 1518,
    "start_time": "2024-09-12T17:45:31.575Z"
   },
   {
    "duration": 244,
    "start_time": "2024-09-12T17:45:33.095Z"
   },
   {
    "duration": 267,
    "start_time": "2024-09-12T17:45:33.340Z"
   },
   {
    "duration": 14,
    "start_time": "2024-09-12T17:45:33.609Z"
   },
   {
    "duration": 23,
    "start_time": "2024-09-12T17:45:33.625Z"
   },
   {
    "duration": 11,
    "start_time": "2024-09-12T17:45:33.649Z"
   },
   {
    "duration": 269,
    "start_time": "2024-09-12T17:45:33.662Z"
   },
   {
    "duration": 350,
    "start_time": "2024-09-12T17:45:33.933Z"
   },
   {
    "duration": 24,
    "start_time": "2024-09-12T17:45:34.285Z"
   },
   {
    "duration": 14,
    "start_time": "2024-09-12T17:45:34.311Z"
   },
   {
    "duration": 280,
    "start_time": "2024-09-12T17:45:34.327Z"
   },
   {
    "duration": 5,
    "start_time": "2024-09-12T17:45:35.071Z"
   },
   {
    "duration": 443,
    "start_time": "2024-09-12T17:45:35.078Z"
   },
   {
    "duration": 10,
    "start_time": "2024-09-12T17:45:35.523Z"
   },
   {
    "duration": 20,
    "start_time": "2024-09-12T17:45:35.535Z"
   },
   {
    "duration": 294,
    "start_time": "2024-09-12T17:45:35.557Z"
   },
   {
    "duration": 2,
    "start_time": "2024-09-12T17:45:35.853Z"
   },
   {
    "duration": 11,
    "start_time": "2024-09-12T17:45:35.956Z"
   },
   {
    "duration": 8,
    "start_time": "2024-09-12T17:45:36.159Z"
   },
   {
    "duration": 12,
    "start_time": "2024-09-12T17:45:36.384Z"
   },
   {
    "duration": 24,
    "start_time": "2024-09-12T17:45:37.551Z"
   },
   {
    "duration": 2,
    "start_time": "2024-09-12T17:45:38.142Z"
   },
   {
    "duration": 2,
    "start_time": "2024-09-12T17:45:38.382Z"
   },
   {
    "duration": 7,
    "start_time": "2024-09-12T17:45:38.578Z"
   },
   {
    "duration": 15,
    "start_time": "2024-09-12T17:45:38.778Z"
   },
   {
    "duration": 24,
    "start_time": "2024-09-12T17:45:39.022Z"
   },
   {
    "duration": 13,
    "start_time": "2024-09-12T17:45:39.806Z"
   },
   {
    "duration": 14,
    "start_time": "2024-09-12T17:45:41.358Z"
   },
   {
    "duration": 3135,
    "start_time": "2024-09-12T17:45:41.701Z"
   },
   {
    "duration": 159,
    "start_time": "2024-09-12T17:45:46.899Z"
   },
   {
    "duration": 22,
    "start_time": "2024-09-12T17:46:26.657Z"
   },
   {
    "duration": 10,
    "start_time": "2024-09-12T17:47:08.030Z"
   },
   {
    "duration": 29,
    "start_time": "2024-09-12T17:47:15.409Z"
   },
   {
    "duration": 25,
    "start_time": "2024-09-12T17:47:48.629Z"
   },
   {
    "duration": 28,
    "start_time": "2024-09-12T17:48:04.146Z"
   },
   {
    "duration": 23,
    "start_time": "2024-09-12T17:48:13.214Z"
   },
   {
    "duration": 3794,
    "start_time": "2024-09-12T17:49:13.591Z"
   },
   {
    "duration": 27,
    "start_time": "2024-09-12T17:49:27.315Z"
   },
   {
    "duration": 9,
    "start_time": "2024-09-12T17:49:28.682Z"
   },
   {
    "duration": 19,
    "start_time": "2024-09-12T17:50:10.455Z"
   },
   {
    "duration": 142,
    "start_time": "2024-09-12T17:52:01.897Z"
   },
   {
    "duration": 50,
    "start_time": "2024-09-12T17:53:12.272Z"
   },
   {
    "duration": 110,
    "start_time": "2024-09-12T17:53:19.764Z"
   },
   {
    "duration": 4,
    "start_time": "2024-09-12T17:54:34.260Z"
   },
   {
    "duration": 79,
    "start_time": "2024-09-12T17:54:50.900Z"
   },
   {
    "duration": 11,
    "start_time": "2024-09-12T17:55:19.631Z"
   },
   {
    "duration": 114,
    "start_time": "2024-09-12T17:55:34.459Z"
   },
   {
    "duration": 14,
    "start_time": "2024-09-12T17:55:54.841Z"
   },
   {
    "duration": 54,
    "start_time": "2024-09-12T17:56:05.653Z"
   },
   {
    "duration": 32,
    "start_time": "2024-09-12T17:56:29.653Z"
   },
   {
    "duration": 54,
    "start_time": "2024-09-12T17:57:22.322Z"
   },
   {
    "duration": 604,
    "start_time": "2024-09-12T17:57:44.949Z"
   },
   {
    "duration": 54,
    "start_time": "2024-09-12T17:59:02.937Z"
   },
   {
    "duration": 40,
    "start_time": "2024-09-12T17:59:38.094Z"
   },
   {
    "duration": 40,
    "start_time": "2024-09-12T17:59:59.005Z"
   },
   {
    "duration": 31,
    "start_time": "2024-09-12T18:00:26.777Z"
   },
   {
    "duration": 7,
    "start_time": "2024-09-12T18:01:00.187Z"
   },
   {
    "duration": 11,
    "start_time": "2024-09-12T18:01:07.245Z"
   },
   {
    "duration": 7,
    "start_time": "2024-09-12T18:01:12.253Z"
   },
   {
    "duration": 263,
    "start_time": "2024-09-12T18:01:21.388Z"
   },
   {
    "duration": 33,
    "start_time": "2024-09-12T18:03:00.198Z"
   },
   {
    "duration": 31,
    "start_time": "2024-09-12T18:03:06.790Z"
   },
   {
    "duration": 996,
    "start_time": "2024-09-12T18:04:33.278Z"
   },
   {
    "duration": 212,
    "start_time": "2024-09-12T18:05:19.241Z"
   },
   {
    "duration": 808,
    "start_time": "2024-09-12T18:05:26.419Z"
   },
   {
    "duration": 836,
    "start_time": "2024-09-12T18:06:21.471Z"
   },
   {
    "duration": 34,
    "start_time": "2024-09-12T18:06:45.728Z"
   },
   {
    "duration": 52,
    "start_time": "2024-09-12T18:07:08.538Z"
   },
   {
    "duration": 212,
    "start_time": "2024-09-12T18:07:29.476Z"
   },
   {
    "duration": 1014,
    "start_time": "2024-09-12T18:08:01.759Z"
   },
   {
    "duration": 899,
    "start_time": "2024-09-12T18:09:21.720Z"
   },
   {
    "duration": 238,
    "start_time": "2024-09-12T18:09:42.943Z"
   },
   {
    "duration": 67,
    "start_time": "2024-09-12T18:09:47.338Z"
   },
   {
    "duration": 913,
    "start_time": "2024-09-12T18:09:52.336Z"
   },
   {
    "duration": 1114,
    "start_time": "2024-09-12T18:10:14.804Z"
   },
   {
    "duration": 980,
    "start_time": "2024-09-12T18:10:32.677Z"
   },
   {
    "duration": 2,
    "start_time": "2024-09-12T18:10:49.234Z"
   },
   {
    "duration": 12,
    "start_time": "2024-09-12T18:11:27.654Z"
   },
   {
    "duration": 17,
    "start_time": "2024-09-12T18:11:43.326Z"
   },
   {
    "duration": 53,
    "start_time": "2024-09-12T18:11:48.535Z"
   },
   {
    "duration": 52,
    "start_time": "2024-09-12T18:11:54.314Z"
   },
   {
    "duration": 902,
    "start_time": "2024-09-12T18:11:58.028Z"
   },
   {
    "duration": 18,
    "start_time": "2024-09-12T18:12:11.458Z"
   },
   {
    "duration": 180,
    "start_time": "2024-09-12T18:12:23.971Z"
   },
   {
    "duration": 75,
    "start_time": "2024-09-12T18:13:59.738Z"
   },
   {
    "duration": 200,
    "start_time": "2024-09-12T18:14:20.668Z"
   },
   {
    "duration": 50,
    "start_time": "2024-09-12T18:15:27.155Z"
   },
   {
    "duration": 52,
    "start_time": "2024-09-12T18:15:41.979Z"
   },
   {
    "duration": 98,
    "start_time": "2024-09-12T18:16:23.209Z"
   },
   {
    "duration": 50,
    "start_time": "2024-09-12T18:16:51.575Z"
   },
   {
    "duration": 788,
    "start_time": "2024-09-12T18:17:05.262Z"
   },
   {
    "duration": 795,
    "start_time": "2024-09-12T18:17:28.157Z"
   },
   {
    "duration": 1017,
    "start_time": "2024-09-12T18:17:53.313Z"
   },
   {
    "duration": 1017,
    "start_time": "2024-09-12T18:18:01.137Z"
   },
   {
    "duration": 866,
    "start_time": "2024-09-12T18:18:08.425Z"
   },
   {
    "duration": 15,
    "start_time": "2024-09-12T18:18:29.840Z"
   },
   {
    "duration": 171,
    "start_time": "2024-09-12T18:18:40.342Z"
   },
   {
    "duration": 12,
    "start_time": "2024-09-12T18:18:56.985Z"
   },
   {
    "duration": 185,
    "start_time": "2024-09-12T18:19:02.949Z"
   },
   {
    "duration": 823,
    "start_time": "2024-09-12T18:19:30.138Z"
   },
   {
    "duration": 168,
    "start_time": "2024-09-12T18:19:33.289Z"
   },
   {
    "duration": 170,
    "start_time": "2024-09-12T18:20:33.275Z"
   },
   {
    "duration": 178,
    "start_time": "2024-09-12T18:21:30.564Z"
   },
   {
    "duration": 24111,
    "start_time": "2024-09-12T18:22:49.662Z"
   },
   {
    "duration": 190,
    "start_time": "2024-09-12T18:23:13.776Z"
   },
   {
    "duration": 2820,
    "start_time": "2024-09-12T18:24:36.485Z"
   },
   {
    "duration": 2688,
    "start_time": "2024-09-12T18:24:40.178Z"
   },
   {
    "duration": 3190,
    "start_time": "2024-09-12T18:24:42.868Z"
   },
   {
    "duration": 1634,
    "start_time": "2024-09-12T18:24:46.061Z"
   },
   {
    "duration": 0,
    "start_time": "2024-09-12T18:24:47.696Z"
   },
   {
    "duration": 0,
    "start_time": "2024-09-12T18:24:47.698Z"
   },
   {
    "duration": 0,
    "start_time": "2024-09-12T18:24:47.704Z"
   },
   {
    "duration": 0,
    "start_time": "2024-09-12T18:24:47.706Z"
   },
   {
    "duration": 0,
    "start_time": "2024-09-12T18:24:47.707Z"
   },
   {
    "duration": 3071,
    "start_time": "2024-09-12T18:25:33.739Z"
   },
   {
    "duration": 2551,
    "start_time": "2024-09-12T18:25:36.812Z"
   },
   {
    "duration": 3161,
    "start_time": "2024-09-12T18:25:39.365Z"
   },
   {
    "duration": 3840,
    "start_time": "2024-09-12T18:25:42.528Z"
   },
   {
    "duration": 1475,
    "start_time": "2024-09-12T18:25:46.370Z"
   },
   {
    "duration": 47,
    "start_time": "2024-09-12T18:25:53.533Z"
   },
   {
    "duration": 2673,
    "start_time": "2024-09-12T18:26:52.889Z"
   },
   {
    "duration": 2600,
    "start_time": "2024-09-12T18:26:56.177Z"
   },
   {
    "duration": 3256,
    "start_time": "2024-09-12T18:26:58.779Z"
   },
   {
    "duration": 3857,
    "start_time": "2024-09-12T18:27:02.037Z"
   },
   {
    "duration": 1518,
    "start_time": "2024-09-12T18:27:05.896Z"
   },
   {
    "duration": 2713,
    "start_time": "2024-09-12T18:27:38.356Z"
   },
   {
    "duration": 2649,
    "start_time": "2024-09-12T18:27:41.071Z"
   },
   {
    "duration": 3263,
    "start_time": "2024-09-12T18:27:43.722Z"
   },
   {
    "duration": 3,
    "start_time": "2024-09-12T18:27:47.747Z"
   },
   {
    "duration": 1728,
    "start_time": "2024-09-12T18:27:51.046Z"
   },
   {
    "duration": 17,
    "start_time": "2024-09-12T18:28:02.508Z"
   },
   {
    "duration": 9,
    "start_time": "2024-09-12T18:28:25.699Z"
   },
   {
    "duration": 15,
    "start_time": "2024-09-12T18:28:31.154Z"
   },
   {
    "duration": 8,
    "start_time": "2024-09-12T18:28:32.377Z"
   },
   {
    "duration": 3523,
    "start_time": "2024-09-12T18:28:56.837Z"
   },
   {
    "duration": 2725,
    "start_time": "2024-09-12T18:29:24.733Z"
   },
   {
    "duration": 2581,
    "start_time": "2024-09-12T18:29:28.245Z"
   },
   {
    "duration": 3320,
    "start_time": "2024-09-12T18:29:30.829Z"
   },
   {
    "duration": 2,
    "start_time": "2024-09-12T18:29:34.173Z"
   },
   {
    "duration": 3331,
    "start_time": "2024-09-12T18:29:35.146Z"
   },
   {
    "duration": 1454,
    "start_time": "2024-09-12T18:29:38.480Z"
   },
   {
    "duration": 0,
    "start_time": "2024-09-12T18:29:39.935Z"
   },
   {
    "duration": 8,
    "start_time": "2024-09-12T18:30:21.037Z"
   },
   {
    "duration": 2685,
    "start_time": "2024-09-12T18:30:35.605Z"
   },
   {
    "duration": 2693,
    "start_time": "2024-09-12T18:30:39.007Z"
   },
   {
    "duration": 3198,
    "start_time": "2024-09-12T18:30:41.702Z"
   },
   {
    "duration": 3,
    "start_time": "2024-09-12T18:30:45.517Z"
   },
   {
    "duration": 3503,
    "start_time": "2024-09-12T18:30:45.996Z"
   },
   {
    "duration": 46,
    "start_time": "2024-09-12T18:30:49.501Z"
   },
   {
    "duration": 408,
    "start_time": "2024-09-12T18:31:10.805Z"
   },
   {
    "duration": 1047,
    "start_time": "2024-09-12T18:31:19.759Z"
   },
   {
    "duration": 2660,
    "start_time": "2024-09-12T18:32:02.634Z"
   },
   {
    "duration": 2692,
    "start_time": "2024-09-12T18:32:05.854Z"
   },
   {
    "duration": 3203,
    "start_time": "2024-09-12T18:32:08.548Z"
   },
   {
    "duration": 2,
    "start_time": "2024-09-12T18:32:12.467Z"
   },
   {
    "duration": 3392,
    "start_time": "2024-09-12T18:32:13.720Z"
   },
   {
    "duration": 408,
    "start_time": "2024-09-12T18:32:22.215Z"
   },
   {
    "duration": 1070,
    "start_time": "2024-09-12T18:32:23.409Z"
   },
   {
    "duration": 4,
    "start_time": "2024-09-12T18:32:25.151Z"
   },
   {
    "duration": 3,
    "start_time": "2024-09-12T18:32:30.972Z"
   },
   {
    "duration": 47,
    "start_time": "2024-09-12T18:32:31.509Z"
   },
   {
    "duration": 24,
    "start_time": "2024-09-12T18:32:31.870Z"
   },
   {
    "duration": 22,
    "start_time": "2024-09-12T18:32:32.177Z"
   },
   {
    "duration": 30,
    "start_time": "2024-09-12T18:32:32.357Z"
   },
   {
    "duration": 3,
    "start_time": "2024-09-12T18:32:33.069Z"
   },
   {
    "duration": 13,
    "start_time": "2024-09-12T18:32:33.254Z"
   },
   {
    "duration": 8,
    "start_time": "2024-09-12T18:32:33.446Z"
   },
   {
    "duration": 5,
    "start_time": "2024-09-12T18:32:33.637Z"
   },
   {
    "duration": 5,
    "start_time": "2024-09-12T18:32:33.834Z"
   },
   {
    "duration": 5,
    "start_time": "2024-09-12T18:32:34.023Z"
   },
   {
    "duration": 12,
    "start_time": "2024-09-12T18:32:34.212Z"
   },
   {
    "duration": 7,
    "start_time": "2024-09-12T18:32:34.413Z"
   },
   {
    "duration": 7,
    "start_time": "2024-09-12T18:32:34.600Z"
   },
   {
    "duration": 36,
    "start_time": "2024-09-12T18:32:34.781Z"
   },
   {
    "duration": 16,
    "start_time": "2024-09-12T18:32:34.981Z"
   },
   {
    "duration": 3,
    "start_time": "2024-09-12T18:32:35.198Z"
   },
   {
    "duration": 8,
    "start_time": "2024-09-12T18:32:35.390Z"
   },
   {
    "duration": 4,
    "start_time": "2024-09-12T18:32:35.590Z"
   },
   {
    "duration": 12,
    "start_time": "2024-09-12T18:32:35.789Z"
   },
   {
    "duration": 7,
    "start_time": "2024-09-12T18:32:35.966Z"
   },
   {
    "duration": 9,
    "start_time": "2024-09-12T18:32:36.150Z"
   },
   {
    "duration": 6,
    "start_time": "2024-09-12T18:32:36.352Z"
   },
   {
    "duration": 15,
    "start_time": "2024-09-12T18:32:36.533Z"
   },
   {
    "duration": 196,
    "start_time": "2024-09-12T18:32:36.733Z"
   },
   {
    "duration": 8,
    "start_time": "2024-09-12T18:32:36.930Z"
   },
   {
    "duration": 225,
    "start_time": "2024-09-12T18:32:37.093Z"
   },
   {
    "duration": 3,
    "start_time": "2024-09-12T18:32:37.320Z"
   },
   {
    "duration": 7,
    "start_time": "2024-09-12T18:32:37.483Z"
   },
   {
    "duration": 4,
    "start_time": "2024-09-12T18:32:37.661Z"
   },
   {
    "duration": 6,
    "start_time": "2024-09-12T18:32:37.853Z"
   },
   {
    "duration": 6,
    "start_time": "2024-09-12T18:32:38.063Z"
   },
   {
    "duration": 15,
    "start_time": "2024-09-12T18:32:38.253Z"
   },
   {
    "duration": 170,
    "start_time": "2024-09-12T18:32:38.461Z"
   },
   {
    "duration": 3,
    "start_time": "2024-09-12T18:32:38.661Z"
   },
   {
    "duration": 7,
    "start_time": "2024-09-12T18:32:38.853Z"
   },
   {
    "duration": 6,
    "start_time": "2024-09-12T18:32:39.046Z"
   },
   {
    "duration": 6,
    "start_time": "2024-09-12T18:32:39.245Z"
   },
   {
    "duration": 11,
    "start_time": "2024-09-12T18:32:39.444Z"
   },
   {
    "duration": 5,
    "start_time": "2024-09-12T18:32:39.646Z"
   },
   {
    "duration": 11,
    "start_time": "2024-09-12T18:32:39.837Z"
   },
   {
    "duration": 172,
    "start_time": "2024-09-12T18:32:40.054Z"
   },
   {
    "duration": 14,
    "start_time": "2024-09-12T18:32:40.885Z"
   },
   {
    "duration": 4,
    "start_time": "2024-09-12T18:32:41.086Z"
   },
   {
    "duration": 16,
    "start_time": "2024-09-12T18:32:41.285Z"
   },
   {
    "duration": 9,
    "start_time": "2024-09-12T18:32:41.480Z"
   },
   {
    "duration": 10,
    "start_time": "2024-09-12T18:32:41.693Z"
   },
   {
    "duration": 14,
    "start_time": "2024-09-12T18:32:41.893Z"
   },
   {
    "duration": 17,
    "start_time": "2024-09-12T18:32:42.094Z"
   },
   {
    "duration": 9,
    "start_time": "2024-09-12T18:32:42.296Z"
   },
   {
    "duration": 9,
    "start_time": "2024-09-12T18:32:42.495Z"
   },
   {
    "duration": 9,
    "start_time": "2024-09-12T18:32:42.701Z"
   },
   {
    "duration": 13,
    "start_time": "2024-09-12T18:32:42.909Z"
   },
   {
    "duration": 10,
    "start_time": "2024-09-12T18:32:43.095Z"
   },
   {
    "duration": 10,
    "start_time": "2024-09-12T18:32:43.293Z"
   },
   {
    "duration": 4,
    "start_time": "2024-09-12T18:32:43.497Z"
   },
   {
    "duration": 10,
    "start_time": "2024-09-12T18:32:43.695Z"
   },
   {
    "duration": 11,
    "start_time": "2024-09-12T18:32:43.893Z"
   },
   {
    "duration": 7,
    "start_time": "2024-09-12T18:32:44.101Z"
   },
   {
    "duration": 9,
    "start_time": "2024-09-12T18:32:44.301Z"
   },
   {
    "duration": 2,
    "start_time": "2024-09-12T18:32:44.502Z"
   },
   {
    "duration": 8,
    "start_time": "2024-09-12T18:32:44.703Z"
   },
   {
    "duration": 11,
    "start_time": "2024-09-12T18:32:44.909Z"
   },
   {
    "duration": 13,
    "start_time": "2024-09-12T18:32:45.125Z"
   },
   {
    "duration": 21,
    "start_time": "2024-09-12T18:32:45.961Z"
   },
   {
    "duration": 3,
    "start_time": "2024-09-12T18:32:46.157Z"
   },
   {
    "duration": 3,
    "start_time": "2024-09-12T18:32:46.360Z"
   },
   {
    "duration": 8,
    "start_time": "2024-09-12T18:32:46.581Z"
   },
   {
    "duration": 21,
    "start_time": "2024-09-12T18:32:46.801Z"
   },
   {
    "duration": 30,
    "start_time": "2024-09-12T18:32:46.990Z"
   },
   {
    "duration": 13,
    "start_time": "2024-09-12T18:32:47.189Z"
   },
   {
    "duration": 19,
    "start_time": "2024-09-12T18:32:48.005Z"
   },
   {
    "duration": 17,
    "start_time": "2024-09-12T18:32:48.222Z"
   },
   {
    "duration": 17,
    "start_time": "2024-09-12T18:32:55.289Z"
   },
   {
    "duration": 8,
    "start_time": "2024-09-12T18:32:58.990Z"
   },
   {
    "duration": 8,
    "start_time": "2024-09-12T18:32:59.541Z"
   },
   {
    "duration": 2699,
    "start_time": "2024-09-12T18:35:43.929Z"
   },
   {
    "duration": 2806,
    "start_time": "2024-09-12T18:35:47.233Z"
   },
   {
    "duration": 3269,
    "start_time": "2024-09-12T18:35:50.042Z"
   },
   {
    "duration": 1515,
    "start_time": "2024-09-12T18:35:53.314Z"
   },
   {
    "duration": 0,
    "start_time": "2024-09-12T18:35:54.831Z"
   },
   {
    "duration": 2769,
    "start_time": "2024-09-12T18:36:09.103Z"
   },
   {
    "duration": 2702,
    "start_time": "2024-09-12T18:36:11.875Z"
   },
   {
    "duration": 3243,
    "start_time": "2024-09-12T18:36:14.580Z"
   },
   {
    "duration": 1435,
    "start_time": "2024-09-12T18:36:17.826Z"
   },
   {
    "duration": 3323,
    "start_time": "2024-09-12T18:37:47.590Z"
   },
   {
    "duration": 21,
    "start_time": "2024-09-12T18:38:02.902Z"
   },
   {
    "duration": 3,
    "start_time": "2024-09-12T18:38:15.641Z"
   },
   {
    "duration": 3352,
    "start_time": "2024-09-12T18:38:45.234Z"
   },
   {
    "duration": 2758,
    "start_time": "2024-09-12T18:39:04.278Z"
   },
   {
    "duration": 2607,
    "start_time": "2024-09-12T18:39:07.676Z"
   },
   {
    "duration": 3476,
    "start_time": "2024-09-12T18:39:10.806Z"
   },
   {
    "duration": 3723,
    "start_time": "2024-09-12T18:39:14.791Z"
   },
   {
    "duration": 3,
    "start_time": "2024-09-12T18:39:23.766Z"
   },
   {
    "duration": 2917,
    "start_time": "2024-09-12T18:39:24.437Z"
   },
   {
    "duration": 2046,
    "start_time": "2024-09-12T18:39:31.294Z"
   },
   {
    "duration": 47,
    "start_time": "2024-09-12T18:39:35.750Z"
   },
   {
    "duration": 33,
    "start_time": "2024-09-12T18:39:39.326Z"
   },
   {
    "duration": 23,
    "start_time": "2024-09-12T18:39:40.246Z"
   },
   {
    "duration": 40,
    "start_time": "2024-09-12T18:39:40.512Z"
   },
   {
    "duration": 3,
    "start_time": "2024-09-12T18:39:41.244Z"
   },
   {
    "duration": 13,
    "start_time": "2024-09-12T18:39:41.447Z"
   },
   {
    "duration": 7,
    "start_time": "2024-09-12T18:39:41.622Z"
   },
   {
    "duration": 4,
    "start_time": "2024-09-12T18:39:41.831Z"
   },
   {
    "duration": 6,
    "start_time": "2024-09-12T18:39:42.021Z"
   },
   {
    "duration": 5,
    "start_time": "2024-09-12T18:39:42.221Z"
   },
   {
    "duration": 11,
    "start_time": "2024-09-12T18:39:42.446Z"
   },
   {
    "duration": 8,
    "start_time": "2024-09-12T18:39:42.658Z"
   },
   {
    "duration": 7,
    "start_time": "2024-09-12T18:39:42.850Z"
   },
   {
    "duration": 37,
    "start_time": "2024-09-12T18:39:43.054Z"
   },
   {
    "duration": 1117,
    "start_time": "2024-09-12T18:39:43.265Z"
   },
   {
    "duration": 3,
    "start_time": "2024-09-12T18:39:44.384Z"
   },
   {
    "duration": 42,
    "start_time": "2024-09-12T18:39:44.389Z"
   },
   {
    "duration": 19,
    "start_time": "2024-09-12T18:39:44.433Z"
   },
   {
    "duration": 39,
    "start_time": "2024-09-12T18:39:44.454Z"
   },
   {
    "duration": 23,
    "start_time": "2024-09-12T18:39:44.495Z"
   },
   {
    "duration": 25,
    "start_time": "2024-09-12T18:39:44.521Z"
   },
   {
    "duration": 7,
    "start_time": "2024-09-12T18:39:44.685Z"
   },
   {
    "duration": 19,
    "start_time": "2024-09-12T18:39:44.887Z"
   },
   {
    "duration": 247,
    "start_time": "2024-09-12T18:39:45.081Z"
   },
   {
    "duration": 6,
    "start_time": "2024-09-12T18:39:45.329Z"
   },
   {
    "duration": 206,
    "start_time": "2024-09-12T18:39:45.518Z"
   },
   {
    "duration": 3,
    "start_time": "2024-09-12T18:39:45.725Z"
   },
   {
    "duration": 10,
    "start_time": "2024-09-12T18:39:45.918Z"
   },
   {
    "duration": 5,
    "start_time": "2024-09-12T18:39:46.136Z"
   },
   {
    "duration": 6,
    "start_time": "2024-09-12T18:39:46.340Z"
   },
   {
    "duration": 7,
    "start_time": "2024-09-12T18:39:46.574Z"
   },
   {
    "duration": 16,
    "start_time": "2024-09-12T18:39:46.790Z"
   },
   {
    "duration": 232,
    "start_time": "2024-09-12T18:39:47.003Z"
   },
   {
    "duration": 3,
    "start_time": "2024-09-12T18:39:47.246Z"
   },
   {
    "duration": 8,
    "start_time": "2024-09-12T18:39:47.478Z"
   },
   {
    "duration": 6,
    "start_time": "2024-09-12T18:39:47.709Z"
   },
   {
    "duration": 7,
    "start_time": "2024-09-12T18:39:47.931Z"
   },
   {
    "duration": 11,
    "start_time": "2024-09-12T18:39:48.141Z"
   },
   {
    "duration": 5,
    "start_time": "2024-09-12T18:39:48.402Z"
   },
   {
    "duration": 10,
    "start_time": "2024-09-12T18:39:48.634Z"
   },
   {
    "duration": 300,
    "start_time": "2024-09-12T18:39:48.842Z"
   },
   {
    "duration": 18,
    "start_time": "2024-09-12T18:39:49.685Z"
   },
   {
    "duration": 4,
    "start_time": "2024-09-12T18:39:49.897Z"
   },
   {
    "duration": 1645,
    "start_time": "2024-09-12T18:39:50.106Z"
   },
   {
    "duration": 278,
    "start_time": "2024-09-12T18:39:51.753Z"
   },
   {
    "duration": 279,
    "start_time": "2024-09-12T18:39:52.033Z"
   },
   {
    "duration": 14,
    "start_time": "2024-09-12T18:39:52.314Z"
   },
   {
    "duration": 31,
    "start_time": "2024-09-12T18:39:52.330Z"
   },
   {
    "duration": 8,
    "start_time": "2024-09-12T18:39:52.630Z"
   },
   {
    "duration": 301,
    "start_time": "2024-09-12T18:39:52.844Z"
   },
   {
    "duration": 465,
    "start_time": "2024-09-12T18:39:53.147Z"
   },
   {
    "duration": 11,
    "start_time": "2024-09-12T18:39:53.613Z"
   },
   {
    "duration": 11,
    "start_time": "2024-09-12T18:39:53.626Z"
   },
   {
    "duration": 279,
    "start_time": "2024-09-12T18:39:53.638Z"
   },
   {
    "duration": 5,
    "start_time": "2024-09-12T18:39:53.919Z"
   },
   {
    "duration": 328,
    "start_time": "2024-09-12T18:39:54.029Z"
   },
   {
    "duration": 11,
    "start_time": "2024-09-12T18:39:54.359Z"
   },
   {
    "duration": 8,
    "start_time": "2024-09-12T18:39:54.430Z"
   },
   {
    "duration": 359,
    "start_time": "2024-09-12T18:39:54.619Z"
   },
   {
    "duration": 3,
    "start_time": "2024-09-12T18:39:54.980Z"
   },
   {
    "duration": 9,
    "start_time": "2024-09-12T18:39:55.042Z"
   },
   {
    "duration": 10,
    "start_time": "2024-09-12T18:39:55.264Z"
   },
   {
    "duration": 12,
    "start_time": "2024-09-12T18:39:55.482Z"
   },
   {
    "duration": 18,
    "start_time": "2024-09-12T18:39:56.700Z"
   },
   {
    "duration": 3,
    "start_time": "2024-09-12T18:39:56.933Z"
   },
   {
    "duration": 2,
    "start_time": "2024-09-12T18:39:57.153Z"
   },
   {
    "duration": 8,
    "start_time": "2024-09-12T18:39:57.398Z"
   },
   {
    "duration": 21,
    "start_time": "2024-09-12T18:39:57.740Z"
   },
   {
    "duration": 24,
    "start_time": "2024-09-12T18:39:58.365Z"
   },
   {
    "duration": 21,
    "start_time": "2024-09-12T18:39:58.392Z"
   },
   {
    "duration": 16,
    "start_time": "2024-09-12T18:39:59.739Z"
   },
   {
    "duration": 2200,
    "start_time": "2024-09-12T18:40:00.093Z"
   },
   {
    "duration": 4144,
    "start_time": "2024-09-12T18:40:02.295Z"
   },
   {
    "duration": 29,
    "start_time": "2024-09-12T18:40:07.666Z"
   },
   {
    "duration": 10,
    "start_time": "2024-09-12T18:40:08.645Z"
   },
   {
    "duration": 919,
    "start_time": "2024-09-12T18:40:11.494Z"
   },
   {
    "duration": 726,
    "start_time": "2024-09-12T18:40:12.525Z"
   },
   {
    "duration": 732,
    "start_time": "2024-09-12T18:40:50.641Z"
   },
   {
    "duration": 666,
    "start_time": "2024-09-12T18:41:19.254Z"
   },
   {
    "duration": 1469,
    "start_time": "2024-09-12T18:42:15.051Z"
   },
   {
    "duration": 186,
    "start_time": "2024-09-12T18:43:46.842Z"
   },
   {
    "duration": 1419,
    "start_time": "2024-09-12T18:43:51.084Z"
   },
   {
    "duration": 1357,
    "start_time": "2024-09-12T18:44:21.534Z"
   },
   {
    "duration": 1152,
    "start_time": "2024-09-12T18:44:54.616Z"
   },
   {
    "duration": 1454,
    "start_time": "2024-09-12T18:47:19.645Z"
   },
   {
    "duration": 341,
    "start_time": "2024-09-12T18:47:57.390Z"
   },
   {
    "duration": 495,
    "start_time": "2024-09-12T18:48:05.001Z"
   },
   {
    "duration": 418,
    "start_time": "2024-09-12T18:48:34.178Z"
   },
   {
    "duration": 19,
    "start_time": "2024-09-12T18:48:44.395Z"
   },
   {
    "duration": 11,
    "start_time": "2024-09-12T18:48:48.131Z"
   },
   {
    "duration": 4,
    "start_time": "2024-09-12T18:49:03.891Z"
   },
   {
    "duration": 15,
    "start_time": "2024-09-12T18:49:18.114Z"
   },
   {
    "duration": 4,
    "start_time": "2024-09-12T18:50:11.811Z"
   },
   {
    "duration": 13,
    "start_time": "2024-09-12T18:50:33.596Z"
   },
   {
    "duration": 13,
    "start_time": "2024-09-12T18:50:36.507Z"
   },
   {
    "duration": 1443,
    "start_time": "2024-09-12T18:50:50.407Z"
   },
   {
    "duration": 2,
    "start_time": "2024-09-12T18:51:09.622Z"
   },
   {
    "duration": 1368,
    "start_time": "2024-09-12T18:51:10.879Z"
   },
   {
    "duration": 24,
    "start_time": "2024-09-12T18:59:29.997Z"
   },
   {
    "duration": 4,
    "start_time": "2024-09-12T18:59:46.785Z"
   },
   {
    "duration": 13,
    "start_time": "2024-09-12T19:00:46.076Z"
   },
   {
    "duration": 14,
    "start_time": "2024-09-12T19:00:56.524Z"
   },
   {
    "duration": 17,
    "start_time": "2024-09-12T19:01:42.688Z"
   },
   {
    "duration": 12,
    "start_time": "2024-09-12T19:02:09.253Z"
   },
   {
    "duration": 11,
    "start_time": "2024-09-12T19:02:17.789Z"
   },
   {
    "duration": 3508,
    "start_time": "2024-09-13T17:08:35.896Z"
   },
   {
    "duration": 3783,
    "start_time": "2024-09-13T17:08:39.406Z"
   },
   {
    "duration": 6704,
    "start_time": "2024-09-13T17:08:43.192Z"
   },
   {
    "duration": 13586,
    "start_time": "2024-09-13T17:08:50.652Z"
   },
   {
    "duration": 2,
    "start_time": "2024-09-13T17:09:08.827Z"
   },
   {
    "duration": 3256,
    "start_time": "2024-09-13T17:09:09.897Z"
   },
   {
    "duration": 504,
    "start_time": "2024-09-13T17:09:13.156Z"
   },
   {
    "duration": 6,
    "start_time": "2024-09-13T17:09:15.239Z"
   },
   {
    "duration": 5,
    "start_time": "2024-09-13T17:09:16.813Z"
   },
   {
    "duration": 6313,
    "start_time": "2024-09-13T17:09:43.736Z"
   },
   {
    "duration": 6255,
    "start_time": "2024-09-13T17:09:51.466Z"
   },
   {
    "duration": 6424,
    "start_time": "2024-09-13T17:10:04.235Z"
   },
   {
    "duration": 5944,
    "start_time": "2024-09-13T17:10:16.061Z"
   },
   {
    "duration": 3152,
    "start_time": "2024-09-13T17:10:28.034Z"
   },
   {
    "duration": 3,
    "start_time": "2024-09-13T17:10:31.188Z"
   },
   {
    "duration": 2,
    "start_time": "2024-09-13T17:10:34.503Z"
   },
   {
    "duration": 6540,
    "start_time": "2024-09-13T17:10:34.882Z"
   },
   {
    "duration": 575,
    "start_time": "2024-09-13T17:10:41.424Z"
   },
   {
    "duration": 0,
    "start_time": "2024-09-13T17:10:42.001Z"
   },
   {
    "duration": 2563,
    "start_time": "2024-09-13T17:16:50.603Z"
   },
   {
    "duration": 2601,
    "start_time": "2024-09-13T17:16:55.446Z"
   },
   {
    "duration": 3137,
    "start_time": "2024-09-13T17:16:58.049Z"
   },
   {
    "duration": 3223,
    "start_time": "2024-09-13T17:17:01.188Z"
   },
   {
    "duration": 3354,
    "start_time": "2024-09-13T17:17:04.413Z"
   },
   {
    "duration": 2842,
    "start_time": "2024-09-13T17:17:07.769Z"
   },
   {
    "duration": 6202,
    "start_time": "2024-09-13T17:17:10.612Z"
   },
   {
    "duration": 3,
    "start_time": "2024-09-13T17:17:16.816Z"
   },
   {
    "duration": 2836,
    "start_time": "2024-09-13T17:17:16.821Z"
   },
   {
    "duration": 462,
    "start_time": "2024-09-13T17:17:19.659Z"
   },
   {
    "duration": 4,
    "start_time": "2024-09-13T17:29:15.648Z"
   },
   {
    "duration": 2,
    "start_time": "2024-09-13T17:29:16.165Z"
   },
   {
    "duration": 3463,
    "start_time": "2024-09-13T17:29:16.521Z"
   },
   {
    "duration": 3,
    "start_time": "2024-09-13T17:31:20.461Z"
   },
   {
    "duration": 2,
    "start_time": "2024-09-13T17:31:21.013Z"
   },
   {
    "duration": 1119,
    "start_time": "2024-09-13T17:31:21.720Z"
   },
   {
    "duration": 3565,
    "start_time": "2024-09-13T17:31:25.101Z"
   },
   {
    "duration": 6834,
    "start_time": "2024-09-13T17:31:31.276Z"
   },
   {
    "duration": 2525,
    "start_time": "2024-09-13T17:31:38.773Z"
   },
   {
    "duration": 3137,
    "start_time": "2024-09-13T17:31:41.300Z"
   },
   {
    "duration": 3230,
    "start_time": "2024-09-13T17:31:44.439Z"
   },
   {
    "duration": 3490,
    "start_time": "2024-09-13T17:31:47.672Z"
   },
   {
    "duration": 3090,
    "start_time": "2024-09-13T17:31:51.163Z"
   },
   {
    "duration": 6985,
    "start_time": "2024-09-13T17:31:54.255Z"
   },
   {
    "duration": 3,
    "start_time": "2024-09-13T17:54:17.189Z"
   },
   {
    "duration": 3437,
    "start_time": "2024-09-13T17:54:19.819Z"
   },
   {
    "duration": 3374,
    "start_time": "2024-09-14T14:37:56.660Z"
   },
   {
    "duration": 4451,
    "start_time": "2024-09-14T14:38:03.580Z"
   },
   {
    "duration": 9511,
    "start_time": "2024-09-14T14:38:23.296Z"
   },
   {
    "duration": 3595,
    "start_time": "2024-09-14T14:38:42.761Z"
   },
   {
    "duration": 18108,
    "start_time": "2024-09-14T14:41:02.845Z"
   },
   {
    "duration": 3299,
    "start_time": "2024-09-14T14:41:42.646Z"
   },
   {
    "duration": 7513,
    "start_time": "2024-09-14T14:44:22.001Z"
   },
   {
    "duration": 4,
    "start_time": "2024-09-14T15:17:29.415Z"
   },
   {
    "duration": 2,
    "start_time": "2024-09-14T15:17:29.955Z"
   },
   {
    "duration": 2,
    "start_time": "2024-09-14T15:17:31.099Z"
   },
   {
    "duration": 1283,
    "start_time": "2024-09-14T15:17:32.335Z"
   },
   {
    "duration": 2621,
    "start_time": "2024-09-14T15:17:45.484Z"
   },
   {
    "duration": 1126,
    "start_time": "2024-09-14T15:17:58.619Z"
   },
   {
    "duration": 2625,
    "start_time": "2024-09-14T15:18:02.016Z"
   },
   {
    "duration": 6980,
    "start_time": "2024-09-14T15:18:13.302Z"
   },
   {
    "duration": 3275,
    "start_time": "2024-09-14T15:18:20.284Z"
   },
   {
    "duration": 9414,
    "start_time": "2024-09-14T15:18:26.016Z"
   },
   {
    "duration": 13316,
    "start_time": "2024-09-14T15:18:35.432Z"
   },
   {
    "duration": 3065,
    "start_time": "2024-09-14T15:18:48.750Z"
   },
   {
    "duration": 3642,
    "start_time": "2024-09-14T15:19:05.962Z"
   },
   {
    "duration": 561,
    "start_time": "2024-09-14T15:19:23.563Z"
   },
   {
    "duration": 71,
    "start_time": "2024-09-14T15:20:33.391Z"
   },
   {
    "duration": 6,
    "start_time": "2024-09-14T15:20:38.925Z"
   },
   {
    "duration": 1310,
    "start_time": "2024-09-14T15:20:42.375Z"
   },
   {
    "duration": 3,
    "start_time": "2024-09-14T15:21:35.998Z"
   },
   {
    "duration": 2,
    "start_time": "2024-09-14T15:21:36.300Z"
   },
   {
    "duration": 5,
    "start_time": "2024-09-14T15:21:36.765Z"
   },
   {
    "duration": 1150,
    "start_time": "2024-09-14T15:21:37.153Z"
   },
   {
    "duration": 5,
    "start_time": "2024-09-14T15:21:59.575Z"
   },
   {
    "duration": 3,
    "start_time": "2024-09-14T15:22:00.032Z"
   },
   {
    "duration": 3,
    "start_time": "2024-09-14T15:22:00.364Z"
   },
   {
    "duration": 1179,
    "start_time": "2024-09-14T15:22:00.760Z"
   },
   {
    "duration": 3,
    "start_time": "2024-09-14T15:22:02.943Z"
   },
   {
    "duration": 3,
    "start_time": "2024-09-14T15:22:03.787Z"
   },
   {
    "duration": 2,
    "start_time": "2024-09-14T15:22:04.317Z"
   },
   {
    "duration": 2,
    "start_time": "2024-09-14T15:22:04.687Z"
   },
   {
    "duration": 3,
    "start_time": "2024-09-14T15:22:04.911Z"
   },
   {
    "duration": 2,
    "start_time": "2024-09-14T15:22:05.136Z"
   },
   {
    "duration": 2,
    "start_time": "2024-09-14T15:22:05.632Z"
   },
   {
    "duration": 2,
    "start_time": "2024-09-14T15:22:06.352Z"
   },
   {
    "duration": 2,
    "start_time": "2024-09-14T15:22:06.839Z"
   },
   {
    "duration": 508,
    "start_time": "2024-09-14T15:22:07.513Z"
   },
   {
    "duration": 1157,
    "start_time": "2024-09-14T15:23:09.270Z"
   },
   {
    "duration": 8609,
    "start_time": "2024-09-14T15:23:11.075Z"
   },
   {
    "duration": 565,
    "start_time": "2024-09-14T15:23:27.541Z"
   },
   {
    "duration": 3723,
    "start_time": "2024-09-14T15:25:52.410Z"
   },
   {
    "duration": 1184,
    "start_time": "2024-09-14T15:26:14.453Z"
   },
   {
    "duration": 8249,
    "start_time": "2024-09-14T15:26:16.487Z"
   },
   {
    "duration": 3646,
    "start_time": "2024-09-14T15:26:27.077Z"
   },
   {
    "duration": 2832,
    "start_time": "2024-09-14T15:30:33.684Z"
   },
   {
    "duration": 512,
    "start_time": "2024-09-14T15:31:56.928Z"
   },
   {
    "duration": 1875,
    "start_time": "2024-09-14T18:25:52.338Z"
   },
   {
    "duration": 4541,
    "start_time": "2024-09-14T18:26:05.685Z"
   },
   {
    "duration": 492,
    "start_time": "2024-09-14T18:26:12.213Z"
   },
   {
    "duration": 3212,
    "start_time": "2024-09-14T18:26:25.902Z"
   },
   {
    "duration": 37,
    "start_time": "2024-09-14T18:26:51.077Z"
   },
   {
    "duration": 100,
    "start_time": "2024-09-14T18:26:57.553Z"
   },
   {
    "duration": 116,
    "start_time": "2024-09-14T18:26:58.484Z"
   },
   {
    "duration": 40,
    "start_time": "2024-09-14T18:27:02.353Z"
   },
   {
    "duration": 95,
    "start_time": "2024-09-14T18:27:02.929Z"
   },
   {
    "duration": 86,
    "start_time": "2024-09-14T18:27:03.250Z"
   },
   {
    "duration": 3,
    "start_time": "2024-09-14T18:27:04.309Z"
   },
   {
    "duration": 12,
    "start_time": "2024-09-14T18:27:04.537Z"
   },
   {
    "duration": 13,
    "start_time": "2024-09-14T18:27:04.761Z"
   },
   {
    "duration": 5,
    "start_time": "2024-09-14T18:27:04.993Z"
   },
   {
    "duration": 7,
    "start_time": "2024-09-14T18:27:05.242Z"
   },
   {
    "duration": 8,
    "start_time": "2024-09-14T18:27:05.473Z"
   },
   {
    "duration": 25,
    "start_time": "2024-09-14T18:27:05.764Z"
   },
   {
    "duration": 8,
    "start_time": "2024-09-14T18:27:05.953Z"
   },
   {
    "duration": 6,
    "start_time": "2024-09-14T18:27:06.226Z"
   },
   {
    "duration": 35,
    "start_time": "2024-09-14T18:27:06.458Z"
   },
   {
    "duration": 901,
    "start_time": "2024-09-14T18:27:06.752Z"
   },
   {
    "duration": 27,
    "start_time": "2024-09-14T18:27:07.655Z"
   },
   {
    "duration": 9,
    "start_time": "2024-09-14T18:27:07.684Z"
   },
   {
    "duration": 6,
    "start_time": "2024-09-14T18:27:07.695Z"
   },
   {
    "duration": 19,
    "start_time": "2024-09-14T18:27:07.703Z"
   },
   {
    "duration": 8,
    "start_time": "2024-09-14T18:27:07.809Z"
   },
   {
    "duration": 11,
    "start_time": "2024-09-14T18:27:07.979Z"
   },
   {
    "duration": 8,
    "start_time": "2024-09-14T18:27:08.180Z"
   },
   {
    "duration": 21,
    "start_time": "2024-09-14T18:27:08.379Z"
   },
   {
    "duration": 117,
    "start_time": "2024-09-14T18:27:08.585Z"
   },
   {
    "duration": 6,
    "start_time": "2024-09-14T18:27:08.819Z"
   },
   {
    "duration": 226,
    "start_time": "2024-09-14T18:27:09.083Z"
   },
   {
    "duration": 3,
    "start_time": "2024-09-14T18:27:09.374Z"
   },
   {
    "duration": 7,
    "start_time": "2024-09-14T18:27:09.646Z"
   },
   {
    "duration": 5,
    "start_time": "2024-09-14T18:27:10.119Z"
   },
   {
    "duration": 6,
    "start_time": "2024-09-14T18:27:10.545Z"
   },
   {
    "duration": 8,
    "start_time": "2024-09-14T18:27:11.058Z"
   },
   {
    "duration": 26,
    "start_time": "2024-09-14T18:27:11.461Z"
   },
   {
    "duration": 133,
    "start_time": "2024-09-14T18:27:11.681Z"
   },
   {
    "duration": 3,
    "start_time": "2024-09-14T18:27:11.897Z"
   },
   {
    "duration": 7,
    "start_time": "2024-09-14T18:27:12.119Z"
   },
   {
    "duration": 6,
    "start_time": "2024-09-14T18:27:12.317Z"
   },
   {
    "duration": 7,
    "start_time": "2024-09-14T18:27:12.555Z"
   },
   {
    "duration": 15,
    "start_time": "2024-09-14T18:27:12.779Z"
   },
   {
    "duration": 5,
    "start_time": "2024-09-14T18:27:12.984Z"
   },
   {
    "duration": 9,
    "start_time": "2024-09-14T18:27:13.184Z"
   },
   {
    "duration": 127,
    "start_time": "2024-09-14T18:27:13.400Z"
   },
   {
    "duration": 13,
    "start_time": "2024-09-14T18:27:14.624Z"
   },
   {
    "duration": 5,
    "start_time": "2024-09-14T18:27:14.929Z"
   },
   {
    "duration": 1621,
    "start_time": "2024-09-14T18:27:15.475Z"
   },
   {
    "duration": 293,
    "start_time": "2024-09-14T18:27:17.098Z"
   },
   {
    "duration": 203,
    "start_time": "2024-09-14T18:27:17.393Z"
   },
   {
    "duration": 15,
    "start_time": "2024-09-14T18:27:17.598Z"
   },
   {
    "duration": 18,
    "start_time": "2024-09-14T18:27:17.615Z"
   },
   {
    "duration": 47,
    "start_time": "2024-09-14T18:27:17.636Z"
   },
   {
    "duration": 224,
    "start_time": "2024-09-14T18:27:17.780Z"
   },
   {
    "duration": 542,
    "start_time": "2024-09-14T18:27:18.009Z"
   },
   {
    "duration": 30,
    "start_time": "2024-09-14T18:27:18.553Z"
   },
   {
    "duration": 10,
    "start_time": "2024-09-14T18:27:18.585Z"
   },
   {
    "duration": 245,
    "start_time": "2024-09-14T18:27:18.625Z"
   },
   {
    "duration": 7,
    "start_time": "2024-09-14T18:27:18.874Z"
   },
   {
    "duration": 311,
    "start_time": "2024-09-14T18:27:19.098Z"
   },
   {
    "duration": 10,
    "start_time": "2024-09-14T18:27:19.496Z"
   },
   {
    "duration": 7,
    "start_time": "2024-09-14T18:27:19.917Z"
   },
   {
    "duration": 302,
    "start_time": "2024-09-14T18:27:20.120Z"
   },
   {
    "duration": 2,
    "start_time": "2024-09-14T18:27:20.425Z"
   },
   {
    "duration": 8,
    "start_time": "2024-09-14T18:27:20.580Z"
   },
   {
    "duration": 11,
    "start_time": "2024-09-14T18:27:20.823Z"
   },
   {
    "duration": 9,
    "start_time": "2024-09-14T18:27:21.145Z"
   },
   {
    "duration": 19,
    "start_time": "2024-09-14T18:27:22.599Z"
   },
   {
    "duration": 3,
    "start_time": "2024-09-14T18:27:22.884Z"
   },
   {
    "duration": 3,
    "start_time": "2024-09-14T18:27:23.117Z"
   },
   {
    "duration": 8,
    "start_time": "2024-09-14T18:27:23.475Z"
   },
   {
    "duration": 15,
    "start_time": "2024-09-14T18:27:23.798Z"
   },
   {
    "duration": 23,
    "start_time": "2024-09-14T18:27:24.334Z"
   },
   {
    "duration": 4,
    "start_time": "2024-09-14T18:27:24.747Z"
   },
   {
    "duration": 12,
    "start_time": "2024-09-14T18:27:25.113Z"
   },
   {
    "duration": 14,
    "start_time": "2024-09-14T18:27:26.599Z"
   },
   {
    "duration": 2882,
    "start_time": "2024-09-14T18:27:27.146Z"
   },
   {
    "duration": 29,
    "start_time": "2024-09-14T18:27:30.030Z"
   },
   {
    "duration": 0,
    "start_time": "2024-09-14T18:27:30.065Z"
   },
   {
    "duration": 11,
    "start_time": "2024-09-14T18:27:30.255Z"
   },
   {
    "duration": 12,
    "start_time": "2024-09-14T18:27:54.576Z"
   },
   {
    "duration": 10,
    "start_time": "2024-09-14T18:27:57.511Z"
   },
   {
    "duration": 7250,
    "start_time": "2024-09-14T18:29:10.402Z"
   },
   {
    "duration": 31,
    "start_time": "2024-09-14T18:29:28.201Z"
   },
   {
    "duration": 11,
    "start_time": "2024-09-14T18:29:30.589Z"
   },
   {
    "duration": 2092,
    "start_time": "2024-09-14T18:30:12.206Z"
   },
   {
    "duration": 30,
    "start_time": "2024-09-14T18:30:27.144Z"
   },
   {
    "duration": 7,
    "start_time": "2024-09-14T18:30:29.353Z"
   },
   {
    "duration": 31,
    "start_time": "2024-09-14T18:30:37.024Z"
   },
   {
    "duration": 39,
    "start_time": "2024-09-14T18:31:18.939Z"
   },
   {
    "duration": 46,
    "start_time": "2024-09-14T18:32:38.555Z"
   },
   {
    "duration": 15,
    "start_time": "2024-09-14T18:33:13.367Z"
   },
   {
    "duration": 20,
    "start_time": "2024-09-14T18:33:32.356Z"
   },
   {
    "duration": 3,
    "start_time": "2024-09-14T18:34:53.753Z"
   },
   {
    "duration": 2,
    "start_time": "2024-09-14T18:34:54.346Z"
   },
   {
    "duration": 3,
    "start_time": "2024-09-14T18:34:54.846Z"
   },
   {
    "duration": 2560,
    "start_time": "2024-09-14T18:34:55.485Z"
   },
   {
    "duration": 2,
    "start_time": "2024-09-14T18:34:59.711Z"
   },
   {
    "duration": 3,
    "start_time": "2024-09-14T18:35:00.476Z"
   },
   {
    "duration": 4,
    "start_time": "2024-09-14T18:35:00.954Z"
   },
   {
    "duration": 3,
    "start_time": "2024-09-14T18:35:01.305Z"
   },
   {
    "duration": 3,
    "start_time": "2024-09-14T18:35:01.501Z"
   },
   {
    "duration": 2,
    "start_time": "2024-09-14T18:35:01.878Z"
   },
   {
    "duration": 3,
    "start_time": "2024-09-14T18:35:02.286Z"
   },
   {
    "duration": 1727,
    "start_time": "2024-09-14T18:35:02.825Z"
   },
   {
    "duration": 3195,
    "start_time": "2024-09-14T18:35:07.839Z"
   },
   {
    "duration": 58,
    "start_time": "2024-09-14T18:35:11.926Z"
   },
   {
    "duration": 23,
    "start_time": "2024-09-14T18:35:12.526Z"
   },
   {
    "duration": 39,
    "start_time": "2024-09-14T18:35:12.950Z"
   },
   {
    "duration": 31,
    "start_time": "2024-09-14T18:35:13.257Z"
   },
   {
    "duration": 2,
    "start_time": "2024-09-14T18:35:14.037Z"
   },
   {
    "duration": 13,
    "start_time": "2024-09-14T18:35:14.229Z"
   },
   {
    "duration": 8,
    "start_time": "2024-09-14T18:35:14.427Z"
   },
   {
    "duration": 5,
    "start_time": "2024-09-14T18:35:14.593Z"
   },
   {
    "duration": 5,
    "start_time": "2024-09-14T18:35:14.814Z"
   },
   {
    "duration": 4,
    "start_time": "2024-09-14T18:35:15.021Z"
   },
   {
    "duration": 12,
    "start_time": "2024-09-14T18:35:15.225Z"
   },
   {
    "duration": 8,
    "start_time": "2024-09-14T18:35:15.421Z"
   },
   {
    "duration": 7,
    "start_time": "2024-09-14T18:35:15.634Z"
   },
   {
    "duration": 42,
    "start_time": "2024-09-14T18:35:15.845Z"
   },
   {
    "duration": 873,
    "start_time": "2024-09-14T18:35:16.073Z"
   },
   {
    "duration": 2,
    "start_time": "2024-09-14T18:35:16.948Z"
   },
   {
    "duration": 17,
    "start_time": "2024-09-14T18:35:16.951Z"
   },
   {
    "duration": 16,
    "start_time": "2024-09-14T18:35:16.980Z"
   },
   {
    "duration": 10,
    "start_time": "2024-09-14T18:35:16.998Z"
   },
   {
    "duration": 7,
    "start_time": "2024-09-14T18:35:17.429Z"
   },
   {
    "duration": 10,
    "start_time": "2024-09-14T18:35:17.853Z"
   },
   {
    "duration": 6,
    "start_time": "2024-09-14T18:35:18.225Z"
   },
   {
    "duration": 15,
    "start_time": "2024-09-14T18:35:18.514Z"
   },
   {
    "duration": 109,
    "start_time": "2024-09-14T18:35:18.741Z"
   },
   {
    "duration": 6,
    "start_time": "2024-09-14T18:35:19.053Z"
   },
   {
    "duration": 122,
    "start_time": "2024-09-14T18:35:19.375Z"
   },
   {
    "duration": 2,
    "start_time": "2024-09-14T18:35:19.655Z"
   },
   {
    "duration": 7,
    "start_time": "2024-09-14T18:35:19.946Z"
   },
   {
    "duration": 4,
    "start_time": "2024-09-14T18:35:20.205Z"
   },
   {
    "duration": 5,
    "start_time": "2024-09-14T18:35:20.458Z"
   },
   {
    "duration": 7,
    "start_time": "2024-09-14T18:35:20.684Z"
   },
   {
    "duration": 14,
    "start_time": "2024-09-14T18:35:20.902Z"
   },
   {
    "duration": 107,
    "start_time": "2024-09-14T18:35:21.241Z"
   },
   {
    "duration": 2,
    "start_time": "2024-09-14T18:35:21.561Z"
   },
   {
    "duration": 10,
    "start_time": "2024-09-14T18:35:21.825Z"
   },
   {
    "duration": 6,
    "start_time": "2024-09-14T18:35:22.077Z"
   },
   {
    "duration": 6,
    "start_time": "2024-09-14T18:35:22.276Z"
   },
   {
    "duration": 10,
    "start_time": "2024-09-14T18:35:22.502Z"
   },
   {
    "duration": 4,
    "start_time": "2024-09-14T18:35:22.741Z"
   },
   {
    "duration": 11,
    "start_time": "2024-09-14T18:35:22.951Z"
   },
   {
    "duration": 219,
    "start_time": "2024-09-14T18:35:23.189Z"
   },
   {
    "duration": 12,
    "start_time": "2024-09-14T18:35:24.094Z"
   },
   {
    "duration": 4,
    "start_time": "2024-09-14T18:35:24.285Z"
   },
   {
    "duration": 1577,
    "start_time": "2024-09-14T18:35:24.504Z"
   },
   {
    "duration": 221,
    "start_time": "2024-09-14T18:35:26.083Z"
   },
   {
    "duration": 288,
    "start_time": "2024-09-14T18:35:26.306Z"
   },
   {
    "duration": 13,
    "start_time": "2024-09-14T18:35:26.596Z"
   },
   {
    "duration": 13,
    "start_time": "2024-09-14T18:35:26.611Z"
   },
   {
    "duration": 7,
    "start_time": "2024-09-14T18:35:26.625Z"
   },
   {
    "duration": 252,
    "start_time": "2024-09-14T18:35:26.633Z"
   },
   {
    "duration": 351,
    "start_time": "2024-09-14T18:35:26.886Z"
   },
   {
    "duration": 9,
    "start_time": "2024-09-14T18:35:27.239Z"
   },
   {
    "duration": 9,
    "start_time": "2024-09-14T18:35:27.269Z"
   },
   {
    "duration": 327,
    "start_time": "2024-09-14T18:35:27.280Z"
   },
   {
    "duration": 6,
    "start_time": "2024-09-14T18:35:27.609Z"
   },
   {
    "duration": 265,
    "start_time": "2024-09-14T18:35:27.668Z"
   },
   {
    "duration": 39,
    "start_time": "2024-09-14T18:35:27.934Z"
   },
   {
    "duration": 8,
    "start_time": "2024-09-14T18:35:27.975Z"
   },
   {
    "duration": 342,
    "start_time": "2024-09-14T18:35:27.985Z"
   },
   {
    "duration": 2,
    "start_time": "2024-09-14T18:35:28.329Z"
   },
   {
    "duration": 8,
    "start_time": "2024-09-14T18:35:28.334Z"
   },
   {
    "duration": 8,
    "start_time": "2024-09-14T18:35:29.398Z"
   },
   {
    "duration": 11,
    "start_time": "2024-09-14T18:35:29.792Z"
   },
   {
    "duration": 24,
    "start_time": "2024-09-14T18:35:30.722Z"
   },
   {
    "duration": 2,
    "start_time": "2024-09-14T18:35:30.925Z"
   },
   {
    "duration": 2,
    "start_time": "2024-09-14T18:35:31.174Z"
   },
   {
    "duration": 7,
    "start_time": "2024-09-14T18:35:31.415Z"
   },
   {
    "duration": 15,
    "start_time": "2024-09-14T18:35:31.637Z"
   },
   {
    "duration": 22,
    "start_time": "2024-09-14T18:35:31.887Z"
   },
   {
    "duration": 4,
    "start_time": "2024-09-14T18:35:32.103Z"
   },
   {
    "duration": 11,
    "start_time": "2024-09-14T18:35:32.317Z"
   },
   {
    "duration": 14,
    "start_time": "2024-09-14T18:35:33.429Z"
   },
   {
    "duration": 2949,
    "start_time": "2024-09-14T18:35:33.695Z"
   },
   {
    "duration": 2432,
    "start_time": "2024-09-14T18:35:38.710Z"
   },
   {
    "duration": 24,
    "start_time": "2024-09-14T18:35:44.071Z"
   },
   {
    "duration": 8,
    "start_time": "2024-09-14T18:35:45.280Z"
   },
   {
    "duration": 199,
    "start_time": "2024-09-14T18:35:47.489Z"
   },
   {
    "duration": 11,
    "start_time": "2024-09-14T18:35:54.699Z"
   },
   {
    "duration": 18,
    "start_time": "2024-09-14T18:35:57.403Z"
   },
   {
    "duration": 21,
    "start_time": "2024-09-14T18:35:58.545Z"
   },
   {
    "duration": 1026,
    "start_time": "2024-09-14T18:37:06.874Z"
   },
   {
    "duration": 24,
    "start_time": "2024-09-14T18:37:15.456Z"
   },
   {
    "duration": 22,
    "start_time": "2024-09-14T18:37:18.350Z"
   },
   {
    "duration": 180,
    "start_time": "2024-09-14T18:37:21.833Z"
   },
   {
    "duration": 15,
    "start_time": "2024-09-14T18:37:30.114Z"
   },
   {
    "duration": 1754,
    "start_time": "2024-09-14T18:37:34.175Z"
   },
   {
    "duration": 174,
    "start_time": "2024-09-14T18:38:14.663Z"
   },
   {
    "duration": 188,
    "start_time": "2024-09-14T18:38:20.663Z"
   },
   {
    "duration": 169,
    "start_time": "2024-09-14T18:41:50.014Z"
   },
   {
    "duration": 186,
    "start_time": "2024-09-14T18:42:05.266Z"
   },
   {
    "duration": 187,
    "start_time": "2024-09-14T18:42:15.767Z"
   },
   {
    "duration": 1524,
    "start_time": "2024-09-14T18:42:58.684Z"
   },
   {
    "duration": 22,
    "start_time": "2024-09-14T18:43:01.711Z"
   },
   {
    "duration": 14,
    "start_time": "2024-09-14T18:43:02.530Z"
   },
   {
    "duration": 12,
    "start_time": "2024-09-14T18:43:03.349Z"
   },
   {
    "duration": 11,
    "start_time": "2024-09-14T18:43:05.213Z"
   },
   {
    "duration": 3,
    "start_time": "2024-09-15T03:00:33.865Z"
   },
   {
    "duration": 1,
    "start_time": "2024-09-15T03:00:34.188Z"
   },
   {
    "duration": 1,
    "start_time": "2024-09-15T03:00:34.423Z"
   },
   {
    "duration": 3,
    "start_time": "2024-09-15T03:00:42.829Z"
   },
   {
    "duration": 3,
    "start_time": "2024-09-15T03:00:43.295Z"
   },
   {
    "duration": 2,
    "start_time": "2024-09-15T03:00:43.672Z"
   },
   {
    "duration": 3246,
    "start_time": "2024-09-15T03:00:44.221Z"
   },
   {
    "duration": 2,
    "start_time": "2024-09-15T03:00:47.469Z"
   },
   {
    "duration": 12,
    "start_time": "2024-09-15T03:00:47.472Z"
   },
   {
    "duration": 3,
    "start_time": "2024-09-15T03:00:47.486Z"
   },
   {
    "duration": 2,
    "start_time": "2024-09-15T03:00:47.655Z"
   },
   {
    "duration": 2,
    "start_time": "2024-09-15T03:00:47.864Z"
   },
   {
    "duration": 2,
    "start_time": "2024-09-15T03:00:48.047Z"
   },
   {
    "duration": 2,
    "start_time": "2024-09-15T03:00:48.236Z"
   },
   {
    "duration": 1480,
    "start_time": "2024-09-15T03:00:48.428Z"
   },
   {
    "duration": 0,
    "start_time": "2024-09-15T03:00:49.910Z"
   },
   {
    "duration": 0,
    "start_time": "2024-09-15T03:00:49.911Z"
   },
   {
    "duration": 0,
    "start_time": "2024-09-15T03:00:49.911Z"
   },
   {
    "duration": 0,
    "start_time": "2024-09-15T03:00:49.912Z"
   },
   {
    "duration": 0,
    "start_time": "2024-09-15T03:00:49.913Z"
   },
   {
    "duration": 2,
    "start_time": "2024-09-15T03:00:50.501Z"
   },
   {
    "duration": 6,
    "start_time": "2024-09-15T03:00:50.704Z"
   },
   {
    "duration": 7,
    "start_time": "2024-09-15T03:00:50.912Z"
   },
   {
    "duration": 7,
    "start_time": "2024-09-15T03:00:51.097Z"
   },
   {
    "duration": 8,
    "start_time": "2024-09-15T03:00:51.287Z"
   },
   {
    "duration": 3,
    "start_time": "2024-09-15T03:01:15.888Z"
   },
   {
    "duration": 2,
    "start_time": "2024-09-15T03:01:16.348Z"
   },
   {
    "duration": 1,
    "start_time": "2024-09-15T03:01:16.681Z"
   },
   {
    "duration": 2370,
    "start_time": "2024-09-15T03:01:17.435Z"
   },
   {
    "duration": 3837,
    "start_time": "2024-09-15T03:01:19.992Z"
   },
   {
    "duration": 3,
    "start_time": "2024-09-15T03:01:23.919Z"
   },
   {
    "duration": 2,
    "start_time": "2024-09-15T03:01:25.092Z"
   },
   {
    "duration": 2,
    "start_time": "2024-09-15T03:01:25.352Z"
   },
   {
    "duration": 2,
    "start_time": "2024-09-15T03:01:25.547Z"
   },
   {
    "duration": 2,
    "start_time": "2024-09-15T03:01:25.835Z"
   },
   {
    "duration": 2,
    "start_time": "2024-09-15T03:01:26.284Z"
   },
   {
    "duration": 1607,
    "start_time": "2024-09-15T03:01:27.156Z"
   },
   {
    "duration": 5961,
    "start_time": "2024-09-15T03:01:29.742Z"
   },
   {
    "duration": 92,
    "start_time": "2024-09-15T03:01:36.508Z"
   },
   {
    "duration": 104,
    "start_time": "2024-09-15T03:01:37.293Z"
   },
   {
    "duration": 91,
    "start_time": "2024-09-15T03:01:37.640Z"
   },
   {
    "duration": 84,
    "start_time": "2024-09-15T03:01:37.852Z"
   },
   {
    "duration": 1,
    "start_time": "2024-09-15T03:01:38.620Z"
   },
   {
    "duration": 10,
    "start_time": "2024-09-15T03:01:38.839Z"
   },
   {
    "duration": 5,
    "start_time": "2024-09-15T03:01:39.051Z"
   },
   {
    "duration": 4,
    "start_time": "2024-09-15T03:01:39.253Z"
   },
   {
    "duration": 4,
    "start_time": "2024-09-15T03:01:39.471Z"
   },
   {
    "duration": 4,
    "start_time": "2024-09-15T03:01:39.667Z"
   },
   {
    "duration": 10,
    "start_time": "2024-09-15T03:01:39.867Z"
   },
   {
    "duration": 6,
    "start_time": "2024-09-15T03:01:40.069Z"
   },
   {
    "duration": 7,
    "start_time": "2024-09-15T03:01:40.283Z"
   },
   {
    "duration": 24,
    "start_time": "2024-09-15T03:01:40.488Z"
   },
   {
    "duration": 740,
    "start_time": "2024-09-15T03:01:40.700Z"
   },
   {
    "duration": 2,
    "start_time": "2024-09-15T03:01:41.442Z"
   },
   {
    "duration": 15,
    "start_time": "2024-09-15T03:01:41.446Z"
   },
   {
    "duration": 5,
    "start_time": "2024-09-15T03:01:41.463Z"
   },
   {
    "duration": 8,
    "start_time": "2024-09-15T03:01:41.540Z"
   },
   {
    "duration": 5,
    "start_time": "2024-09-15T03:01:41.767Z"
   },
   {
    "duration": 7,
    "start_time": "2024-09-15T03:01:41.987Z"
   },
   {
    "duration": 5,
    "start_time": "2024-09-15T03:01:42.203Z"
   },
   {
    "duration": 11,
    "start_time": "2024-09-15T03:01:42.441Z"
   },
   {
    "duration": 83,
    "start_time": "2024-09-15T03:01:42.637Z"
   },
   {
    "duration": 6,
    "start_time": "2024-09-15T03:01:42.828Z"
   },
   {
    "duration": 79,
    "start_time": "2024-09-15T03:01:43.036Z"
   },
   {
    "duration": 2,
    "start_time": "2024-09-15T03:01:43.236Z"
   },
   {
    "duration": 6,
    "start_time": "2024-09-15T03:01:43.425Z"
   },
   {
    "duration": 4,
    "start_time": "2024-09-15T03:01:43.628Z"
   },
   {
    "duration": 4,
    "start_time": "2024-09-15T03:01:43.828Z"
   },
   {
    "duration": 4,
    "start_time": "2024-09-15T03:01:44.027Z"
   },
   {
    "duration": 15,
    "start_time": "2024-09-15T03:01:44.228Z"
   },
   {
    "duration": 93,
    "start_time": "2024-09-15T03:01:44.428Z"
   },
   {
    "duration": 2,
    "start_time": "2024-09-15T03:01:44.628Z"
   },
   {
    "duration": 5,
    "start_time": "2024-09-15T03:01:44.840Z"
   },
   {
    "duration": 5,
    "start_time": "2024-09-15T03:01:45.048Z"
   },
   {
    "duration": 5,
    "start_time": "2024-09-15T03:01:45.256Z"
   },
   {
    "duration": 10,
    "start_time": "2024-09-15T03:01:45.456Z"
   },
   {
    "duration": 4,
    "start_time": "2024-09-15T03:01:45.675Z"
   },
   {
    "duration": 9,
    "start_time": "2024-09-15T03:01:45.883Z"
   },
   {
    "duration": 184,
    "start_time": "2024-09-15T03:01:46.075Z"
   },
   {
    "duration": 10,
    "start_time": "2024-09-15T03:01:46.946Z"
   },
   {
    "duration": 3,
    "start_time": "2024-09-15T03:01:47.164Z"
   },
   {
    "duration": 1200,
    "start_time": "2024-09-15T03:01:47.367Z"
   },
   {
    "duration": 166,
    "start_time": "2024-09-15T03:01:48.569Z"
   },
   {
    "duration": 273,
    "start_time": "2024-09-15T03:01:48.736Z"
   },
   {
    "duration": 11,
    "start_time": "2024-09-15T03:01:49.010Z"
   },
   {
    "duration": 52,
    "start_time": "2024-09-15T03:01:49.022Z"
   },
   {
    "duration": 7,
    "start_time": "2024-09-15T03:01:49.075Z"
   },
   {
    "duration": 231,
    "start_time": "2024-09-15T03:01:49.083Z"
   },
   {
    "duration": 256,
    "start_time": "2024-09-15T03:01:49.316Z"
   },
   {
    "duration": 40,
    "start_time": "2024-09-15T03:01:49.573Z"
   },
   {
    "duration": 12,
    "start_time": "2024-09-15T03:01:49.614Z"
   },
   {
    "duration": 296,
    "start_time": "2024-09-15T03:01:49.627Z"
   },
   {
    "duration": 3,
    "start_time": "2024-09-15T03:01:49.925Z"
   },
   {
    "duration": 270,
    "start_time": "2024-09-15T03:01:50.044Z"
   },
   {
    "duration": 9,
    "start_time": "2024-09-15T03:01:50.315Z"
   },
   {
    "duration": 6,
    "start_time": "2024-09-15T03:01:50.472Z"
   },
   {
    "duration": 246,
    "start_time": "2024-09-15T03:01:50.700Z"
   },
   {
    "duration": 3,
    "start_time": "2024-09-15T03:01:50.947Z"
   },
   {
    "duration": 7,
    "start_time": "2024-09-15T03:01:51.375Z"
   },
   {
    "duration": 7,
    "start_time": "2024-09-15T03:01:51.608Z"
   },
   {
    "duration": 9,
    "start_time": "2024-09-15T03:01:51.844Z"
   },
   {
    "duration": 14,
    "start_time": "2024-09-15T03:01:53.378Z"
   },
   {
    "duration": 2,
    "start_time": "2024-09-15T03:01:53.776Z"
   },
   {
    "duration": 2,
    "start_time": "2024-09-15T03:01:55.591Z"
   },
   {
    "duration": 6,
    "start_time": "2024-09-15T03:01:56.306Z"
   },
   {
    "duration": 12,
    "start_time": "2024-09-15T03:01:59.529Z"
   },
   {
    "duration": 17,
    "start_time": "2024-09-15T03:02:00.840Z"
   },
   {
    "duration": 4,
    "start_time": "2024-09-15T03:02:02.504Z"
   },
   {
    "duration": 10,
    "start_time": "2024-09-15T03:02:03.928Z"
   },
   {
    "duration": 12,
    "start_time": "2024-09-15T03:02:11.263Z"
   },
   {
    "duration": 2277,
    "start_time": "2024-09-15T03:02:12.028Z"
   },
   {
    "duration": 1663,
    "start_time": "2024-09-15T03:02:16.288Z"
   },
   {
    "duration": 17,
    "start_time": "2024-09-15T03:02:29.089Z"
   },
   {
    "duration": 6,
    "start_time": "2024-09-15T03:02:30.415Z"
   },
   {
    "duration": 141,
    "start_time": "2024-09-15T03:04:44.627Z"
   },
   {
    "duration": 8,
    "start_time": "2024-09-15T03:04:46.884Z"
   },
   {
    "duration": 9,
    "start_time": "2024-09-15T03:04:47.552Z"
   },
   {
    "duration": 2726,
    "start_time": "2024-09-15T03:06:16.447Z"
   },
   {
    "duration": 2517,
    "start_time": "2024-09-15T03:06:19.391Z"
   },
   {
    "duration": 1548,
    "start_time": "2024-09-15T03:06:23.517Z"
   },
   {
    "duration": 3040,
    "start_time": "2024-09-15T03:06:25.615Z"
   },
   {
    "duration": 46,
    "start_time": "2024-09-15T03:06:29.451Z"
   },
   {
    "duration": 32,
    "start_time": "2024-09-15T03:06:30.555Z"
   },
   {
    "duration": 26,
    "start_time": "2024-09-15T03:06:31.308Z"
   },
   {
    "duration": 41,
    "start_time": "2024-09-15T03:06:32.079Z"
   },
   {
    "duration": 3,
    "start_time": "2024-09-15T03:06:34.179Z"
   },
   {
    "duration": 11,
    "start_time": "2024-09-15T03:06:34.535Z"
   },
   {
    "duration": 6,
    "start_time": "2024-09-15T03:06:34.879Z"
   },
   {
    "duration": 4,
    "start_time": "2024-09-15T03:06:35.140Z"
   },
   {
    "duration": 5,
    "start_time": "2024-09-15T03:06:35.409Z"
   },
   {
    "duration": 4,
    "start_time": "2024-09-15T03:06:35.636Z"
   },
   {
    "duration": 14,
    "start_time": "2024-09-15T03:06:35.851Z"
   },
   {
    "duration": 5,
    "start_time": "2024-09-15T03:06:36.044Z"
   },
   {
    "duration": 6,
    "start_time": "2024-09-15T03:06:36.235Z"
   },
   {
    "duration": 27,
    "start_time": "2024-09-15T03:06:36.451Z"
   },
   {
    "duration": 745,
    "start_time": "2024-09-15T03:06:36.663Z"
   },
   {
    "duration": 2,
    "start_time": "2024-09-15T03:06:37.410Z"
   },
   {
    "duration": 17,
    "start_time": "2024-09-15T03:06:37.413Z"
   },
   {
    "duration": 4,
    "start_time": "2024-09-15T03:06:37.509Z"
   },
   {
    "duration": 9,
    "start_time": "2024-09-15T03:06:37.805Z"
   },
   {
    "duration": 6,
    "start_time": "2024-09-15T03:06:38.072Z"
   },
   {
    "duration": 7,
    "start_time": "2024-09-15T03:06:38.308Z"
   },
   {
    "duration": 5,
    "start_time": "2024-09-15T03:06:38.523Z"
   },
   {
    "duration": 12,
    "start_time": "2024-09-15T03:06:38.756Z"
   },
   {
    "duration": 86,
    "start_time": "2024-09-15T03:06:38.992Z"
   },
   {
    "duration": 6,
    "start_time": "2024-09-15T03:06:39.236Z"
   },
   {
    "duration": 79,
    "start_time": "2024-09-15T03:06:39.468Z"
   },
   {
    "duration": 2,
    "start_time": "2024-09-15T03:06:39.724Z"
   },
   {
    "duration": 8,
    "start_time": "2024-09-15T03:06:39.955Z"
   },
   {
    "duration": 4,
    "start_time": "2024-09-15T03:06:40.244Z"
   },
   {
    "duration": 5,
    "start_time": "2024-09-15T03:06:40.604Z"
   },
   {
    "duration": 5,
    "start_time": "2024-09-15T03:06:41.131Z"
   },
   {
    "duration": 12,
    "start_time": "2024-09-15T03:06:41.528Z"
   },
   {
    "duration": 84,
    "start_time": "2024-09-15T03:06:41.956Z"
   },
   {
    "duration": 2,
    "start_time": "2024-09-15T03:06:42.364Z"
   },
   {
    "duration": 7,
    "start_time": "2024-09-15T03:06:42.756Z"
   },
   {
    "duration": 5,
    "start_time": "2024-09-15T03:06:43.231Z"
   },
   {
    "duration": 5,
    "start_time": "2024-09-15T03:06:43.563Z"
   },
   {
    "duration": 8,
    "start_time": "2024-09-15T03:06:43.955Z"
   },
   {
    "duration": 5,
    "start_time": "2024-09-15T03:06:44.333Z"
   },
   {
    "duration": 10,
    "start_time": "2024-09-15T03:06:44.692Z"
   },
   {
    "duration": 164,
    "start_time": "2024-09-15T03:06:45.061Z"
   },
   {
    "duration": 10,
    "start_time": "2024-09-15T03:06:46.307Z"
   },
   {
    "duration": 4,
    "start_time": "2024-09-15T03:06:46.624Z"
   },
   {
    "duration": 1275,
    "start_time": "2024-09-15T03:06:46.902Z"
   },
   {
    "duration": 230,
    "start_time": "2024-09-15T03:06:48.178Z"
   },
   {
    "duration": 198,
    "start_time": "2024-09-15T03:06:48.410Z"
   },
   {
    "duration": 11,
    "start_time": "2024-09-15T03:06:48.610Z"
   },
   {
    "duration": 19,
    "start_time": "2024-09-15T03:06:48.622Z"
   },
   {
    "duration": 6,
    "start_time": "2024-09-15T03:06:48.972Z"
   },
   {
    "duration": 187,
    "start_time": "2024-09-15T03:06:49.335Z"
   },
   {
    "duration": 281,
    "start_time": "2024-09-15T03:06:49.667Z"
   },
   {
    "duration": 9,
    "start_time": "2024-09-15T03:06:49.995Z"
   },
   {
    "duration": 6,
    "start_time": "2024-09-15T03:06:50.373Z"
   },
   {
    "duration": 163,
    "start_time": "2024-09-15T03:06:50.660Z"
   },
   {
    "duration": 5,
    "start_time": "2024-09-15T03:06:50.916Z"
   },
   {
    "duration": 329,
    "start_time": "2024-09-15T03:06:51.216Z"
   },
   {
    "duration": 9,
    "start_time": "2024-09-15T03:06:51.546Z"
   },
   {
    "duration": 6,
    "start_time": "2024-09-15T03:06:51.796Z"
   },
   {
    "duration": 258,
    "start_time": "2024-09-15T03:06:52.068Z"
   },
   {
    "duration": 1,
    "start_time": "2024-09-15T03:06:52.331Z"
   },
   {
    "duration": 6,
    "start_time": "2024-09-15T03:06:52.560Z"
   },
   {
    "duration": 8,
    "start_time": "2024-09-15T03:06:52.766Z"
   },
   {
    "duration": 9,
    "start_time": "2024-09-15T03:06:52.982Z"
   },
   {
    "duration": 15,
    "start_time": "2024-09-15T03:06:54.352Z"
   },
   {
    "duration": 3,
    "start_time": "2024-09-15T03:06:54.651Z"
   },
   {
    "duration": 2,
    "start_time": "2024-09-15T03:06:54.916Z"
   },
   {
    "duration": 6,
    "start_time": "2024-09-15T03:06:55.188Z"
   },
   {
    "duration": 11,
    "start_time": "2024-09-15T03:06:55.436Z"
   },
   {
    "duration": 18,
    "start_time": "2024-09-15T03:06:55.758Z"
   },
   {
    "duration": 4,
    "start_time": "2024-09-15T03:06:56.044Z"
   },
   {
    "duration": 10,
    "start_time": "2024-09-15T03:06:56.305Z"
   },
   {
    "duration": 13,
    "start_time": "2024-09-15T03:06:57.575Z"
   },
   {
    "duration": 2285,
    "start_time": "2024-09-15T03:06:57.940Z"
   },
   {
    "duration": 1768,
    "start_time": "2024-09-15T03:07:00.227Z"
   },
   {
    "duration": 26,
    "start_time": "2024-09-15T03:07:01.997Z"
   },
   {
    "duration": 36,
    "start_time": "2024-09-15T03:07:02.025Z"
   },
   {
    "duration": 728,
    "start_time": "2024-09-15T03:07:02.062Z"
   },
   {
    "duration": 261,
    "start_time": "2024-09-15T03:07:04.970Z"
   },
   {
    "duration": 1355,
    "start_time": "2024-09-15T03:07:06.263Z"
   },
   {
    "duration": 18,
    "start_time": "2024-09-15T03:07:37.600Z"
   },
   {
    "duration": 11,
    "start_time": "2024-09-15T03:07:38.116Z"
   },
   {
    "duration": 12,
    "start_time": "2024-09-15T03:16:03.132Z"
   },
   {
    "duration": 1172,
    "start_time": "2024-09-15T03:16:07.352Z"
   },
   {
    "duration": 3084,
    "start_time": "2024-09-15T15:34:48.771Z"
   },
   {
    "duration": 3482,
    "start_time": "2024-09-15T15:34:53.524Z"
   },
   {
    "duration": 1843,
    "start_time": "2024-09-15T15:34:57.007Z"
   },
   {
    "duration": 6624,
    "start_time": "2024-09-15T15:35:04.147Z"
   },
   {
    "duration": 137,
    "start_time": "2024-09-15T15:35:11.804Z"
   },
   {
    "duration": 105,
    "start_time": "2024-09-15T15:35:12.519Z"
   },
   {
    "duration": 94,
    "start_time": "2024-09-15T15:35:12.895Z"
   },
   {
    "duration": 71,
    "start_time": "2024-09-15T15:35:13.127Z"
   },
   {
    "duration": 2,
    "start_time": "2024-09-15T15:35:13.899Z"
   },
   {
    "duration": 11,
    "start_time": "2024-09-15T15:35:14.100Z"
   },
   {
    "duration": 6,
    "start_time": "2024-09-15T15:35:14.296Z"
   },
   {
    "duration": 4,
    "start_time": "2024-09-15T15:35:14.491Z"
   },
   {
    "duration": 5,
    "start_time": "2024-09-15T15:35:14.700Z"
   },
   {
    "duration": 4,
    "start_time": "2024-09-15T15:35:14.873Z"
   },
   {
    "duration": 12,
    "start_time": "2024-09-15T15:35:15.087Z"
   },
   {
    "duration": 6,
    "start_time": "2024-09-15T15:35:15.288Z"
   },
   {
    "duration": 6,
    "start_time": "2024-09-15T15:35:15.511Z"
   },
   {
    "duration": 35,
    "start_time": "2024-09-15T15:35:15.707Z"
   },
   {
    "duration": 767,
    "start_time": "2024-09-15T15:35:15.919Z"
   },
   {
    "duration": 2,
    "start_time": "2024-09-15T15:35:16.688Z"
   },
   {
    "duration": 11,
    "start_time": "2024-09-15T15:35:16.691Z"
   },
   {
    "duration": 4,
    "start_time": "2024-09-15T15:35:16.704Z"
   },
   {
    "duration": 9,
    "start_time": "2024-09-15T15:35:16.755Z"
   },
   {
    "duration": 5,
    "start_time": "2024-09-15T15:35:16.951Z"
   },
   {
    "duration": 8,
    "start_time": "2024-09-15T15:35:17.151Z"
   },
   {
    "duration": 6,
    "start_time": "2024-09-15T15:35:17.368Z"
   },
   {
    "duration": 13,
    "start_time": "2024-09-15T15:35:17.567Z"
   },
   {
    "duration": 96,
    "start_time": "2024-09-15T15:35:17.783Z"
   },
   {
    "duration": 7,
    "start_time": "2024-09-15T15:35:17.983Z"
   },
   {
    "duration": 92,
    "start_time": "2024-09-15T15:35:18.199Z"
   },
   {
    "duration": 2,
    "start_time": "2024-09-15T15:35:18.399Z"
   },
   {
    "duration": 6,
    "start_time": "2024-09-15T15:35:18.623Z"
   },
   {
    "duration": 4,
    "start_time": "2024-09-15T15:35:18.831Z"
   },
   {
    "duration": 5,
    "start_time": "2024-09-15T15:35:19.054Z"
   },
   {
    "duration": 5,
    "start_time": "2024-09-15T15:35:19.263Z"
   },
   {
    "duration": 15,
    "start_time": "2024-09-15T15:35:19.466Z"
   },
   {
    "duration": 96,
    "start_time": "2024-09-15T15:35:19.671Z"
   },
   {
    "duration": 2,
    "start_time": "2024-09-15T15:35:19.872Z"
   },
   {
    "duration": 6,
    "start_time": "2024-09-15T15:35:20.103Z"
   },
   {
    "duration": 5,
    "start_time": "2024-09-15T15:35:20.311Z"
   },
   {
    "duration": 5,
    "start_time": "2024-09-15T15:35:20.534Z"
   },
   {
    "duration": 9,
    "start_time": "2024-09-15T15:35:20.751Z"
   },
   {
    "duration": 5,
    "start_time": "2024-09-15T15:35:20.971Z"
   },
   {
    "duration": 8,
    "start_time": "2024-09-15T15:35:21.191Z"
   },
   {
    "duration": 184,
    "start_time": "2024-09-15T15:35:21.398Z"
   },
   {
    "duration": 12,
    "start_time": "2024-09-15T15:35:22.261Z"
   },
   {
    "duration": 4,
    "start_time": "2024-09-15T15:35:22.487Z"
   },
   {
    "duration": 1282,
    "start_time": "2024-09-15T15:35:22.695Z"
   },
   {
    "duration": 210,
    "start_time": "2024-09-15T15:35:23.979Z"
   },
   {
    "duration": 188,
    "start_time": "2024-09-15T15:35:24.191Z"
   },
   {
    "duration": 13,
    "start_time": "2024-09-15T15:35:24.382Z"
   },
   {
    "duration": 10,
    "start_time": "2024-09-15T15:35:24.396Z"
   },
   {
    "duration": 16,
    "start_time": "2024-09-15T15:35:24.408Z"
   },
   {
    "duration": 180,
    "start_time": "2024-09-15T15:35:24.425Z"
   },
   {
    "duration": 258,
    "start_time": "2024-09-15T15:35:24.676Z"
   },
   {
    "duration": 42,
    "start_time": "2024-09-15T15:35:24.936Z"
   },
   {
    "duration": 22,
    "start_time": "2024-09-15T15:35:24.979Z"
   },
   {
    "duration": 288,
    "start_time": "2024-09-15T15:35:25.002Z"
   },
   {
    "duration": 4,
    "start_time": "2024-09-15T15:35:25.291Z"
   },
   {
    "duration": 304,
    "start_time": "2024-09-15T15:35:25.296Z"
   },
   {
    "duration": 9,
    "start_time": "2024-09-15T15:35:25.602Z"
   },
   {
    "duration": 7,
    "start_time": "2024-09-15T15:35:25.710Z"
   },
   {
    "duration": 276,
    "start_time": "2024-09-15T15:35:25.927Z"
   },
   {
    "duration": 2,
    "start_time": "2024-09-15T15:35:26.205Z"
   },
   {
    "duration": 7,
    "start_time": "2024-09-15T15:35:26.378Z"
   },
   {
    "duration": 8,
    "start_time": "2024-09-15T15:35:26.584Z"
   },
   {
    "duration": 10,
    "start_time": "2024-09-15T15:35:26.782Z"
   },
   {
    "duration": 15,
    "start_time": "2024-09-15T15:35:27.678Z"
   },
   {
    "duration": 2,
    "start_time": "2024-09-15T15:35:27.895Z"
   },
   {
    "duration": 2,
    "start_time": "2024-09-15T15:35:28.143Z"
   },
   {
    "duration": 6,
    "start_time": "2024-09-15T15:35:28.367Z"
   },
   {
    "duration": 13,
    "start_time": "2024-09-15T15:35:28.591Z"
   },
   {
    "duration": 20,
    "start_time": "2024-09-15T15:35:28.823Z"
   },
   {
    "duration": 4,
    "start_time": "2024-09-15T15:35:29.047Z"
   },
   {
    "duration": 11,
    "start_time": "2024-09-15T15:35:29.270Z"
   },
   {
    "duration": 13,
    "start_time": "2024-09-15T15:35:30.182Z"
   },
   {
    "duration": 2437,
    "start_time": "2024-09-15T15:35:30.415Z"
   },
   {
    "duration": 131,
    "start_time": "2024-09-15T15:35:35.051Z"
   },
   {
    "duration": 1670,
    "start_time": "2024-09-15T15:35:49.608Z"
   },
   {
    "duration": 20,
    "start_time": "2024-09-15T15:35:59.247Z"
   },
   {
    "duration": 6,
    "start_time": "2024-09-15T15:35:59.991Z"
   },
   {
    "duration": 30,
    "start_time": "2024-09-15T15:36:04.027Z"
   },
   {
    "duration": 12,
    "start_time": "2024-09-15T15:36:05.067Z"
   },
   {
    "duration": 10,
    "start_time": "2024-09-15T15:36:05.895Z"
   },
   {
    "duration": 23,
    "start_time": "2024-09-15T15:36:36.903Z"
   },
   {
    "duration": 60,
    "start_time": "2024-09-15T15:37:34.407Z"
   },
   {
    "duration": 21,
    "start_time": "2024-09-15T15:37:41.696Z"
   },
   {
    "duration": 21,
    "start_time": "2024-09-15T15:38:12.584Z"
   },
   {
    "duration": 1778,
    "start_time": "2024-09-15T15:38:19.926Z"
   },
   {
    "duration": 21,
    "start_time": "2024-09-15T15:38:25.606Z"
   },
   {
    "duration": 6,
    "start_time": "2024-09-15T15:38:26.004Z"
   },
   {
    "duration": 33,
    "start_time": "2024-09-15T15:38:27.855Z"
   },
   {
    "duration": 9,
    "start_time": "2024-09-15T15:38:28.555Z"
   },
   {
    "duration": 11,
    "start_time": "2024-09-15T15:38:30.199Z"
   },
   {
    "duration": 21,
    "start_time": "2024-09-15T15:39:49.181Z"
   },
   {
    "duration": 1771,
    "start_time": "2024-09-15T15:40:11.748Z"
   },
   {
    "duration": 20,
    "start_time": "2024-09-15T15:40:17.800Z"
   },
   {
    "duration": 6,
    "start_time": "2024-09-15T15:40:18.704Z"
   },
   {
    "duration": 34,
    "start_time": "2024-09-15T15:40:20.905Z"
   },
   {
    "duration": 398,
    "start_time": "2024-09-15T15:41:20.960Z"
   },
   {
    "duration": 20,
    "start_time": "2024-09-15T15:42:18.667Z"
   },
   {
    "duration": 24,
    "start_time": "2024-09-15T15:43:01.705Z"
   },
   {
    "duration": 1774,
    "start_time": "2024-09-15T15:43:11.358Z"
   },
   {
    "duration": 19,
    "start_time": "2024-09-15T15:43:18.245Z"
   },
   {
    "duration": 6,
    "start_time": "2024-09-15T15:43:18.646Z"
   },
   {
    "duration": 31,
    "start_time": "2024-09-15T15:43:20.525Z"
   },
   {
    "duration": 31,
    "start_time": "2024-09-15T15:43:37.212Z"
   },
   {
    "duration": 38,
    "start_time": "2024-09-15T15:43:42.208Z"
   },
   {
    "duration": 32,
    "start_time": "2024-09-15T15:43:44.757Z"
   },
   {
    "duration": 1718,
    "start_time": "2024-09-15T15:43:59.882Z"
   },
   {
    "duration": 31,
    "start_time": "2024-09-15T15:44:08.697Z"
   },
   {
    "duration": 9,
    "start_time": "2024-09-15T15:44:11.138Z"
   },
   {
    "duration": 9,
    "start_time": "2024-09-15T15:44:11.729Z"
   },
   {
    "duration": 24,
    "start_time": "2024-09-15T15:45:15.864Z"
   },
   {
    "duration": 9,
    "start_time": "2024-09-15T15:46:09.876Z"
   },
   {
    "duration": 9,
    "start_time": "2024-09-15T15:46:21.814Z"
   },
   {
    "duration": 2180,
    "start_time": "2024-09-15T15:46:54.037Z"
   },
   {
    "duration": 2214,
    "start_time": "2024-09-15T15:46:56.788Z"
   },
   {
    "duration": 1664,
    "start_time": "2024-09-15T15:46:59.474Z"
   },
   {
    "duration": 2697,
    "start_time": "2024-09-15T15:47:02.885Z"
   },
   {
    "duration": 43,
    "start_time": "2024-09-15T15:47:06.338Z"
   },
   {
    "duration": 21,
    "start_time": "2024-09-15T15:47:06.889Z"
   },
   {
    "duration": 21,
    "start_time": "2024-09-15T15:47:07.113Z"
   },
   {
    "duration": 29,
    "start_time": "2024-09-15T15:47:07.320Z"
   },
   {
    "duration": 2,
    "start_time": "2024-09-15T15:47:08.121Z"
   },
   {
    "duration": 12,
    "start_time": "2024-09-15T15:47:08.321Z"
   },
   {
    "duration": 6,
    "start_time": "2024-09-15T15:47:08.530Z"
   },
   {
    "duration": 4,
    "start_time": "2024-09-15T15:47:08.746Z"
   },
   {
    "duration": 4,
    "start_time": "2024-09-15T15:47:08.955Z"
   },
   {
    "duration": 4,
    "start_time": "2024-09-15T15:47:09.185Z"
   },
   {
    "duration": 11,
    "start_time": "2024-09-15T15:47:09.408Z"
   },
   {
    "duration": 6,
    "start_time": "2024-09-15T15:47:09.701Z"
   },
   {
    "duration": 5,
    "start_time": "2024-09-15T15:47:09.938Z"
   },
   {
    "duration": 29,
    "start_time": "2024-09-15T15:47:10.169Z"
   },
   {
    "duration": 772,
    "start_time": "2024-09-15T15:47:10.394Z"
   },
   {
    "duration": 2,
    "start_time": "2024-09-15T15:47:11.167Z"
   },
   {
    "duration": 10,
    "start_time": "2024-09-15T15:47:11.176Z"
   },
   {
    "duration": 4,
    "start_time": "2024-09-15T15:47:11.188Z"
   },
   {
    "duration": 9,
    "start_time": "2024-09-15T15:47:11.269Z"
   },
   {
    "duration": 6,
    "start_time": "2024-09-15T15:47:11.473Z"
   },
   {
    "duration": 8,
    "start_time": "2024-09-15T15:47:11.713Z"
   },
   {
    "duration": 6,
    "start_time": "2024-09-15T15:47:11.929Z"
   },
   {
    "duration": 13,
    "start_time": "2024-09-15T15:47:12.161Z"
   },
   {
    "duration": 100,
    "start_time": "2024-09-15T15:47:12.376Z"
   },
   {
    "duration": 6,
    "start_time": "2024-09-15T15:47:12.595Z"
   },
   {
    "duration": 93,
    "start_time": "2024-09-15T15:47:12.825Z"
   },
   {
    "duration": 2,
    "start_time": "2024-09-15T15:47:13.033Z"
   },
   {
    "duration": 6,
    "start_time": "2024-09-15T15:47:13.258Z"
   },
   {
    "duration": 4,
    "start_time": "2024-09-15T15:47:13.489Z"
   },
   {
    "duration": 6,
    "start_time": "2024-09-15T15:47:13.688Z"
   },
   {
    "duration": 5,
    "start_time": "2024-09-15T15:47:13.922Z"
   },
   {
    "duration": 12,
    "start_time": "2024-09-15T15:47:14.145Z"
   },
   {
    "duration": 91,
    "start_time": "2024-09-15T15:47:14.368Z"
   },
   {
    "duration": 3,
    "start_time": "2024-09-15T15:47:14.584Z"
   },
   {
    "duration": 6,
    "start_time": "2024-09-15T15:47:14.809Z"
   },
   {
    "duration": 5,
    "start_time": "2024-09-15T15:47:15.021Z"
   },
   {
    "duration": 5,
    "start_time": "2024-09-15T15:47:15.241Z"
   },
   {
    "duration": 9,
    "start_time": "2024-09-15T15:47:15.456Z"
   },
   {
    "duration": 4,
    "start_time": "2024-09-15T15:47:15.673Z"
   },
   {
    "duration": 10,
    "start_time": "2024-09-15T15:47:15.891Z"
   },
   {
    "duration": 198,
    "start_time": "2024-09-15T15:47:16.097Z"
   },
   {
    "duration": 11,
    "start_time": "2024-09-15T15:47:17.056Z"
   },
   {
    "duration": 4,
    "start_time": "2024-09-15T15:47:17.305Z"
   },
   {
    "duration": 1302,
    "start_time": "2024-09-15T15:47:17.789Z"
   },
   {
    "duration": 213,
    "start_time": "2024-09-15T15:47:19.093Z"
   },
   {
    "duration": 180,
    "start_time": "2024-09-15T15:47:19.307Z"
   },
   {
    "duration": 12,
    "start_time": "2024-09-15T15:47:19.489Z"
   },
   {
    "duration": 11,
    "start_time": "2024-09-15T15:47:19.502Z"
   },
   {
    "duration": 7,
    "start_time": "2024-09-15T15:47:19.804Z"
   },
   {
    "duration": 176,
    "start_time": "2024-09-15T15:47:20.225Z"
   },
   {
    "duration": 293,
    "start_time": "2024-09-15T15:47:20.641Z"
   },
   {
    "duration": 10,
    "start_time": "2024-09-15T15:47:21.088Z"
   },
   {
    "duration": 7,
    "start_time": "2024-09-15T15:47:21.550Z"
   },
   {
    "duration": 182,
    "start_time": "2024-09-15T15:47:22.000Z"
   },
   {
    "duration": 4,
    "start_time": "2024-09-15T15:47:22.440Z"
   },
   {
    "duration": 405,
    "start_time": "2024-09-15T15:47:22.891Z"
   },
   {
    "duration": 9,
    "start_time": "2024-09-15T15:47:23.330Z"
   },
   {
    "duration": 6,
    "start_time": "2024-09-15T15:47:23.834Z"
   },
   {
    "duration": 250,
    "start_time": "2024-09-15T15:47:24.363Z"
   },
   {
    "duration": 2,
    "start_time": "2024-09-15T15:47:24.829Z"
   },
   {
    "duration": 7,
    "start_time": "2024-09-15T15:47:25.409Z"
   },
   {
    "duration": 9,
    "start_time": "2024-09-15T15:47:25.898Z"
   },
   {
    "duration": 10,
    "start_time": "2024-09-15T15:47:26.419Z"
   },
   {
    "duration": 21,
    "start_time": "2024-09-15T15:47:28.354Z"
   },
   {
    "duration": 3,
    "start_time": "2024-09-15T15:47:28.899Z"
   },
   {
    "duration": 2,
    "start_time": "2024-09-15T15:47:29.897Z"
   },
   {
    "duration": 6,
    "start_time": "2024-09-15T15:47:30.341Z"
   },
   {
    "duration": 12,
    "start_time": "2024-09-15T15:47:31.198Z"
   },
   {
    "duration": 20,
    "start_time": "2024-09-15T15:47:32.066Z"
   },
   {
    "duration": 4,
    "start_time": "2024-09-15T15:47:32.496Z"
   },
   {
    "duration": 10,
    "start_time": "2024-09-15T15:47:33.581Z"
   },
   {
    "duration": 13,
    "start_time": "2024-09-15T15:47:35.408Z"
   },
   {
    "duration": 2472,
    "start_time": "2024-09-15T15:47:36.056Z"
   },
   {
    "duration": 1759,
    "start_time": "2024-09-15T15:47:43.829Z"
   },
   {
    "duration": 20,
    "start_time": "2024-09-15T15:47:49.114Z"
   },
   {
    "duration": 7,
    "start_time": "2024-09-15T15:47:49.507Z"
   },
   {
    "duration": 718,
    "start_time": "2024-09-15T15:47:51.331Z"
   },
   {
    "duration": 255,
    "start_time": "2024-09-15T15:47:52.736Z"
   },
   {
    "duration": 1390,
    "start_time": "2024-09-15T15:47:53.104Z"
   },
   {
    "duration": 19,
    "start_time": "2024-09-15T15:56:26.231Z"
   },
   {
    "duration": 12,
    "start_time": "2024-09-15T15:56:27.027Z"
   },
   {
    "duration": 8,
    "start_time": "2024-09-15T15:57:48.693Z"
   },
   {
    "duration": 15,
    "start_time": "2024-09-15T15:57:50.900Z"
   },
   {
    "duration": 9,
    "start_time": "2024-09-15T15:58:50.447Z"
   },
   {
    "duration": 15,
    "start_time": "2024-09-15T15:58:50.982Z"
   },
   {
    "duration": 147,
    "start_time": "2024-09-15T16:01:49.761Z"
   },
   {
    "duration": 152,
    "start_time": "2024-09-15T16:02:00.752Z"
   },
   {
    "duration": 139,
    "start_time": "2024-09-15T16:02:26.688Z"
   },
   {
    "duration": 118,
    "start_time": "2024-09-15T16:07:04.042Z"
   },
   {
    "duration": 135,
    "start_time": "2024-09-15T16:10:01.441Z"
   },
   {
    "duration": 149,
    "start_time": "2024-09-15T16:25:04.945Z"
   },
   {
    "duration": 137,
    "start_time": "2024-09-15T16:26:06.089Z"
   },
   {
    "duration": 137,
    "start_time": "2024-09-15T16:28:00.096Z"
   },
   {
    "duration": 135,
    "start_time": "2024-09-15T16:30:53.845Z"
   },
   {
    "duration": 14,
    "start_time": "2024-09-15T16:33:59.125Z"
   },
   {
    "duration": 152,
    "start_time": "2024-09-15T16:34:46.036Z"
   },
   {
    "duration": 10,
    "start_time": "2024-09-15T16:43:33.115Z"
   },
   {
    "duration": 4,
    "start_time": "2024-09-15T16:43:42.599Z"
   },
   {
    "duration": 14,
    "start_time": "2024-09-15T16:43:47.480Z"
   },
   {
    "duration": 14,
    "start_time": "2024-09-15T16:44:12.680Z"
   },
   {
    "duration": 13,
    "start_time": "2024-09-15T16:47:44.741Z"
   },
   {
    "duration": 9,
    "start_time": "2024-09-15T16:48:17.341Z"
   },
   {
    "duration": 4,
    "start_time": "2024-09-15T16:48:54.977Z"
   },
   {
    "duration": 5,
    "start_time": "2024-09-15T16:50:59.948Z"
   },
   {
    "duration": 16,
    "start_time": "2024-09-15T16:51:13.561Z"
   },
   {
    "duration": 11,
    "start_time": "2024-09-15T16:51:52.093Z"
   },
   {
    "duration": 23,
    "start_time": "2024-09-15T16:52:02.099Z"
   },
   {
    "duration": 11,
    "start_time": "2024-09-15T16:52:13.993Z"
   },
   {
    "duration": 16,
    "start_time": "2024-09-15T17:04:09.947Z"
   },
   {
    "duration": 10,
    "start_time": "2024-09-15T17:04:44.269Z"
   },
   {
    "duration": 9,
    "start_time": "2024-09-15T17:07:19.322Z"
   },
   {
    "duration": 181,
    "start_time": "2024-09-15T17:08:26.518Z"
   },
   {
    "duration": 95,
    "start_time": "2024-09-15T17:08:57.470Z"
   },
   {
    "duration": 253,
    "start_time": "2024-09-15T17:09:08.723Z"
   },
   {
    "duration": 226,
    "start_time": "2024-09-15T17:13:40.761Z"
   },
   {
    "duration": 269,
    "start_time": "2024-09-15T17:13:53.711Z"
   },
   {
    "duration": 236,
    "start_time": "2024-09-15T17:14:04.180Z"
   },
   {
    "duration": 231,
    "start_time": "2024-09-15T17:15:01.188Z"
   },
   {
    "duration": 233,
    "start_time": "2024-09-15T17:15:46.588Z"
   },
   {
    "duration": 241,
    "start_time": "2024-09-15T17:21:13.861Z"
   },
   {
    "duration": 369,
    "start_time": "2024-09-15T17:22:53.044Z"
   },
   {
    "duration": 167,
    "start_time": "2024-09-15T17:25:50.598Z"
   },
   {
    "duration": 251,
    "start_time": "2024-09-15T17:27:55.382Z"
   },
   {
    "duration": 42,
    "start_time": "2024-09-15T17:28:39.956Z"
   },
   {
    "duration": 245,
    "start_time": "2024-09-15T17:28:47.858Z"
   },
   {
    "duration": 239,
    "start_time": "2024-09-15T17:30:52.874Z"
   },
   {
    "duration": 11,
    "start_time": "2024-09-15T17:34:07.495Z"
   },
   {
    "duration": 244,
    "start_time": "2024-09-15T17:34:58.679Z"
   },
   {
    "duration": 11,
    "start_time": "2024-09-15T17:35:56.226Z"
   },
   {
    "duration": 11,
    "start_time": "2024-09-15T17:36:38.651Z"
   },
   {
    "duration": 2701,
    "start_time": "2024-09-16T07:39:03.718Z"
   },
   {
    "duration": 2451,
    "start_time": "2024-09-16T07:39:06.421Z"
   },
   {
    "duration": 3842,
    "start_time": "2024-09-16T07:39:08.874Z"
   },
   {
    "duration": 5819,
    "start_time": "2024-09-16T07:39:12.718Z"
   },
   {
    "duration": 51,
    "start_time": "2024-09-16T07:39:18.539Z"
   },
   {
    "duration": 146,
    "start_time": "2024-09-16T07:39:18.591Z"
   },
   {
    "duration": 21,
    "start_time": "2024-09-16T07:39:18.738Z"
   },
   {
    "duration": 29,
    "start_time": "2024-09-16T07:39:18.760Z"
   },
   {
    "duration": 2,
    "start_time": "2024-09-16T07:39:18.790Z"
   },
   {
    "duration": 38,
    "start_time": "2024-09-16T07:39:18.794Z"
   },
   {
    "duration": 13,
    "start_time": "2024-09-16T07:39:18.834Z"
   },
   {
    "duration": 13,
    "start_time": "2024-09-16T07:39:18.848Z"
   },
   {
    "duration": 6,
    "start_time": "2024-09-16T07:39:18.863Z"
   },
   {
    "duration": 8,
    "start_time": "2024-09-16T07:39:18.870Z"
   },
   {
    "duration": 23,
    "start_time": "2024-09-16T07:39:18.879Z"
   },
   {
    "duration": 14,
    "start_time": "2024-09-16T07:39:18.904Z"
   },
   {
    "duration": 10,
    "start_time": "2024-09-16T07:39:18.919Z"
   },
   {
    "duration": 29,
    "start_time": "2024-09-16T07:39:18.931Z"
   },
   {
    "duration": 710,
    "start_time": "2024-09-16T07:39:18.962Z"
   },
   {
    "duration": 2,
    "start_time": "2024-09-16T07:39:19.673Z"
   },
   {
    "duration": 9,
    "start_time": "2024-09-16T07:39:19.676Z"
   },
   {
    "duration": 5,
    "start_time": "2024-09-16T07:39:19.686Z"
   },
   {
    "duration": 16,
    "start_time": "2024-09-16T07:39:19.692Z"
   },
   {
    "duration": 8,
    "start_time": "2024-09-16T07:39:19.710Z"
   },
   {
    "duration": 13,
    "start_time": "2024-09-16T07:39:19.719Z"
   },
   {
    "duration": 6,
    "start_time": "2024-09-16T07:39:19.733Z"
   },
   {
    "duration": 11,
    "start_time": "2024-09-16T07:39:19.740Z"
   },
   {
    "duration": 163,
    "start_time": "2024-09-16T07:39:19.755Z"
   },
   {
    "duration": 6,
    "start_time": "2024-09-16T07:39:19.919Z"
   },
   {
    "duration": 194,
    "start_time": "2024-09-16T07:39:19.927Z"
   },
   {
    "duration": 2,
    "start_time": "2024-09-16T07:39:20.122Z"
   },
   {
    "duration": 17,
    "start_time": "2024-09-16T07:39:20.126Z"
   },
   {
    "duration": 11,
    "start_time": "2024-09-16T07:39:20.145Z"
   },
   {
    "duration": 12,
    "start_time": "2024-09-16T07:39:20.157Z"
   },
   {
    "duration": 9,
    "start_time": "2024-09-16T07:39:20.170Z"
   },
   {
    "duration": 15,
    "start_time": "2024-09-16T07:39:20.181Z"
   },
   {
    "duration": 135,
    "start_time": "2024-09-16T07:39:20.197Z"
   },
   {
    "duration": 3,
    "start_time": "2024-09-16T07:39:20.334Z"
   },
   {
    "duration": 6,
    "start_time": "2024-09-16T07:39:20.407Z"
   },
   {
    "duration": 23,
    "start_time": "2024-09-16T07:39:20.415Z"
   },
   {
    "duration": 14,
    "start_time": "2024-09-16T07:39:20.439Z"
   },
   {
    "duration": 13,
    "start_time": "2024-09-16T07:39:20.454Z"
   },
   {
    "duration": 6,
    "start_time": "2024-09-16T07:39:20.468Z"
   },
   {
    "duration": 26,
    "start_time": "2024-09-16T07:39:20.475Z"
   },
   {
    "duration": 230,
    "start_time": "2024-09-16T07:39:20.502Z"
   },
   {
    "duration": 76,
    "start_time": "2024-09-16T07:39:20.733Z"
   },
   {
    "duration": 29,
    "start_time": "2024-09-16T07:39:20.811Z"
   },
   {
    "duration": 1249,
    "start_time": "2024-09-16T07:39:20.842Z"
   },
   {
    "duration": 222,
    "start_time": "2024-09-16T07:39:22.092Z"
   },
   {
    "duration": 303,
    "start_time": "2024-09-16T07:39:22.315Z"
   },
   {
    "duration": 18,
    "start_time": "2024-09-16T07:39:22.619Z"
   },
   {
    "duration": 93,
    "start_time": "2024-09-16T07:39:22.639Z"
   },
   {
    "duration": 10,
    "start_time": "2024-09-16T07:39:22.733Z"
   },
   {
    "duration": 263,
    "start_time": "2024-09-16T07:39:22.744Z"
   },
   {
    "duration": 341,
    "start_time": "2024-09-16T07:39:23.009Z"
   },
   {
    "duration": 8,
    "start_time": "2024-09-16T07:39:23.351Z"
   },
   {
    "duration": 7,
    "start_time": "2024-09-16T07:39:23.360Z"
   },
   {
    "duration": 169,
    "start_time": "2024-09-16T07:39:23.368Z"
   },
   {
    "duration": 5,
    "start_time": "2024-09-16T07:39:23.607Z"
   },
   {
    "duration": 305,
    "start_time": "2024-09-16T07:39:23.613Z"
   },
   {
    "duration": 9,
    "start_time": "2024-09-16T07:39:23.919Z"
   },
   {
    "duration": 12,
    "start_time": "2024-09-16T07:39:23.929Z"
   },
   {
    "duration": 407,
    "start_time": "2024-09-16T07:39:23.942Z"
   },
   {
    "duration": 2,
    "start_time": "2024-09-16T07:39:24.351Z"
   },
   {
    "duration": 10,
    "start_time": "2024-09-16T07:39:24.355Z"
   },
   {
    "duration": 7,
    "start_time": "2024-09-16T07:39:24.367Z"
   },
   {
    "duration": 45,
    "start_time": "2024-09-16T07:39:24.375Z"
   },
   {
    "duration": 15,
    "start_time": "2024-09-16T07:39:24.422Z"
   },
   {
    "duration": 4,
    "start_time": "2024-09-16T07:39:24.438Z"
   },
   {
    "duration": 17,
    "start_time": "2024-09-16T07:39:24.443Z"
   },
   {
    "duration": 24,
    "start_time": "2024-09-16T07:39:24.462Z"
   },
   {
    "duration": 36,
    "start_time": "2024-09-16T07:39:24.487Z"
   },
   {
    "duration": 19,
    "start_time": "2024-09-16T07:39:24.524Z"
   },
   {
    "duration": 111,
    "start_time": "2024-09-16T07:39:24.544Z"
   },
   {
    "duration": 41,
    "start_time": "2024-09-16T07:39:24.657Z"
   },
   {
    "duration": 13,
    "start_time": "2024-09-16T07:39:24.700Z"
   },
   {
    "duration": 1795,
    "start_time": "2024-09-16T07:39:24.714Z"
   },
   {
    "duration": 137,
    "start_time": "2024-09-16T07:39:26.511Z"
   },
   {
    "duration": 0,
    "start_time": "2024-09-16T07:39:26.649Z"
   },
   {
    "duration": 0,
    "start_time": "2024-09-16T07:39:26.650Z"
   },
   {
    "duration": 0,
    "start_time": "2024-09-16T07:39:26.651Z"
   },
   {
    "duration": 0,
    "start_time": "2024-09-16T07:39:26.652Z"
   },
   {
    "duration": 76,
    "start_time": "2024-09-16T17:25:44.376Z"
   },
   {
    "duration": 4,
    "start_time": "2024-09-16T17:36:24.838Z"
   },
   {
    "duration": 3667,
    "start_time": "2024-09-16T17:41:52.264Z"
   },
   {
    "duration": 4109,
    "start_time": "2024-09-16T17:42:06.746Z"
   },
   {
    "duration": 71,
    "start_time": "2024-09-16T17:42:50.221Z"
   },
   {
    "duration": 2169,
    "start_time": "2024-09-16T17:43:00.278Z"
   },
   {
    "duration": 6922,
    "start_time": "2024-09-16T17:43:05.471Z"
   },
   {
    "duration": 90,
    "start_time": "2024-09-16T17:43:27.468Z"
   },
   {
    "duration": 122,
    "start_time": "2024-09-16T17:43:28.485Z"
   },
   {
    "duration": 104,
    "start_time": "2024-09-16T17:43:30.308Z"
   },
   {
    "duration": 81,
    "start_time": "2024-09-16T17:43:30.678Z"
   },
   {
    "duration": 2,
    "start_time": "2024-09-16T17:43:50.153Z"
   },
   {
    "duration": 12,
    "start_time": "2024-09-16T17:43:50.685Z"
   },
   {
    "duration": 7,
    "start_time": "2024-09-16T17:43:51.853Z"
   },
   {
    "duration": 6,
    "start_time": "2024-09-16T17:43:52.469Z"
   },
   {
    "duration": 6,
    "start_time": "2024-09-16T17:43:52.945Z"
   },
   {
    "duration": 4,
    "start_time": "2024-09-16T17:43:56.197Z"
   },
   {
    "duration": 16,
    "start_time": "2024-09-16T17:43:57.539Z"
   },
   {
    "duration": 6,
    "start_time": "2024-09-16T17:43:57.981Z"
   },
   {
    "duration": 6,
    "start_time": "2024-09-16T17:43:58.929Z"
   },
   {
    "duration": 33,
    "start_time": "2024-09-16T17:43:59.329Z"
   },
   {
    "duration": 887,
    "start_time": "2024-09-16T17:44:00.545Z"
   },
   {
    "duration": 2,
    "start_time": "2024-09-16T17:44:04.834Z"
   },
   {
    "duration": 8,
    "start_time": "2024-09-16T17:44:05.361Z"
   },
   {
    "duration": 5,
    "start_time": "2024-09-16T17:44:06.400Z"
   },
   {
    "duration": 10,
    "start_time": "2024-09-16T17:44:11.057Z"
   },
   {
    "duration": 6,
    "start_time": "2024-09-16T17:44:11.536Z"
   },
   {
    "duration": 8,
    "start_time": "2024-09-16T17:44:12.179Z"
   },
   {
    "duration": 7,
    "start_time": "2024-09-16T17:44:12.581Z"
   },
   {
    "duration": 16,
    "start_time": "2024-09-16T17:44:13.090Z"
   },
   {
    "duration": 111,
    "start_time": "2024-09-16T17:44:13.733Z"
   },
   {
    "duration": 8,
    "start_time": "2024-09-16T17:44:14.449Z"
   },
   {
    "duration": 106,
    "start_time": "2024-09-16T17:44:17.832Z"
   },
   {
    "duration": 3,
    "start_time": "2024-09-16T17:44:18.528Z"
   },
   {
    "duration": 8,
    "start_time": "2024-09-16T17:44:21.030Z"
   },
   {
    "duration": 6,
    "start_time": "2024-09-16T17:46:14.618Z"
   },
   {
    "duration": 6,
    "start_time": "2024-09-16T17:46:21.069Z"
   },
   {
    "duration": 7,
    "start_time": "2024-09-16T17:46:21.544Z"
   },
   {
    "duration": 15,
    "start_time": "2024-09-16T17:46:23.469Z"
   },
   {
    "duration": 110,
    "start_time": "2024-09-16T17:46:26.535Z"
   },
   {
    "duration": 2,
    "start_time": "2024-09-16T17:46:29.437Z"
   },
   {
    "duration": 41,
    "start_time": "2024-09-16T17:49:16.249Z"
   },
   {
    "duration": 68,
    "start_time": "2024-09-16T17:49:48.565Z"
   },
   {
    "duration": 8,
    "start_time": "2024-09-16T17:50:19.495Z"
   },
   {
    "duration": 6,
    "start_time": "2024-09-16T17:50:21.677Z"
   },
   {
    "duration": 5,
    "start_time": "2024-09-16T17:50:22.982Z"
   },
   {
    "duration": 10,
    "start_time": "2024-09-16T17:50:23.634Z"
   },
   {
    "duration": 3,
    "start_time": "2024-09-16T17:50:57.041Z"
   },
   {
    "duration": 225,
    "start_time": "2024-09-16T17:50:59.721Z"
   },
   {
    "duration": 13,
    "start_time": "2024-09-16T17:51:24.957Z"
   },
   {
    "duration": 5,
    "start_time": "2024-09-16T17:51:25.181Z"
   },
   {
    "duration": 1587,
    "start_time": "2024-09-16T17:51:25.370Z"
   },
   {
    "duration": 277,
    "start_time": "2024-09-16T17:51:26.959Z"
   },
   {
    "duration": 204,
    "start_time": "2024-09-16T17:51:27.238Z"
   },
   {
    "duration": 15,
    "start_time": "2024-09-16T17:51:27.444Z"
   },
   {
    "duration": 12,
    "start_time": "2024-09-16T17:51:27.460Z"
   },
   {
    "duration": 8,
    "start_time": "2024-09-16T17:51:27.474Z"
   },
   {
    "duration": 265,
    "start_time": "2024-09-16T17:51:27.484Z"
   },
   {
    "duration": 348,
    "start_time": "2024-09-16T17:51:27.750Z"
   },
   {
    "duration": 21,
    "start_time": "2024-09-16T17:51:28.099Z"
   },
   {
    "duration": 20,
    "start_time": "2024-09-16T17:51:28.123Z"
   },
   {
    "duration": 377,
    "start_time": "2024-09-16T17:51:28.144Z"
   },
   {
    "duration": 4,
    "start_time": "2024-09-16T17:51:28.523Z"
   },
   {
    "duration": 290,
    "start_time": "2024-09-16T17:51:28.734Z"
   },
   {
    "duration": 10,
    "start_time": "2024-09-16T17:51:29.222Z"
   },
   {
    "duration": 7,
    "start_time": "2024-09-16T17:51:29.638Z"
   },
   {
    "duration": 311,
    "start_time": "2024-09-16T17:51:30.054Z"
   },
   {
    "duration": 2,
    "start_time": "2024-09-16T17:51:31.318Z"
   },
   {
    "duration": 7,
    "start_time": "2024-09-16T17:51:32.744Z"
   },
   {
    "duration": 9,
    "start_time": "2024-09-16T17:51:33.253Z"
   },
   {
    "duration": 11,
    "start_time": "2024-09-16T17:51:37.493Z"
   },
   {
    "duration": 2,
    "start_time": "2024-09-16T17:56:13.451Z"
   },
   {
    "duration": 2,
    "start_time": "2024-09-16T17:56:15.299Z"
   },
   {
    "duration": 19,
    "start_time": "2024-09-16T17:57:39.984Z"
   },
   {
    "duration": 2,
    "start_time": "2024-09-16T17:57:42.570Z"
   },
   {
    "duration": 2,
    "start_time": "2024-09-16T17:57:42.954Z"
   },
   {
    "duration": 7,
    "start_time": "2024-09-16T17:57:44.206Z"
   },
   {
    "duration": 14,
    "start_time": "2024-09-16T17:58:12.239Z"
   },
   {
    "duration": 23,
    "start_time": "2024-09-16T17:58:14.495Z"
   },
   {
    "duration": 4,
    "start_time": "2024-09-16T17:58:16.149Z"
   },
   {
    "duration": 17,
    "start_time": "2024-09-16T17:58:18.511Z"
   },
   {
    "duration": 78,
    "start_time": "2024-09-16T18:02:24.976Z"
   },
   {
    "duration": 156,
    "start_time": "2024-09-16T18:03:22.627Z"
   },
   {
    "duration": 93,
    "start_time": "2024-09-16T18:16:16.369Z"
   },
   {
    "duration": 2709,
    "start_time": "2024-09-16T18:16:39.029Z"
   },
   {
    "duration": 3238,
    "start_time": "2024-09-16T18:16:46.051Z"
   },
   {
    "duration": 3,
    "start_time": "2024-09-16T18:16:50.181Z"
   },
   {
    "duration": 1877,
    "start_time": "2024-09-16T18:16:52.974Z"
   },
   {
    "duration": 4,
    "start_time": "2024-09-16T18:16:54.853Z"
   },
   {
    "duration": 7049,
    "start_time": "2024-09-16T18:16:54.956Z"
   },
   {
    "duration": 51,
    "start_time": "2024-09-16T18:17:03.881Z"
   },
   {
    "duration": 27,
    "start_time": "2024-09-16T18:17:04.620Z"
   },
   {
    "duration": 38,
    "start_time": "2024-09-16T18:17:05.214Z"
   },
   {
    "duration": 34,
    "start_time": "2024-09-16T18:17:05.911Z"
   },
   {
    "duration": 2,
    "start_time": "2024-09-16T18:17:08.810Z"
   },
   {
    "duration": 14,
    "start_time": "2024-09-16T18:17:09.191Z"
   },
   {
    "duration": 9,
    "start_time": "2024-09-16T18:17:09.559Z"
   },
   {
    "duration": 6,
    "start_time": "2024-09-16T18:17:09.859Z"
   },
   {
    "duration": 7,
    "start_time": "2024-09-16T18:17:10.163Z"
   },
   {
    "duration": 4,
    "start_time": "2024-09-16T18:17:10.373Z"
   },
   {
    "duration": 13,
    "start_time": "2024-09-16T18:17:10.572Z"
   },
   {
    "duration": 10,
    "start_time": "2024-09-16T18:17:10.768Z"
   },
   {
    "duration": 7,
    "start_time": "2024-09-16T18:17:11.271Z"
   },
   {
    "duration": 35,
    "start_time": "2024-09-16T18:17:11.527Z"
   },
   {
    "duration": 1061,
    "start_time": "2024-09-16T18:17:11.736Z"
   },
   {
    "duration": 3,
    "start_time": "2024-09-16T18:17:12.798Z"
   },
   {
    "duration": 39,
    "start_time": "2024-09-16T18:17:12.802Z"
   },
   {
    "duration": 42,
    "start_time": "2024-09-16T18:17:12.843Z"
   },
   {
    "duration": 32,
    "start_time": "2024-09-16T18:17:12.887Z"
   },
   {
    "duration": 21,
    "start_time": "2024-09-16T18:17:12.921Z"
   },
   {
    "duration": 10,
    "start_time": "2024-09-16T18:17:13.041Z"
   },
   {
    "duration": 8,
    "start_time": "2024-09-16T18:17:13.247Z"
   },
   {
    "duration": 19,
    "start_time": "2024-09-16T18:17:13.456Z"
   },
   {
    "duration": 126,
    "start_time": "2024-09-16T18:17:13.655Z"
   },
   {
    "duration": 7,
    "start_time": "2024-09-16T18:17:13.871Z"
   },
   {
    "duration": 125,
    "start_time": "2024-09-16T18:17:14.285Z"
   },
   {
    "duration": 2,
    "start_time": "2024-09-16T18:17:14.495Z"
   },
   {
    "duration": 8,
    "start_time": "2024-09-16T18:17:14.704Z"
   },
   {
    "duration": 6,
    "start_time": "2024-09-16T18:17:14.911Z"
   },
   {
    "duration": 6,
    "start_time": "2024-09-16T18:17:17.279Z"
   },
   {
    "duration": 9,
    "start_time": "2024-09-16T18:17:17.655Z"
   },
   {
    "duration": 20,
    "start_time": "2024-09-16T18:17:18.037Z"
   },
   {
    "duration": 116,
    "start_time": "2024-09-16T18:17:18.369Z"
   },
   {
    "duration": 5,
    "start_time": "2024-09-16T18:17:18.747Z"
   },
   {
    "duration": 8,
    "start_time": "2024-09-16T18:17:19.100Z"
   },
   {
    "duration": 8,
    "start_time": "2024-09-16T18:17:19.440Z"
   },
   {
    "duration": 7,
    "start_time": "2024-09-16T18:17:19.807Z"
   },
   {
    "duration": 12,
    "start_time": "2024-09-16T18:17:20.169Z"
   },
   {
    "duration": 3,
    "start_time": "2024-09-16T18:17:20.551Z"
   },
   {
    "duration": 3,
    "start_time": "2024-09-16T18:17:21.622Z"
   },
   {
    "duration": 233,
    "start_time": "2024-09-16T18:17:21.999Z"
   },
   {
    "duration": 19,
    "start_time": "2024-09-16T18:17:23.303Z"
   },
   {
    "duration": 5,
    "start_time": "2024-09-16T18:17:23.535Z"
   },
   {
    "duration": 1651,
    "start_time": "2024-09-16T18:17:23.745Z"
   },
   {
    "duration": 266,
    "start_time": "2024-09-16T18:17:25.398Z"
   },
   {
    "duration": 270,
    "start_time": "2024-09-16T18:17:25.666Z"
   },
   {
    "duration": 19,
    "start_time": "2024-09-16T18:17:25.938Z"
   },
   {
    "duration": 24,
    "start_time": "2024-09-16T18:17:25.959Z"
   },
   {
    "duration": 15,
    "start_time": "2024-09-16T18:17:25.985Z"
   },
   {
    "duration": 244,
    "start_time": "2024-09-16T18:17:26.020Z"
   },
   {
    "duration": 379,
    "start_time": "2024-09-16T18:17:26.266Z"
   },
   {
    "duration": 17,
    "start_time": "2024-09-16T18:17:26.648Z"
   },
   {
    "duration": 15,
    "start_time": "2024-09-16T18:17:26.668Z"
   },
   {
    "duration": 307,
    "start_time": "2024-09-16T18:17:26.755Z"
   },
   {
    "duration": 6,
    "start_time": "2024-09-16T18:17:27.065Z"
   },
   {
    "duration": 458,
    "start_time": "2024-09-16T18:17:27.295Z"
   },
   {
    "duration": 14,
    "start_time": "2024-09-16T18:17:27.756Z"
   },
   {
    "duration": 9,
    "start_time": "2024-09-16T18:17:27.859Z"
   },
   {
    "duration": 368,
    "start_time": "2024-09-16T18:17:28.217Z"
   },
   {
    "duration": 3,
    "start_time": "2024-09-16T18:17:28.587Z"
   },
   {
    "duration": 8,
    "start_time": "2024-09-16T18:17:28.655Z"
   },
   {
    "duration": 2,
    "start_time": "2024-09-16T18:17:29.082Z"
   },
   {
    "duration": 3,
    "start_time": "2024-09-16T18:17:36.450Z"
   },
   {
    "duration": 28,
    "start_time": "2024-09-16T18:17:38.919Z"
   },
   {
    "duration": 3,
    "start_time": "2024-09-16T18:17:39.343Z"
   },
   {
    "duration": 3,
    "start_time": "2024-09-16T18:17:39.768Z"
   },
   {
    "duration": 11,
    "start_time": "2024-09-16T18:17:40.127Z"
   },
   {
    "duration": 22,
    "start_time": "2024-09-16T18:17:40.591Z"
   },
   {
    "duration": 24,
    "start_time": "2024-09-16T18:17:41.315Z"
   },
   {
    "duration": 5,
    "start_time": "2024-09-16T18:17:41.877Z"
   },
   {
    "duration": 19,
    "start_time": "2024-09-16T18:17:42.343Z"
   },
   {
    "duration": 16,
    "start_time": "2024-09-16T18:17:46.286Z"
   },
   {
    "duration": 3138,
    "start_time": "2024-09-16T18:17:46.977Z"
   },
   {
    "duration": 179,
    "start_time": "2024-09-16T18:17:52.235Z"
   },
   {
    "duration": 17,
    "start_time": "2024-09-16T18:18:05.118Z"
   },
   {
    "duration": 19,
    "start_time": "2024-09-16T18:18:07.290Z"
   },
   {
    "duration": 4189,
    "start_time": "2024-09-17T16:37:47.371Z"
   },
   {
    "duration": 4801,
    "start_time": "2024-09-17T16:37:53.706Z"
   },
   {
    "duration": 3,
    "start_time": "2024-09-17T16:37:59.424Z"
   },
   {
    "duration": 2393,
    "start_time": "2024-09-17T16:38:04.337Z"
   },
   {
    "duration": 2,
    "start_time": "2024-09-17T16:38:06.733Z"
   },
   {
    "duration": 8213,
    "start_time": "2024-09-17T16:38:12.470Z"
   },
   {
    "duration": 115,
    "start_time": "2024-09-17T16:38:20.686Z"
   },
   {
    "duration": 120,
    "start_time": "2024-09-17T16:38:21.787Z"
   },
   {
    "duration": 86,
    "start_time": "2024-09-17T16:38:22.143Z"
   },
   {
    "duration": 89,
    "start_time": "2024-09-17T16:38:22.411Z"
   },
   {
    "duration": 8,
    "start_time": "2024-09-17T16:38:25.557Z"
   },
   {
    "duration": 13,
    "start_time": "2024-09-17T16:38:25.835Z"
   },
   {
    "duration": 7,
    "start_time": "2024-09-17T16:38:26.167Z"
   },
   {
    "duration": 4,
    "start_time": "2024-09-17T16:38:26.527Z"
   },
   {
    "duration": 6,
    "start_time": "2024-09-17T16:38:26.791Z"
   },
   {
    "duration": 4,
    "start_time": "2024-09-17T16:38:27.031Z"
   },
   {
    "duration": 14,
    "start_time": "2024-09-17T16:38:27.347Z"
   },
   {
    "duration": 8,
    "start_time": "2024-09-17T16:38:27.770Z"
   },
   {
    "duration": 6,
    "start_time": "2024-09-17T16:38:28.111Z"
   },
   {
    "duration": 34,
    "start_time": "2024-09-17T16:38:28.487Z"
   },
   {
    "duration": 944,
    "start_time": "2024-09-17T16:38:28.840Z"
   },
   {
    "duration": 3,
    "start_time": "2024-09-17T16:38:29.786Z"
   },
   {
    "duration": 15,
    "start_time": "2024-09-17T16:38:29.791Z"
   },
   {
    "duration": 5,
    "start_time": "2024-09-17T16:38:29.951Z"
   },
   {
    "duration": 12,
    "start_time": "2024-09-17T16:38:30.400Z"
   },
   {
    "duration": 6,
    "start_time": "2024-09-17T16:38:30.799Z"
   },
   {
    "duration": 9,
    "start_time": "2024-09-17T16:38:31.095Z"
   },
   {
    "duration": 7,
    "start_time": "2024-09-17T16:38:31.424Z"
   },
   {
    "duration": 15,
    "start_time": "2024-09-17T16:38:31.792Z"
   },
   {
    "duration": 128,
    "start_time": "2024-09-17T16:38:32.135Z"
   },
   {
    "duration": 8,
    "start_time": "2024-09-17T16:38:32.471Z"
   },
   {
    "duration": 121,
    "start_time": "2024-09-17T16:38:34.878Z"
   },
   {
    "duration": 2,
    "start_time": "2024-09-17T16:38:35.835Z"
   },
   {
    "duration": 8,
    "start_time": "2024-09-17T16:38:36.522Z"
   },
   {
    "duration": 6,
    "start_time": "2024-09-17T16:38:37.103Z"
   },
   {
    "duration": 6,
    "start_time": "2024-09-17T16:38:41.338Z"
   },
   {
    "duration": 15,
    "start_time": "2024-09-17T16:38:43.255Z"
   },
   {
    "duration": 15,
    "start_time": "2024-09-17T16:38:43.623Z"
   },
   {
    "duration": 124,
    "start_time": "2024-09-17T16:38:44.144Z"
   },
   {
    "duration": 3,
    "start_time": "2024-09-17T16:38:44.562Z"
   },
   {
    "duration": 11,
    "start_time": "2024-09-17T16:38:45.063Z"
   },
   {
    "duration": 7,
    "start_time": "2024-09-17T16:38:45.394Z"
   },
   {
    "duration": 7,
    "start_time": "2024-09-17T16:38:45.714Z"
   },
   {
    "duration": 12,
    "start_time": "2024-09-17T16:38:46.170Z"
   },
   {
    "duration": 3,
    "start_time": "2024-09-17T16:38:46.630Z"
   },
   {
    "duration": 3,
    "start_time": "2024-09-17T16:38:51.171Z"
   },
   {
    "duration": 226,
    "start_time": "2024-09-17T16:38:51.735Z"
   },
   {
    "duration": 14,
    "start_time": "2024-09-17T16:38:53.582Z"
   },
   {
    "duration": 164,
    "start_time": "2024-09-17T16:38:53.786Z"
   },
   {
    "duration": 1804,
    "start_time": "2024-09-17T16:38:53.998Z"
   },
   {
    "duration": 286,
    "start_time": "2024-09-17T16:38:55.805Z"
   },
   {
    "duration": 290,
    "start_time": "2024-09-17T16:38:56.093Z"
   },
   {
    "duration": 13,
    "start_time": "2024-09-17T16:38:56.385Z"
   },
   {
    "duration": 24,
    "start_time": "2024-09-17T16:38:56.400Z"
   },
   {
    "duration": 27,
    "start_time": "2024-09-17T16:38:56.426Z"
   },
   {
    "duration": 246,
    "start_time": "2024-09-17T16:38:56.455Z"
   },
   {
    "duration": 383,
    "start_time": "2024-09-17T16:38:56.840Z"
   },
   {
    "duration": 12,
    "start_time": "2024-09-17T16:38:57.225Z"
   },
   {
    "duration": 18,
    "start_time": "2024-09-17T16:38:57.356Z"
   },
   {
    "duration": 440,
    "start_time": "2024-09-17T16:38:57.554Z"
   },
   {
    "duration": 4,
    "start_time": "2024-09-17T16:38:57.997Z"
   },
   {
    "duration": 276,
    "start_time": "2024-09-17T16:38:58.044Z"
   },
   {
    "duration": 10,
    "start_time": "2024-09-17T16:38:58.334Z"
   },
   {
    "duration": 7,
    "start_time": "2024-09-17T16:38:58.743Z"
   },
   {
    "duration": 293,
    "start_time": "2024-09-17T16:38:59.136Z"
   },
   {
    "duration": 2,
    "start_time": "2024-09-17T16:38:59.499Z"
   },
   {
    "duration": 28,
    "start_time": "2024-09-17T16:38:59.852Z"
   },
   {
    "duration": 3,
    "start_time": "2024-09-17T16:39:01.210Z"
   },
   {
    "duration": 3,
    "start_time": "2024-09-17T16:39:02.469Z"
   },
   {
    "duration": 67,
    "start_time": "2024-09-17T16:43:42.000Z"
   },
   {
    "duration": 15,
    "start_time": "2024-09-17T16:44:38.601Z"
   },
   {
    "duration": 14,
    "start_time": "2024-09-17T16:46:30.975Z"
   },
   {
    "duration": 161,
    "start_time": "2024-09-17T16:47:58.447Z"
   },
   {
    "duration": 158,
    "start_time": "2024-09-17T16:49:44.422Z"
   },
   {
    "duration": 124,
    "start_time": "2024-09-17T16:52:04.410Z"
   },
   {
    "duration": 127,
    "start_time": "2024-09-17T16:54:33.615Z"
   },
   {
    "duration": 135,
    "start_time": "2024-09-17T16:55:00.845Z"
   },
   {
    "duration": 136,
    "start_time": "2024-09-17T16:55:31.314Z"
   },
   {
    "duration": 172,
    "start_time": "2024-09-17T17:07:35.581Z"
   },
   {
    "duration": 147,
    "start_time": "2024-09-17T17:07:54.702Z"
   },
   {
    "duration": 264,
    "start_time": "2024-09-17T17:08:09.349Z"
   },
   {
    "duration": 265,
    "start_time": "2024-09-17T17:09:43.341Z"
   },
   {
    "duration": 15,
    "start_time": "2024-09-17T17:13:24.996Z"
   },
   {
    "duration": 18,
    "start_time": "2024-09-17T17:13:31.705Z"
   },
   {
    "duration": 21,
    "start_time": "2024-09-17T17:13:41.050Z"
   },
   {
    "duration": 258,
    "start_time": "2024-09-17T17:15:20.745Z"
   },
   {
    "duration": 312,
    "start_time": "2024-09-17T17:17:41.116Z"
   },
   {
    "duration": 255,
    "start_time": "2024-09-17T17:18:05.513Z"
   },
   {
    "duration": 290,
    "start_time": "2024-09-17T17:18:42.307Z"
   },
   {
    "duration": 477,
    "start_time": "2024-09-17T17:19:50.423Z"
   },
   {
    "duration": 372,
    "start_time": "2024-09-17T17:20:18.731Z"
   },
   {
    "duration": 293,
    "start_time": "2024-09-17T17:20:22.844Z"
   },
   {
    "duration": 301,
    "start_time": "2024-09-17T17:22:19.875Z"
   },
   {
    "duration": 307,
    "start_time": "2024-09-17T17:25:16.603Z"
   },
   {
    "duration": 20,
    "start_time": "2024-09-17T17:27:33.165Z"
   },
   {
    "duration": 286,
    "start_time": "2024-09-17T17:29:55.283Z"
   },
   {
    "duration": 280,
    "start_time": "2024-09-17T17:32:12.631Z"
   },
   {
    "duration": 15,
    "start_time": "2024-09-17T18:17:06.286Z"
   },
   {
    "duration": 12,
    "start_time": "2024-09-17T18:17:08.237Z"
   },
   {
    "duration": 269,
    "start_time": "2024-09-17T18:22:00.750Z"
   },
   {
    "duration": 27,
    "start_time": "2024-09-17T18:22:30.982Z"
   },
   {
    "duration": 295,
    "start_time": "2024-09-17T18:25:34.320Z"
   },
   {
    "duration": 283,
    "start_time": "2024-09-17T18:39:04.801Z"
   },
   {
    "duration": 293,
    "start_time": "2024-09-17T18:41:30.209Z"
   },
   {
    "duration": 372,
    "start_time": "2024-09-17T18:44:21.206Z"
   },
   {
    "duration": 3288,
    "start_time": "2024-09-18T16:48:50.899Z"
   },
   {
    "duration": 4750,
    "start_time": "2024-09-18T16:48:58.895Z"
   },
   {
    "duration": 4,
    "start_time": "2024-09-18T16:49:03.648Z"
   },
   {
    "duration": 2192,
    "start_time": "2024-09-18T16:49:03.654Z"
   },
   {
    "duration": 3,
    "start_time": "2024-09-18T16:49:05.848Z"
   },
   {
    "duration": 6642,
    "start_time": "2024-09-18T16:49:05.852Z"
   },
   {
    "duration": 104,
    "start_time": "2024-09-18T16:49:13.035Z"
   },
   {
    "duration": 106,
    "start_time": "2024-09-18T16:49:13.668Z"
   },
   {
    "duration": 91,
    "start_time": "2024-09-18T16:49:14.126Z"
   },
   {
    "duration": 84,
    "start_time": "2024-09-18T16:49:14.572Z"
   },
   {
    "duration": 3,
    "start_time": "2024-09-18T16:49:17.311Z"
   },
   {
    "duration": 12,
    "start_time": "2024-09-18T16:49:17.584Z"
   },
   {
    "duration": 7,
    "start_time": "2024-09-18T16:49:18.074Z"
   },
   {
    "duration": 5,
    "start_time": "2024-09-18T16:49:18.382Z"
   },
   {
    "duration": 5,
    "start_time": "2024-09-18T16:49:18.752Z"
   },
   {
    "duration": 5,
    "start_time": "2024-09-18T16:49:19.173Z"
   },
   {
    "duration": 13,
    "start_time": "2024-09-18T16:49:19.661Z"
   },
   {
    "duration": 7,
    "start_time": "2024-09-18T16:49:19.955Z"
   },
   {
    "duration": 7,
    "start_time": "2024-09-18T16:49:20.194Z"
   },
   {
    "duration": 33,
    "start_time": "2024-09-18T16:49:20.591Z"
   },
   {
    "duration": 831,
    "start_time": "2024-09-18T16:49:20.875Z"
   },
   {
    "duration": 3,
    "start_time": "2024-09-18T16:49:21.708Z"
   },
   {
    "duration": 10,
    "start_time": "2024-09-18T16:49:21.754Z"
   },
   {
    "duration": 5,
    "start_time": "2024-09-18T16:49:22.132Z"
   },
   {
    "duration": 11,
    "start_time": "2024-09-18T16:49:22.558Z"
   },
   {
    "duration": 6,
    "start_time": "2024-09-18T16:49:23.250Z"
   },
   {
    "duration": 9,
    "start_time": "2024-09-18T16:49:23.625Z"
   },
   {
    "duration": 7,
    "start_time": "2024-09-18T16:49:24.018Z"
   },
   {
    "duration": 15,
    "start_time": "2024-09-18T16:49:24.364Z"
   },
   {
    "duration": 129,
    "start_time": "2024-09-18T16:49:24.675Z"
   },
   {
    "duration": 7,
    "start_time": "2024-09-18T16:49:25.010Z"
   },
   {
    "duration": 104,
    "start_time": "2024-09-18T16:49:25.763Z"
   },
   {
    "duration": 3,
    "start_time": "2024-09-18T16:49:26.123Z"
   },
   {
    "duration": 8,
    "start_time": "2024-09-18T16:49:26.531Z"
   },
   {
    "duration": 6,
    "start_time": "2024-09-18T16:49:26.934Z"
   },
   {
    "duration": 6,
    "start_time": "2024-09-18T16:49:28.240Z"
   },
   {
    "duration": 8,
    "start_time": "2024-09-18T16:49:28.620Z"
   },
   {
    "duration": 14,
    "start_time": "2024-09-18T16:49:29.015Z"
   },
   {
    "duration": 111,
    "start_time": "2024-09-18T16:49:29.670Z"
   },
   {
    "duration": 3,
    "start_time": "2024-09-18T16:49:30.219Z"
   },
   {
    "duration": 8,
    "start_time": "2024-09-18T16:49:30.707Z"
   },
   {
    "duration": 5,
    "start_time": "2024-09-18T16:49:31.236Z"
   },
   {
    "duration": 7,
    "start_time": "2024-09-18T16:49:31.835Z"
   },
   {
    "duration": 11,
    "start_time": "2024-09-18T16:49:32.365Z"
   },
   {
    "duration": 2,
    "start_time": "2024-09-18T16:49:32.803Z"
   },
   {
    "duration": 3,
    "start_time": "2024-09-18T16:49:33.982Z"
   },
   {
    "duration": 211,
    "start_time": "2024-09-18T16:49:34.417Z"
   },
   {
    "duration": 13,
    "start_time": "2024-09-18T16:49:35.917Z"
   },
   {
    "duration": 4,
    "start_time": "2024-09-18T16:49:36.384Z"
   },
   {
    "duration": 1554,
    "start_time": "2024-09-18T16:49:37.097Z"
   },
   {
    "duration": 275,
    "start_time": "2024-09-18T16:49:38.653Z"
   },
   {
    "duration": 205,
    "start_time": "2024-09-18T16:49:39.432Z"
   },
   {
    "duration": 14,
    "start_time": "2024-09-18T16:49:39.935Z"
   },
   {
    "duration": 14,
    "start_time": "2024-09-18T16:49:40.328Z"
   },
   {
    "duration": 8,
    "start_time": "2024-09-18T16:49:40.689Z"
   },
   {
    "duration": 251,
    "start_time": "2024-09-18T16:49:41.006Z"
   },
   {
    "duration": 298,
    "start_time": "2024-09-18T16:49:41.399Z"
   },
   {
    "duration": 12,
    "start_time": "2024-09-18T16:49:41.766Z"
   },
   {
    "duration": 353,
    "start_time": "2024-09-18T16:49:42.104Z"
   },
   {
    "duration": 471,
    "start_time": "2024-09-18T16:49:42.482Z"
   },
   {
    "duration": 25,
    "start_time": "2024-09-18T16:49:42.998Z"
   },
   {
    "duration": 297,
    "start_time": "2024-09-18T16:49:43.356Z"
   },
   {
    "duration": 11,
    "start_time": "2024-09-18T16:49:43.655Z"
   },
   {
    "duration": 8,
    "start_time": "2024-09-18T16:49:43.906Z"
   },
   {
    "duration": 313,
    "start_time": "2024-09-18T16:49:44.143Z"
   },
   {
    "duration": 2,
    "start_time": "2024-09-18T16:49:44.459Z"
   },
   {
    "duration": 9,
    "start_time": "2024-09-18T16:49:44.551Z"
   },
   {
    "duration": 2,
    "start_time": "2024-09-18T16:49:44.754Z"
   },
   {
    "duration": 3,
    "start_time": "2024-09-18T16:49:45.758Z"
   },
   {
    "duration": 12,
    "start_time": "2024-09-18T16:49:47.190Z"
   },
   {
    "duration": 135,
    "start_time": "2024-09-18T16:49:48.567Z"
   },
   {
    "duration": 111,
    "start_time": "2024-09-18T16:49:48.982Z"
   },
   {
    "duration": 110,
    "start_time": "2024-09-18T16:49:49.449Z"
   },
   {
    "duration": 226,
    "start_time": "2024-09-18T16:49:49.958Z"
   },
   {
    "duration": 239,
    "start_time": "2024-09-18T16:49:50.404Z"
   },
   {
    "duration": 228,
    "start_time": "2024-09-18T16:49:50.816Z"
   },
   {
    "duration": 225,
    "start_time": "2024-09-18T16:49:51.209Z"
   },
   {
    "duration": 172,
    "start_time": "2024-09-18T16:49:51.614Z"
   },
   {
    "duration": 227,
    "start_time": "2024-09-18T16:49:51.815Z"
   },
   {
    "duration": 233,
    "start_time": "2024-09-18T16:49:52.326Z"
   },
   {
    "duration": 250,
    "start_time": "2024-09-18T16:49:52.631Z"
   },
   {
    "duration": 377,
    "start_time": "2024-09-18T16:49:53.039Z"
   },
   {
    "duration": 13,
    "start_time": "2024-09-18T16:49:53.895Z"
   },
   {
    "duration": 18,
    "start_time": "2024-09-18T16:49:54.743Z"
   },
   {
    "duration": 2,
    "start_time": "2024-09-18T16:49:54.952Z"
   },
   {
    "duration": 2,
    "start_time": "2024-09-18T16:49:55.168Z"
   },
   {
    "duration": 7,
    "start_time": "2024-09-18T16:49:55.565Z"
   },
   {
    "duration": 15,
    "start_time": "2024-09-18T16:49:55.895Z"
   },
   {
    "duration": 23,
    "start_time": "2024-09-18T16:49:56.215Z"
   },
   {
    "duration": 6,
    "start_time": "2024-09-18T16:49:56.532Z"
   },
   {
    "duration": 13,
    "start_time": "2024-09-18T16:49:56.916Z"
   },
   {
    "duration": 14,
    "start_time": "2024-09-18T16:49:58.858Z"
   },
   {
    "duration": 2933,
    "start_time": "2024-09-18T16:49:59.227Z"
   },
   {
    "duration": 2006,
    "start_time": "2024-09-18T16:50:02.578Z"
   },
   {
    "duration": 24,
    "start_time": "2024-09-18T16:50:06.871Z"
   },
   {
    "duration": 8,
    "start_time": "2024-09-18T16:50:08.135Z"
   },
   {
    "duration": 161,
    "start_time": "2024-09-18T16:50:12.742Z"
   },
   {
    "duration": 11,
    "start_time": "2024-09-18T16:50:13.353Z"
   },
   {
    "duration": 12,
    "start_time": "2024-09-18T16:50:14.399Z"
   },
   {
    "duration": 30,
    "start_time": "2024-09-18T16:50:18.609Z"
   },
   {
    "duration": 15,
    "start_time": "2024-09-18T16:50:19.853Z"
   },
   {
    "duration": 114,
    "start_time": "2024-09-18T17:03:28.229Z"
   },
   {
    "duration": 9,
    "start_time": "2024-09-18T17:18:26.003Z"
   },
   {
    "duration": 285,
    "start_time": "2024-09-18T17:19:28.551Z"
   },
   {
    "duration": 260,
    "start_time": "2024-09-18T17:21:52.184Z"
   },
   {
    "duration": 333,
    "start_time": "2024-09-18T17:27:28.360Z"
   },
   {
    "duration": 347,
    "start_time": "2024-09-18T17:27:45.130Z"
   },
   {
    "duration": 210,
    "start_time": "2024-09-18T17:28:11.849Z"
   },
   {
    "duration": 353,
    "start_time": "2024-09-18T17:28:16.133Z"
   },
   {
    "duration": 16,
    "start_time": "2024-09-18T17:28:35.116Z"
   },
   {
    "duration": 271,
    "start_time": "2024-09-18T17:30:53.033Z"
   },
   {
    "duration": 128,
    "start_time": "2024-09-18T17:34:34.076Z"
   },
   {
    "duration": 10,
    "start_time": "2024-09-18T17:34:44.386Z"
   },
   {
    "duration": 305,
    "start_time": "2024-09-18T17:35:25.787Z"
   },
   {
    "duration": 341,
    "start_time": "2024-09-18T17:35:35.020Z"
   },
   {
    "duration": 92,
    "start_time": "2024-09-18T17:51:59.654Z"
   },
   {
    "duration": 2517,
    "start_time": "2024-09-18T17:55:09.175Z"
   },
   {
    "duration": 2502,
    "start_time": "2024-09-18T17:55:18.195Z"
   },
   {
    "duration": 3,
    "start_time": "2024-09-18T17:55:20.699Z"
   },
   {
    "duration": 1915,
    "start_time": "2024-09-18T17:55:20.703Z"
   },
   {
    "duration": 3,
    "start_time": "2024-09-18T17:55:22.621Z"
   },
   {
    "duration": 2621,
    "start_time": "2024-09-18T17:55:22.626Z"
   },
   {
    "duration": 49,
    "start_time": "2024-09-18T17:55:29.818Z"
   },
   {
    "duration": 23,
    "start_time": "2024-09-18T17:55:30.774Z"
   },
   {
    "duration": 36,
    "start_time": "2024-09-18T17:55:31.749Z"
   },
   {
    "duration": 30,
    "start_time": "2024-09-18T17:55:32.368Z"
   },
   {
    "duration": 4,
    "start_time": "2024-09-18T17:55:35.348Z"
   },
   {
    "duration": 17,
    "start_time": "2024-09-18T17:55:35.755Z"
   },
   {
    "duration": 7,
    "start_time": "2024-09-18T17:55:35.979Z"
   },
   {
    "duration": 4,
    "start_time": "2024-09-18T17:55:36.217Z"
   },
   {
    "duration": 6,
    "start_time": "2024-09-18T17:55:36.409Z"
   },
   {
    "duration": 4,
    "start_time": "2024-09-18T17:55:36.611Z"
   },
   {
    "duration": 11,
    "start_time": "2024-09-18T17:55:36.799Z"
   },
   {
    "duration": 7,
    "start_time": "2024-09-18T17:55:36.985Z"
   },
   {
    "duration": 6,
    "start_time": "2024-09-18T17:55:37.194Z"
   },
   {
    "duration": 31,
    "start_time": "2024-09-18T17:55:37.410Z"
   },
   {
    "duration": 907,
    "start_time": "2024-09-18T17:55:37.605Z"
   },
   {
    "duration": 2,
    "start_time": "2024-09-18T17:55:38.520Z"
   },
   {
    "duration": 68,
    "start_time": "2024-09-18T17:55:38.524Z"
   },
   {
    "duration": 6,
    "start_time": "2024-09-18T17:55:38.594Z"
   },
   {
    "duration": 12,
    "start_time": "2024-09-18T17:55:38.601Z"
   },
   {
    "duration": 6,
    "start_time": "2024-09-18T17:55:39.482Z"
   },
   {
    "duration": 9,
    "start_time": "2024-09-18T17:55:39.749Z"
   },
   {
    "duration": 7,
    "start_time": "2024-09-18T17:55:40.008Z"
   },
   {
    "duration": 16,
    "start_time": "2024-09-18T17:55:40.303Z"
   },
   {
    "duration": 108,
    "start_time": "2024-09-18T17:55:40.585Z"
   },
   {
    "duration": 6,
    "start_time": "2024-09-18T17:55:40.810Z"
   },
   {
    "duration": 98,
    "start_time": "2024-09-18T17:55:41.346Z"
   },
   {
    "duration": 3,
    "start_time": "2024-09-18T17:55:41.585Z"
   },
   {
    "duration": 9,
    "start_time": "2024-09-18T17:55:41.827Z"
   },
   {
    "duration": 7,
    "start_time": "2024-09-18T17:55:42.052Z"
   },
   {
    "duration": 5,
    "start_time": "2024-09-18T17:55:42.737Z"
   },
   {
    "duration": 6,
    "start_time": "2024-09-18T17:55:42.962Z"
   },
   {
    "duration": 15,
    "start_time": "2024-09-18T17:55:43.155Z"
   },
   {
    "duration": 104,
    "start_time": "2024-09-18T17:55:43.377Z"
   },
   {
    "duration": 2,
    "start_time": "2024-09-18T17:55:43.586Z"
   },
   {
    "duration": 8,
    "start_time": "2024-09-18T17:55:43.802Z"
   },
   {
    "duration": 6,
    "start_time": "2024-09-18T17:55:44.010Z"
   },
   {
    "duration": 7,
    "start_time": "2024-09-18T17:55:44.246Z"
   },
   {
    "duration": 10,
    "start_time": "2024-09-18T17:55:44.462Z"
   },
   {
    "duration": 2,
    "start_time": "2024-09-18T17:55:44.666Z"
   },
   {
    "duration": 3,
    "start_time": "2024-09-18T17:55:45.326Z"
   },
   {
    "duration": 103,
    "start_time": "2024-09-18T17:55:45.550Z"
   },
   {
    "duration": 11,
    "start_time": "2024-09-18T17:55:46.459Z"
   },
   {
    "duration": 5,
    "start_time": "2024-09-18T17:55:46.666Z"
   },
   {
    "duration": 1697,
    "start_time": "2024-09-18T17:55:46.900Z"
   },
   {
    "duration": 259,
    "start_time": "2024-09-18T17:55:48.599Z"
   },
   {
    "duration": 264,
    "start_time": "2024-09-18T17:55:48.859Z"
   },
   {
    "duration": 13,
    "start_time": "2024-09-18T17:55:49.126Z"
   },
   {
    "duration": 72,
    "start_time": "2024-09-18T17:55:49.141Z"
   },
   {
    "duration": 37,
    "start_time": "2024-09-18T17:55:49.214Z"
   },
   {
    "duration": 286,
    "start_time": "2024-09-18T17:55:49.253Z"
   },
   {
    "duration": 346,
    "start_time": "2024-09-18T17:55:49.540Z"
   },
   {
    "duration": 11,
    "start_time": "2024-09-18T17:55:49.887Z"
   },
   {
    "duration": 22,
    "start_time": "2024-09-18T17:55:49.900Z"
   },
   {
    "duration": 216,
    "start_time": "2024-09-18T17:55:49.924Z"
   },
   {
    "duration": 4,
    "start_time": "2024-09-18T17:55:50.142Z"
   },
   {
    "duration": 315,
    "start_time": "2024-09-18T17:55:50.147Z"
   },
   {
    "duration": 10,
    "start_time": "2024-09-18T17:55:50.465Z"
   },
   {
    "duration": 7,
    "start_time": "2024-09-18T17:55:50.640Z"
   },
   {
    "duration": 289,
    "start_time": "2024-09-18T17:55:51.179Z"
   },
   {
    "duration": 2,
    "start_time": "2024-09-18T17:55:51.469Z"
   },
   {
    "duration": 8,
    "start_time": "2024-09-18T17:55:51.644Z"
   },
   {
    "duration": 2,
    "start_time": "2024-09-18T17:55:52.058Z"
   },
   {
    "duration": 2,
    "start_time": "2024-09-18T17:55:53.586Z"
   },
   {
    "duration": 251,
    "start_time": "2024-09-18T17:55:55.965Z"
   },
   {
    "duration": 109,
    "start_time": "2024-09-18T17:55:56.631Z"
   },
   {
    "duration": 116,
    "start_time": "2024-09-18T17:55:57.107Z"
   },
   {
    "duration": 218,
    "start_time": "2024-09-18T17:55:57.817Z"
   },
   {
    "duration": 229,
    "start_time": "2024-09-18T17:55:58.361Z"
   },
   {
    "duration": 222,
    "start_time": "2024-09-18T17:55:58.937Z"
   },
   {
    "duration": 223,
    "start_time": "2024-09-18T17:55:59.538Z"
   },
   {
    "duration": 162,
    "start_time": "2024-09-18T17:56:00.410Z"
   },
   {
    "duration": 216,
    "start_time": "2024-09-18T17:56:00.797Z"
   },
   {
    "duration": 212,
    "start_time": "2024-09-18T17:56:02.276Z"
   },
   {
    "duration": 244,
    "start_time": "2024-09-18T17:56:03.106Z"
   },
   {
    "duration": 242,
    "start_time": "2024-09-18T17:56:03.870Z"
   },
   {
    "duration": 10,
    "start_time": "2024-09-18T17:56:05.493Z"
   },
   {
    "duration": 128,
    "start_time": "2024-09-18T17:56:05.937Z"
   },
   {
    "duration": 441,
    "start_time": "2024-09-18T17:56:06.254Z"
   },
   {
    "duration": 127,
    "start_time": "2024-09-18T17:56:07.087Z"
   },
   {
    "duration": 9,
    "start_time": "2024-09-18T17:56:07.563Z"
   },
   {
    "duration": 275,
    "start_time": "2024-09-18T17:56:08.010Z"
   },
   {
    "duration": 18,
    "start_time": "2024-09-18T17:56:10.256Z"
   },
   {
    "duration": 3,
    "start_time": "2024-09-18T17:56:10.666Z"
   },
   {
    "duration": 3,
    "start_time": "2024-09-18T17:56:11.046Z"
   },
   {
    "duration": 7,
    "start_time": "2024-09-18T17:56:11.455Z"
   },
   {
    "duration": 16,
    "start_time": "2024-09-18T17:56:11.852Z"
   },
   {
    "duration": 24,
    "start_time": "2024-09-18T17:56:12.267Z"
   },
   {
    "duration": 5,
    "start_time": "2024-09-18T17:56:13.062Z"
   },
   {
    "duration": 17,
    "start_time": "2024-09-18T17:56:13.505Z"
   },
   {
    "duration": 16,
    "start_time": "2024-09-18T17:56:17.224Z"
   },
   {
    "duration": 2968,
    "start_time": "2024-09-18T17:56:18.356Z"
   },
   {
    "duration": 1880,
    "start_time": "2024-09-18T17:56:26.640Z"
   },
   {
    "duration": 23,
    "start_time": "2024-09-18T17:56:30.832Z"
   },
   {
    "duration": 7,
    "start_time": "2024-09-18T17:56:32.214Z"
   },
   {
    "duration": 823,
    "start_time": "2024-09-18T17:56:35.173Z"
   },
   {
    "duration": 294,
    "start_time": "2024-09-18T17:56:37.314Z"
   },
   {
    "duration": 1706,
    "start_time": "2024-09-18T17:56:42.036Z"
   },
   {
    "duration": 15276,
    "start_time": "2024-09-18T17:59:27.234Z"
   },
   {
    "duration": 65,
    "start_time": "2024-09-18T18:03:59.324Z"
   },
   {
    "duration": 5,
    "start_time": "2024-09-18T18:07:13.187Z"
   },
   {
    "duration": 3455,
    "start_time": "2024-09-19T16:10:44.289Z"
   },
   {
    "duration": 4110,
    "start_time": "2024-09-19T16:10:47.747Z"
   },
   {
    "duration": 3,
    "start_time": "2024-09-19T16:10:51.859Z"
   },
   {
    "duration": 2068,
    "start_time": "2024-09-19T16:10:51.863Z"
   },
   {
    "duration": 2,
    "start_time": "2024-09-19T16:10:53.933Z"
   },
   {
    "duration": 6746,
    "start_time": "2024-09-19T16:10:53.936Z"
   },
   {
    "duration": 96,
    "start_time": "2024-09-19T16:11:00.684Z"
   },
   {
    "duration": 108,
    "start_time": "2024-09-19T16:11:00.782Z"
   },
   {
    "duration": 77,
    "start_time": "2024-09-19T16:11:00.892Z"
   },
   {
    "duration": 84,
    "start_time": "2024-09-19T16:11:00.971Z"
   },
   {
    "duration": 3,
    "start_time": "2024-09-19T16:11:11.414Z"
   },
   {
    "duration": 12,
    "start_time": "2024-09-19T16:11:11.947Z"
   },
   {
    "duration": 7,
    "start_time": "2024-09-19T16:11:12.179Z"
   },
   {
    "duration": 6,
    "start_time": "2024-09-19T16:11:12.390Z"
   },
   {
    "duration": 5,
    "start_time": "2024-09-19T16:11:12.589Z"
   },
   {
    "duration": 5,
    "start_time": "2024-09-19T16:11:12.848Z"
   },
   {
    "duration": 13,
    "start_time": "2024-09-19T16:11:13.042Z"
   },
   {
    "duration": 6,
    "start_time": "2024-09-19T16:11:13.294Z"
   },
   {
    "duration": 7,
    "start_time": "2024-09-19T16:11:13.753Z"
   },
   {
    "duration": 34,
    "start_time": "2024-09-19T16:11:13.899Z"
   },
   {
    "duration": 886,
    "start_time": "2024-09-19T16:11:13.935Z"
   },
   {
    "duration": 3,
    "start_time": "2024-09-19T16:11:14.822Z"
   },
   {
    "duration": 20,
    "start_time": "2024-09-19T16:11:14.827Z"
   },
   {
    "duration": 10,
    "start_time": "2024-09-19T16:11:14.849Z"
   },
   {
    "duration": 11,
    "start_time": "2024-09-19T16:11:14.861Z"
   },
   {
    "duration": 6,
    "start_time": "2024-09-19T16:11:15.251Z"
   },
   {
    "duration": 43,
    "start_time": "2024-09-19T16:11:15.259Z"
   },
   {
    "duration": 6,
    "start_time": "2024-09-19T16:11:15.586Z"
   },
   {
    "duration": 13,
    "start_time": "2024-09-19T16:11:15.767Z"
   },
   {
    "duration": 117,
    "start_time": "2024-09-19T16:11:16.002Z"
   },
   {
    "duration": 7,
    "start_time": "2024-09-19T16:11:16.234Z"
   },
   {
    "duration": 106,
    "start_time": "2024-09-19T16:11:16.641Z"
   },
   {
    "duration": 2,
    "start_time": "2024-09-19T16:11:16.867Z"
   },
   {
    "duration": 7,
    "start_time": "2024-09-19T16:11:17.057Z"
   },
   {
    "duration": 6,
    "start_time": "2024-09-19T16:11:17.250Z"
   },
   {
    "duration": 7,
    "start_time": "2024-09-19T16:11:17.933Z"
   },
   {
    "duration": 7,
    "start_time": "2024-09-19T16:11:18.117Z"
   },
   {
    "duration": 15,
    "start_time": "2024-09-19T16:11:18.366Z"
   },
   {
    "duration": 108,
    "start_time": "2024-09-19T16:11:18.653Z"
   },
   {
    "duration": 2,
    "start_time": "2024-09-19T16:11:18.874Z"
   },
   {
    "duration": 7,
    "start_time": "2024-09-19T16:11:19.146Z"
   },
   {
    "duration": 6,
    "start_time": "2024-09-19T16:11:19.438Z"
   },
   {
    "duration": 6,
    "start_time": "2024-09-19T16:11:20.211Z"
   },
   {
    "duration": 14,
    "start_time": "2024-09-19T16:11:20.219Z"
   },
   {
    "duration": 5,
    "start_time": "2024-09-19T16:11:20.234Z"
   },
   {
    "duration": 2,
    "start_time": "2024-09-19T16:11:20.824Z"
   },
   {
    "duration": 237,
    "start_time": "2024-09-19T16:11:21.101Z"
   },
   {
    "duration": 11,
    "start_time": "2024-09-19T16:11:21.962Z"
   },
   {
    "duration": 5,
    "start_time": "2024-09-19T16:11:22.182Z"
   },
   {
    "duration": 1545,
    "start_time": "2024-09-19T16:11:22.411Z"
   },
   {
    "duration": 217,
    "start_time": "2024-09-19T16:11:23.958Z"
   },
   {
    "duration": 191,
    "start_time": "2024-09-19T16:11:24.176Z"
   },
   {
    "duration": 13,
    "start_time": "2024-09-19T16:11:24.369Z"
   },
   {
    "duration": 33,
    "start_time": "2024-09-19T16:11:24.383Z"
   },
   {
    "duration": 7,
    "start_time": "2024-09-19T16:11:24.418Z"
   },
   {
    "duration": 233,
    "start_time": "2024-09-19T16:11:24.445Z"
   },
   {
    "duration": 348,
    "start_time": "2024-09-19T16:11:24.680Z"
   },
   {
    "duration": 22,
    "start_time": "2024-09-19T16:11:25.031Z"
   },
   {
    "duration": 20,
    "start_time": "2024-09-19T16:11:25.056Z"
   },
   {
    "duration": 391,
    "start_time": "2024-09-19T16:11:25.078Z"
   },
   {
    "duration": 5,
    "start_time": "2024-09-19T16:11:25.470Z"
   },
   {
    "duration": 337,
    "start_time": "2024-09-19T16:11:25.476Z"
   },
   {
    "duration": 11,
    "start_time": "2024-09-19T16:11:25.815Z"
   },
   {
    "duration": 7,
    "start_time": "2024-09-19T16:11:26.040Z"
   },
   {
    "duration": 268,
    "start_time": "2024-09-19T16:11:26.049Z"
   },
   {
    "duration": 28,
    "start_time": "2024-09-19T16:11:26.319Z"
   },
   {
    "duration": 16,
    "start_time": "2024-09-19T16:11:26.349Z"
   },
   {
    "duration": 11,
    "start_time": "2024-09-19T16:11:26.367Z"
   },
   {
    "duration": 2,
    "start_time": "2024-09-19T16:11:26.843Z"
   },
   {
    "duration": 127,
    "start_time": "2024-09-19T16:11:27.879Z"
   },
   {
    "duration": 145,
    "start_time": "2024-09-19T16:11:28.578Z"
   },
   {
    "duration": 113,
    "start_time": "2024-09-19T16:11:28.971Z"
   },
   {
    "duration": 201,
    "start_time": "2024-09-19T16:11:29.600Z"
   },
   {
    "duration": 240,
    "start_time": "2024-09-19T16:11:29.954Z"
   },
   {
    "duration": 220,
    "start_time": "2024-09-19T16:11:30.354Z"
   },
   {
    "duration": 227,
    "start_time": "2024-09-19T16:11:30.771Z"
   },
   {
    "duration": 166,
    "start_time": "2024-09-19T16:11:31.275Z"
   },
   {
    "duration": 684,
    "start_time": "2024-09-19T16:11:31.445Z"
   },
   {
    "duration": 220,
    "start_time": "2024-09-19T16:11:32.912Z"
   },
   {
    "duration": 233,
    "start_time": "2024-09-19T16:11:33.134Z"
   },
   {
    "duration": 395,
    "start_time": "2024-09-19T16:11:33.368Z"
   },
   {
    "duration": 10,
    "start_time": "2024-09-19T16:11:33.765Z"
   },
   {
    "duration": 125,
    "start_time": "2024-09-19T16:11:33.990Z"
   },
   {
    "duration": 398,
    "start_time": "2024-09-19T16:11:34.240Z"
   },
   {
    "duration": 115,
    "start_time": "2024-09-19T16:11:34.933Z"
   },
   {
    "duration": 10,
    "start_time": "2024-09-19T16:11:35.202Z"
   },
   {
    "duration": 260,
    "start_time": "2024-09-19T16:11:35.452Z"
   },
   {
    "duration": 19,
    "start_time": "2024-09-19T16:11:36.669Z"
   },
   {
    "duration": 7,
    "start_time": "2024-09-19T16:11:36.943Z"
   },
   {
    "duration": 15,
    "start_time": "2024-09-19T16:11:37.887Z"
   },
   {
    "duration": 24,
    "start_time": "2024-09-19T16:11:38.108Z"
   },
   {
    "duration": 117,
    "start_time": "2024-09-19T16:11:38.134Z"
   },
   {
    "duration": 24,
    "start_time": "2024-09-19T16:11:38.252Z"
   },
   {
    "duration": 14,
    "start_time": "2024-09-19T16:11:40.837Z"
   },
   {
    "duration": 2928,
    "start_time": "2024-09-19T16:11:41.065Z"
   },
   {
    "duration": 1989,
    "start_time": "2024-09-19T16:11:44.714Z"
   },
   {
    "duration": 25,
    "start_time": "2024-09-19T16:11:46.705Z"
   },
   {
    "duration": 7,
    "start_time": "2024-09-19T16:11:46.746Z"
   },
   {
    "duration": 165,
    "start_time": "2024-09-19T16:11:49.033Z"
   },
   {
    "duration": 10,
    "start_time": "2024-09-19T16:11:49.581Z"
   },
   {
    "duration": 48,
    "start_time": "2024-09-19T16:11:57.703Z"
   },
   {
    "duration": 2548,
    "start_time": "2024-09-19T16:12:27.170Z"
   },
   {
    "duration": 3005,
    "start_time": "2024-09-19T16:12:30.898Z"
   },
   {
    "duration": 3,
    "start_time": "2024-09-19T16:12:33.905Z"
   },
   {
    "duration": 1780,
    "start_time": "2024-09-19T16:12:33.910Z"
   },
   {
    "duration": 2,
    "start_time": "2024-09-19T16:12:35.692Z"
   },
   {
    "duration": 2498,
    "start_time": "2024-09-19T16:12:35.696Z"
   },
   {
    "duration": 48,
    "start_time": "2024-09-19T16:12:38.197Z"
   },
   {
    "duration": 24,
    "start_time": "2024-09-19T16:12:38.247Z"
   },
   {
    "duration": 37,
    "start_time": "2024-09-19T16:12:40.718Z"
   },
   {
    "duration": 31,
    "start_time": "2024-09-19T16:12:41.246Z"
   },
   {
    "duration": 3,
    "start_time": "2024-09-19T16:12:43.116Z"
   },
   {
    "duration": 13,
    "start_time": "2024-09-19T16:12:43.322Z"
   },
   {
    "duration": 6,
    "start_time": "2024-09-19T16:12:43.530Z"
   },
   {
    "duration": 5,
    "start_time": "2024-09-19T16:12:43.885Z"
   },
   {
    "duration": 6,
    "start_time": "2024-09-19T16:12:44.039Z"
   },
   {
    "duration": 5,
    "start_time": "2024-09-19T16:12:44.235Z"
   },
   {
    "duration": 14,
    "start_time": "2024-09-19T16:12:44.442Z"
   },
   {
    "duration": 9,
    "start_time": "2024-09-19T16:12:44.625Z"
   },
   {
    "duration": 6,
    "start_time": "2024-09-19T16:12:44.826Z"
   },
   {
    "duration": 34,
    "start_time": "2024-09-19T16:12:45.034Z"
   },
   {
    "duration": 897,
    "start_time": "2024-09-19T16:12:45.226Z"
   },
   {
    "duration": 2,
    "start_time": "2024-09-19T16:12:46.125Z"
   },
   {
    "duration": 22,
    "start_time": "2024-09-19T16:12:46.129Z"
   },
   {
    "duration": 8,
    "start_time": "2024-09-19T16:12:46.154Z"
   },
   {
    "duration": 11,
    "start_time": "2024-09-19T16:12:46.164Z"
   },
   {
    "duration": 6,
    "start_time": "2024-09-19T16:12:46.459Z"
   },
   {
    "duration": 9,
    "start_time": "2024-09-19T16:12:46.678Z"
   },
   {
    "duration": 7,
    "start_time": "2024-09-19T16:12:46.923Z"
   },
   {
    "duration": 14,
    "start_time": "2024-09-19T16:12:47.153Z"
   },
   {
    "duration": 102,
    "start_time": "2024-09-19T16:12:47.369Z"
   },
   {
    "duration": 6,
    "start_time": "2024-09-19T16:12:47.586Z"
   },
   {
    "duration": 102,
    "start_time": "2024-09-19T16:12:48.024Z"
   },
   {
    "duration": 2,
    "start_time": "2024-09-19T16:12:48.235Z"
   },
   {
    "duration": 8,
    "start_time": "2024-09-19T16:12:48.451Z"
   },
   {
    "duration": 6,
    "start_time": "2024-09-19T16:12:48.668Z"
   },
   {
    "duration": 5,
    "start_time": "2024-09-19T16:12:49.553Z"
   },
   {
    "duration": 7,
    "start_time": "2024-09-19T16:12:50.087Z"
   },
   {
    "duration": 14,
    "start_time": "2024-09-19T16:12:50.250Z"
   },
   {
    "duration": 137,
    "start_time": "2024-09-19T16:12:50.590Z"
   },
   {
    "duration": 3,
    "start_time": "2024-09-19T16:12:50.962Z"
   },
   {
    "duration": 8,
    "start_time": "2024-09-19T16:12:51.290Z"
   },
   {
    "duration": 5,
    "start_time": "2024-09-19T16:12:51.602Z"
   },
   {
    "duration": 6,
    "start_time": "2024-09-19T16:12:51.930Z"
   },
   {
    "duration": 10,
    "start_time": "2024-09-19T16:12:52.250Z"
   },
   {
    "duration": 3,
    "start_time": "2024-09-19T16:12:52.558Z"
   },
   {
    "duration": 2,
    "start_time": "2024-09-19T16:12:53.501Z"
   },
   {
    "duration": 99,
    "start_time": "2024-09-19T16:12:53.770Z"
   },
   {
    "duration": 12,
    "start_time": "2024-09-19T16:12:55.149Z"
   },
   {
    "duration": 4,
    "start_time": "2024-09-19T16:12:55.524Z"
   },
   {
    "duration": 1708,
    "start_time": "2024-09-19T16:12:55.888Z"
   },
   {
    "duration": 269,
    "start_time": "2024-09-19T16:12:57.598Z"
   },
   {
    "duration": 200,
    "start_time": "2024-09-19T16:12:57.868Z"
   },
   {
    "duration": 14,
    "start_time": "2024-09-19T16:12:58.070Z"
   },
   {
    "duration": 35,
    "start_time": "2024-09-19T16:12:58.085Z"
   },
   {
    "duration": 15,
    "start_time": "2024-09-19T16:12:58.121Z"
   },
   {
    "duration": 254,
    "start_time": "2024-09-19T16:12:58.517Z"
   },
   {
    "duration": 352,
    "start_time": "2024-09-19T16:12:58.930Z"
   },
   {
    "duration": 10,
    "start_time": "2024-09-19T16:12:59.325Z"
   },
   {
    "duration": 7,
    "start_time": "2024-09-19T16:12:59.701Z"
   },
   {
    "duration": 252,
    "start_time": "2024-09-19T16:13:00.103Z"
   },
   {
    "duration": 5,
    "start_time": "2024-09-19T16:13:00.506Z"
   },
   {
    "duration": 272,
    "start_time": "2024-09-19T16:13:00.929Z"
   },
   {
    "duration": 10,
    "start_time": "2024-09-19T16:13:01.319Z"
   },
   {
    "duration": 7,
    "start_time": "2024-09-19T16:13:01.670Z"
   },
   {
    "duration": 301,
    "start_time": "2024-09-19T16:13:02.063Z"
   },
   {
    "duration": 3,
    "start_time": "2024-09-19T16:13:02.432Z"
   },
   {
    "duration": 11,
    "start_time": "2024-09-19T16:13:02.804Z"
   },
   {
    "duration": 3,
    "start_time": "2024-09-19T16:13:03.221Z"
   },
   {
    "duration": 3,
    "start_time": "2024-09-19T16:13:04.510Z"
   },
   {
    "duration": 253,
    "start_time": "2024-09-19T16:13:07.098Z"
   },
   {
    "duration": 114,
    "start_time": "2024-09-19T16:13:08.094Z"
   },
   {
    "duration": 112,
    "start_time": "2024-09-19T16:13:08.841Z"
   },
   {
    "duration": 217,
    "start_time": "2024-09-19T16:13:09.462Z"
   },
   {
    "duration": 253,
    "start_time": "2024-09-19T16:13:09.858Z"
   },
   {
    "duration": 218,
    "start_time": "2024-09-19T16:13:10.274Z"
   },
   {
    "duration": 220,
    "start_time": "2024-09-19T16:13:10.702Z"
   },
   {
    "duration": 168,
    "start_time": "2024-09-19T16:13:11.142Z"
   },
   {
    "duration": 228,
    "start_time": "2024-09-19T16:13:11.364Z"
   },
   {
    "duration": 219,
    "start_time": "2024-09-19T16:13:11.822Z"
   },
   {
    "duration": 230,
    "start_time": "2024-09-19T16:13:12.320Z"
   },
   {
    "duration": 252,
    "start_time": "2024-09-19T16:13:12.858Z"
   },
   {
    "duration": 10,
    "start_time": "2024-09-19T16:13:14.323Z"
   },
   {
    "duration": 137,
    "start_time": "2024-09-19T16:13:14.627Z"
   },
   {
    "duration": 499,
    "start_time": "2024-09-19T16:13:14.934Z"
   },
   {
    "duration": 112,
    "start_time": "2024-09-19T16:13:16.046Z"
   },
   {
    "duration": 10,
    "start_time": "2024-09-19T16:13:16.418Z"
   },
   {
    "duration": 267,
    "start_time": "2024-09-19T16:13:16.742Z"
   },
   {
    "duration": 18,
    "start_time": "2024-09-19T16:13:18.438Z"
   },
   {
    "duration": 7,
    "start_time": "2024-09-19T16:13:18.819Z"
   },
   {
    "duration": 15,
    "start_time": "2024-09-19T16:13:19.175Z"
   },
   {
    "duration": 23,
    "start_time": "2024-09-19T16:13:19.479Z"
   },
   {
    "duration": 4,
    "start_time": "2024-09-19T16:13:19.718Z"
   },
   {
    "duration": 13,
    "start_time": "2024-09-19T16:13:19.942Z"
   },
   {
    "duration": 15,
    "start_time": "2024-09-19T16:13:21.102Z"
   },
   {
    "duration": 2887,
    "start_time": "2024-09-19T16:13:21.378Z"
   },
   {
    "duration": 1920,
    "start_time": "2024-09-19T16:13:25.842Z"
   },
   {
    "duration": 23,
    "start_time": "2024-09-19T16:13:30.709Z"
   },
   {
    "duration": 7,
    "start_time": "2024-09-19T16:13:31.618Z"
   },
   {
    "duration": 910,
    "start_time": "2024-09-19T16:13:34.601Z"
   },
   {
    "duration": 340,
    "start_time": "2024-09-19T16:13:36.670Z"
   },
   {
    "duration": 1744,
    "start_time": "2024-09-19T16:13:42.020Z"
   },
   {
    "duration": 23,
    "start_time": "2024-09-19T16:15:08.375Z"
   },
   {
    "duration": 14,
    "start_time": "2024-09-19T16:15:09.614Z"
   },
   {
    "duration": 15,
    "start_time": "2024-09-19T16:15:10.160Z"
   },
   {
    "duration": 16,
    "start_time": "2024-09-19T16:15:10.694Z"
   },
   {
    "duration": 173,
    "start_time": "2024-09-19T16:15:11.651Z"
   },
   {
    "duration": 194,
    "start_time": "2024-09-19T16:38:58.903Z"
   },
   {
    "duration": 14,
    "start_time": "2024-09-19T16:39:14.120Z"
   },
   {
    "duration": 177,
    "start_time": "2024-09-19T16:39:21.030Z"
   },
   {
    "duration": 18,
    "start_time": "2024-09-19T16:42:17.519Z"
   },
   {
    "duration": 16,
    "start_time": "2024-09-19T16:43:14.024Z"
   },
   {
    "duration": 146,
    "start_time": "2024-09-19T16:44:40.233Z"
   },
   {
    "duration": 17,
    "start_time": "2024-09-19T16:45:09.123Z"
   },
   {
    "duration": 17,
    "start_time": "2024-09-19T16:46:58.770Z"
   },
   {
    "duration": 146,
    "start_time": "2024-09-19T16:47:09.278Z"
   },
   {
    "duration": 70,
    "start_time": "2024-09-19T17:02:35.091Z"
   },
   {
    "duration": 2,
    "start_time": "2024-09-19T17:07:37.186Z"
   },
   {
    "duration": 2,
    "start_time": "2024-09-19T17:07:48.811Z"
   },
   {
    "duration": 3,
    "start_time": "2024-09-19T17:07:50.465Z"
   },
   {
    "duration": 2,
    "start_time": "2024-09-19T17:07:56.025Z"
   },
   {
    "duration": 2,
    "start_time": "2024-09-19T17:08:03.738Z"
   },
   {
    "duration": 2,
    "start_time": "2024-09-19T17:09:12.233Z"
   },
   {
    "duration": 381,
    "start_time": "2024-09-19T17:16:27.982Z"
   },
   {
    "duration": 422,
    "start_time": "2024-09-19T17:17:32.338Z"
   },
   {
    "duration": 384,
    "start_time": "2024-09-19T17:17:50.594Z"
   },
   {
    "duration": 4,
    "start_time": "2024-09-19T17:24:42.540Z"
   },
   {
    "duration": 28,
    "start_time": "2024-09-19T17:24:46.648Z"
   },
   {
    "duration": 378,
    "start_time": "2024-09-19T17:24:55.512Z"
   },
   {
    "duration": 17,
    "start_time": "2024-09-19T17:25:56.434Z"
   },
   {
    "duration": 16,
    "start_time": "2024-09-19T17:28:34.021Z"
   },
   {
    "duration": 4,
    "start_time": "2024-09-19T17:28:38.673Z"
   },
   {
    "duration": 16,
    "start_time": "2024-09-19T17:28:44.433Z"
   },
   {
    "duration": 22,
    "start_time": "2024-09-19T17:28:56.978Z"
   },
   {
    "duration": 24,
    "start_time": "2024-09-19T17:29:00.572Z"
   },
   {
    "duration": 12,
    "start_time": "2024-09-19T17:29:20.472Z"
   },
   {
    "duration": 290,
    "start_time": "2024-09-19T17:30:26.614Z"
   },
   {
    "duration": 69,
    "start_time": "2024-09-19T17:30:52.242Z"
   },
   {
    "duration": 23,
    "start_time": "2024-09-19T17:36:50.823Z"
   },
   {
    "duration": 67,
    "start_time": "2024-09-19T17:38:26.455Z"
   },
   {
    "duration": 294,
    "start_time": "2024-09-19T17:39:14.291Z"
   },
   {
    "duration": 28,
    "start_time": "2024-09-19T17:49:08.134Z"
   },
   {
    "duration": 29,
    "start_time": "2024-09-19T17:50:32.240Z"
   },
   {
    "duration": 23,
    "start_time": "2024-09-19T17:50:44.192Z"
   },
   {
    "duration": 352,
    "start_time": "2024-09-19T17:55:21.760Z"
   },
   {
    "duration": 359,
    "start_time": "2024-09-19T17:55:55.121Z"
   },
   {
    "duration": 66,
    "start_time": "2024-09-19T17:57:56.421Z"
   },
   {
    "duration": 88,
    "start_time": "2024-09-19T17:58:24.376Z"
   },
   {
    "duration": 23379,
    "start_time": "2024-09-19T17:58:32.461Z"
   },
   {
    "duration": 16328,
    "start_time": "2024-09-19T17:59:18.741Z"
   },
   {
    "duration": 358,
    "start_time": "2024-09-19T17:59:45.701Z"
   },
   {
    "duration": 68,
    "start_time": "2024-09-19T18:00:32.290Z"
   },
   {
    "duration": 61321,
    "start_time": "2024-09-19T18:02:14.585Z"
   },
   {
    "duration": 469,
    "start_time": "2024-09-19T18:03:30.977Z"
   },
   {
    "duration": 430,
    "start_time": "2024-09-19T18:30:38.586Z"
   },
   {
    "duration": 21,
    "start_time": "2024-09-19T18:34:26.860Z"
   },
   {
    "duration": 24,
    "start_time": "2024-09-19T18:34:47.668Z"
   },
   {
    "duration": 267,
    "start_time": "2024-09-19T18:37:34.048Z"
   },
   {
    "duration": 318,
    "start_time": "2024-09-19T18:42:25.577Z"
   },
   {
    "duration": 306,
    "start_time": "2024-09-19T18:42:36.704Z"
   },
   {
    "duration": 298,
    "start_time": "2024-09-19T18:42:59.811Z"
   },
   {
    "duration": 306,
    "start_time": "2024-09-19T18:44:55.558Z"
   },
   {
    "duration": 320,
    "start_time": "2024-09-19T18:50:33.977Z"
   },
   {
    "duration": 320,
    "start_time": "2024-09-19T18:50:59.053Z"
   },
   {
    "duration": 315,
    "start_time": "2024-09-19T18:51:21.733Z"
   },
   {
    "duration": 364,
    "start_time": "2024-09-19T18:53:01.958Z"
   },
   {
    "duration": 325,
    "start_time": "2024-09-19T18:55:57.906Z"
   },
   {
    "duration": 297,
    "start_time": "2024-09-19T19:06:06.255Z"
   },
   {
    "duration": 313,
    "start_time": "2024-09-19T19:08:02.314Z"
   },
   {
    "duration": 335,
    "start_time": "2024-09-19T19:12:34.197Z"
   },
   {
    "duration": 336,
    "start_time": "2024-09-19T19:12:49.583Z"
   },
   {
    "duration": 355,
    "start_time": "2024-09-19T19:21:18.444Z"
   },
   {
    "duration": 64,
    "start_time": "2024-09-19T19:30:39.158Z"
   },
   {
    "duration": 3284,
    "start_time": "2024-09-20T07:36:17.413Z"
   },
   {
    "duration": 1159,
    "start_time": "2024-09-20T07:36:20.700Z"
   },
   {
    "duration": 3880,
    "start_time": "2024-09-20T07:36:21.861Z"
   },
   {
    "duration": 3,
    "start_time": "2024-09-20T07:36:25.743Z"
   },
   {
    "duration": 2878,
    "start_time": "2024-09-20T07:36:25.748Z"
   },
   {
    "duration": 3,
    "start_time": "2024-09-20T07:36:28.628Z"
   },
   {
    "duration": 6336,
    "start_time": "2024-09-20T07:36:28.632Z"
   },
   {
    "duration": 143,
    "start_time": "2024-09-20T07:36:34.970Z"
   },
   {
    "duration": 123,
    "start_time": "2024-09-20T07:36:35.115Z"
   },
   {
    "duration": 79,
    "start_time": "2024-09-20T07:36:35.240Z"
   },
   {
    "duration": 76,
    "start_time": "2024-09-20T07:36:35.320Z"
   },
   {
    "duration": 2,
    "start_time": "2024-09-20T07:36:35.398Z"
   },
   {
    "duration": 52,
    "start_time": "2024-09-20T07:36:35.401Z"
   },
   {
    "duration": 17,
    "start_time": "2024-09-20T07:36:35.454Z"
   },
   {
    "duration": 9,
    "start_time": "2024-09-20T07:36:35.472Z"
   },
   {
    "duration": 52,
    "start_time": "2024-09-20T07:36:35.483Z"
   },
   {
    "duration": 33,
    "start_time": "2024-09-20T07:36:35.536Z"
   },
   {
    "duration": 26,
    "start_time": "2024-09-20T07:36:35.571Z"
   },
   {
    "duration": 38,
    "start_time": "2024-09-20T07:36:35.599Z"
   },
   {
    "duration": 23,
    "start_time": "2024-09-20T07:36:35.638Z"
   },
   {
    "duration": 32,
    "start_time": "2024-09-20T07:36:35.662Z"
   },
   {
    "duration": 748,
    "start_time": "2024-09-20T07:36:35.695Z"
   },
   {
    "duration": 2,
    "start_time": "2024-09-20T07:36:36.445Z"
   },
   {
    "duration": 9,
    "start_time": "2024-09-20T07:36:36.448Z"
   },
   {
    "duration": 13,
    "start_time": "2024-09-20T07:36:36.459Z"
   },
   {
    "duration": 10,
    "start_time": "2024-09-20T07:36:36.473Z"
   },
   {
    "duration": 7,
    "start_time": "2024-09-20T07:36:36.484Z"
   },
   {
    "duration": 8,
    "start_time": "2024-09-20T07:36:36.496Z"
   },
   {
    "duration": 20,
    "start_time": "2024-09-20T07:36:36.525Z"
   },
   {
    "duration": 15,
    "start_time": "2024-09-20T07:36:36.546Z"
   },
   {
    "duration": 201,
    "start_time": "2024-09-20T07:36:36.563Z"
   },
   {
    "duration": 7,
    "start_time": "2024-09-20T07:36:36.765Z"
   },
   {
    "duration": 102,
    "start_time": "2024-09-20T07:36:36.773Z"
   },
   {
    "duration": 2,
    "start_time": "2024-09-20T07:36:36.877Z"
   },
   {
    "duration": 22,
    "start_time": "2024-09-20T07:36:36.880Z"
   },
   {
    "duration": 9,
    "start_time": "2024-09-20T07:36:36.903Z"
   },
   {
    "duration": 21,
    "start_time": "2024-09-20T07:36:36.914Z"
   },
   {
    "duration": 18,
    "start_time": "2024-09-20T07:36:36.937Z"
   },
   {
    "duration": 13,
    "start_time": "2024-09-20T07:36:36.957Z"
   },
   {
    "duration": 98,
    "start_time": "2024-09-20T07:36:36.971Z"
   },
   {
    "duration": 3,
    "start_time": "2024-09-20T07:36:37.070Z"
   },
   {
    "duration": 8,
    "start_time": "2024-09-20T07:36:37.074Z"
   },
   {
    "duration": 5,
    "start_time": "2024-09-20T07:36:37.083Z"
   },
   {
    "duration": 9,
    "start_time": "2024-09-20T07:36:37.089Z"
   },
   {
    "duration": 33,
    "start_time": "2024-09-20T07:36:37.099Z"
   },
   {
    "duration": 6,
    "start_time": "2024-09-20T07:36:37.134Z"
   },
   {
    "duration": 7,
    "start_time": "2024-09-20T07:36:37.141Z"
   },
   {
    "duration": 215,
    "start_time": "2024-09-20T07:36:37.149Z"
   },
   {
    "duration": 11,
    "start_time": "2024-09-20T07:36:37.366Z"
   },
   {
    "duration": 5,
    "start_time": "2024-09-20T07:36:37.378Z"
   },
   {
    "duration": 1389,
    "start_time": "2024-09-20T07:36:37.384Z"
   },
   {
    "duration": 252,
    "start_time": "2024-09-20T07:36:38.775Z"
   },
   {
    "duration": 201,
    "start_time": "2024-09-20T07:36:39.029Z"
   },
   {
    "duration": 13,
    "start_time": "2024-09-20T07:36:39.231Z"
   },
   {
    "duration": 19,
    "start_time": "2024-09-20T07:36:39.245Z"
   },
   {
    "duration": 7,
    "start_time": "2024-09-20T07:36:39.265Z"
   },
   {
    "duration": 254,
    "start_time": "2024-09-20T07:36:39.273Z"
   },
   {
    "duration": 334,
    "start_time": "2024-09-20T07:36:39.529Z"
   },
   {
    "duration": 10,
    "start_time": "2024-09-20T07:36:39.864Z"
   },
   {
    "duration": 5,
    "start_time": "2024-09-20T07:36:39.875Z"
   },
   {
    "duration": 244,
    "start_time": "2024-09-20T07:36:39.881Z"
   },
   {
    "duration": 5,
    "start_time": "2024-09-20T07:36:40.127Z"
   },
   {
    "duration": 438,
    "start_time": "2024-09-20T07:36:40.134Z"
   },
   {
    "duration": 9,
    "start_time": "2024-09-20T07:36:40.574Z"
   },
   {
    "duration": 69,
    "start_time": "2024-09-20T07:36:40.584Z"
   },
   {
    "duration": 222,
    "start_time": "2024-09-20T07:36:40.654Z"
   },
   {
    "duration": 2,
    "start_time": "2024-09-20T07:36:40.926Z"
   },
   {
    "duration": 26,
    "start_time": "2024-09-20T07:36:40.930Z"
   },
   {
    "duration": 8,
    "start_time": "2024-09-20T07:36:40.957Z"
   },
   {
    "duration": 8,
    "start_time": "2024-09-20T07:36:40.966Z"
   },
   {
    "duration": 116,
    "start_time": "2024-09-20T07:36:40.975Z"
   },
   {
    "duration": 102,
    "start_time": "2024-09-20T07:36:41.093Z"
   },
   {
    "duration": 102,
    "start_time": "2024-09-20T07:36:41.197Z"
   },
   {
    "duration": 199,
    "start_time": "2024-09-20T07:36:41.300Z"
   },
   {
    "duration": 208,
    "start_time": "2024-09-20T07:36:41.501Z"
   },
   {
    "duration": 224,
    "start_time": "2024-09-20T07:36:41.710Z"
   },
   {
    "duration": 230,
    "start_time": "2024-09-20T07:36:41.936Z"
   },
   {
    "duration": 163,
    "start_time": "2024-09-20T07:36:42.167Z"
   },
   {
    "duration": 199,
    "start_time": "2024-09-20T07:36:42.332Z"
   },
   {
    "duration": 201,
    "start_time": "2024-09-20T07:36:42.533Z"
   },
   {
    "duration": 209,
    "start_time": "2024-09-20T07:36:42.735Z"
   },
   {
    "duration": 239,
    "start_time": "2024-09-20T07:36:42.950Z"
   },
   {
    "duration": 10,
    "start_time": "2024-09-20T07:36:43.190Z"
   },
   {
    "duration": 268,
    "start_time": "2024-09-20T07:36:43.201Z"
   },
   {
    "duration": 306,
    "start_time": "2024-09-20T07:36:43.470Z"
   },
   {
    "duration": 114,
    "start_time": "2024-09-20T07:36:43.777Z"
   },
   {
    "duration": 8,
    "start_time": "2024-09-20T07:36:43.893Z"
   },
   {
    "duration": 262,
    "start_time": "2024-09-20T07:36:43.903Z"
   },
   {
    "duration": 15,
    "start_time": "2024-09-20T07:36:44.166Z"
   },
   {
    "duration": 19,
    "start_time": "2024-09-20T07:36:44.182Z"
   },
   {
    "duration": 13,
    "start_time": "2024-09-20T07:36:44.202Z"
   },
   {
    "duration": 28,
    "start_time": "2024-09-20T07:36:44.216Z"
   },
   {
    "duration": 3,
    "start_time": "2024-09-20T07:36:44.245Z"
   },
   {
    "duration": 12,
    "start_time": "2024-09-20T07:36:44.249Z"
   },
   {
    "duration": 12,
    "start_time": "2024-09-20T07:36:44.263Z"
   },
   {
    "duration": 2586,
    "start_time": "2024-09-20T07:36:44.276Z"
   },
   {
    "duration": 1806,
    "start_time": "2024-09-20T07:36:46.863Z"
   },
   {
    "duration": 22,
    "start_time": "2024-09-20T07:36:48.671Z"
   },
   {
    "duration": 6,
    "start_time": "2024-09-20T07:36:48.694Z"
   },
   {
    "duration": 183,
    "start_time": "2024-09-20T07:36:48.702Z"
   },
   {
    "duration": 0,
    "start_time": "2024-09-20T07:36:48.886Z"
   },
   {
    "duration": 3745,
    "start_time": "2024-09-20T07:37:53.675Z"
   },
   {
    "duration": 3933,
    "start_time": "2024-09-20T07:38:01.726Z"
   },
   {
    "duration": 3719,
    "start_time": "2024-09-20T07:38:30.092Z"
   },
   {
    "duration": 3753,
    "start_time": "2024-09-20T07:38:38.275Z"
   },
   {
    "duration": 3938,
    "start_time": "2024-09-20T07:39:00.992Z"
   },
   {
    "duration": 3468,
    "start_time": "2024-09-20T07:39:15.484Z"
   },
   {
    "duration": 19869,
    "start_time": "2024-09-20T07:39:24.059Z"
   },
   {
    "duration": 20295,
    "start_time": "2024-09-20T07:40:42.842Z"
   },
   {
    "duration": 13047,
    "start_time": "2024-09-20T07:41:08.728Z"
   },
   {
    "duration": 6,
    "start_time": "2024-09-20T07:41:46.059Z"
   },
   {
    "duration": 5,
    "start_time": "2024-09-20T07:41:55.853Z"
   },
   {
    "duration": 8,
    "start_time": "2024-09-20T07:41:55.859Z"
   },
   {
    "duration": 2400,
    "start_time": "2024-09-20T07:41:55.868Z"
   },
   {
    "duration": 44,
    "start_time": "2024-09-20T07:41:58.271Z"
   },
   {
    "duration": 23,
    "start_time": "2024-09-20T07:41:58.316Z"
   },
   {
    "duration": 22,
    "start_time": "2024-09-20T07:41:58.340Z"
   },
   {
    "duration": 32,
    "start_time": "2024-09-20T07:41:58.363Z"
   },
   {
    "duration": 2,
    "start_time": "2024-09-20T07:41:58.396Z"
   },
   {
    "duration": 13,
    "start_time": "2024-09-20T07:41:58.400Z"
   },
   {
    "duration": 11,
    "start_time": "2024-09-20T07:41:58.415Z"
   },
   {
    "duration": 4,
    "start_time": "2024-09-20T07:41:58.427Z"
   },
   {
    "duration": 5,
    "start_time": "2024-09-20T07:41:58.433Z"
   },
   {
    "duration": 5,
    "start_time": "2024-09-20T07:41:58.439Z"
   },
   {
    "duration": 17,
    "start_time": "2024-09-20T07:41:58.445Z"
   },
   {
    "duration": 14,
    "start_time": "2024-09-20T07:41:58.463Z"
   },
   {
    "duration": 6,
    "start_time": "2024-09-20T07:41:58.478Z"
   },
   {
    "duration": 49,
    "start_time": "2024-09-20T07:41:58.485Z"
   },
   {
    "duration": 841,
    "start_time": "2024-09-20T07:41:58.536Z"
   },
   {
    "duration": 3,
    "start_time": "2024-09-20T07:41:59.378Z"
   },
   {
    "duration": 11,
    "start_time": "2024-09-20T07:41:59.382Z"
   },
   {
    "duration": 5,
    "start_time": "2024-09-20T07:41:59.394Z"
   },
   {
    "duration": 29,
    "start_time": "2024-09-20T07:41:59.400Z"
   },
   {
    "duration": 10,
    "start_time": "2024-09-20T07:41:59.431Z"
   },
   {
    "duration": 8,
    "start_time": "2024-09-20T07:41:59.442Z"
   },
   {
    "duration": 6,
    "start_time": "2024-09-20T07:41:59.451Z"
   },
   {
    "duration": 13,
    "start_time": "2024-09-20T07:41:59.458Z"
   },
   {
    "duration": 308,
    "start_time": "2024-09-20T07:41:59.472Z"
   },
   {
    "duration": 6,
    "start_time": "2024-09-20T07:41:59.785Z"
   },
   {
    "duration": 137,
    "start_time": "2024-09-20T07:41:59.792Z"
   },
   {
    "duration": 2,
    "start_time": "2024-09-20T07:41:59.931Z"
   },
   {
    "duration": 11,
    "start_time": "2024-09-20T07:41:59.935Z"
   },
   {
    "duration": 14,
    "start_time": "2024-09-20T07:41:59.947Z"
   },
   {
    "duration": 6,
    "start_time": "2024-09-20T07:41:59.963Z"
   },
   {
    "duration": 5,
    "start_time": "2024-09-20T07:41:59.970Z"
   },
   {
    "duration": 11,
    "start_time": "2024-09-20T07:41:59.977Z"
   },
   {
    "duration": 115,
    "start_time": "2024-09-20T07:41:59.989Z"
   },
   {
    "duration": 3,
    "start_time": "2024-09-20T07:42:00.105Z"
   },
   {
    "duration": 81,
    "start_time": "2024-09-20T07:42:00.109Z"
   },
   {
    "duration": 59,
    "start_time": "2024-09-20T07:42:00.192Z"
   },
   {
    "duration": 36,
    "start_time": "2024-09-20T07:42:00.253Z"
   },
   {
    "duration": 26,
    "start_time": "2024-09-20T07:42:00.290Z"
   },
   {
    "duration": 29,
    "start_time": "2024-09-20T07:42:00.317Z"
   },
   {
    "duration": 33,
    "start_time": "2024-09-20T07:42:00.347Z"
   },
   {
    "duration": 131,
    "start_time": "2024-09-20T07:42:00.381Z"
   },
   {
    "duration": 17,
    "start_time": "2024-09-20T07:42:00.514Z"
   },
   {
    "duration": 13,
    "start_time": "2024-09-20T07:42:00.533Z"
   },
   {
    "duration": 1448,
    "start_time": "2024-09-20T07:42:00.547Z"
   },
   {
    "duration": 247,
    "start_time": "2024-09-20T07:42:01.996Z"
   },
   {
    "duration": 192,
    "start_time": "2024-09-20T07:42:02.245Z"
   },
   {
    "duration": 12,
    "start_time": "2024-09-20T07:42:02.438Z"
   },
   {
    "duration": 24,
    "start_time": "2024-09-20T07:42:02.451Z"
   },
   {
    "duration": 14,
    "start_time": "2024-09-20T07:42:02.477Z"
   },
   {
    "duration": 251,
    "start_time": "2024-09-20T07:42:02.493Z"
   },
   {
    "duration": 431,
    "start_time": "2024-09-20T07:42:02.745Z"
   },
   {
    "duration": 10,
    "start_time": "2024-09-20T07:42:03.177Z"
   },
   {
    "duration": 6,
    "start_time": "2024-09-20T07:42:03.189Z"
   },
   {
    "duration": 250,
    "start_time": "2024-09-20T07:42:03.197Z"
   },
   {
    "duration": 4,
    "start_time": "2024-09-20T07:42:03.448Z"
   },
   {
    "duration": 291,
    "start_time": "2024-09-20T07:42:03.454Z"
   },
   {
    "duration": 9,
    "start_time": "2024-09-20T07:42:03.747Z"
   },
   {
    "duration": 114,
    "start_time": "2024-09-20T07:42:03.757Z"
   },
   {
    "duration": 277,
    "start_time": "2024-09-20T07:42:03.873Z"
   },
   {
    "duration": 2,
    "start_time": "2024-09-20T07:42:04.151Z"
   },
   {
    "duration": 63,
    "start_time": "2024-09-20T07:42:04.155Z"
   },
   {
    "duration": 24,
    "start_time": "2024-09-20T07:42:04.219Z"
   },
   {
    "duration": 9,
    "start_time": "2024-09-20T07:42:04.245Z"
   },
   {
    "duration": 131,
    "start_time": "2024-09-20T07:42:04.255Z"
   },
   {
    "duration": 108,
    "start_time": "2024-09-20T07:42:04.388Z"
   },
   {
    "duration": 112,
    "start_time": "2024-09-20T07:42:04.498Z"
   },
   {
    "duration": 208,
    "start_time": "2024-09-20T07:42:04.612Z"
   },
   {
    "duration": 223,
    "start_time": "2024-09-20T07:42:04.824Z"
   },
   {
    "duration": 207,
    "start_time": "2024-09-20T07:42:05.049Z"
   },
   {
    "duration": 213,
    "start_time": "2024-09-20T07:42:05.258Z"
   },
   {
    "duration": 162,
    "start_time": "2024-09-20T07:42:05.473Z"
   },
   {
    "duration": 207,
    "start_time": "2024-09-20T07:42:05.636Z"
   },
   {
    "duration": 210,
    "start_time": "2024-09-20T07:42:05.844Z"
   },
   {
    "duration": 207,
    "start_time": "2024-09-20T07:42:06.056Z"
   },
   {
    "duration": 363,
    "start_time": "2024-09-20T07:42:06.264Z"
   },
   {
    "duration": 9,
    "start_time": "2024-09-20T07:42:06.628Z"
   },
   {
    "duration": 155,
    "start_time": "2024-09-20T07:42:06.638Z"
   },
   {
    "duration": 292,
    "start_time": "2024-09-20T07:42:06.795Z"
   },
   {
    "duration": 118,
    "start_time": "2024-09-20T07:42:07.095Z"
   },
   {
    "duration": 19,
    "start_time": "2024-09-20T07:42:07.214Z"
   },
   {
    "duration": 248,
    "start_time": "2024-09-20T07:42:07.234Z"
   },
   {
    "duration": 49,
    "start_time": "2024-09-20T07:42:07.484Z"
   },
   {
    "duration": 7,
    "start_time": "2024-09-20T07:42:07.534Z"
   },
   {
    "duration": 14,
    "start_time": "2024-09-20T07:42:07.542Z"
   },
   {
    "duration": 23,
    "start_time": "2024-09-20T07:42:07.557Z"
   },
   {
    "duration": 4,
    "start_time": "2024-09-20T07:42:07.581Z"
   },
   {
    "duration": 20,
    "start_time": "2024-09-20T07:42:07.586Z"
   },
   {
    "duration": 14,
    "start_time": "2024-09-20T07:42:07.626Z"
   },
   {
    "duration": 2678,
    "start_time": "2024-09-20T07:42:07.641Z"
   },
   {
    "duration": 1871,
    "start_time": "2024-09-20T07:42:10.325Z"
   },
   {
    "duration": 20,
    "start_time": "2024-09-20T07:42:12.198Z"
   },
   {
    "duration": 7,
    "start_time": "2024-09-20T07:42:12.225Z"
   },
   {
    "duration": 42,
    "start_time": "2024-09-20T07:42:12.234Z"
   },
   {
    "duration": 0,
    "start_time": "2024-09-20T07:42:12.277Z"
   },
   {
    "duration": 0,
    "start_time": "2024-09-20T07:42:12.278Z"
   },
   {
    "duration": 0,
    "start_time": "2024-09-20T07:42:12.279Z"
   },
   {
    "duration": 0,
    "start_time": "2024-09-20T07:42:12.280Z"
   },
   {
    "duration": 0,
    "start_time": "2024-09-20T07:42:12.284Z"
   },
   {
    "duration": 0,
    "start_time": "2024-09-20T07:42:12.285Z"
   },
   {
    "duration": 0,
    "start_time": "2024-09-20T07:42:12.286Z"
   },
   {
    "duration": 0,
    "start_time": "2024-09-20T07:42:12.287Z"
   },
   {
    "duration": 0,
    "start_time": "2024-09-20T07:42:12.288Z"
   },
   {
    "duration": 0,
    "start_time": "2024-09-20T07:42:12.289Z"
   },
   {
    "duration": 0,
    "start_time": "2024-09-20T07:42:12.290Z"
   },
   {
    "duration": 0,
    "start_time": "2024-09-20T07:42:12.291Z"
   },
   {
    "duration": 0,
    "start_time": "2024-09-20T07:42:12.325Z"
   },
   {
    "duration": 0,
    "start_time": "2024-09-20T07:42:12.327Z"
   },
   {
    "duration": 0,
    "start_time": "2024-09-20T07:42:12.328Z"
   },
   {
    "duration": 0,
    "start_time": "2024-09-20T07:42:12.329Z"
   },
   {
    "duration": 0,
    "start_time": "2024-09-20T07:42:12.330Z"
   },
   {
    "duration": 0,
    "start_time": "2024-09-20T07:42:12.331Z"
   },
   {
    "duration": 0,
    "start_time": "2024-09-20T07:42:12.332Z"
   },
   {
    "duration": 0,
    "start_time": "2024-09-20T07:42:12.334Z"
   },
   {
    "duration": 0,
    "start_time": "2024-09-20T07:42:12.334Z"
   },
   {
    "duration": 0,
    "start_time": "2024-09-20T07:42:12.336Z"
   },
   {
    "duration": 0,
    "start_time": "2024-09-20T07:42:12.337Z"
   },
   {
    "duration": 0,
    "start_time": "2024-09-20T07:42:12.338Z"
   },
   {
    "duration": 0,
    "start_time": "2024-09-20T07:42:12.339Z"
   },
   {
    "duration": 0,
    "start_time": "2024-09-20T07:42:12.340Z"
   },
   {
    "duration": 0,
    "start_time": "2024-09-20T07:42:12.341Z"
   },
   {
    "duration": 0,
    "start_time": "2024-09-20T07:42:12.343Z"
   },
   {
    "duration": 0,
    "start_time": "2024-09-20T07:42:12.344Z"
   },
   {
    "duration": 0,
    "start_time": "2024-09-20T07:42:12.344Z"
   },
   {
    "duration": 26,
    "start_time": "2024-09-20T07:42:43.538Z"
   },
   {
    "duration": 106,
    "start_time": "2024-09-20T07:42:43.629Z"
   },
   {
    "duration": 10,
    "start_time": "2024-09-20T07:42:43.736Z"
   },
   {
    "duration": 14,
    "start_time": "2024-09-20T07:42:43.748Z"
   },
   {
    "duration": 175,
    "start_time": "2024-09-20T07:42:43.764Z"
   },
   {
    "duration": 2,
    "start_time": "2024-09-20T07:42:43.941Z"
   },
   {
    "duration": 5,
    "start_time": "2024-09-20T07:42:43.944Z"
   },
   {
    "duration": 9,
    "start_time": "2024-09-20T07:42:43.950Z"
   },
   {
    "duration": 3,
    "start_time": "2024-09-20T07:42:43.960Z"
   },
   {
    "duration": 160,
    "start_time": "2024-09-20T07:42:43.965Z"
   },
   {
    "duration": 343,
    "start_time": "2024-09-20T07:42:44.126Z"
   },
   {
    "duration": 2,
    "start_time": "2024-09-20T07:42:44.471Z"
   },
   {
    "duration": 3,
    "start_time": "2024-09-20T07:42:44.475Z"
   },
   {
    "duration": 13,
    "start_time": "2024-09-20T07:42:44.482Z"
   },
   {
    "duration": 32,
    "start_time": "2024-09-20T07:42:44.497Z"
   },
   {
    "duration": 15,
    "start_time": "2024-09-20T07:42:44.531Z"
   },
   {
    "duration": 22,
    "start_time": "2024-09-20T07:42:44.548Z"
   },
   {
    "duration": 294,
    "start_time": "2024-09-20T07:42:44.572Z"
   },
   {
    "duration": 15,
    "start_time": "2024-09-20T07:42:44.868Z"
   },
   {
    "duration": 438,
    "start_time": "2024-09-20T07:42:44.884Z"
   },
   {
    "duration": 438,
    "start_time": "2024-09-20T07:42:45.323Z"
   },
   {
    "duration": 13,
    "start_time": "2024-09-20T07:42:45.763Z"
   },
   {
    "duration": 375,
    "start_time": "2024-09-20T07:42:45.778Z"
   },
   {
    "duration": 327,
    "start_time": "2024-09-20T07:42:46.155Z"
   },
   {
    "duration": 284,
    "start_time": "2024-09-20T07:42:46.484Z"
   },
   {
    "duration": 319,
    "start_time": "2024-09-20T07:42:46.769Z"
   },
   {
    "duration": 288,
    "start_time": "2024-09-20T07:42:47.090Z"
   },
   {
    "duration": 309,
    "start_time": "2024-09-20T07:42:47.379Z"
   },
   {
    "duration": 46,
    "start_time": "2024-12-09T18:17:36.523Z"
   }
  ],
  "colab": {
   "provenance": []
  },
  "kernelspec": {
   "display_name": "Python 3 (ipykernel)",
   "language": "python",
   "name": "python3"
  },
  "language_info": {
   "codemirror_mode": {
    "name": "ipython",
    "version": 3
   },
   "file_extension": ".py",
   "mimetype": "text/x-python",
   "name": "python",
   "nbconvert_exporter": "python",
   "pygments_lexer": "ipython3",
   "version": "3.11.7"
  },
  "toc": {
   "base_numbering": 1,
   "nav_menu": {},
   "number_sections": true,
   "sideBar": true,
   "skip_h1_title": true,
   "title_cell": "Table of Contents",
   "title_sidebar": "Contents",
   "toc_cell": false,
   "toc_position": {},
   "toc_section_display": true,
   "toc_window_display": false
  }
 },
 "nbformat": 4,
 "nbformat_minor": 1
}
